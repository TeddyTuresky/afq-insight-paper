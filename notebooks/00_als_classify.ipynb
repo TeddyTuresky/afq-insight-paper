{
 "cells": [
  {
   "cell_type": "markdown",
   "metadata": {},
   "source": [
    "# Classify ALS status using AFQ-Insight"
   ]
  },
  {
   "cell_type": "code",
   "execution_count": 1,
   "metadata": {},
   "outputs": [],
   "source": [
    "import afqinsight as afqi\n",
    "import itertools\n",
    "import matplotlib.pyplot as plt\n",
    "import numpy as np\n",
    "import os.path as op\n",
    "import palettable\n",
    "import pickle\n",
    "\n",
    "from matplotlib.colors import to_hex\n",
    "from mpl_toolkits.mplot3d import Axes3D\n",
    "\n",
    "from bokeh.io import output_notebook, reset_output\n",
    "from bokeh.embed import file_html\n",
    "from bokeh.layouts import row, column, widgetbox\n",
    "from bokeh.models import BoxSelectTool, HoverTool, Legend, Title, Range1d, CustomJS, ColorBar\n",
    "from bokeh.models.tickers import FixedTicker\n",
    "from bokeh.models.mappers import LinearColorMapper\n",
    "from bokeh.palettes import Spectral10, RdBu, Category10\n",
    "from bokeh.plotting import figure, show, ColumnDataSource\n",
    "from bokeh.resources import CDN\n",
    "from bokeh.transform import factor_cmap\n",
    "from bokeh.models import BoxAnnotation, Label\n",
    "\n",
    "from sklearn.decomposition import PCA\n",
    "\n",
    "%matplotlib notebook"
   ]
  },
  {
   "cell_type": "code",
   "execution_count": 2,
   "metadata": {},
   "outputs": [
    {
     "data": {
      "text/html": [
       "\n",
       "    <div class=\"bk-root\">\n",
       "        <a href=\"https://bokeh.pydata.org\" target=\"_blank\" class=\"bk-logo bk-logo-small bk-logo-notebook\"></a>\n",
       "        <span id=\"1001\">Loading BokehJS ...</span>\n",
       "    </div>"
      ]
     },
     "metadata": {},
     "output_type": "display_data"
    },
    {
     "data": {
      "application/javascript": [
       "\n",
       "(function(root) {\n",
       "  function now() {\n",
       "    return new Date();\n",
       "  }\n",
       "\n",
       "  var force = true;\n",
       "\n",
       "  if (typeof root._bokeh_onload_callbacks === \"undefined\" || force === true) {\n",
       "    root._bokeh_onload_callbacks = [];\n",
       "    root._bokeh_is_loading = undefined;\n",
       "  }\n",
       "\n",
       "  var JS_MIME_TYPE = 'application/javascript';\n",
       "  var HTML_MIME_TYPE = 'text/html';\n",
       "  var EXEC_MIME_TYPE = 'application/vnd.bokehjs_exec.v0+json';\n",
       "  var CLASS_NAME = 'output_bokeh rendered_html';\n",
       "\n",
       "  /**\n",
       "   * Render data to the DOM node\n",
       "   */\n",
       "  function render(props, node) {\n",
       "    var script = document.createElement(\"script\");\n",
       "    node.appendChild(script);\n",
       "  }\n",
       "\n",
       "  /**\n",
       "   * Handle when an output is cleared or removed\n",
       "   */\n",
       "  function handleClearOutput(event, handle) {\n",
       "    var cell = handle.cell;\n",
       "\n",
       "    var id = cell.output_area._bokeh_element_id;\n",
       "    var server_id = cell.output_area._bokeh_server_id;\n",
       "    // Clean up Bokeh references\n",
       "    if (id != null && id in Bokeh.index) {\n",
       "      Bokeh.index[id].model.document.clear();\n",
       "      delete Bokeh.index[id];\n",
       "    }\n",
       "\n",
       "    if (server_id !== undefined) {\n",
       "      // Clean up Bokeh references\n",
       "      var cmd = \"from bokeh.io.state import curstate; print(curstate().uuid_to_server['\" + server_id + \"'].get_sessions()[0].document.roots[0]._id)\";\n",
       "      cell.notebook.kernel.execute(cmd, {\n",
       "        iopub: {\n",
       "          output: function(msg) {\n",
       "            var id = msg.content.text.trim();\n",
       "            if (id in Bokeh.index) {\n",
       "              Bokeh.index[id].model.document.clear();\n",
       "              delete Bokeh.index[id];\n",
       "            }\n",
       "          }\n",
       "        }\n",
       "      });\n",
       "      // Destroy server and session\n",
       "      var cmd = \"import bokeh.io.notebook as ion; ion.destroy_server('\" + server_id + \"')\";\n",
       "      cell.notebook.kernel.execute(cmd);\n",
       "    }\n",
       "  }\n",
       "\n",
       "  /**\n",
       "   * Handle when a new output is added\n",
       "   */\n",
       "  function handleAddOutput(event, handle) {\n",
       "    var output_area = handle.output_area;\n",
       "    var output = handle.output;\n",
       "\n",
       "    // limit handleAddOutput to display_data with EXEC_MIME_TYPE content only\n",
       "    if ((output.output_type != \"display_data\") || (!output.data.hasOwnProperty(EXEC_MIME_TYPE))) {\n",
       "      return\n",
       "    }\n",
       "\n",
       "    var toinsert = output_area.element.find(\".\" + CLASS_NAME.split(' ')[0]);\n",
       "\n",
       "    if (output.metadata[EXEC_MIME_TYPE][\"id\"] !== undefined) {\n",
       "      toinsert[toinsert.length - 1].firstChild.textContent = output.data[JS_MIME_TYPE];\n",
       "      // store reference to embed id on output_area\n",
       "      output_area._bokeh_element_id = output.metadata[EXEC_MIME_TYPE][\"id\"];\n",
       "    }\n",
       "    if (output.metadata[EXEC_MIME_TYPE][\"server_id\"] !== undefined) {\n",
       "      var bk_div = document.createElement(\"div\");\n",
       "      bk_div.innerHTML = output.data[HTML_MIME_TYPE];\n",
       "      var script_attrs = bk_div.children[0].attributes;\n",
       "      for (var i = 0; i < script_attrs.length; i++) {\n",
       "        toinsert[toinsert.length - 1].firstChild.setAttribute(script_attrs[i].name, script_attrs[i].value);\n",
       "      }\n",
       "      // store reference to server id on output_area\n",
       "      output_area._bokeh_server_id = output.metadata[EXEC_MIME_TYPE][\"server_id\"];\n",
       "    }\n",
       "  }\n",
       "\n",
       "  function register_renderer(events, OutputArea) {\n",
       "\n",
       "    function append_mime(data, metadata, element) {\n",
       "      // create a DOM node to render to\n",
       "      var toinsert = this.create_output_subarea(\n",
       "        metadata,\n",
       "        CLASS_NAME,\n",
       "        EXEC_MIME_TYPE\n",
       "      );\n",
       "      this.keyboard_manager.register_events(toinsert);\n",
       "      // Render to node\n",
       "      var props = {data: data, metadata: metadata[EXEC_MIME_TYPE]};\n",
       "      render(props, toinsert[toinsert.length - 1]);\n",
       "      element.append(toinsert);\n",
       "      return toinsert\n",
       "    }\n",
       "\n",
       "    /* Handle when an output is cleared or removed */\n",
       "    events.on('clear_output.CodeCell', handleClearOutput);\n",
       "    events.on('delete.Cell', handleClearOutput);\n",
       "\n",
       "    /* Handle when a new output is added */\n",
       "    events.on('output_added.OutputArea', handleAddOutput);\n",
       "\n",
       "    /**\n",
       "     * Register the mime type and append_mime function with output_area\n",
       "     */\n",
       "    OutputArea.prototype.register_mime_type(EXEC_MIME_TYPE, append_mime, {\n",
       "      /* Is output safe? */\n",
       "      safe: true,\n",
       "      /* Index of renderer in `output_area.display_order` */\n",
       "      index: 0\n",
       "    });\n",
       "  }\n",
       "\n",
       "  // register the mime type if in Jupyter Notebook environment and previously unregistered\n",
       "  if (root.Jupyter !== undefined) {\n",
       "    var events = require('base/js/events');\n",
       "    var OutputArea = require('notebook/js/outputarea').OutputArea;\n",
       "\n",
       "    if (OutputArea.prototype.mime_types().indexOf(EXEC_MIME_TYPE) == -1) {\n",
       "      register_renderer(events, OutputArea);\n",
       "    }\n",
       "  }\n",
       "\n",
       "  \n",
       "  if (typeof (root._bokeh_timeout) === \"undefined\" || force === true) {\n",
       "    root._bokeh_timeout = Date.now() + 5000;\n",
       "    root._bokeh_failed_load = false;\n",
       "  }\n",
       "\n",
       "  var NB_LOAD_WARNING = {'data': {'text/html':\n",
       "     \"<div style='background-color: #fdd'>\\n\"+\n",
       "     \"<p>\\n\"+\n",
       "     \"BokehJS does not appear to have successfully loaded. If loading BokehJS from CDN, this \\n\"+\n",
       "     \"may be due to a slow or bad network connection. Possible fixes:\\n\"+\n",
       "     \"</p>\\n\"+\n",
       "     \"<ul>\\n\"+\n",
       "     \"<li>re-rerun `output_notebook()` to attempt to load from CDN again, or</li>\\n\"+\n",
       "     \"<li>use INLINE resources instead, as so:</li>\\n\"+\n",
       "     \"</ul>\\n\"+\n",
       "     \"<code>\\n\"+\n",
       "     \"from bokeh.resources import INLINE\\n\"+\n",
       "     \"output_notebook(resources=INLINE)\\n\"+\n",
       "     \"</code>\\n\"+\n",
       "     \"</div>\"}};\n",
       "\n",
       "  function display_loaded() {\n",
       "    var el = document.getElementById(\"1001\");\n",
       "    if (el != null) {\n",
       "      el.textContent = \"BokehJS is loading...\";\n",
       "    }\n",
       "    if (root.Bokeh !== undefined) {\n",
       "      if (el != null) {\n",
       "        el.textContent = \"BokehJS \" + root.Bokeh.version + \" successfully loaded.\";\n",
       "      }\n",
       "    } else if (Date.now() < root._bokeh_timeout) {\n",
       "      setTimeout(display_loaded, 100)\n",
       "    }\n",
       "  }\n",
       "\n",
       "\n",
       "  function run_callbacks() {\n",
       "    try {\n",
       "      root._bokeh_onload_callbacks.forEach(function(callback) {\n",
       "        if (callback != null)\n",
       "          callback();\n",
       "      });\n",
       "    } finally {\n",
       "      delete root._bokeh_onload_callbacks\n",
       "    }\n",
       "    console.debug(\"Bokeh: all callbacks have finished\");\n",
       "  }\n",
       "\n",
       "  function load_libs(css_urls, js_urls, callback) {\n",
       "    if (css_urls == null) css_urls = [];\n",
       "    if (js_urls == null) js_urls = [];\n",
       "\n",
       "    root._bokeh_onload_callbacks.push(callback);\n",
       "    if (root._bokeh_is_loading > 0) {\n",
       "      console.debug(\"Bokeh: BokehJS is being loaded, scheduling callback at\", now());\n",
       "      return null;\n",
       "    }\n",
       "    if (js_urls == null || js_urls.length === 0) {\n",
       "      run_callbacks();\n",
       "      return null;\n",
       "    }\n",
       "    console.debug(\"Bokeh: BokehJS not loaded, scheduling load and callback at\", now());\n",
       "    root._bokeh_is_loading = css_urls.length + js_urls.length;\n",
       "\n",
       "    function on_load() {\n",
       "      root._bokeh_is_loading--;\n",
       "      if (root._bokeh_is_loading === 0) {\n",
       "        console.debug(\"Bokeh: all BokehJS libraries/stylesheets loaded\");\n",
       "        run_callbacks()\n",
       "      }\n",
       "    }\n",
       "\n",
       "    function on_error() {\n",
       "      console.error(\"failed to load \" + url);\n",
       "    }\n",
       "\n",
       "    for (var i = 0; i < css_urls.length; i++) {\n",
       "      var url = css_urls[i];\n",
       "      const element = document.createElement(\"link\");\n",
       "      element.onload = on_load;\n",
       "      element.onerror = on_error;\n",
       "      element.rel = \"stylesheet\";\n",
       "      element.type = \"text/css\";\n",
       "      element.href = url;\n",
       "      console.debug(\"Bokeh: injecting link tag for BokehJS stylesheet: \", url);\n",
       "      document.body.appendChild(element);\n",
       "    }\n",
       "\n",
       "    for (var i = 0; i < js_urls.length; i++) {\n",
       "      var url = js_urls[i];\n",
       "      var element = document.createElement('script');\n",
       "      element.onload = on_load;\n",
       "      element.onerror = on_error;\n",
       "      element.async = false;\n",
       "      element.src = url;\n",
       "      console.debug(\"Bokeh: injecting script tag for BokehJS library: \", url);\n",
       "      document.head.appendChild(element);\n",
       "    }\n",
       "  };var element = document.getElementById(\"1001\");\n",
       "  if (element == null) {\n",
       "    console.error(\"Bokeh: ERROR: autoload.js configured with elementid '1001' but no matching script tag was found. \")\n",
       "    return false;\n",
       "  }\n",
       "\n",
       "  function inject_raw_css(css) {\n",
       "    const element = document.createElement(\"style\");\n",
       "    element.appendChild(document.createTextNode(css));\n",
       "    document.body.appendChild(element);\n",
       "  }\n",
       "\n",
       "  var js_urls = [\"https://cdn.pydata.org/bokeh/release/bokeh-1.1.0.min.js\", \"https://cdn.pydata.org/bokeh/release/bokeh-widgets-1.1.0.min.js\", \"https://cdn.pydata.org/bokeh/release/bokeh-tables-1.1.0.min.js\", \"https://cdn.pydata.org/bokeh/release/bokeh-gl-1.1.0.min.js\"];\n",
       "  var css_urls = [\"https://cdn.pydata.org/bokeh/release/bokeh-1.1.0.min.css\", \"https://cdn.pydata.org/bokeh/release/bokeh-widgets-1.1.0.min.css\", \"https://cdn.pydata.org/bokeh/release/bokeh-tables-1.1.0.min.css\"];\n",
       "\n",
       "  var inline_js = [\n",
       "    function(Bokeh) {\n",
       "      Bokeh.set_log_level(\"info\");\n",
       "    },\n",
       "    \n",
       "    function(Bokeh) {\n",
       "      \n",
       "    },\n",
       "    function(Bokeh) {} // ensure no trailing comma for IE\n",
       "  ];\n",
       "\n",
       "  function run_inline_js() {\n",
       "    \n",
       "    if ((root.Bokeh !== undefined) || (force === true)) {\n",
       "      for (var i = 0; i < inline_js.length; i++) {\n",
       "        inline_js[i].call(root, root.Bokeh);\n",
       "      }if (force === true) {\n",
       "        display_loaded();\n",
       "      }} else if (Date.now() < root._bokeh_timeout) {\n",
       "      setTimeout(run_inline_js, 100);\n",
       "    } else if (!root._bokeh_failed_load) {\n",
       "      console.log(\"Bokeh: BokehJS failed to load within specified timeout.\");\n",
       "      root._bokeh_failed_load = true;\n",
       "    } else if (force !== true) {\n",
       "      var cell = $(document.getElementById(\"1001\")).parents('.cell').data().cell;\n",
       "      cell.output_area.append_execute_result(NB_LOAD_WARNING)\n",
       "    }\n",
       "\n",
       "  }\n",
       "\n",
       "  if (root._bokeh_is_loading === 0) {\n",
       "    console.debug(\"Bokeh: BokehJS loaded, going straight to plotting\");\n",
       "    run_inline_js();\n",
       "  } else {\n",
       "    load_libs(css_urls, js_urls, function() {\n",
       "      console.debug(\"Bokeh: BokehJS plotting callback run at\", now());\n",
       "      run_inline_js();\n",
       "    });\n",
       "  }\n",
       "}(window));"
      ],
      "application/vnd.bokehjs_load.v0+json": "\n(function(root) {\n  function now() {\n    return new Date();\n  }\n\n  var force = true;\n\n  if (typeof root._bokeh_onload_callbacks === \"undefined\" || force === true) {\n    root._bokeh_onload_callbacks = [];\n    root._bokeh_is_loading = undefined;\n  }\n\n  \n\n  \n  if (typeof (root._bokeh_timeout) === \"undefined\" || force === true) {\n    root._bokeh_timeout = Date.now() + 5000;\n    root._bokeh_failed_load = false;\n  }\n\n  var NB_LOAD_WARNING = {'data': {'text/html':\n     \"<div style='background-color: #fdd'>\\n\"+\n     \"<p>\\n\"+\n     \"BokehJS does not appear to have successfully loaded. If loading BokehJS from CDN, this \\n\"+\n     \"may be due to a slow or bad network connection. Possible fixes:\\n\"+\n     \"</p>\\n\"+\n     \"<ul>\\n\"+\n     \"<li>re-rerun `output_notebook()` to attempt to load from CDN again, or</li>\\n\"+\n     \"<li>use INLINE resources instead, as so:</li>\\n\"+\n     \"</ul>\\n\"+\n     \"<code>\\n\"+\n     \"from bokeh.resources import INLINE\\n\"+\n     \"output_notebook(resources=INLINE)\\n\"+\n     \"</code>\\n\"+\n     \"</div>\"}};\n\n  function display_loaded() {\n    var el = document.getElementById(\"1001\");\n    if (el != null) {\n      el.textContent = \"BokehJS is loading...\";\n    }\n    if (root.Bokeh !== undefined) {\n      if (el != null) {\n        el.textContent = \"BokehJS \" + root.Bokeh.version + \" successfully loaded.\";\n      }\n    } else if (Date.now() < root._bokeh_timeout) {\n      setTimeout(display_loaded, 100)\n    }\n  }\n\n\n  function run_callbacks() {\n    try {\n      root._bokeh_onload_callbacks.forEach(function(callback) {\n        if (callback != null)\n          callback();\n      });\n    } finally {\n      delete root._bokeh_onload_callbacks\n    }\n    console.debug(\"Bokeh: all callbacks have finished\");\n  }\n\n  function load_libs(css_urls, js_urls, callback) {\n    if (css_urls == null) css_urls = [];\n    if (js_urls == null) js_urls = [];\n\n    root._bokeh_onload_callbacks.push(callback);\n    if (root._bokeh_is_loading > 0) {\n      console.debug(\"Bokeh: BokehJS is being loaded, scheduling callback at\", now());\n      return null;\n    }\n    if (js_urls == null || js_urls.length === 0) {\n      run_callbacks();\n      return null;\n    }\n    console.debug(\"Bokeh: BokehJS not loaded, scheduling load and callback at\", now());\n    root._bokeh_is_loading = css_urls.length + js_urls.length;\n\n    function on_load() {\n      root._bokeh_is_loading--;\n      if (root._bokeh_is_loading === 0) {\n        console.debug(\"Bokeh: all BokehJS libraries/stylesheets loaded\");\n        run_callbacks()\n      }\n    }\n\n    function on_error() {\n      console.error(\"failed to load \" + url);\n    }\n\n    for (var i = 0; i < css_urls.length; i++) {\n      var url = css_urls[i];\n      const element = document.createElement(\"link\");\n      element.onload = on_load;\n      element.onerror = on_error;\n      element.rel = \"stylesheet\";\n      element.type = \"text/css\";\n      element.href = url;\n      console.debug(\"Bokeh: injecting link tag for BokehJS stylesheet: \", url);\n      document.body.appendChild(element);\n    }\n\n    for (var i = 0; i < js_urls.length; i++) {\n      var url = js_urls[i];\n      var element = document.createElement('script');\n      element.onload = on_load;\n      element.onerror = on_error;\n      element.async = false;\n      element.src = url;\n      console.debug(\"Bokeh: injecting script tag for BokehJS library: \", url);\n      document.head.appendChild(element);\n    }\n  };var element = document.getElementById(\"1001\");\n  if (element == null) {\n    console.error(\"Bokeh: ERROR: autoload.js configured with elementid '1001' but no matching script tag was found. \")\n    return false;\n  }\n\n  function inject_raw_css(css) {\n    const element = document.createElement(\"style\");\n    element.appendChild(document.createTextNode(css));\n    document.body.appendChild(element);\n  }\n\n  var js_urls = [\"https://cdn.pydata.org/bokeh/release/bokeh-1.1.0.min.js\", \"https://cdn.pydata.org/bokeh/release/bokeh-widgets-1.1.0.min.js\", \"https://cdn.pydata.org/bokeh/release/bokeh-tables-1.1.0.min.js\", \"https://cdn.pydata.org/bokeh/release/bokeh-gl-1.1.0.min.js\"];\n  var css_urls = [\"https://cdn.pydata.org/bokeh/release/bokeh-1.1.0.min.css\", \"https://cdn.pydata.org/bokeh/release/bokeh-widgets-1.1.0.min.css\", \"https://cdn.pydata.org/bokeh/release/bokeh-tables-1.1.0.min.css\"];\n\n  var inline_js = [\n    function(Bokeh) {\n      Bokeh.set_log_level(\"info\");\n    },\n    \n    function(Bokeh) {\n      \n    },\n    function(Bokeh) {} // ensure no trailing comma for IE\n  ];\n\n  function run_inline_js() {\n    \n    if ((root.Bokeh !== undefined) || (force === true)) {\n      for (var i = 0; i < inline_js.length; i++) {\n        inline_js[i].call(root, root.Bokeh);\n      }if (force === true) {\n        display_loaded();\n      }} else if (Date.now() < root._bokeh_timeout) {\n      setTimeout(run_inline_js, 100);\n    } else if (!root._bokeh_failed_load) {\n      console.log(\"Bokeh: BokehJS failed to load within specified timeout.\");\n      root._bokeh_failed_load = true;\n    } else if (force !== true) {\n      var cell = $(document.getElementById(\"1001\")).parents('.cell').data().cell;\n      cell.output_area.append_execute_result(NB_LOAD_WARNING)\n    }\n\n  }\n\n  if (root._bokeh_is_loading === 0) {\n    console.debug(\"Bokeh: BokehJS loaded, going straight to plotting\");\n    run_inline_js();\n  } else {\n    load_libs(css_urls, js_urls, function() {\n      console.debug(\"Bokeh: BokehJS plotting callback run at\", now());\n      run_inline_js();\n    });\n  }\n}(window));"
     },
     "metadata": {},
     "output_type": "display_data"
    }
   ],
   "source": [
    "output_notebook()"
   ]
  },
  {
   "cell_type": "markdown",
   "metadata": {},
   "source": [
    "## Load the data"
   ]
  },
  {
   "cell_type": "code",
   "execution_count": 3,
   "metadata": {},
   "outputs": [
    {
     "name": "stderr",
     "output_type": "stream",
     "text": [
      "/Users/richford/miniconda3/envs/insight-dev/lib/python3.6/site-packages/pandas/core/indexing.py:635: SettingWithCopyWarning: \n",
      "A value is trying to be set on a copy of a slice from a DataFrame.\n",
      "Try using .loc[row_indexer,col_indexer] = value instead\n",
      "\n",
      "See the caveats in the documentation: http://pandas.pydata.org/pandas-docs/stable/indexing.html#indexing-view-versus-copy\n",
      "  self.obj[item_labels[indexer[info_axis]]] = value\n"
     ]
    }
   ],
   "source": [
    "afq_data = afqi.load_afq_data(\n",
    "    '../data/raw/als_data',\n",
    "    target_cols=['class'],\n",
    "    binary_positives={'class': 'ALS'},\n",
    "    scale_x=False\n",
    ")\n",
    "\n",
    "x, y, groups, columns, bias_index = (\n",
    "    afq_data.x,\n",
    "    afq_data.y['class'],\n",
    "    afq_data.groups,\n",
    "    afq_data.columns,\n",
    "    afq_data.bias_index\n",
    ")"
   ]
  },
  {
   "cell_type": "code",
   "execution_count": 4,
   "metadata": {},
   "outputs": [
    {
     "data": {
      "text/plain": [
       "subjectID\n",
       "subject_000    1\n",
       "subject_001    1\n",
       "subject_002    1\n",
       "subject_003    1\n",
       "subject_004    1\n",
       "subject_005    1\n",
       "subject_006    1\n",
       "subject_007    1\n",
       "subject_008    1\n",
       "subject_009    1\n",
       "subject_010    1\n",
       "subject_011    1\n",
       "subject_012    1\n",
       "subject_013    1\n",
       "subject_014    1\n",
       "subject_015    1\n",
       "subject_016    1\n",
       "subject_017    1\n",
       "subject_018    1\n",
       "subject_019    1\n",
       "subject_020    1\n",
       "subject_021    1\n",
       "subject_022    1\n",
       "subject_023    1\n",
       "subject_024    0\n",
       "subject_025    0\n",
       "subject_026    0\n",
       "subject_027    0\n",
       "subject_028    0\n",
       "subject_029    0\n",
       "subject_030    0\n",
       "subject_031    0\n",
       "subject_032    0\n",
       "subject_033    0\n",
       "subject_034    0\n",
       "subject_035    0\n",
       "subject_036    0\n",
       "subject_037    0\n",
       "subject_038    0\n",
       "subject_039    0\n",
       "subject_040    0\n",
       "subject_041    0\n",
       "subject_042    0\n",
       "subject_043    0\n",
       "subject_044    0\n",
       "subject_045    0\n",
       "subject_046    0\n",
       "subject_047    0\n",
       "Name: class, dtype: int64"
      ]
     },
     "execution_count": 4,
     "metadata": {},
     "output_type": "execute_result"
    }
   ],
   "source": [
    "y"
   ]
  },
  {
   "cell_type": "code",
   "execution_count": 5,
   "metadata": {},
   "outputs": [],
   "source": [
    "label_sets = afqi.multicol2sets(columns, tract_symmetry=True)\n",
    "select_labels = [[\"fa\"], [\"md\"]]\n",
    "x_md_fa = afqi.select_groups(np.delete(x, bias_index, axis=1), select_labels, label_sets)"
   ]
  },
  {
   "cell_type": "code",
   "execution_count": 6,
   "metadata": {},
   "outputs": [],
   "source": [
    "x_md_fa = np.hstack([x_md_fa, x[:, bias_index][:, np.newaxis]])"
   ]
  },
  {
   "cell_type": "markdown",
   "metadata": {},
   "source": [
    "## Find the optimal feature coefficients $\\widehat{\\beta}$"
   ]
  },
  {
   "cell_type": "markdown",
   "metadata": {},
   "source": [
    "We search for the optimal coefficients using two different classification scores: accuracy and ROC AUC."
   ]
  },
  {
   "cell_type": "code",
   "execution_count": 7,
   "metadata": {},
   "outputs": [],
   "source": [
    "# for max_cv in range(1400, 2501, 100):\n",
    "#     hp_cv_res_acc = afqi.fit_hyperparams_cv(\n",
    "#         x, y, groups, bias_index=bias_index,\n",
    "#         max_evals_per_cv=max_cv,\n",
    "#         score='accuracy',\n",
    "#         trials_pickle_dir='./trials_classification/cv10_rs42_accuracy',\n",
    "#         verbose=1, random_state=42, clf_threshold=0.5\n",
    "#     )"
   ]
  },
  {
   "cell_type": "code",
   "execution_count": 8,
   "metadata": {},
   "outputs": [
    {
     "data": {
      "application/vnd.jupyter.widget-view+json": {
       "model_id": "8ebe8c2895ac4f7198f6766fb5fd6c25",
       "version_major": 2,
       "version_minor": 0
      },
      "text/plain": [
       "HBox(children=(IntProgress(value=0, max=30), HTML(value='')))"
      ]
     },
     "metadata": {},
     "output_type": "display_data"
    },
    {
     "name": "stdout",
     "output_type": "stream",
     "text": [
      "0it [00:00, ?it/s, best loss: ?]\n",
      "0it [00:00, ?it/s, best loss: ?]\n",
      "0it [00:00, ?it/s, best loss: ?]\n"
     ]
    },
    {
     "name": "stderr",
     "output_type": "stream",
     "text": [
      "/Users/richford/projects/neuro/afq/insight/afqinsight/insight.py:116: RuntimeWarning: invalid value encountered in greater\n",
      "  acc = accuracy_score(y, y_pred > clf_threshold)\n"
     ]
    },
    {
     "ename": "ValueError",
     "evalue": "Input contains NaN, infinity or a value too large for dtype('float64').",
     "output_type": "error",
     "traceback": [
      "\u001b[0;31m---------------------------------------------------------------------------\u001b[0m",
      "\u001b[0;31mValueError\u001b[0m                                Traceback (most recent call last)",
      "\u001b[0;32m<ipython-input-8-1b585a99fd44>\u001b[0m in \u001b[0;36m<module>\u001b[0;34m\u001b[0m\n\u001b[1;32m      5\u001b[0m     \u001b[0mscore\u001b[0m\u001b[0;34m=\u001b[0m\u001b[0;34m'accuracy'\u001b[0m\u001b[0;34m,\u001b[0m\u001b[0;34m\u001b[0m\u001b[0;34m\u001b[0m\u001b[0m\n\u001b[1;32m      6\u001b[0m     \u001b[0mtrials_pickle_dir\u001b[0m\u001b[0;34m=\u001b[0m\u001b[0;34m'./trials_classification/cv3x10_v2_rs42_scaled_accuracy'\u001b[0m\u001b[0;34m,\u001b[0m\u001b[0;34m\u001b[0m\u001b[0;34m\u001b[0m\u001b[0m\n\u001b[0;32m----> 7\u001b[0;31m     \u001b[0mverbose\u001b[0m\u001b[0;34m=\u001b[0m\u001b[0;36m1\u001b[0m\u001b[0;34m,\u001b[0m \u001b[0mrandom_state\u001b[0m\u001b[0;34m=\u001b[0m\u001b[0;36m42\u001b[0m\u001b[0;34m,\u001b[0m \u001b[0mclf_threshold\u001b[0m\u001b[0;34m=\u001b[0m\u001b[0;36m0.5\u001b[0m\u001b[0;34m\u001b[0m\u001b[0;34m\u001b[0m\u001b[0m\n\u001b[0m\u001b[1;32m      8\u001b[0m )\n",
      "\u001b[0;32m~/projects/neuro/afq/insight/afqinsight/insight.py\u001b[0m in \u001b[0;36mfit_hyperparams_cv\u001b[0;34m(x, y, groups, bias_index, beta0, n_splits, n_repeats, max_evals_per_cv, loss_type, score, trials_pickle_dir, mongo_handle, random_state, verbose, clf_threshold)\u001b[0m\n\u001b[1;32m    846\u001b[0m             \u001b[0mtransform_type\u001b[0m\u001b[0;34m=\u001b[0m\u001b[0mtransform_type\u001b[0m\u001b[0;34m,\u001b[0m\u001b[0;34m\u001b[0m\u001b[0;34m\u001b[0m\u001b[0m\n\u001b[1;32m    847\u001b[0m             \u001b[0mloss_type\u001b[0m\u001b[0;34m=\u001b[0m\u001b[0mloss_type\u001b[0m\u001b[0;34m,\u001b[0m\u001b[0;34m\u001b[0m\u001b[0;34m\u001b[0m\u001b[0m\n\u001b[0;32m--> 848\u001b[0;31m             \u001b[0mclf_threshold\u001b[0m\u001b[0;34m=\u001b[0m\u001b[0mclf_threshold\u001b[0m\u001b[0;34m\u001b[0m\u001b[0;34m\u001b[0m\u001b[0m\n\u001b[0m\u001b[1;32m    849\u001b[0m         )\n\u001b[1;32m    850\u001b[0m \u001b[0;34m\u001b[0m\u001b[0m\n",
      "\u001b[0;32m~/projects/neuro/afq/insight/afqinsight/insight.py\u001b[0m in \u001b[0;36msgl_estimator\u001b[0;34m(x_train, y_train, x_test, y_test, groups, bias_index, beta0, alpha1, alpha2, eta, transform_type, max_iter, tol, verbose, suppress_warnings, cb_trace, accelerate, loss_type, clf_threshold)\u001b[0m\n\u001b[1;32m    336\u001b[0m     \u001b[0;32mif\u001b[0m \u001b[0mloss_type\u001b[0m \u001b[0;34m==\u001b[0m \u001b[0;34m'logloss'\u001b[0m\u001b[0;34m:\u001b[0m\u001b[0;34m\u001b[0m\u001b[0;34m\u001b[0m\u001b[0m\n\u001b[1;32m    337\u001b[0m         train = classification_scores(x=x_train, y=y_train, beta_hat=beta_hat,\n\u001b[0;32m--> 338\u001b[0;31m                                       clf_threshold=clf_threshold)\n\u001b[0m\u001b[1;32m    339\u001b[0m         test = classification_scores(x=x_test, y=y_test, beta_hat=beta_hat,\n\u001b[1;32m    340\u001b[0m                                      clf_threshold=clf_threshold)\n",
      "\u001b[0;32m~/projects/neuro/afq/insight/afqinsight/insight.py\u001b[0m in \u001b[0;36mclassification_scores\u001b[0;34m(x, y, beta_hat, clf_threshold)\u001b[0m\n\u001b[1;32m    115\u001b[0m \u001b[0;34m\u001b[0m\u001b[0m\n\u001b[1;32m    116\u001b[0m     \u001b[0macc\u001b[0m \u001b[0;34m=\u001b[0m \u001b[0maccuracy_score\u001b[0m\u001b[0;34m(\u001b[0m\u001b[0my\u001b[0m\u001b[0;34m,\u001b[0m \u001b[0my_pred\u001b[0m \u001b[0;34m>\u001b[0m \u001b[0mclf_threshold\u001b[0m\u001b[0;34m)\u001b[0m\u001b[0;34m\u001b[0m\u001b[0;34m\u001b[0m\u001b[0m\n\u001b[0;32m--> 117\u001b[0;31m     \u001b[0mauc\u001b[0m \u001b[0;34m=\u001b[0m \u001b[0mroc_auc_score\u001b[0m\u001b[0;34m(\u001b[0m\u001b[0my\u001b[0m\u001b[0;34m,\u001b[0m \u001b[0my_pred\u001b[0m\u001b[0;34m)\u001b[0m\u001b[0;34m\u001b[0m\u001b[0;34m\u001b[0m\u001b[0m\n\u001b[0m\u001b[1;32m    118\u001b[0m     \u001b[0maps\u001b[0m \u001b[0;34m=\u001b[0m \u001b[0maverage_precision_score\u001b[0m\u001b[0;34m(\u001b[0m\u001b[0my\u001b[0m\u001b[0;34m,\u001b[0m \u001b[0my_pred\u001b[0m\u001b[0;34m)\u001b[0m\u001b[0;34m\u001b[0m\u001b[0;34m\u001b[0m\u001b[0m\n\u001b[1;32m    119\u001b[0m \u001b[0;34m\u001b[0m\u001b[0m\n",
      "\u001b[0;32m~/miniconda3/envs/insight-dev/lib/python3.6/site-packages/sklearn/metrics/ranking.py\u001b[0m in \u001b[0;36mroc_auc_score\u001b[0;34m(y_true, y_score, average, sample_weight, max_fpr)\u001b[0m\n\u001b[1;32m    354\u001b[0m     return _average_binary_score(\n\u001b[1;32m    355\u001b[0m         \u001b[0m_binary_roc_auc_score\u001b[0m\u001b[0;34m,\u001b[0m \u001b[0my_true\u001b[0m\u001b[0;34m,\u001b[0m \u001b[0my_score\u001b[0m\u001b[0;34m,\u001b[0m \u001b[0maverage\u001b[0m\u001b[0;34m,\u001b[0m\u001b[0;34m\u001b[0m\u001b[0;34m\u001b[0m\u001b[0m\n\u001b[0;32m--> 356\u001b[0;31m         sample_weight=sample_weight)\n\u001b[0m\u001b[1;32m    357\u001b[0m \u001b[0;34m\u001b[0m\u001b[0m\n\u001b[1;32m    358\u001b[0m \u001b[0;34m\u001b[0m\u001b[0m\n",
      "\u001b[0;32m~/miniconda3/envs/insight-dev/lib/python3.6/site-packages/sklearn/metrics/base.py\u001b[0m in \u001b[0;36m_average_binary_score\u001b[0;34m(binary_metric, y_true, y_score, average, sample_weight)\u001b[0m\n\u001b[1;32m     75\u001b[0m \u001b[0;34m\u001b[0m\u001b[0m\n\u001b[1;32m     76\u001b[0m     \u001b[0;32mif\u001b[0m \u001b[0my_type\u001b[0m \u001b[0;34m==\u001b[0m \u001b[0;34m\"binary\"\u001b[0m\u001b[0;34m:\u001b[0m\u001b[0;34m\u001b[0m\u001b[0;34m\u001b[0m\u001b[0m\n\u001b[0;32m---> 77\u001b[0;31m         \u001b[0;32mreturn\u001b[0m \u001b[0mbinary_metric\u001b[0m\u001b[0;34m(\u001b[0m\u001b[0my_true\u001b[0m\u001b[0;34m,\u001b[0m \u001b[0my_score\u001b[0m\u001b[0;34m,\u001b[0m \u001b[0msample_weight\u001b[0m\u001b[0;34m=\u001b[0m\u001b[0msample_weight\u001b[0m\u001b[0;34m)\u001b[0m\u001b[0;34m\u001b[0m\u001b[0;34m\u001b[0m\u001b[0m\n\u001b[0m\u001b[1;32m     78\u001b[0m \u001b[0;34m\u001b[0m\u001b[0m\n\u001b[1;32m     79\u001b[0m     \u001b[0mcheck_consistent_length\u001b[0m\u001b[0;34m(\u001b[0m\u001b[0my_true\u001b[0m\u001b[0;34m,\u001b[0m \u001b[0my_score\u001b[0m\u001b[0;34m,\u001b[0m \u001b[0msample_weight\u001b[0m\u001b[0;34m)\u001b[0m\u001b[0;34m\u001b[0m\u001b[0;34m\u001b[0m\u001b[0m\n",
      "\u001b[0;32m~/miniconda3/envs/insight-dev/lib/python3.6/site-packages/sklearn/metrics/ranking.py\u001b[0m in \u001b[0;36m_binary_roc_auc_score\u001b[0;34m(y_true, y_score, sample_weight)\u001b[0m\n\u001b[1;32m    326\u001b[0m \u001b[0;34m\u001b[0m\u001b[0m\n\u001b[1;32m    327\u001b[0m         fpr, tpr, _ = roc_curve(y_true, y_score,\n\u001b[0;32m--> 328\u001b[0;31m                                 sample_weight=sample_weight)\n\u001b[0m\u001b[1;32m    329\u001b[0m         \u001b[0;32mif\u001b[0m \u001b[0mmax_fpr\u001b[0m \u001b[0;32mis\u001b[0m \u001b[0;32mNone\u001b[0m \u001b[0;32mor\u001b[0m \u001b[0mmax_fpr\u001b[0m \u001b[0;34m==\u001b[0m \u001b[0;36m1\u001b[0m\u001b[0;34m:\u001b[0m\u001b[0;34m\u001b[0m\u001b[0;34m\u001b[0m\u001b[0m\n\u001b[1;32m    330\u001b[0m             \u001b[0;32mreturn\u001b[0m \u001b[0mauc\u001b[0m\u001b[0;34m(\u001b[0m\u001b[0mfpr\u001b[0m\u001b[0;34m,\u001b[0m \u001b[0mtpr\u001b[0m\u001b[0;34m)\u001b[0m\u001b[0;34m\u001b[0m\u001b[0;34m\u001b[0m\u001b[0m\n",
      "\u001b[0;32m~/miniconda3/envs/insight-dev/lib/python3.6/site-packages/sklearn/metrics/ranking.py\u001b[0m in \u001b[0;36mroc_curve\u001b[0;34m(y_true, y_score, pos_label, sample_weight, drop_intermediate)\u001b[0m\n\u001b[1;32m    616\u001b[0m     \"\"\"\n\u001b[1;32m    617\u001b[0m     fps, tps, thresholds = _binary_clf_curve(\n\u001b[0;32m--> 618\u001b[0;31m         y_true, y_score, pos_label=pos_label, sample_weight=sample_weight)\n\u001b[0m\u001b[1;32m    619\u001b[0m \u001b[0;34m\u001b[0m\u001b[0m\n\u001b[1;32m    620\u001b[0m     \u001b[0;31m# Attempt to drop thresholds corresponding to points in between and\u001b[0m\u001b[0;34m\u001b[0m\u001b[0;34m\u001b[0m\u001b[0;34m\u001b[0m\u001b[0m\n",
      "\u001b[0;32m~/miniconda3/envs/insight-dev/lib/python3.6/site-packages/sklearn/metrics/ranking.py\u001b[0m in \u001b[0;36m_binary_clf_curve\u001b[0;34m(y_true, y_score, pos_label, sample_weight)\u001b[0m\n\u001b[1;32m    401\u001b[0m     \u001b[0my_score\u001b[0m \u001b[0;34m=\u001b[0m \u001b[0mcolumn_or_1d\u001b[0m\u001b[0;34m(\u001b[0m\u001b[0my_score\u001b[0m\u001b[0;34m)\u001b[0m\u001b[0;34m\u001b[0m\u001b[0;34m\u001b[0m\u001b[0m\n\u001b[1;32m    402\u001b[0m     \u001b[0massert_all_finite\u001b[0m\u001b[0;34m(\u001b[0m\u001b[0my_true\u001b[0m\u001b[0;34m)\u001b[0m\u001b[0;34m\u001b[0m\u001b[0;34m\u001b[0m\u001b[0m\n\u001b[0;32m--> 403\u001b[0;31m     \u001b[0massert_all_finite\u001b[0m\u001b[0;34m(\u001b[0m\u001b[0my_score\u001b[0m\u001b[0;34m)\u001b[0m\u001b[0;34m\u001b[0m\u001b[0;34m\u001b[0m\u001b[0m\n\u001b[0m\u001b[1;32m    404\u001b[0m \u001b[0;34m\u001b[0m\u001b[0m\n\u001b[1;32m    405\u001b[0m     \u001b[0;32mif\u001b[0m \u001b[0msample_weight\u001b[0m \u001b[0;32mis\u001b[0m \u001b[0;32mnot\u001b[0m \u001b[0;32mNone\u001b[0m\u001b[0;34m:\u001b[0m\u001b[0;34m\u001b[0m\u001b[0;34m\u001b[0m\u001b[0m\n",
      "\u001b[0;32m~/miniconda3/envs/insight-dev/lib/python3.6/site-packages/sklearn/utils/validation.py\u001b[0m in \u001b[0;36massert_all_finite\u001b[0;34m(X, allow_nan)\u001b[0m\n\u001b[1;32m     66\u001b[0m     \u001b[0mallow_nan\u001b[0m \u001b[0;34m:\u001b[0m \u001b[0mbool\u001b[0m\u001b[0;34m\u001b[0m\u001b[0;34m\u001b[0m\u001b[0m\n\u001b[1;32m     67\u001b[0m     \"\"\"\n\u001b[0;32m---> 68\u001b[0;31m     \u001b[0m_assert_all_finite\u001b[0m\u001b[0;34m(\u001b[0m\u001b[0mX\u001b[0m\u001b[0;34m.\u001b[0m\u001b[0mdata\u001b[0m \u001b[0;32mif\u001b[0m \u001b[0msp\u001b[0m\u001b[0;34m.\u001b[0m\u001b[0missparse\u001b[0m\u001b[0;34m(\u001b[0m\u001b[0mX\u001b[0m\u001b[0;34m)\u001b[0m \u001b[0;32melse\u001b[0m \u001b[0mX\u001b[0m\u001b[0;34m,\u001b[0m \u001b[0mallow_nan\u001b[0m\u001b[0;34m)\u001b[0m\u001b[0;34m\u001b[0m\u001b[0;34m\u001b[0m\u001b[0m\n\u001b[0m\u001b[1;32m     69\u001b[0m \u001b[0;34m\u001b[0m\u001b[0m\n\u001b[1;32m     70\u001b[0m \u001b[0;34m\u001b[0m\u001b[0m\n",
      "\u001b[0;32m~/miniconda3/envs/insight-dev/lib/python3.6/site-packages/sklearn/utils/validation.py\u001b[0m in \u001b[0;36m_assert_all_finite\u001b[0;34m(X, allow_nan)\u001b[0m\n\u001b[1;32m     54\u001b[0m                 not allow_nan and not np.isfinite(X).all()):\n\u001b[1;32m     55\u001b[0m             \u001b[0mtype_err\u001b[0m \u001b[0;34m=\u001b[0m \u001b[0;34m'infinity'\u001b[0m \u001b[0;32mif\u001b[0m \u001b[0mallow_nan\u001b[0m \u001b[0;32melse\u001b[0m \u001b[0;34m'NaN, infinity'\u001b[0m\u001b[0;34m\u001b[0m\u001b[0;34m\u001b[0m\u001b[0m\n\u001b[0;32m---> 56\u001b[0;31m             \u001b[0;32mraise\u001b[0m \u001b[0mValueError\u001b[0m\u001b[0;34m(\u001b[0m\u001b[0mmsg_err\u001b[0m\u001b[0;34m.\u001b[0m\u001b[0mformat\u001b[0m\u001b[0;34m(\u001b[0m\u001b[0mtype_err\u001b[0m\u001b[0;34m,\u001b[0m \u001b[0mX\u001b[0m\u001b[0;34m.\u001b[0m\u001b[0mdtype\u001b[0m\u001b[0;34m)\u001b[0m\u001b[0;34m)\u001b[0m\u001b[0;34m\u001b[0m\u001b[0;34m\u001b[0m\u001b[0m\n\u001b[0m\u001b[1;32m     57\u001b[0m \u001b[0;34m\u001b[0m\u001b[0m\n\u001b[1;32m     58\u001b[0m \u001b[0;34m\u001b[0m\u001b[0m\n",
      "\u001b[0;31mValueError\u001b[0m: Input contains NaN, infinity or a value too large for dtype('float64')."
     ]
    }
   ],
   "source": [
    "hp_cv_res_acc = afqi.fit_hyperparams_cv(\n",
    "    x, y, groups, bias_index=bias_index,\n",
    "    n_splits=10, n_repeats=3,\n",
    "    max_evals_per_cv=100,\n",
    "    score='accuracy',\n",
    "    trials_pickle_dir='./trials_classification/cv3x10_v2_rs42_scaled_accuracy',\n",
    "    verbose=1, random_state=42, clf_threshold=0.5\n",
    ")"
   ]
  },
  {
   "cell_type": "code",
   "execution_count": 9,
   "metadata": {},
   "outputs": [
    {
     "data": {
      "application/vnd.jupyter.widget-view+json": {
       "model_id": "1f7df24a72334077b9b4b354bbbca65c",
       "version_major": 2,
       "version_minor": 0
      },
      "text/plain": [
       "HBox(children=(IntProgress(value=0, max=30), HTML(value='')))"
      ]
     },
     "metadata": {},
     "output_type": "display_data"
    },
    {
     "name": "stdout",
     "output_type": "stream",
     "text": [
      "0it [00:00, ?it/s, best loss: ?]\n",
      "0it [00:00, ?it/s, best loss: ?]\n",
      "0it [00:00, ?it/s, best loss: ?]\n"
     ]
    },
    {
     "name": "stderr",
     "output_type": "stream",
     "text": [
      "/Users/richford/projects/neuro/afq/insight/afqinsight/insight.py:116: RuntimeWarning: invalid value encountered in greater\n",
      "  acc = accuracy_score(y, y_pred > clf_threshold)\n"
     ]
    },
    {
     "ename": "ValueError",
     "evalue": "Input contains NaN, infinity or a value too large for dtype('float64').",
     "output_type": "error",
     "traceback": [
      "\u001b[0;31m---------------------------------------------------------------------------\u001b[0m",
      "\u001b[0;31mValueError\u001b[0m                                Traceback (most recent call last)",
      "\u001b[0;32m<ipython-input-9-176c0266e1a4>\u001b[0m in \u001b[0;36m<module>\u001b[0;34m\u001b[0m\n\u001b[1;32m      5\u001b[0m     \u001b[0mscore\u001b[0m\u001b[0;34m=\u001b[0m\u001b[0;34m'accuracy'\u001b[0m\u001b[0;34m,\u001b[0m\u001b[0;34m\u001b[0m\u001b[0;34m\u001b[0m\u001b[0m\n\u001b[1;32m      6\u001b[0m     \u001b[0mtrials_pickle_dir\u001b[0m\u001b[0;34m=\u001b[0m\u001b[0;34m'./trials_classification/cv3x10_v2_rs42_scaled_accuracy_md_fa_only'\u001b[0m\u001b[0;34m,\u001b[0m\u001b[0;34m\u001b[0m\u001b[0;34m\u001b[0m\u001b[0m\n\u001b[0;32m----> 7\u001b[0;31m     \u001b[0mverbose\u001b[0m\u001b[0;34m=\u001b[0m\u001b[0;36m1\u001b[0m\u001b[0;34m,\u001b[0m \u001b[0mrandom_state\u001b[0m\u001b[0;34m=\u001b[0m\u001b[0;36m42\u001b[0m\u001b[0;34m,\u001b[0m \u001b[0mclf_threshold\u001b[0m\u001b[0;34m=\u001b[0m\u001b[0;36m0.5\u001b[0m\u001b[0;34m\u001b[0m\u001b[0;34m\u001b[0m\u001b[0m\n\u001b[0m\u001b[1;32m      8\u001b[0m )\n",
      "\u001b[0;32m~/projects/neuro/afq/insight/afqinsight/insight.py\u001b[0m in \u001b[0;36mfit_hyperparams_cv\u001b[0;34m(x, y, groups, bias_index, beta0, n_splits, n_repeats, max_evals_per_cv, loss_type, score, trials_pickle_dir, mongo_handle, random_state, verbose, clf_threshold)\u001b[0m\n\u001b[1;32m    846\u001b[0m             \u001b[0mtransform_type\u001b[0m\u001b[0;34m=\u001b[0m\u001b[0mtransform_type\u001b[0m\u001b[0;34m,\u001b[0m\u001b[0;34m\u001b[0m\u001b[0;34m\u001b[0m\u001b[0m\n\u001b[1;32m    847\u001b[0m             \u001b[0mloss_type\u001b[0m\u001b[0;34m=\u001b[0m\u001b[0mloss_type\u001b[0m\u001b[0;34m,\u001b[0m\u001b[0;34m\u001b[0m\u001b[0;34m\u001b[0m\u001b[0m\n\u001b[0;32m--> 848\u001b[0;31m             \u001b[0mclf_threshold\u001b[0m\u001b[0;34m=\u001b[0m\u001b[0mclf_threshold\u001b[0m\u001b[0;34m\u001b[0m\u001b[0;34m\u001b[0m\u001b[0m\n\u001b[0m\u001b[1;32m    849\u001b[0m         )\n\u001b[1;32m    850\u001b[0m \u001b[0;34m\u001b[0m\u001b[0m\n",
      "\u001b[0;32m~/projects/neuro/afq/insight/afqinsight/insight.py\u001b[0m in \u001b[0;36msgl_estimator\u001b[0;34m(x_train, y_train, x_test, y_test, groups, bias_index, beta0, alpha1, alpha2, eta, transform_type, max_iter, tol, verbose, suppress_warnings, cb_trace, accelerate, loss_type, clf_threshold)\u001b[0m\n\u001b[1;32m    336\u001b[0m     \u001b[0;32mif\u001b[0m \u001b[0mloss_type\u001b[0m \u001b[0;34m==\u001b[0m \u001b[0;34m'logloss'\u001b[0m\u001b[0;34m:\u001b[0m\u001b[0;34m\u001b[0m\u001b[0;34m\u001b[0m\u001b[0m\n\u001b[1;32m    337\u001b[0m         train = classification_scores(x=x_train, y=y_train, beta_hat=beta_hat,\n\u001b[0;32m--> 338\u001b[0;31m                                       clf_threshold=clf_threshold)\n\u001b[0m\u001b[1;32m    339\u001b[0m         test = classification_scores(x=x_test, y=y_test, beta_hat=beta_hat,\n\u001b[1;32m    340\u001b[0m                                      clf_threshold=clf_threshold)\n",
      "\u001b[0;32m~/projects/neuro/afq/insight/afqinsight/insight.py\u001b[0m in \u001b[0;36mclassification_scores\u001b[0;34m(x, y, beta_hat, clf_threshold)\u001b[0m\n\u001b[1;32m    115\u001b[0m \u001b[0;34m\u001b[0m\u001b[0m\n\u001b[1;32m    116\u001b[0m     \u001b[0macc\u001b[0m \u001b[0;34m=\u001b[0m \u001b[0maccuracy_score\u001b[0m\u001b[0;34m(\u001b[0m\u001b[0my\u001b[0m\u001b[0;34m,\u001b[0m \u001b[0my_pred\u001b[0m \u001b[0;34m>\u001b[0m \u001b[0mclf_threshold\u001b[0m\u001b[0;34m)\u001b[0m\u001b[0;34m\u001b[0m\u001b[0;34m\u001b[0m\u001b[0m\n\u001b[0;32m--> 117\u001b[0;31m     \u001b[0mauc\u001b[0m \u001b[0;34m=\u001b[0m \u001b[0mroc_auc_score\u001b[0m\u001b[0;34m(\u001b[0m\u001b[0my\u001b[0m\u001b[0;34m,\u001b[0m \u001b[0my_pred\u001b[0m\u001b[0;34m)\u001b[0m\u001b[0;34m\u001b[0m\u001b[0;34m\u001b[0m\u001b[0m\n\u001b[0m\u001b[1;32m    118\u001b[0m     \u001b[0maps\u001b[0m \u001b[0;34m=\u001b[0m \u001b[0maverage_precision_score\u001b[0m\u001b[0;34m(\u001b[0m\u001b[0my\u001b[0m\u001b[0;34m,\u001b[0m \u001b[0my_pred\u001b[0m\u001b[0;34m)\u001b[0m\u001b[0;34m\u001b[0m\u001b[0;34m\u001b[0m\u001b[0m\n\u001b[1;32m    119\u001b[0m \u001b[0;34m\u001b[0m\u001b[0m\n",
      "\u001b[0;32m~/miniconda3/envs/insight-dev/lib/python3.6/site-packages/sklearn/metrics/ranking.py\u001b[0m in \u001b[0;36mroc_auc_score\u001b[0;34m(y_true, y_score, average, sample_weight, max_fpr)\u001b[0m\n\u001b[1;32m    354\u001b[0m     return _average_binary_score(\n\u001b[1;32m    355\u001b[0m         \u001b[0m_binary_roc_auc_score\u001b[0m\u001b[0;34m,\u001b[0m \u001b[0my_true\u001b[0m\u001b[0;34m,\u001b[0m \u001b[0my_score\u001b[0m\u001b[0;34m,\u001b[0m \u001b[0maverage\u001b[0m\u001b[0;34m,\u001b[0m\u001b[0;34m\u001b[0m\u001b[0;34m\u001b[0m\u001b[0m\n\u001b[0;32m--> 356\u001b[0;31m         sample_weight=sample_weight)\n\u001b[0m\u001b[1;32m    357\u001b[0m \u001b[0;34m\u001b[0m\u001b[0m\n\u001b[1;32m    358\u001b[0m \u001b[0;34m\u001b[0m\u001b[0m\n",
      "\u001b[0;32m~/miniconda3/envs/insight-dev/lib/python3.6/site-packages/sklearn/metrics/base.py\u001b[0m in \u001b[0;36m_average_binary_score\u001b[0;34m(binary_metric, y_true, y_score, average, sample_weight)\u001b[0m\n\u001b[1;32m     75\u001b[0m \u001b[0;34m\u001b[0m\u001b[0m\n\u001b[1;32m     76\u001b[0m     \u001b[0;32mif\u001b[0m \u001b[0my_type\u001b[0m \u001b[0;34m==\u001b[0m \u001b[0;34m\"binary\"\u001b[0m\u001b[0;34m:\u001b[0m\u001b[0;34m\u001b[0m\u001b[0;34m\u001b[0m\u001b[0m\n\u001b[0;32m---> 77\u001b[0;31m         \u001b[0;32mreturn\u001b[0m \u001b[0mbinary_metric\u001b[0m\u001b[0;34m(\u001b[0m\u001b[0my_true\u001b[0m\u001b[0;34m,\u001b[0m \u001b[0my_score\u001b[0m\u001b[0;34m,\u001b[0m \u001b[0msample_weight\u001b[0m\u001b[0;34m=\u001b[0m\u001b[0msample_weight\u001b[0m\u001b[0;34m)\u001b[0m\u001b[0;34m\u001b[0m\u001b[0;34m\u001b[0m\u001b[0m\n\u001b[0m\u001b[1;32m     78\u001b[0m \u001b[0;34m\u001b[0m\u001b[0m\n\u001b[1;32m     79\u001b[0m     \u001b[0mcheck_consistent_length\u001b[0m\u001b[0;34m(\u001b[0m\u001b[0my_true\u001b[0m\u001b[0;34m,\u001b[0m \u001b[0my_score\u001b[0m\u001b[0;34m,\u001b[0m \u001b[0msample_weight\u001b[0m\u001b[0;34m)\u001b[0m\u001b[0;34m\u001b[0m\u001b[0;34m\u001b[0m\u001b[0m\n",
      "\u001b[0;32m~/miniconda3/envs/insight-dev/lib/python3.6/site-packages/sklearn/metrics/ranking.py\u001b[0m in \u001b[0;36m_binary_roc_auc_score\u001b[0;34m(y_true, y_score, sample_weight)\u001b[0m\n\u001b[1;32m    326\u001b[0m \u001b[0;34m\u001b[0m\u001b[0m\n\u001b[1;32m    327\u001b[0m         fpr, tpr, _ = roc_curve(y_true, y_score,\n\u001b[0;32m--> 328\u001b[0;31m                                 sample_weight=sample_weight)\n\u001b[0m\u001b[1;32m    329\u001b[0m         \u001b[0;32mif\u001b[0m \u001b[0mmax_fpr\u001b[0m \u001b[0;32mis\u001b[0m \u001b[0;32mNone\u001b[0m \u001b[0;32mor\u001b[0m \u001b[0mmax_fpr\u001b[0m \u001b[0;34m==\u001b[0m \u001b[0;36m1\u001b[0m\u001b[0;34m:\u001b[0m\u001b[0;34m\u001b[0m\u001b[0;34m\u001b[0m\u001b[0m\n\u001b[1;32m    330\u001b[0m             \u001b[0;32mreturn\u001b[0m \u001b[0mauc\u001b[0m\u001b[0;34m(\u001b[0m\u001b[0mfpr\u001b[0m\u001b[0;34m,\u001b[0m \u001b[0mtpr\u001b[0m\u001b[0;34m)\u001b[0m\u001b[0;34m\u001b[0m\u001b[0;34m\u001b[0m\u001b[0m\n",
      "\u001b[0;32m~/miniconda3/envs/insight-dev/lib/python3.6/site-packages/sklearn/metrics/ranking.py\u001b[0m in \u001b[0;36mroc_curve\u001b[0;34m(y_true, y_score, pos_label, sample_weight, drop_intermediate)\u001b[0m\n\u001b[1;32m    616\u001b[0m     \"\"\"\n\u001b[1;32m    617\u001b[0m     fps, tps, thresholds = _binary_clf_curve(\n\u001b[0;32m--> 618\u001b[0;31m         y_true, y_score, pos_label=pos_label, sample_weight=sample_weight)\n\u001b[0m\u001b[1;32m    619\u001b[0m \u001b[0;34m\u001b[0m\u001b[0m\n\u001b[1;32m    620\u001b[0m     \u001b[0;31m# Attempt to drop thresholds corresponding to points in between and\u001b[0m\u001b[0;34m\u001b[0m\u001b[0;34m\u001b[0m\u001b[0;34m\u001b[0m\u001b[0m\n",
      "\u001b[0;32m~/miniconda3/envs/insight-dev/lib/python3.6/site-packages/sklearn/metrics/ranking.py\u001b[0m in \u001b[0;36m_binary_clf_curve\u001b[0;34m(y_true, y_score, pos_label, sample_weight)\u001b[0m\n\u001b[1;32m    401\u001b[0m     \u001b[0my_score\u001b[0m \u001b[0;34m=\u001b[0m \u001b[0mcolumn_or_1d\u001b[0m\u001b[0;34m(\u001b[0m\u001b[0my_score\u001b[0m\u001b[0;34m)\u001b[0m\u001b[0;34m\u001b[0m\u001b[0;34m\u001b[0m\u001b[0m\n\u001b[1;32m    402\u001b[0m     \u001b[0massert_all_finite\u001b[0m\u001b[0;34m(\u001b[0m\u001b[0my_true\u001b[0m\u001b[0;34m)\u001b[0m\u001b[0;34m\u001b[0m\u001b[0;34m\u001b[0m\u001b[0m\n\u001b[0;32m--> 403\u001b[0;31m     \u001b[0massert_all_finite\u001b[0m\u001b[0;34m(\u001b[0m\u001b[0my_score\u001b[0m\u001b[0;34m)\u001b[0m\u001b[0;34m\u001b[0m\u001b[0;34m\u001b[0m\u001b[0m\n\u001b[0m\u001b[1;32m    404\u001b[0m \u001b[0;34m\u001b[0m\u001b[0m\n\u001b[1;32m    405\u001b[0m     \u001b[0;32mif\u001b[0m \u001b[0msample_weight\u001b[0m \u001b[0;32mis\u001b[0m \u001b[0;32mnot\u001b[0m \u001b[0;32mNone\u001b[0m\u001b[0;34m:\u001b[0m\u001b[0;34m\u001b[0m\u001b[0;34m\u001b[0m\u001b[0m\n",
      "\u001b[0;32m~/miniconda3/envs/insight-dev/lib/python3.6/site-packages/sklearn/utils/validation.py\u001b[0m in \u001b[0;36massert_all_finite\u001b[0;34m(X, allow_nan)\u001b[0m\n\u001b[1;32m     66\u001b[0m     \u001b[0mallow_nan\u001b[0m \u001b[0;34m:\u001b[0m \u001b[0mbool\u001b[0m\u001b[0;34m\u001b[0m\u001b[0;34m\u001b[0m\u001b[0m\n\u001b[1;32m     67\u001b[0m     \"\"\"\n\u001b[0;32m---> 68\u001b[0;31m     \u001b[0m_assert_all_finite\u001b[0m\u001b[0;34m(\u001b[0m\u001b[0mX\u001b[0m\u001b[0;34m.\u001b[0m\u001b[0mdata\u001b[0m \u001b[0;32mif\u001b[0m \u001b[0msp\u001b[0m\u001b[0;34m.\u001b[0m\u001b[0missparse\u001b[0m\u001b[0;34m(\u001b[0m\u001b[0mX\u001b[0m\u001b[0;34m)\u001b[0m \u001b[0;32melse\u001b[0m \u001b[0mX\u001b[0m\u001b[0;34m,\u001b[0m \u001b[0mallow_nan\u001b[0m\u001b[0;34m)\u001b[0m\u001b[0;34m\u001b[0m\u001b[0;34m\u001b[0m\u001b[0m\n\u001b[0m\u001b[1;32m     69\u001b[0m \u001b[0;34m\u001b[0m\u001b[0m\n\u001b[1;32m     70\u001b[0m \u001b[0;34m\u001b[0m\u001b[0m\n",
      "\u001b[0;32m~/miniconda3/envs/insight-dev/lib/python3.6/site-packages/sklearn/utils/validation.py\u001b[0m in \u001b[0;36m_assert_all_finite\u001b[0;34m(X, allow_nan)\u001b[0m\n\u001b[1;32m     54\u001b[0m                 not allow_nan and not np.isfinite(X).all()):\n\u001b[1;32m     55\u001b[0m             \u001b[0mtype_err\u001b[0m \u001b[0;34m=\u001b[0m \u001b[0;34m'infinity'\u001b[0m \u001b[0;32mif\u001b[0m \u001b[0mallow_nan\u001b[0m \u001b[0;32melse\u001b[0m \u001b[0;34m'NaN, infinity'\u001b[0m\u001b[0;34m\u001b[0m\u001b[0;34m\u001b[0m\u001b[0m\n\u001b[0;32m---> 56\u001b[0;31m             \u001b[0;32mraise\u001b[0m \u001b[0mValueError\u001b[0m\u001b[0;34m(\u001b[0m\u001b[0mmsg_err\u001b[0m\u001b[0;34m.\u001b[0m\u001b[0mformat\u001b[0m\u001b[0;34m(\u001b[0m\u001b[0mtype_err\u001b[0m\u001b[0;34m,\u001b[0m \u001b[0mX\u001b[0m\u001b[0;34m.\u001b[0m\u001b[0mdtype\u001b[0m\u001b[0;34m)\u001b[0m\u001b[0;34m)\u001b[0m\u001b[0;34m\u001b[0m\u001b[0;34m\u001b[0m\u001b[0m\n\u001b[0m\u001b[1;32m     57\u001b[0m \u001b[0;34m\u001b[0m\u001b[0m\n\u001b[1;32m     58\u001b[0m \u001b[0;34m\u001b[0m\u001b[0m\n",
      "\u001b[0;31mValueError\u001b[0m: Input contains NaN, infinity or a value too large for dtype('float64')."
     ]
    }
   ],
   "source": [
    "hp_cv_res_acc_md_fa = afqi.fit_hyperparams_cv(\n",
    "    x_md_fa, y, groups[:40], bias_index=4000,\n",
    "    n_splits=10, n_repeats=3,\n",
    "    max_evals_per_cv=100,\n",
    "    score='accuracy',\n",
    "    trials_pickle_dir='./trials_classification/cv3x10_v2_rs42_scaled_accuracy_md_fa_only',\n",
    "    verbose=1, random_state=42, clf_threshold=0.5\n",
    ")"
   ]
  },
  {
   "cell_type": "code",
   "execution_count": null,
   "metadata": {},
   "outputs": [],
   "source": [
    "# hp_cv_res_auc = afqi.fit_hyperparams_cv(\n",
    "#     x, y, groups, bias_index=bias_index,\n",
    "#     n_splits=10, n_repeats=3,\n",
    "#     max_evals_per_cv=250,\n",
    "#     score='roc_auc',\n",
    "#     trials_pickle_dir='./trials_classification/cv3x10_v2_rs42_scaled_rocauc',\n",
    "#     verbose=1, random_state=42, clf_threshold=0.5\n",
    "# )"
   ]
  },
  {
   "cell_type": "code",
   "execution_count": null,
   "metadata": {},
   "outputs": [],
   "source": [
    "def print_results_summary(hp_cv_results):\n",
    "    template = '{stat:15s} {mean:7.5g} ({var:7.5g})'\n",
    "    test = [r.test for r in hp_cv_results]\n",
    "    train = [r.train for r in hp_cv_results]\n",
    "    test_acc = [t.accuracy for t in test]\n",
    "    test_auc = [t.auc for t in test]\n",
    "    test_aps = [t.avg_precision for t in test]\n",
    "    train_acc = [t.accuracy for t in train]\n",
    "    train_auc = [t.auc for t in train]\n",
    "    train_aps = [t.avg_precision for t in train]\n",
    "\n",
    "    print('Statistic         mean   (variance)')\n",
    "    print('--------------  ------- ------------')\n",
    "    print(template.format(stat='test accuracy', mean=np.mean(test_acc), var=np.var(test_acc)))\n",
    "    print(template.format(stat='test AUC', mean=np.mean(test_auc), var=np.var(test_auc)))\n",
    "    print(template.format(stat='test avg prec', mean=np.mean(test_aps), var=np.var(test_aps)))\n",
    "    print(template.format(stat='train accuracy', mean=np.mean(train_acc), var=np.var(train_acc)))\n",
    "    print(template.format(stat='train AUC', mean=np.mean(train_auc), var=np.var(train_auc)))\n",
    "    print(template.format(stat='train avg prec', mean=np.mean(train_aps), var=np.var(train_aps)))"
   ]
  },
  {
   "cell_type": "code",
   "execution_count": null,
   "metadata": {},
   "outputs": [],
   "source": [
    "print_results_summary(hp_cv_res_acc)"
   ]
  },
  {
   "cell_type": "code",
   "execution_count": null,
   "metadata": {},
   "outputs": [],
   "source": [
    "print_results_summary(hp_cv_res_acc_md_fa)"
   ]
  },
  {
   "cell_type": "raw",
   "metadata": {},
   "source": [
    "**Old Stats (cheating)**\n",
    "Statistic         mean   (variance)\n",
    "--------------  ------- ------------\n",
    "test accuracy      0.85 (0.017778)\n",
    "test AUC        0.91944 (0.0084028)\n",
    "test avg prec   0.93889 (0.0049074)\n",
    "train accuracy  0.99286 (0.00045918)\n",
    "train AUC       0.99796 (3.7484e-05)\n",
    "train avg prec  0.99834 (2.4661e-05)"
   ]
  },
  {
   "cell_type": "code",
   "execution_count": 19,
   "metadata": {},
   "outputs": [],
   "source": [
    "# print_results_summary(hp_cv_res_auc)"
   ]
  },
  {
   "cell_type": "code",
   "execution_count": 20,
   "metadata": {},
   "outputs": [],
   "source": [
    "import pandas as pd"
   ]
  },
  {
   "cell_type": "code",
   "execution_count": 21,
   "metadata": {},
   "outputs": [],
   "source": [
    "test_set_y_hat = pd.concat([\n",
    "    pd.Series(data=afqi.insight._sigmoid(cv.test.x.dot(cv.beta_hat)),\n",
    "              index=cv.test.y.index,\n",
    "              name='yhat')\n",
    "    for cv in hp_cv_res_acc_md_fa\n",
    "]).groupby('subjectID').mean()"
   ]
  },
  {
   "cell_type": "code",
   "execution_count": 22,
   "metadata": {},
   "outputs": [],
   "source": [
    "y_y_hat = pd.concat([y, test_set_y_hat], axis='columns', sort=True)\n",
    "y_y_hat['index'] = np.arange(len(y), dtype=np.int32)\n",
    "y_y_hat.sort_values(['class', 'yhat'], inplace=True)\n",
    "y_y_hat['sorted_index'] = np.arange(len(y_y_hat))"
   ]
  },
  {
   "cell_type": "code",
   "execution_count": 23,
   "metadata": {},
   "outputs": [],
   "source": [
    "import beeswarm as bs"
   ]
  },
  {
   "cell_type": "code",
   "execution_count": 24,
   "metadata": {},
   "outputs": [],
   "source": [
    "list_of_preds = [y_y_hat.loc[y_y_hat['class'] == 0, 'yhat'].values, y_y_hat.loc[y_y_hat['class'] == 1, 'yhat'].values]"
   ]
  },
  {
   "cell_type": "code",
   "execution_count": 25,
   "metadata": {},
   "outputs": [
    {
     "data": {
      "image/png": "[encoded data removed]",
      "text/plain": [
       "<Figure size 432x288 with 1 Axes>"
      ]
     },
     "metadata": {
      "needs_background": "light"
     },
     "output_type": "display_data"
    }
   ],
   "source": [
    "df_bs, ax = bs.beeswarm(list_of_preds, s=23, method='swarm', positions=[0, 0.05], labels=['Control', 'ALS'], col=['blue', 'red'])"
   ]
  },
  {
   "cell_type": "code",
   "execution_count": 26,
   "metadata": {},
   "outputs": [],
   "source": [
    "df_bs.rename(columns=lambda x: 'yhat' if x == 'yorig' else x, inplace=True)\n",
    "df_bs.columns\n",
    "df_bs.sort_values(['xorig', 'yhat'], inplace=True)\n",
    "df_bs['sorted_index'] = np.arange(len(df_bs))"
   ]
  },
  {
   "cell_type": "code",
   "execution_count": 27,
   "metadata": {},
   "outputs": [
    {
     "data": {
      "text/html": [
       "<div>\n",
       "<style scoped>\n",
       "    .dataframe tbody tr th:only-of-type {\n",
       "        vertical-align: middle;\n",
       "    }\n",
       "\n",
       "    .dataframe tbody tr th {\n",
       "        vertical-align: top;\n",
       "    }\n",
       "\n",
       "    .dataframe thead th {\n",
       "        text-align: right;\n",
       "    }\n",
       "</style>\n",
       "<table border=\"1\" class=\"dataframe\">\n",
       "  <thead>\n",
       "    <tr style=\"text-align: right;\">\n",
       "      <th></th>\n",
       "      <th>class</th>\n",
       "      <th>yhat</th>\n",
       "      <th>index</th>\n",
       "      <th>xnew</th>\n",
       "      <th>ynew</th>\n",
       "      <th>color</th>\n",
       "      <th>predicted_class_text</th>\n",
       "    </tr>\n",
       "    <tr>\n",
       "      <th>subjectID</th>\n",
       "      <th></th>\n",
       "      <th></th>\n",
       "      <th></th>\n",
       "      <th></th>\n",
       "      <th></th>\n",
       "      <th></th>\n",
       "      <th></th>\n",
       "    </tr>\n",
       "  </thead>\n",
       "  <tbody>\n",
       "    <tr>\n",
       "      <th>subject_034</th>\n",
       "      <td>0</td>\n",
       "      <td>0.000008</td>\n",
       "      <td>34</td>\n",
       "      <td>0.000000</td>\n",
       "      <td>0.000008</td>\n",
       "      <td>blue</td>\n",
       "      <td>Predicted Control</td>\n",
       "    </tr>\n",
       "    <tr>\n",
       "      <th>subject_040</th>\n",
       "      <td>0</td>\n",
       "      <td>0.000910</td>\n",
       "      <td>40</td>\n",
       "      <td>0.004653</td>\n",
       "      <td>0.000910</td>\n",
       "      <td>blue</td>\n",
       "      <td>Predicted Control</td>\n",
       "    </tr>\n",
       "    <tr>\n",
       "      <th>subject_028</th>\n",
       "      <td>0</td>\n",
       "      <td>0.001113</td>\n",
       "      <td>28</td>\n",
       "      <td>-0.004652</td>\n",
       "      <td>0.001113</td>\n",
       "      <td>blue</td>\n",
       "      <td>Predicted Control</td>\n",
       "    </tr>\n",
       "    <tr>\n",
       "      <th>subject_046</th>\n",
       "      <td>0</td>\n",
       "      <td>0.003852</td>\n",
       "      <td>46</td>\n",
       "      <td>0.009287</td>\n",
       "      <td>0.003852</td>\n",
       "      <td>blue</td>\n",
       "      <td>Predicted Control</td>\n",
       "    </tr>\n",
       "    <tr>\n",
       "      <th>subject_024</th>\n",
       "      <td>0</td>\n",
       "      <td>0.012169</td>\n",
       "      <td>24</td>\n",
       "      <td>-0.008987</td>\n",
       "      <td>0.012169</td>\n",
       "      <td>blue</td>\n",
       "      <td>Predicted Control</td>\n",
       "    </tr>\n",
       "  </tbody>\n",
       "</table>\n",
       "</div>"
      ],
      "text/plain": [
       "             class      yhat  index      xnew      ynew color  \\\n",
       "subjectID                                                       \n",
       "subject_034      0  0.000008     34  0.000000  0.000008  blue   \n",
       "subject_040      0  0.000910     40  0.004653  0.000910  blue   \n",
       "subject_028      0  0.001113     28 -0.004652  0.001113  blue   \n",
       "subject_046      0  0.003852     46  0.009287  0.003852  blue   \n",
       "subject_024      0  0.012169     24 -0.008987  0.012169  blue   \n",
       "\n",
       "            predicted_class_text  \n",
       "subjectID                         \n",
       "subject_034    Predicted Control  \n",
       "subject_040    Predicted Control  \n",
       "subject_028    Predicted Control  \n",
       "subject_046    Predicted Control  \n",
       "subject_024    Predicted Control  "
      ]
     },
     "execution_count": 27,
     "metadata": {},
     "output_type": "execute_result"
    }
   ],
   "source": [
    "df_yhat = y_y_hat.join(df_bs, on='sorted_index', rsuffix='_bs')\n",
    "df_yhat.drop(['sorted_index', 'sorted_index_bs', 'xorig', 'yhat_bs'], axis='columns', inplace=True)\n",
    "df_yhat['predicted_class_text'] = df_yhat['yhat'].map(lambda x: 'Predicted ALS' if x > 0.5 else 'Predicted Control')\n",
    "df_yhat.loc[df_yhat['yhat'] <= 0.5, 'color'] = 'blue'\n",
    "df_yhat.loc[df_yhat['yhat'] > 0.5, 'color'] = 'red'\n",
    "df_yhat.head()"
   ]
  },
  {
   "cell_type": "code",
   "execution_count": 38,
   "metadata": {},
   "outputs": [],
   "source": [
    "width=675\n",
    "height=600\n",
    "p = figure(plot_width=width, plot_height=height, toolbar_location='above',\n",
    "           tools=\"save\", x_range=(-0.0188, 0.065))\n",
    "p.y_range = Range1d(0, 1)\n",
    "\n",
    "source = ColumnDataSource(data=df_yhat)\n",
    "\n",
    "c0 = p.circle(source=source, x='xnew', y='ynew',\n",
    "              size=15, legend='predicted_class_text', color='color')\n",
    "\n",
    "l = p.line(x=[-0.0188, 0.065], y=[0.5, 0.5], line_width=2, color='black', line_dash='dashed')\n",
    "hover = HoverTool(\n",
    "    tooltips=[(\"Subject\", \"@index\"),\n",
    "              (\"P(ALS)\", \"@yhat\")],\n",
    "    renderers=[c0]\n",
    ")\n",
    "hover.point_policy = 'snap_to_data'\n",
    "hover.line_policy = 'nearest'\n",
    "\n",
    "p.add_tools(hover)\n",
    "\n",
    "legend = p.legend[0]\n",
    "p.add_layout(legend, 'right')\n",
    "\n",
    "p.xaxis.axis_label = \"Class\"\n",
    "p.xaxis.ticker = FixedTicker(ticks=[0, 0.05])\n",
    "p.xaxis.major_label_overrides = {0: 'Control', 0.05: 'ALS'}\n",
    "p.xaxis.major_label_text_font_size = \"14pt\"\n",
    "p.xaxis.minor_tick_line_color = None  # turn off x-axis minor ticks\n",
    "#p.xaxis.major_label_text_font_size = '0pt'  # turn off x-axis tick labels\n",
    "p.yaxis.axis_label = \"Classification Probability\"\n",
    "p.title.text_font_size = \"16pt\"\n",
    "p.xaxis.axis_label_text_font_size = \"16pt\"\n",
    "p.yaxis.axis_label_text_font_size = \"16pt\"\n",
    "p.yaxis.major_label_text_font_size = \"14pt\"\n",
    "\n",
    "output_html = \"../docs/img/bokeh_plots/classification_probs_mdfa_only_600x600.html\"\n",
    "if output_html is not None:\n",
    "    html = file_html(p, CDN, \"my plot\")\n",
    "    with open(op.abspath(output_html), 'w') as fp:\n",
    "        fp.write(html)\n",
    "# show(p)"
   ]
  },
  {
   "cell_type": "code",
   "execution_count": null,
   "metadata": {},
   "outputs": [],
   "source": []
  },
  {
   "cell_type": "code",
   "execution_count": 46,
   "metadata": {},
   "outputs": [],
   "source": [
    "width=175\n",
    "height=200\n",
    "p = figure(plot_width=width, plot_height=height, toolbar_location='above',\n",
    "           tools=\"\")\n",
    "p.title.text = 'Test split classification probabilities'\n",
    "\n",
    "p.y_range = Range1d(0, 1)\n",
    "\n",
    "source = ColumnDataSource(data=df_yhat)\n",
    "\n",
    "c0 = p.circle(source=source, x='xnew', y='ynew',\n",
    "              size=7, color='color')\n",
    "\n",
    "hover = HoverTool(\n",
    "    tooltips=[(\"Subject\", \"@index\"),\n",
    "              (\"P(ALS)\", \"@yhat\")],\n",
    "    renderers=[c0]\n",
    ")\n",
    "hover.point_policy = 'snap_to_data'\n",
    "hover.line_policy = 'nearest'\n",
    "\n",
    "p.add_tools(hover)\n",
    "#p.legend.location = 'bottom_right'\n",
    "\n",
    "p.xaxis.axis_label = \"Class\"\n",
    "p.xaxis.ticker = FixedTicker(ticks=[0, 0.05])\n",
    "p.xaxis.major_label_overrides = {0: 'Control', 0.05: 'ALS'}\n",
    "p.xaxis.minor_tick_line_color = None  # turn off x-axis minor ticks\n",
    "#p.xaxis.major_label_text_font_size = '0pt'  # turn off x-axis tick labels\n",
    "p.yaxis.axis_label = \"Classification Probability\"\n",
    "p.title.text_font_size = \"4pt\"\n",
    "p.xaxis.axis_label_text_font_size = \"8pt\"\n",
    "p.yaxis.axis_label_text_font_size = \"8pt\"\n",
    "\n",
    "output_html = \"../docs/img/bokeh_plots/classification_probs_acc_tiny.html\"\n",
    "if output_html is not None:\n",
    "    html = file_html(p, CDN, \"my plot\")\n",
    "    with open(op.abspath(output_html), 'w') as fp:\n",
    "        fp.write(html)\n",
    "# show(p)"
   ]
  },
  {
   "cell_type": "markdown",
   "metadata": {},
   "source": [
    "Using the hover tool on the chart above, we can see that subjects 05, 16, 19, 32, 35, 36 are all hard to classify (i.e. they are closer to the classification threshold of 0.5). We should fire up the AFQ browser and look at how these subjects compare to the rest of the subjects in their group.\n",
    "\n",
    "Here are links to a running instance of AFQ-Browser with the hard to classify subjects:\n",
    "- [False negatives](https://yeatmanlab.github.io/Sarica_2017/?table[prevSort][count]=2&table[prevSort][order]=ascending&table[prevSort][key]=&table[sort][count]=2&table[sort][order]=ascending&table[sort][key]=class&table[selectedRows][subject_005]=true&table[selectedRows][subject_016]=true&table[selectedRows][subject_019]=true&table[selectedRows][subject_030]=false&table[selectedRows][subject_032]=false&table[selectedRows][subject_035]=false&table[selectedRows][subject_036]=false&plots[checkboxes][right-corticospinal]=true&plots[zoom][rd][scale]=1&plots[zoom][rd][translate][0]=-3&plots[zoom][rd][translate][1]=-21&plots[zoom][fa][scale]=2.1140360811227614&plots[zoom][fa][translate][0]=-27.244995845837778&plots[zoom][fa][translate][1]=-106.10468474511174&plots[plotKey]=fa&plots[errorType]=stderr&plots[lineOpacity]=0.0)\n",
    "- [False positives](https://yeatmanlab.github.io/Sarica_2017/?table[prevSort][count]=2&table[prevSort][order]=ascending&table[prevSort][key]=&table[sort][count]=2&table[sort][order]=ascending&table[sort][key]=class&table[selectedRows][subject_005]=false&table[selectedRows][subject_007]=false&table[selectedRows][subject_016]=false&table[selectedRows][subject_019]=false&table[selectedRows][subject_032]=true&table[selectedRows][subject_035]=true&table[selectedRows][subject_036]=true&plots[checkboxes][right-corticospinal]=true&plots[zoom][rd][scale]=1&plots[zoom][rd][translate][0]=-3&plots[zoom][rd][translate][1]=-21&plots[zoom][fa][scale]=2.1140360811227614&plots[zoom][fa][translate][0]=-27.244995845837778&plots[zoom][fa][translate][1]=-106.10468474511174&plots[plotKey]=fa&plots[errorType]=stderr&plots[lineOpacity]=0.0)"
   ]
  },
  {
   "cell_type": "markdown",
   "metadata": {},
   "source": [
    "# Feature Importance"
   ]
  },
  {
   "cell_type": "markdown",
   "metadata": {},
   "source": [
    "Let's sort the features by their importance"
   ]
  },
  {
   "cell_type": "code",
   "execution_count": 47,
   "metadata": {},
   "outputs": [],
   "source": [
    "columns_md_fa = columns.drop(['ad', 'cl', 'curvature', 'rd', 'torsion', 'volume'], level=0)\n",
    "columns_md_fa = columns_md_fa.remove_unused_levels()"
   ]
  },
  {
   "cell_type": "code",
   "execution_count": 48,
   "metadata": {},
   "outputs": [],
   "source": [
    "feature_dicts = afqi.multicol2dicts(columns_md_fa, tract_symmetry=False)\n",
    "mean_beta = np.mean(np.array([np.delete(res.beta_hat, 4000) for res in hp_cv_res_acc_md_fa]),\n",
    "                    axis=0)\n",
    "\n",
    "var_beta = np.std(np.array([np.delete(res.beta_hat, 4000) for res in hp_cv_res_acc_md_fa]),\n",
    "                    axis=0)\n",
    "\n",
    "sorted_features = afqi.sort_features(feature_dicts, mean_beta)"
   ]
  },
  {
   "cell_type": "markdown",
   "metadata": {},
   "source": [
    "It's nice to see the top few features in a sorted list, but let's plot the features to get a feel for their distributions"
   ]
  },
  {
   "cell_type": "code",
   "execution_count": 49,
   "metadata": {},
   "outputs": [],
   "source": [
    "betas_by_group = afqi.beta_hat_by_groups(mean_beta, columns=columns_md_fa, drop_zeros=True)\n",
    "betas_by_group_var = afqi.beta_hat_by_groups(var_beta, columns=columns_md_fa, drop_zeros=True)"
   ]
  },
  {
   "cell_type": "markdown",
   "metadata": {},
   "source": [
    "First let's plot the coefficients themselves"
   ]
  },
  {
   "cell_type": "code",
   "execution_count": 50,
   "metadata": {},
   "outputs": [],
   "source": [
    "unfolded_beta = afqi.transform.unfold_beta_hat_by_metrics(\n",
    "    beta_hat=mean_beta,\n",
    "    columns=columns_md_fa\n",
    ")\n",
    "\n",
    "unfolded_beta_std = afqi.transform.unfold_beta_hat_by_metrics(\n",
    "    beta_hat=var_beta,\n",
    "    columns=columns_md_fa\n",
    ")"
   ]
  },
  {
   "cell_type": "code",
   "execution_count": 51,
   "metadata": {},
   "outputs": [],
   "source": [
    "unfolded_beta_with_err = {\n",
    "    'fa': unfolded_beta['fa'],\n",
    "    'fa_hi': unfolded_beta['fa'] + unfolded_beta_std['fa'],\n",
    "    'fa_lo': unfolded_beta['fa'] - unfolded_beta_std['fa'],\n",
    "    'md': unfolded_beta['md'],\n",
    "    'md_hi': unfolded_beta['md'] + unfolded_beta_std['md'],\n",
    "    'md_lo': unfolded_beta['md'] - unfolded_beta_std['md'],\n",
    "}"
   ]
  },
  {
   "cell_type": "code",
   "execution_count": 52,
   "metadata": {},
   "outputs": [
    {
     "data": {
      "text/html": [
       "\n",
       "\n",
       "\n",
       "\n",
       "\n",
       "\n",
       "  <div class=\"bk-root\" id=\"f02a8cf1-bbf6-4697-9db3-e4704c057edd\" data-root-id=\"3048\"></div>\n"
      ]
     },
     "metadata": {},
     "output_type": "display_data"
    },
    {
     "data": {
      "application/javascript": [
       "(function(root) {\n",
       "  function embed_document(root) {\n",
       "    \n",
       "  var docs_json = {\"61ffb29d-4106-48be-908d-5699cb7e4caf\":{\"roots\":{\"references\":[{\"attributes\":{\"below\":[{\"id\":\"3057\",\"type\":\"LinearAxis\"}],\"center\":[{\"id\":\"3061\",\"type\":\"Grid\"},{\"id\":\"3066\",\"type\":\"Grid\"},{\"id\":\"3074\",\"type\":\"BoxAnnotation\"},{\"id\":\"3075\",\"type\":\"Label\"},{\"id\":\"3076\",\"type\":\"BoxAnnotation\"},{\"id\":\"3077\",\"type\":\"Label\"},{\"id\":\"3078\",\"type\":\"BoxAnnotation\"},{\"id\":\"3079\",\"type\":\"Label\"},{\"id\":\"3080\",\"type\":\"BoxAnnotation\"},{\"id\":\"3081\",\"type\":\"Label\"},{\"id\":\"3082\",\"type\":\"BoxAnnotation\"},{\"id\":\"3083\",\"type\":\"Label\"},{\"id\":\"3084\",\"type\":\"BoxAnnotation\"},{\"id\":\"3085\",\"type\":\"Label\"},{\"id\":\"3086\",\"type\":\"BoxAnnotation\"},{\"id\":\"3087\",\"type\":\"Label\"},{\"id\":\"3088\",\"type\":\"BoxAnnotation\"},{\"id\":\"3089\",\"type\":\"Label\"},{\"id\":\"3090\",\"type\":\"BoxAnnotation\"},{\"id\":\"3091\",\"type\":\"Label\"},{\"id\":\"3092\",\"type\":\"BoxAnnotation\"},{\"id\":\"3093\",\"type\":\"Label\"},{\"id\":\"3094\",\"type\":\"BoxAnnotation\"},{\"id\":\"3095\",\"type\":\"Label\"},{\"id\":\"3096\",\"type\":\"BoxAnnotation\"},{\"id\":\"3097\",\"type\":\"Label\"},{\"id\":\"3098\",\"type\":\"BoxAnnotation\"},{\"id\":\"3099\",\"type\":\"Label\"},{\"id\":\"3100\",\"type\":\"BoxAnnotation\"},{\"id\":\"3101\",\"type\":\"Label\"},{\"id\":\"3102\",\"type\":\"BoxAnnotation\"},{\"id\":\"3103\",\"type\":\"Label\"},{\"id\":\"3104\",\"type\":\"BoxAnnotation\"},{\"id\":\"3105\",\"type\":\"Label\"},{\"id\":\"3106\",\"type\":\"BoxAnnotation\"},{\"id\":\"3107\",\"type\":\"Label\"},{\"id\":\"3108\",\"type\":\"BoxAnnotation\"},{\"id\":\"3109\",\"type\":\"Label\"},{\"id\":\"3110\",\"type\":\"BoxAnnotation\"},{\"id\":\"3111\",\"type\":\"Label\"},{\"id\":\"3112\",\"type\":\"BoxAnnotation\"},{\"id\":\"3113\",\"type\":\"Label\"},{\"id\":\"3114\",\"type\":\"BoxAnnotation\"},{\"id\":\"3115\",\"type\":\"BoxAnnotation\"},{\"id\":\"3116\",\"type\":\"BoxAnnotation\"}],\"left\":[{\"id\":\"3062\",\"type\":\"LinearAxis\"}],\"plot_height\":700,\"plot_width\":1150,\"renderers\":[{\"id\":\"3121\",\"type\":\"GlyphRenderer\"},{\"id\":\"3126\",\"type\":\"GlyphRenderer\"},{\"id\":\"3131\",\"type\":\"GlyphRenderer\"},{\"id\":\"3136\",\"type\":\"GlyphRenderer\"},{\"id\":\"3141\",\"type\":\"GlyphRenderer\"},{\"id\":\"3146\",\"type\":\"GlyphRenderer\"}],\"right\":[{\"id\":\"3157\",\"type\":\"Title\"},{\"id\":\"3150\",\"type\":\"Legend\"}],\"title\":{\"id\":\"3070\",\"type\":\"Title\"},\"toolbar\":{\"id\":\"3068\",\"type\":\"Toolbar\"},\"toolbar_location\":\"above\",\"x_range\":{\"id\":\"3073\",\"type\":\"Range1d\"},\"x_scale\":{\"id\":\"3053\",\"type\":\"LinearScale\"},\"y_range\":{\"id\":\"3051\",\"type\":\"DataRange1d\"},\"y_scale\":{\"id\":\"3055\",\"type\":\"LinearScale\"}},\"id\":\"3048\",\"subtype\":\"Figure\",\"type\":\"Plot\"},{\"attributes\":{\"data_source\":{\"id\":\"3117\",\"type\":\"ColumnDataSource\"},\"glyph\":{\"id\":\"3119\",\"type\":\"Line\"},\"hover_glyph\":null,\"muted_glyph\":null,\"name\":\"fa\",\"nonselection_glyph\":{\"id\":\"3120\",\"type\":\"Line\"},\"selection_glyph\":null,\"view\":{\"id\":\"3122\",\"type\":\"CDSView\"}},\"id\":\"3121\",\"type\":\"GlyphRenderer\"},{\"attributes\":{\"source\":{\"id\":\"3117\",\"type\":\"ColumnDataSource\"}},\"id\":\"3122\",\"type\":\"CDSView\"},{\"attributes\":{\"line_color\":\"#1f77b4\",\"x\":{\"field\":\"x\"},\"y\":{\"field\":\"fa_hi\"}},\"id\":\"3124\",\"type\":\"Line\"},{\"attributes\":{\"line_alpha\":0.1,\"line_color\":\"#1f77b4\",\"x\":{\"field\":\"x\"},\"y\":{\"field\":\"fa_hi\"}},\"id\":\"3125\",\"type\":\"Line\"},{\"attributes\":{\"data_source\":{\"id\":\"3117\",\"type\":\"ColumnDataSource\"},\"glyph\":{\"id\":\"3124\",\"type\":\"Line\"},\"hover_glyph\":null,\"muted_glyph\":null,\"name\":\"fa\",\"nonselection_glyph\":{\"id\":\"3125\",\"type\":\"Line\"},\"selection_glyph\":null,\"view\":{\"id\":\"3127\",\"type\":\"CDSView\"}},\"id\":\"3126\",\"type\":\"GlyphRenderer\"},{\"attributes\":{\"source\":{\"id\":\"3117\",\"type\":\"ColumnDataSource\"}},\"id\":\"3127\",\"type\":\"CDSView\"},{\"attributes\":{},\"id\":\"3165\",\"type\":\"Selection\"},{\"attributes\":{\"line_color\":\"#1f77b4\",\"x\":{\"field\":\"x\"},\"y\":{\"field\":\"fa_lo\"}},\"id\":\"3129\",\"type\":\"Line\"},{\"attributes\":{\"line_alpha\":0.1,\"line_color\":\"#1f77b4\",\"x\":{\"field\":\"x\"},\"y\":{\"field\":\"fa_lo\"}},\"id\":\"3130\",\"type\":\"Line\"},{\"attributes\":{\"data_source\":{\"id\":\"3117\",\"type\":\"ColumnDataSource\"},\"glyph\":{\"id\":\"3129\",\"type\":\"Line\"},\"hover_glyph\":null,\"muted_glyph\":null,\"name\":\"fa\",\"nonselection_glyph\":{\"id\":\"3130\",\"type\":\"Line\"},\"selection_glyph\":null,\"view\":{\"id\":\"3132\",\"type\":\"CDSView\"}},\"id\":\"3131\",\"type\":\"GlyphRenderer\"},{\"attributes\":{\"source\":{\"id\":\"3117\",\"type\":\"ColumnDataSource\"}},\"id\":\"3132\",\"type\":\"CDSView\"},{\"attributes\":{},\"id\":\"3164\",\"type\":\"UnionRenderers\"},{\"attributes\":{\"line_color\":\"#ff7f0e\",\"line_width\":3,\"x\":{\"field\":\"x\"},\"y\":{\"field\":\"md\"}},\"id\":\"3134\",\"type\":\"Line\"},{\"attributes\":{\"line_alpha\":0.1,\"line_color\":\"#1f77b4\",\"line_width\":3,\"x\":{\"field\":\"x\"},\"y\":{\"field\":\"md\"}},\"id\":\"3135\",\"type\":\"Line\"},{\"attributes\":{\"data_source\":{\"id\":\"3117\",\"type\":\"ColumnDataSource\"},\"glyph\":{\"id\":\"3134\",\"type\":\"Line\"},\"hover_glyph\":null,\"muted_glyph\":null,\"name\":\"md\",\"nonselection_glyph\":{\"id\":\"3135\",\"type\":\"Line\"},\"selection_glyph\":null,\"view\":{\"id\":\"3137\",\"type\":\"CDSView\"}},\"id\":\"3136\",\"type\":\"GlyphRenderer\"},{\"attributes\":{\"source\":{\"id\":\"3117\",\"type\":\"ColumnDataSource\"}},\"id\":\"3137\",\"type\":\"CDSView\"},{\"attributes\":{},\"id\":\"3163\",\"type\":\"BasicTickFormatter\"},{\"attributes\":{\"line_color\":\"#ff7f0e\",\"x\":{\"field\":\"x\"},\"y\":{\"field\":\"md_hi\"}},\"id\":\"3139\",\"type\":\"Line\"},{\"attributes\":{\"line_alpha\":0.1,\"line_color\":\"#1f77b4\",\"x\":{\"field\":\"x\"},\"y\":{\"field\":\"md_hi\"}},\"id\":\"3140\",\"type\":\"Line\"},{\"attributes\":{\"data_source\":{\"id\":\"3117\",\"type\":\"ColumnDataSource\"},\"glyph\":{\"id\":\"3139\",\"type\":\"Line\"},\"hover_glyph\":null,\"muted_glyph\":null,\"name\":\"md\",\"nonselection_glyph\":{\"id\":\"3140\",\"type\":\"Line\"},\"selection_glyph\":null,\"view\":{\"id\":\"3142\",\"type\":\"CDSView\"}},\"id\":\"3141\",\"type\":\"GlyphRenderer\"},{\"attributes\":{\"source\":{\"id\":\"3117\",\"type\":\"ColumnDataSource\"}},\"id\":\"3142\",\"type\":\"CDSView\"},{\"attributes\":{},\"id\":\"3162\",\"type\":\"BasicTickFormatter\"},{\"attributes\":{\"line_color\":\"#ff7f0e\",\"x\":{\"field\":\"x\"},\"y\":{\"field\":\"md_lo\"}},\"id\":\"3144\",\"type\":\"Line\"},{\"attributes\":{\"line_alpha\":0.1,\"line_color\":\"#1f77b4\",\"x\":{\"field\":\"x\"},\"y\":{\"field\":\"md_lo\"}},\"id\":\"3145\",\"type\":\"Line\"},{\"attributes\":{\"data_source\":{\"id\":\"3117\",\"type\":\"ColumnDataSource\"},\"glyph\":{\"id\":\"3144\",\"type\":\"Line\"},\"hover_glyph\":null,\"muted_glyph\":null,\"name\":\"md\",\"nonselection_glyph\":{\"id\":\"3145\",\"type\":\"Line\"},\"selection_glyph\":null,\"view\":{\"id\":\"3147\",\"type\":\"CDSView\"}},\"id\":\"3146\",\"type\":\"GlyphRenderer\"},{\"attributes\":{\"source\":{\"id\":\"3117\",\"type\":\"ColumnDataSource\"}},\"id\":\"3147\",\"type\":\"CDSView\"},{\"attributes\":{\"callback\":null,\"line_policy\":\"interp\",\"renderers\":[{\"id\":\"3121\",\"type\":\"GlyphRenderer\"},{\"id\":\"3126\",\"type\":\"GlyphRenderer\"},{\"id\":\"3131\",\"type\":\"GlyphRenderer\"},{\"id\":\"3136\",\"type\":\"GlyphRenderer\"},{\"id\":\"3141\",\"type\":\"GlyphRenderer\"},{\"id\":\"3146\",\"type\":\"GlyphRenderer\"}],\"show_arrow\":false,\"tooltips\":[[\"metric\",\"$name\"],[\"beta\",\"$y\"]]},\"id\":\"3148\",\"type\":\"HoverTool\"},{\"attributes\":{\"text\":\"Click on legend entries to hide/show lines\"},\"id\":\"3157\",\"type\":\"Title\"},{\"attributes\":{\"label\":{\"value\":\"fa\"},\"renderers\":[{\"id\":\"3121\",\"type\":\"GlyphRenderer\"}]},\"id\":\"3151\",\"type\":\"LegendItem\"},{\"attributes\":{\"label\":{\"value\":\"fa_hi\"},\"renderers\":[{\"id\":\"3126\",\"type\":\"GlyphRenderer\"}]},\"id\":\"3152\",\"type\":\"LegendItem\"},{\"attributes\":{\"angle\":1.5707963267948966,\"background_fill_alpha\":{\"value\":0.0},\"border_line_alpha\":{\"value\":0.0},\"text\":\"Cingulum Hippocampus\",\"text_baseline\":\"middle\",\"x\":550.0,\"y\":10,\"y_units\":\"screen\"},\"id\":\"3085\",\"type\":\"Label\"},{\"attributes\":{\"label\":{\"value\":\"fa_lo\"},\"renderers\":[{\"id\":\"3131\",\"type\":\"GlyphRenderer\"}]},\"id\":\"3153\",\"type\":\"LegendItem\"},{\"attributes\":{\"fill_alpha\":{\"value\":0.15},\"fill_color\":{\"value\":\"#F7B6D2\"},\"left\":600.0,\"right\":700.0},\"id\":\"3086\",\"type\":\"BoxAnnotation\"},{\"attributes\":{\"label\":{\"value\":\"md\"},\"renderers\":[{\"id\":\"3136\",\"type\":\"GlyphRenderer\"}]},\"id\":\"3154\",\"type\":\"LegendItem\"},{\"attributes\":{\"angle\":1.5707963267948966,\"background_fill_alpha\":{\"value\":0.0},\"border_line_alpha\":{\"value\":0.0},\"text\":\"Thalamic Radiation\",\"text_baseline\":\"middle\",\"x\":650.0,\"y\":10,\"y_units\":\"screen\"},\"id\":\"3087\",\"type\":\"Label\"},{\"attributes\":{\"text\":\"Feature weights in the \\\"unfolded\\\" brain\",\"text_font_size\":{\"value\":\"18pt\"}},\"id\":\"3070\",\"type\":\"Title\"},{\"attributes\":{\"label\":{\"value\":\"md_hi\"},\"renderers\":[{\"id\":\"3141\",\"type\":\"GlyphRenderer\"}]},\"id\":\"3155\",\"type\":\"LegendItem\"},{\"attributes\":{\"minor_ticks\":[0.0,900.0,1100.0,2000.0],\"ticks\":[450.0,1550.0]},\"id\":\"3071\",\"type\":\"FixedTicker\"},{\"attributes\":{\"fill_alpha\":{\"value\":0.15},\"fill_color\":{\"value\":\"#C7C7C7\"},\"left\":700.0,\"right\":800.0},\"id\":\"3088\",\"type\":\"BoxAnnotation\"},{\"attributes\":{\"label\":{\"value\":\"md_lo\"},\"renderers\":[{\"id\":\"3146\",\"type\":\"GlyphRenderer\"}]},\"id\":\"3156\",\"type\":\"LegendItem\"},{\"attributes\":{\"angle\":1.5707963267948966,\"background_fill_alpha\":{\"value\":0.0},\"border_line_alpha\":{\"value\":0.0},\"text\":\"Corticospinal\",\"text_baseline\":\"middle\",\"x\":750.0,\"y\":10,\"y_units\":\"screen\"},\"id\":\"3089\",\"type\":\"Label\"},{\"attributes\":{\"callback\":null},\"id\":\"3051\",\"type\":\"DataRange1d\"},{\"attributes\":{\"fill_alpha\":{\"value\":0.15},\"fill_color\":{\"value\":\"#DBDB8D\"},\"left\":800.0,\"right\":900.0},\"id\":\"3090\",\"type\":\"BoxAnnotation\"},{\"attributes\":{},\"id\":\"3053\",\"type\":\"LinearScale\"},{\"attributes\":{},\"id\":\"3055\",\"type\":\"LinearScale\"},{\"attributes\":{\"angle\":1.5707963267948966,\"background_fill_alpha\":{\"value\":0.0},\"border_line_alpha\":{\"value\":0.0},\"text\":\"Cingulum Cingulate\",\"text_baseline\":\"middle\",\"x\":850.0,\"y\":10,\"y_units\":\"screen\"},\"id\":\"3091\",\"type\":\"Label\"},{\"attributes\":{\"fill_alpha\":{\"value\":0.15},\"fill_color\":{\"value\":\"#17BECF\"},\"left\":900.0,\"right\":1000.0},\"id\":\"3092\",\"type\":\"BoxAnnotation\"},{\"attributes\":{\"formatter\":{\"id\":\"3163\",\"type\":\"BasicTickFormatter\"},\"major_label_overrides\":{\"1550\":\"Right Hemisphere\",\"450\":\"Left Hemisphere\"},\"major_label_text_font_size\":{\"value\":\"14pt\"},\"major_tick_line_color\":{\"value\":null},\"minor_tick_line_color\":{\"value\":null},\"ticker\":{\"id\":\"3071\",\"type\":\"FixedTicker\"}},\"id\":\"3057\",\"type\":\"LinearAxis\"},{\"attributes\":{\"angle\":1.5707963267948966,\"background_fill_alpha\":{\"value\":0.0},\"border_line_alpha\":{\"value\":0.0},\"text\":\"Callosum Forceps Minor\",\"text_baseline\":\"middle\",\"x\":950.0,\"y\":10,\"y_units\":\"screen\"},\"id\":\"3093\",\"type\":\"Label\"},{\"attributes\":{},\"id\":\"3058\",\"type\":\"BasicTicker\"},{\"attributes\":{\"fill_alpha\":{\"value\":0.0},\"fill_color\":{\"value\":null},\"left\":900.0,\"line_color\":{\"value\":\"black\"},\"line_width\":{\"value\":4},\"right\":1100.0},\"id\":\"3115\",\"type\":\"BoxAnnotation\"},{\"attributes\":{\"grid_line_color\":{\"value\":null},\"ticker\":{\"id\":\"3058\",\"type\":\"BasicTicker\"}},\"id\":\"3061\",\"type\":\"Grid\"},{\"attributes\":{\"fill_alpha\":{\"value\":0.15},\"fill_color\":{\"value\":\"#9EDAE5\"},\"left\":1000.0,\"right\":1100.0},\"id\":\"3094\",\"type\":\"BoxAnnotation\"},{\"attributes\":{\"axis_label\":\"\\u03b2\",\"axis_label_text_font_size\":{\"value\":\"18pt\"},\"formatter\":{\"id\":\"3162\",\"type\":\"BasicTickFormatter\"},\"ticker\":{\"id\":\"3063\",\"type\":\"BasicTicker\"}},\"id\":\"3062\",\"type\":\"LinearAxis\"},{\"attributes\":{\"angle\":1.5707963267948966,\"background_fill_alpha\":{\"value\":0.0},\"border_line_alpha\":{\"value\":0.0},\"text\":\"Callosum Forceps Major\",\"text_baseline\":\"middle\",\"x\":1050.0,\"y\":10,\"y_units\":\"screen\"},\"id\":\"3095\",\"type\":\"Label\"},{\"attributes\":{\"fill_alpha\":{\"value\":0.15},\"fill_color\":{\"value\":\"#DBDB8D\"},\"left\":1100.0,\"right\":1200.0},\"id\":\"3096\",\"type\":\"BoxAnnotation\"},{\"attributes\":{},\"id\":\"3063\",\"type\":\"BasicTicker\"},{\"attributes\":{\"dimension\":1,\"ticker\":{\"id\":\"3063\",\"type\":\"BasicTicker\"}},\"id\":\"3066\",\"type\":\"Grid\"},{\"attributes\":{\"angle\":1.5707963267948966,\"background_fill_alpha\":{\"value\":0.0},\"border_line_alpha\":{\"value\":0.0},\"text\":\"Cingulum Cingulate\",\"text_baseline\":\"middle\",\"x\":1150.0,\"y\":10,\"y_units\":\"screen\"},\"id\":\"3097\",\"type\":\"Label\"},{\"attributes\":{\"fill_alpha\":{\"value\":0.15},\"fill_color\":{\"value\":\"#C7C7C7\"},\"left\":1200.0,\"right\":1300.0},\"id\":\"3098\",\"type\":\"BoxAnnotation\"},{\"attributes\":{\"active_drag\":\"auto\",\"active_inspect\":\"auto\",\"active_multi\":null,\"active_scroll\":\"auto\",\"active_tap\":\"auto\",\"tools\":[{\"id\":\"3067\",\"type\":\"SaveTool\"},{\"id\":\"3148\",\"type\":\"HoverTool\"}]},\"id\":\"3068\",\"type\":\"Toolbar\"},{\"attributes\":{},\"id\":\"3067\",\"type\":\"SaveTool\"},{\"attributes\":{\"angle\":1.5707963267948966,\"background_fill_alpha\":{\"value\":0.0},\"border_line_alpha\":{\"value\":0.0},\"text\":\"Corticospinal\",\"text_baseline\":\"middle\",\"x\":1250.0,\"y\":10,\"y_units\":\"screen\"},\"id\":\"3099\",\"type\":\"Label\"},{\"attributes\":{\"callback\":null,\"end\":2000},\"id\":\"3073\",\"type\":\"Range1d\"},{\"attributes\":{\"fill_alpha\":{\"value\":0.15},\"fill_color\":{\"value\":\"#F7B6D2\"},\"left\":1300.0,\"right\":1400.0},\"id\":\"3100\",\"type\":\"BoxAnnotation\"},{\"attributes\":{\"angle\":1.5707963267948966,\"background_fill_alpha\":{\"value\":0.0},\"border_line_alpha\":{\"value\":0.0},\"text\":\"Thalamic Radiation\",\"text_baseline\":\"middle\",\"x\":1350.0,\"y\":10,\"y_units\":\"screen\"},\"id\":\"3101\",\"type\":\"Label\"},{\"attributes\":{\"fill_alpha\":{\"value\":0.15},\"fill_color\":{\"value\":\"#C49C94\"},\"left\":1400.0,\"right\":1500.0},\"id\":\"3102\",\"type\":\"BoxAnnotation\"},{\"attributes\":{\"fill_alpha\":{\"value\":0.0},\"fill_color\":{\"value\":null},\"left\":1100.0,\"line_color\":{\"value\":\"black\"},\"line_width\":{\"value\":4},\"right\":2000.0},\"id\":\"3116\",\"type\":\"BoxAnnotation\"},{\"attributes\":{\"fill_alpha\":{\"value\":0.15},\"fill_color\":{\"value\":\"#AEC7E8\"},\"left\":0.0,\"right\":100.0},\"id\":\"3074\",\"type\":\"BoxAnnotation\"},{\"attributes\":{\"angle\":1.5707963267948966,\"background_fill_alpha\":{\"value\":0.0},\"border_line_alpha\":{\"value\":0.0},\"text\":\"Cingulum Hippocampus\",\"text_baseline\":\"middle\",\"x\":1450.0,\"y\":10,\"y_units\":\"screen\"},\"id\":\"3103\",\"type\":\"Label\"},{\"attributes\":{\"fill_alpha\":{\"value\":0.15},\"fill_color\":{\"value\":\"#C5B0D5\"},\"left\":1500.0,\"right\":1600.0},\"id\":\"3104\",\"type\":\"BoxAnnotation\"},{\"attributes\":{\"angle\":1.5707963267948966,\"background_fill_alpha\":{\"value\":0.0},\"border_line_alpha\":{\"value\":0.0},\"text\":\"IFOF\",\"text_baseline\":\"middle\",\"x\":1550.0,\"y\":10,\"y_units\":\"screen\"},\"id\":\"3105\",\"type\":\"Label\"},{\"attributes\":{\"angle\":1.5707963267948966,\"background_fill_alpha\":{\"value\":0.0},\"border_line_alpha\":{\"value\":0.0},\"text\":\"Arcuate\",\"text_baseline\":\"middle\",\"x\":50.0,\"y\":10,\"y_units\":\"screen\"},\"id\":\"3075\",\"type\":\"Label\"},{\"attributes\":{\"fill_alpha\":{\"value\":0.15},\"fill_color\":{\"value\":\"#FF9896\"},\"left\":1600.0,\"right\":1700.0},\"id\":\"3106\",\"type\":\"BoxAnnotation\"},{\"attributes\":{\"fill_alpha\":{\"value\":0.15},\"fill_color\":{\"value\":\"#FFBB78\"},\"left\":100.0,\"right\":200.0},\"id\":\"3076\",\"type\":\"BoxAnnotation\"},{\"attributes\":{\"angle\":1.5707963267948966,\"background_fill_alpha\":{\"value\":0.0},\"border_line_alpha\":{\"value\":0.0},\"text\":\"ILF\",\"text_baseline\":\"middle\",\"x\":1650.0,\"y\":10,\"y_units\":\"screen\"},\"id\":\"3107\",\"type\":\"Label\"},{\"attributes\":{\"fill_alpha\":{\"value\":0.15},\"fill_color\":{\"value\":\"#98DF8A\"},\"left\":1700.0,\"right\":1800.0},\"id\":\"3108\",\"type\":\"BoxAnnotation\"},{\"attributes\":{\"angle\":1.5707963267948966,\"background_fill_alpha\":{\"value\":0.0},\"border_line_alpha\":{\"value\":0.0},\"text\":\"SLF\",\"text_baseline\":\"middle\",\"x\":150.0,\"y\":10,\"y_units\":\"screen\"},\"id\":\"3077\",\"type\":\"Label\"},{\"attributes\":{\"angle\":1.5707963267948966,\"background_fill_alpha\":{\"value\":0.0},\"border_line_alpha\":{\"value\":0.0},\"text\":\"Uncinate\",\"text_baseline\":\"middle\",\"x\":1750.0,\"y\":10,\"y_units\":\"screen\"},\"id\":\"3109\",\"type\":\"Label\"},{\"attributes\":{\"fill_alpha\":{\"value\":0.15},\"fill_color\":{\"value\":\"#FFBB78\"},\"left\":1800.0,\"right\":1900.0},\"id\":\"3110\",\"type\":\"BoxAnnotation\"},{\"attributes\":{\"fill_alpha\":{\"value\":0.15},\"fill_color\":{\"value\":\"#98DF8A\"},\"left\":200.0,\"right\":300.0},\"id\":\"3078\",\"type\":\"BoxAnnotation\"},{\"attributes\":{\"angle\":1.5707963267948966,\"background_fill_alpha\":{\"value\":0.0},\"border_line_alpha\":{\"value\":0.0},\"text\":\"SLF\",\"text_baseline\":\"middle\",\"x\":1850.0,\"y\":10,\"y_units\":\"screen\"},\"id\":\"3111\",\"type\":\"Label\"},{\"attributes\":{\"fill_alpha\":{\"value\":0.15},\"fill_color\":{\"value\":\"#AEC7E8\"},\"left\":1900.0,\"right\":2000.0},\"id\":\"3112\",\"type\":\"BoxAnnotation\"},{\"attributes\":{\"angle\":1.5707963267948966,\"background_fill_alpha\":{\"value\":0.0},\"border_line_alpha\":{\"value\":0.0},\"text\":\"Uncinate\",\"text_baseline\":\"middle\",\"x\":250.0,\"y\":10,\"y_units\":\"screen\"},\"id\":\"3079\",\"type\":\"Label\"},{\"attributes\":{\"fill_alpha\":{\"value\":0.15},\"fill_color\":{\"value\":\"#FF9896\"},\"left\":300.0,\"right\":400.0},\"id\":\"3080\",\"type\":\"BoxAnnotation\"},{\"attributes\":{\"angle\":1.5707963267948966,\"background_fill_alpha\":{\"value\":0.0},\"border_line_alpha\":{\"value\":0.0},\"text\":\"Arcuate\",\"text_baseline\":\"middle\",\"x\":1950.0,\"y\":10,\"y_units\":\"screen\"},\"id\":\"3113\",\"type\":\"Label\"},{\"attributes\":{\"fill_alpha\":{\"value\":0.15},\"fill_color\":{\"value\":\"#C49C94\"},\"left\":500.0,\"right\":600.0},\"id\":\"3084\",\"type\":\"BoxAnnotation\"},{\"attributes\":{\"angle\":1.5707963267948966,\"background_fill_alpha\":{\"value\":0.0},\"border_line_alpha\":{\"value\":0.0},\"text\":\"ILF\",\"text_baseline\":\"middle\",\"x\":350.0,\"y\":10,\"y_units\":\"screen\"},\"id\":\"3081\",\"type\":\"Label\"},{\"attributes\":{\"callback\":null,\"data\":{\"fa\":{\"__ndarray__\":\"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\",\"dtype\":\"float64\",\"shape\":[2000]},\"fa_hi\":{\"__ndarray__\":\"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\",\"dtype\":\"float64\",\"shape\":[2000]},\"fa_lo\":{\"__ndarray__\":\"lhta0KEscr9sbnF0sWlFvwAAAAAAAAAAv5wI9e8/Qb8AAAAAAAAAAAAAAAAAAAAA58YHSAqyM78W5SBnPLtDvxQPueIKyki/iwmMBiayYL98Mxpc1dJvv3A9TxXZ03i/LGRp48g+fr8ItRKa1Hd3vxO63u36kXS/T4ZYcMzZeL8wJNhnsmmQv6SzqY/pIqK/yVuwl3pMpL8IqPdYl7Civ+i1T35bN4m/9dvitdhraL+Ufa0n8Voyv/vhxlHjWVq/YN/p9SpTYb+XhNMS/ExjvywMjvlchGa/sIqllydObL/oLH7/L0Vwvw3aZYhxynG/2nrA67zuc79y/C3NTHx1vwhQSbOvs3C/S7i5JVfOYb/F/JvDG6xQv4DV0GdHy0G/Bkz2/2lzQr+HYLrgi8xPvyr46GKgTlq/SsToHRJmYb80uCuktNZhv+yXZ6fnwF6/hxQ+xrpmVb8YDpgVvBFNvzDj04mXuEa/Ql+es6/fN7+vXtTTDUkhvwAAAAAAAAAAAAAAAAAAAADWXyc6j6cyvxM2D7oou0W/HnFFwu4pTb+LXtf/ZC1Sv42xPjjCslO/9kvVmf0FXr8JhRuEaH1qv+Vf1qcocma/GC9qu+C6Wr8ZMjqfeUpbv84HsYXRZWS/o5LzywjMZr8E4O3iFh5evwAAAAAAAAAAsol0rv+w276E8nj6G7BKv2hiiV8JVV6/9AaphO8EY79yHA9XM9Blv5SYaAPuamO/tDnsx+vIXr+66N45eB9Yv1KlHpXbgFq/jhkoIiquYb+P6JMFCyJgv1x4coAwxlS/bzLiFb9vOr+QagZXOvFRv7bwti4OPFu/zWrg+GvTW7/upu9PPalhv/piJNPvfF+/3tEMwBkwYr/F+LqfRQNpv3rHj2mjSGi/aknNFfuxa79SzMB/NxRtv0xzB+OnmGK/ufFeJSezXb/uT6v6b1JTv5jnC7XWnxO/z2LNBZi2Hr8i0jbLFG9Yv2qVGlGCula/FNCNZj3KT7/3yjtC2apBv+0aIf07SDC/N050VdfpSb9o5G68UqhzvyDVS3G+K0O/VjmbV3pCP7+4MxNOhsR4v0Vyh+jgNXu/3Czdwyx5eL+53JyaUJ11v48r4avle3O/sN5Hl2CheL/I2HwP8uB7v74CHPzXf3e/SexV/A91aL802zFpFz9ovzRVsBcfcYC/mlFxT2ykh7/cZDqUoyGKv9yTLxpAQJK/4tT7yZe6mb/uJuozNLOhv6B/+K4tu6e/MsqgquoCsL98aCrawAWzv5eCdqVC07K/XvilwAZKrb8EW16mzkeivwLTheknl5e/On4vEVE/ir89x/c3Vwhzv10nA+BpIGW/rGL1pV/ccL+AXmnZ9OwwvwAPhwAW0Fy/TEo/A8HSZL88njEZALZmv1SKd+bgzlS/8uej4IZBaL9SwO/vxk6Iv/BzuwJh3pW/LTFLlrlqpL+Yn4d+Ysasv5C3JmbfGrC/Itdcvb09rb+lZv6ZVlCrv+ozRroPoaO/3Ll2jm6amL8uUUYgp6eOv07ldDkQzYC/9we2Z/I+dL/3GIr/oYFsv8jo8F5B4Ga/QLVYFdqyar/ml69DQ15uv/6hD/I7G26/Jr7cB+gVZb8wHnnuKOhmv6i3xrnYTVy/oPePrumlNb9E6qnihTFqv4R2lpxZYHa/E/wRS7Zleb8EJ8wVKN91v7L71YlX3HO/2bhRDZpgc7+APMEHVadxv0kcwiIpsmy/R407O0ZaZb+y7ERnnrtivxYkaGPA0mO/dq5y9FMJaL+muTL2sJptv95HBP+Sd2u/MCDCoXDBbr/wlm9FmuJcv3B5Zphu312/JvhTjofZdb+j7OifJ9h9vxJkMBqxDoW/ME8oD8oHnr+TjJGmGNeov7aspLMba7K/5uSk99RXur+OhKL6yHfBv6IWVOKMzMe/xKosBFIozL/ulETT5CrNv+rRVVpDGsa/Jv37GW14vb/+ayMhrJe4v5DbFMEDX7e/PqztPkgMub8ghLBSspW9vz1cqnSTnsO/GkHu8g1Kx7/100cnGXvAv1g9hRRZbLK/FUrkFvm5sb9zhJNWtq6yv2O+B3fRK7S/pqGr0hJjrb/FsF3rx2Sjv5F9OEmAi6G/uvuhLiQ5g78KXZQU87uMv1PThd7pDW+/3nehBdyrjb8jGnjvED2Nv9gXGCQTtI2/qMP+5w78hb93qD68C7aBvzEIbh+7H4K/yALBU/yIg78egpjSbfeCv7BW1FuHMX2/pVmhIR0lab+jJUz4fGZRv/A17aRh70q/jipQYD6dZL9SYal6ymx0v6rx7RXGFHu/MhylrCxRd79ZhFManpxzv0mM9OZYA26//doHgi1gZr+kh/xzT/Vfv/+gcZjgrU+/HBVQnULlGr8opTtQuBdpvyPuQCs75Ha/RplGsEdSdr/B6tr4yk5wv0pgMygjuGm/ysSQ2snIYb9dpH1nn5VRv22CoIjg8Ey/aNMh3xmnSL+jAMTxvwZGv4cLvwCHMkW/1IEMutmcRr9SZk9RU19Jv6iAiNtbeU2/cISEEERCVL+DS2GmbJZcvzwDo6WElWK/Drix1SRgZr9B21YS2L9ov+Hqxa5NUme/yUX5yvukY780Po0Dswpgv3EImKnFyV6/+388V4raY79a1WhL4rxrv7WXGBLPTG6/G2TVnW8obb85H7x+3XRqvwJFdjBlGm6/iDtEbiRBd7/a+j80ycF8v9dv8qs6kXy/WI4inCVOfL/+OuumWAR9v+tbG8FTDne/+1qOBXuEab841vuHyntQv442NHqAnDq/2rcaUHj2Q78Av57WKAJQv2zn0HuHLVS/tEnZZINOVr/NvFqLDa9Wv1g82wbvkVa/Tm4qgeJpWL9pfgUN9P1av4449M7xQl2/aShv67z+W78DkOuOwHlXv2iWh+teUnG/uMP15b85gr/0adcUtVuMvwlFkuxs/JK/+gtTNlgPlb+6pJZ3lemTv0nnua9X+pC/qcjnHufUjb8ijAZGqKuNvw4xceCB446/MpnepXnskL8USGMHhkKSv0u6dSqba5O/rIHsKB2sk7+7wYdYTgiTv3cAk47bV5K/LFk+aijrkb94uwc0g4eQv9T3eq6N54y/DBsTIT2AiL/pe8Q8D1KEv5F+BHJijYC/2QjXYksmfb9tAtfkB5hxv0vjWxcoXl6/55YsfQyyYr8tl2RVD7VAv/lslDGR+Vi/eLTRHYb2dj+OpPqjD46bPzqEO61seJ4/5kHhI7BEmT+gvB+9SqBJv8qJ/ISHt3G/MphLvEuger8gCoV6bUeHv/DQ+rEXOZK/rVK8NYU1kr/Zu/32JnGEv2bseobmaXK/r9jWiyoYZr/nS19MJCFyvxwmT/RZpnG/0FQMfNwbWb+kOuLBw7d1P3BTy6BMjG8/LLZL58Vscz/gC2yldmFSPwyspPrQgGC/cCQO/14LZr/AaZ3OTa5lv4z9BclINma/0qNiRF9SZ78LVirhtfRrv2iNr8c1bmq/ECxzZrvnYr+8ykK6K4Nhv0DLWC5Go2K/kJlMKoPyWL94rZI6tghUvyjK2FOr3Vq/iOrYrHVyXr/ADyjevi9ev9D6oppE0WY/pgLcZDBojD+AkV187Bd8P+DkkB6VoFI/cG0ggungTL+Ab4L3RwBCv8i9I2SPFm8/xIXFWMNEhz+nesRi2fCQPx9jZcNQa5o/Fu7btADfoz8NC7vm4EKmP6PSrEgXMqU/O+xfbbpFpj+exOsW1fmoP6xw6Lf3Yag/9pm0e5+epj9o5Y+T7YChPym976ZLCZg/QNZ1JsHKjT/YdOXjBx9/P/jKYpwGu2o/QFbPU0HCOb+Q1VyF42Nxvy7udDplI3C/jn51BZNpbL9KLt4VRFxrv+7pgyHgXGu/WoIBwrEjar/ALZGoDi9cv8Bgz1+E4DW/4AArguxHWz9gxWg+EohpP6ALiYBfYnU/dIDZxZqLfD/szleCVdp9P7yusS5xNXI/YH8asjBFUT/4kx22Didiv+YkummZY3O/mFuFkaHlcr/gAeeKp3pcv/BLyNdXe24/yBYZCH25bj/IFwIspTB4P0AkQgib2nw/qFmldBUcbD9Ap1QOlA0iP39KtDL4EWq/0bdPKNdiUL/6Vi/pLAN7v8+jnJDfRpm/zjwOXm63p79q5GfwqHCzv0opaBB8D8O/4BfGI17Qwr/Cd+2YdYi0v/U7JZfuA6G/w0q7byjlWL8kxCLI6QVqv4B9r+jGj16/QHn9kT34VL8YM2bq+/tbvyhzbs9+l1i/SLGll9VCXL/g2H+xwfs9vwAAAAAAAAAAAAAAAAAAAAAAAAAAAAAAAAAAAAAAAAAAAAAAAAAAAAAAAAAAAAAAANuKJaNpFRG/YKPJrVCdP7+iIQ/MucdHvwAAAAAAAAAAAAAAAAAAAAAAAAAAAAAAAAAAAAAAAAAAAAAAAAAAAAAAAAAAAAAAAAAAAAAAAAAAAAAAAAAAAAAAAAAAAAAAAAAAAAAAAAAAAAAAAAAAAAAAAAAAAAAAAAAAAAAAAAAAAAAAAAAAAAAAAAAAAAAAAAAAAAAAAAAAAAAAAAAAAAAAAAAAAAAAAAAAAAAAAAAAAAAAAAAAAABLh/SLJzxTv8FUlnXfQ16/4NPzRoMVYL9bh7VTccFfvwL8wslPKHC/dVVCtHIucL+OkZZM+9tlv2dsxFWe/GW/IPxspgQ1Yr8AAAAAAAAAAAAAAAAAAAAAAAAAAAAAAAAAAAAAAAAAAAAAAAAAAAAAAAAAAAAAAAAAAAAAAAAAAAAAAAAAAAAAVMk/fzy0S78AAAAAAAAAAAAAAAAAAAAAAAAAAAAAAAAAAAAAAAAAAAAAAAAAAAAAAAAAAAAAAAAAAAAAAAAAAAAAAAAAAAAAAAAAAAAAAAAAAAAAAAAAAAAAAAAAAAAAAAAAAAAAAAAAAAAAAAAAAAAAAAAAAAAAAAAAAAAAAAAAAAAAAAAAAAAAAAAAAAAAAAAAAAAAAAAAAAAAAAAAAAAAAAAAAAAAAAAAAAAAAAAD3okHgWNOvwCcmYAB3Ey/AAAAAAAAAAAAAAAAAAAAAAAAAAAAAAAAAAAAAAAAAAAAAAAAAAAAAAAAAAAAAAAAAAAAAAAAAAAAAAAAAAAAALJn2rEq5Um/AAAAAAAAAAAAAAAAAAAAANu7EyoY5mK/StVqmCexer+e7snFVIl5vwKeApYf1Cm/AAAAAAAAAAAAAAAAAAAAAAAAAAAAAAAAAAAAAAAAAAAAAAAAAAAAAAAAAAAAAAAAfSiI9KRxQ79ojL8ceGRHv/myIZlpPl6/wEeJm+qXYb8AAAAAAAAAAAAAAAAAAAAAAAAAAAAAAAAAAAAAAAAAAAAAAAAAAAAAAAAAAAAAAAAAAAAAAAAAAAAAAAAAAAAAdSKCajy4Vr9IeRmiOdRkv8phZX+exWa/rqsHmOEVZ79onhOwESVivyw+77JNPFO/AAAAAAAAAAAAAAAAAAAAAAAAAAAAAAAAAAAAAAAAAAAAAAAAAAAAAAAAAAAAAAAAAAAAAAAAAAAAAAAAAAAAAAAAAAAAAAAAAAAAAAAAAAAAAAAAAAAAAAAAAAAAAAAAAAAAAAAAAAAAAAAAAAAAAAAAAAAAAAAAAAAAAAAAAAADiJqTIYeDvyY2J4C3o4C/AAAAAAAAAAAAAAAAAAAAAAAAAAAAAAAAAAAAAAAAAAAAAAAAAAAAAAAAAAAAAAAAAAAAAAAAAAAAAAAAAAAAAAAAAAAAAAAAAAAAAAAAAAAAAAAAAAAAAAAAAAAAAAAAAAAAAAAAAAAAAAAAAAAAAAAAAAAAAAAAAAAAAAAAAAAAAAAAAAAAAAAAAAAAAAAAAAAAAAAAAAAAAAAAAAAAAAAAAAAAAAAAAAAAAAAAAAAAAAAAAAAAAAAAAAAAAAAAAAAAAAAAAAAAAAAAAAAAAAAAAAAAAAAAAAAAAAAAAAAAAAAAAAAAAAAAAAAAAAAAAAAAAAAAAAAAAAAAAAAAAAAAAAAAAAAAAAAAAAAAAAAAAAAAAAAAAAAAAAAAAAAAAAAAAAAAAAAAAAAAAAAAAAAAAAAAAAAAAAAAAAAAAAAAAAAAAAAAAAAAAAAAAAAAAAAAAAAAAAAAsN95h56Nv+Tpk0oka5C/PpX5wI70iL+OtaJSMzF4v/jaOD7Brgq/AAAAAAAAAAAAAAAAAAAAAAAAAAAAAAAAAAAAAAAAAAAAAAAAAAAAAAAAAAAAAAAAAAAAAAAAAAAAAAAAAAAAAAAAAAAAAAAAAAAAAAAAAAAAAAAAAAAAAAAAAAAAAAAAAAAAAAAAAAAAAAAAAAAAAAAAAAAAAAAAAAAAAAAAAAAAAAAAAAAAAAAAAAAAAAAAAAAAAAAAAAAAAAAAAAAAAAAAAAAAAAAAo50VLGBqY78/HMqBcj5zv8/hTYO9Nnm/aMmP982JTr8szbh8069uv14t5xCFAIS/rNNGAFlTeb9wg5nH4Ox9v2jfR6Ixmna/hyP5aIu4eL9YZfKl8wBkvwAAAAAAAAAAzJsag9WgA78KCCBz6mIYv4RnDNwwShi/Zi+fwu+BEL9mtX6Nh3ozv5tp+XRrn0C/o/+ACxEIQr81SjiYBRZFv0JPf5o6iEm/cQhPftADSb/LjpMw80hHv1SC+DT3L0O/JAA3zZ/+Ob8ev9DYRukyv4Jravor9DK/TtiIkuVzKr+WvRCtsAcdv6rLGHDRjRC/rnAutT8ZGL91QgYV6CIkv2+PK6oYODC/Ye6wlmCNNr+5uhGhfXRav31uRw32dWW/F0b4+WeDUL8+M6wnufAnv3TgeYInjRK/AAAAAAAAAAAAAAAAAAAAAJRSWQkXYi2/hEnuojT2N79ij/a6oFQ7v5A7rNinw02/kIRimLa0Vb872IP3oh5Vv/6jx2pXSE6/rtNyyaMYUL/3fktiSYpgv/Y/AsrmtHK/GovckmF1dL/Kt6ZQsFptv4XkfP06F1i/Itetl8tWNr8VK+Bda/Izv21LuZ9/QTq/7LasYjKBO7/qvrjeJlQ8v7F902b1vju/o4abfJMWOb8U3xHpkm04v/pyPyZRGj+/wuJCZt/tQr9wHNHnY/xFv9WcdsZGO0W/hgoxvfCTQb9W6dTSy8A/v9JON2E2fT+/NP7eLkUMP7+fOe/86jU8v9U/lQETkzi/uxi9KgnOOL8K3FaujK1Bvy4ml7+Q61S/itb4iHI7Yr/PurytsvZ1v7ib7USK7H2/rqc2NVnpcb+aar2nc/Bwv0K+NSC9/2W/tSqKKaeIW7+hZn93qt1Xvw4FaZuz7E6/69zONlrFQL+Rvvw4FaZBv1f+QMNJTT+/SsLutbWcYb86bos3dmNqv8hQqmEb23K/iFQkD4Uter+t4UkWinF7v0j9oy8Lx3i/7k5mgChsdL8giHsB5ulrv6CKs4YrPV+/OG6TGbSPWL9uuMvJwZlbv0Sba3SGiGK/GTOaTsOVa79TxOE5bBxwv070I8ixR4C/2IR7NSIhj78FMnV8uINev/abp1Wvp1q/8NUyZk2eXr+le1cxmWZiv4wngsG1z2K/ttp5AMnuYb/qeVBeGDtYv8QWd1wUuEG/8qqbVIg5Qb80/I2kjT5VvxpmVbTG4Fa/9BjUHVmUUr8CQEwbHhxGv+7KVU4QgjW/p1t8GqsOIb+y+RpLPR5Av8K/CWVc/Vq/hFAyESRNc7+RgK6ntKmFv0gCH2bRc4+/uLHn+3Dqkr9j5pcsgA+TvwibvJcPvZS/XJa3g3AHmb/AHFPSjtKbv+Y4b1Gnepe/pv2coNrckb+ayaO7NBeRv5Uec8N6v5K/0bDpaM73lL8VKVY6ZP2Tv9MN3g/AapG/CIJzc8q+j7/0GFCYJNOLvy8B4WIQAYi/p7vq6W7Xh79p/c9XRpiKv/QnK9Qsso2/DM1vc1DNjb94nSemLXmKv5fFKfhZ84i/qoYrGZ7Wib+wLxwGhoKMvwssteOkO4+/sRpQePy3i79aIT7IEuWAv2hHp2OVumy/pF1tLsrHWr9empEoYoZWvw79hUml7VW/sHGYtLj0Ur+eHCbB8ztOv8eDyuyc9Um/WGKoVitQSb+y3O7pA4ZOv3l13mlMhVa/BrXkjweZX7+IcnVZFCFkvzcIZcAbUGm/OtrRbjKYbr9W8eZBTGVxv83KuNdk5XK/xnvE4xEPdr+yxH2jPUl4v9z6ihZ6Mna/TV9+4gpndL+KjZ+uO3Fzv0QK1puIZXG/bvBscwwcbb/rZAgtQ/Nov4CwGricqGW/tgHYXpGMZb/2q7cE3DppvzywKzyhiWy/pWtOrYq7bL8TUzeTxG9qvwvuZ7NKVGW/XZVcp9kUX79Ulw9qTVRbv2+62P246GC/ThwJfQrwar+4xzdqLTlqv6qTXX47t12/8mulQ9yiRr8AAAAAAAAAAHxgJKKdzSC/VJyl7n5sLL9eczS/uLEFv+AtzDMaefC+hdY4GVCZWb9Ri2Lj7Bd0vz6pc9XWXoG/iBs59OF3g79GWR6SHRt2v0TvhMlD1kW/8jXknCB3Db/IJM6KZlMQvwAAAAAAAAAAQgoPo8xiZ788IpGq02M7v6izEZ7UG4O/LLOWew+3R7+T7AfnrHI8v/0D616Hs46+V4U4irfEMr9Ej2VrmiJBv+xYVr3MZVu/wXI2Y9RGcL/2isBEOzRxv2lQ5B/TBHC/tCvEV87ta79Cj1oyvWdev+0et0cyiEi/QMAlk8qKX79OujKc/RFjvzTlZKVPRmm/Iju7X/uEVr/PF1aOptVYv4pkCPNunlm/bNdSIfmxXL8tu+G7Urxwv19Z1lYxMJS/CuOprlf0kr9UfIcF7eV2v5hD7hMaFnO/xBYsn3BQcr9k4T08sXdsv4DbkVy9X12/3G3kzSTuYL88TcL/iThfv0hEoqT3k16/5KnHLr9/Xr8uAfTEBsFdv5zrdGmafl6/KBScrLOxW78czBXlNTRZv3Bpmv6s7lW/Mhq01XzPVL+LQAd2WTtRv2pmM0ove0+/URGO4XEbVL8GEdQAtX9Xv7VQ/X53LFe/peo3WXs8U78JluUoVzJQv1DCY3QQMk+/7qu1bXXeUL9ynZuoQMxOv16rUMWdNky/JvfF3iNJSb9xnPigAZhBvxv3Cu2v5CS/+HR8yjr5H7+o6KYYOLwtv5JcL60oYT+/VY4dqWJ8R7+WEnruidRQvzw6qT8zPVW/zz42AlDYVr84gsR3RMtav1wyE2sGN1y/Pq1S6Fr8WL/tZFftwVVTv46H1jzW+06/4G6Axnp7T7/gGqwslZlPv0kLiEx4Fky/0IUUjD9wS7/Ore/ieX1Tv/Cyp74Y5VS/qHc7PK13U7/d/XfC7QhZvziKMGX3gV6/RoYlN4iPXb/EhYP25D1av7p9M6JX+Fe/vq3D9RBRV79abr7sctlZv3nZNw92QVy/6zEtUB/LXr//IOvvssJgvydSVNU4aWG/3AhChZcvYL9k08jiUZVgvyRHcZLTbHi/HCmc8adKfL8Y/pa+BINjv+TvS8OdRWK/CFuRyfd3eL+8wF1so7Rnv8VBFCZd+GC/TtNojD0TWb+KBV4k9NxMv8iJIHshWRe/+JpnPDSmUL+XYhHpysFRv9819hO9cFK/lbm3nf9ASb9ejfRHwUBXv+rg00tr0F+/wrgXL1KzZ79dIu5wk1Vpv0G/QEY7XVK/kJwSx2SMSL/nzf4GSzlGv5QTTAhaXkW/caBMyjx3Rr9NLb5IxmJSvygOXA+5W2G/0g77f21tcL/EZg93N4Jxv5J6/fLMdW2/vqxvUP1wYb8w7MP4et0Xvw/+kqjkBwG/AAAAAAAAAAAAAAAAAAAAAAAAAAAAAAAAU4Ah5l9hy74cBZiDSxxmv+CZhMHbu3q/X4YQvwmWgb+KgMNCJsSCv35sUVv37YC/9JqL4M+Kfr/MyevNN5p6v5rjgSh56ne/BEB0MYukcr/0unscUWBov2Y0w2DeLVy/Zohne+E6Ub8guC17FtREv8Mwcy+MDzq/FLATJtk0OL+W6OJw8KJAv+5jp1pmBkS/EN681KNGU78jy7VnXvZcv/iHpl3PLmO/VeCVkefWar9B2CmeDztnv2rfCZFTLmC/TWzQEyz7U79nlsBodtk/v/Sh+P2Tpj+/SKL9EBXJUL9QsvVf4PFVv7xAMfaNrVe/75WaA3f/Wr9yhx4utmpevwQUZCxKIV2/HDPHw6vGVb/UiUFgzO0/vwAAAAAAAAAAAAAAAAAAAAAAAAAAAAAAAAAAAAAAAAAAAAAAAAAAAAAAAAAAAAAAALiCVqQClgW/HidNFV75M7+afV22Ti1Av/M6PwVD50K/dAU3dAI4Rb8UttC2FY1Ev/EmsQOkc0C/W45jjTikN7+UNvzZEG81v48P+Pkm9Da/XPTcv3yLOr+hmNggRTZTvzxya2pvr2u/HlfBXqiPdL/AjF6WdYh3v6oObpi+IHy/zlzpgFJ1hr8mH0vRM9yLv/zH9KKipIS/vgdzy/qter9DnYChzI1+v4eNg7U2kXW/qWj8HhNsZ7/SmG1UB19Av24ILSNutyO/AAAAAAAAAAAAAAAAAAAAADW+MQs+Ayy/WlAHZhF8M7+FLRUV3g4pvwAAAAAAAAAAAAAAAAAAAAAAAAAAAAAAAAAAAAAAAAAAl653nePgHb+lyDWnH+Esv9KHbMw0tEa/YjDQ530yWr8Ycfnm4hFqv58nLUqViHm/DPVecy8mfr/NoAsm9fZQvzqiXBAev0q/cBayO7r+SL8wAXlpqgJBv/R4BWPUzke/IuHFrB7XVr/eC+g2T+lZvyTRQ9ek11O/6C7a33e0Sr8nYFVchs9Wv2QPhbf3qmC/WJdt29YZXb/YMgwNL29Zv4hvFGiEE1G/TIY/WThIar+QlbnzCedWv0DwO0eX8GK/6Ne44giKZb8ik88A2flmvwM1ykcS72W/4C2NEq8PY78anc/xkppgv+7nbWOKMly/AjdipdisWr9440lNUKJcv1iBz5iVv16/YGnrx0qCXr905aQNGs1av/TJ/09diVi/KAos8G/cVL/UtlchstNNv7gVXG4kSUS/CPkUXp6VR79M0X8iVl9Jv4xAP4a3Bk6/tB52I7WVTr+sjuk/n4BIv1jNNLrRSke/zG2UnrcESr9kSSzOgxROv0BBqa2SNUy/dOhW/OrITr/WRRK+EXBQv1RxmQDunVO/eL86T8eqUL+I1Nsek95Svyie8pM85EG/UIDG/bQ8Sb+YdrW0CVFOvygir7icRlS/zNZkZVgoaL9evnKjEAp1v+gjjEzg1Ea/xJGFr/34UL8A9nP55TkWv0DjLDUl9Ri/3INNE3hGUr+s7u4li0BTv2BOIelDIEy/BouRv9OtQL9GbvUgJBlpv5ILNx4ho4O/hDYR8da9g79yF4uwMxV/v8PHr+QSm3S/MiBIRFlfa79sRDmCd2liv2x+By680WO/x1G3YnsgX79UYS4kdbRVv4EqxrX56zW/PlYsxNKUHr/TSMVwl3s9v/nTEOX6RUC/YtJN9C/WMb8OomyrG3gqv5DKApJppUK/B0fCu7gOU7827/tzXvFRv1st/f4EhUK/tRohXJ5mQL/o9T6Kx29YvzmUE+e7YV6/Wc/u/+btXL/fgI3J0+hZv2c5x2aX2Fm/IYymgCNYXL8eKpVdlhJcv40/D87YUFS/iWMaupbCSr/e66SoTiFCv2YOQJ3DyUO/LBj3IR7XPr9Cq2WoNAxAv/THmX5kmWG/VIjM8BNdYL/WAo1KzJKmv7/rpLkvMam/NEzRZLFAc7+s9MExi3lPv8kV/91/NaO/XJBngsrlcr9mQQXCEt1xv6wkNLUlv2e/JJM0zUrFV7+xMhXFhNVLv7C24NO5OBm/8ZOssWhwQ7/a/tIrLmUhv/dcRU9iEkC/5vzmbW1AT79w5VTdagZMv6rWA4MH3Um/OpSGGNTSQ7+uUYthV6xBvyTSb9Vj00i/7bPMO/xVVb+49NbWSSlXv90XCxataVW/Tn9cJ4T/Wb8tc+CUU+lcv+AOniQEa2G/UHvFXZR2ZL9SN4Plf1pqv+rrkgaoKmu/Uzz9/qkPa7+com10zkJuvxNfg7vqx3K/0h9YCCpgdb9pJh4VRHZ3v1jWUzw6zHe/nITgaWBId7/Mystp/QB0v5z4YjQGWXG/AC7sX1xsZb9nilW7NCNgv6BxzXQfaGG/EHCeyOkJaL9ovlwef09sv966niOG+mq/FFtrL3EgaL8GAYo8uEhjvwQrS7nByV6/LuXmfc0KWb+0sK3R+flWv3d/TDpCf1W/Fm7A0T5TWL82HKvSIwxgvx6hEe6lb2S/rGwK0F4LZ79m0j8LW/Vsvw5peY2A2m+/pCrip5R3cL8/H6VoZ35wvxKwk+MwA22/7PzSZ4jDaL9Wl++yD8xpv5CJYUc/NGm/9LRSlrUkab8mZ93CLXNrv1BfqKrICmy/KI9EGdB9aL/OtW5vSdxjvxPmm27KcWG/fMa59LwLY79zI1jS/pZjvzhIE6You2C/nERR5QzBU78gvSiT3xVFv0/W5B4xVTO/vV0EiY9DTr/WgvEyGf9Pv2nfL9uBvES/NJHJP48gSr/qdaE+1nNXvz+znoJIHFC/foDgT8tfV78ggRam9WZhv/SCU/a24mq/20FvXXBWbr9sSiy52IFuvyZ2o1mTZnK/qBZdtVwNdr/EYHmmFnZov4CXPVSIUUW/nwurqnlVTr/Quuu0vEFqv/2lFOgqU3G/ztc1JtenbL8JenKtxYRhvzqFNqfh3UK/dfwVlQOALL9/XDYmCM5Zv+SPDV0GwWq/uhDInuc0Z7+4X2sLLGpMvxYPcoRB6Uy/1/fYhU3hRr8qSAKbk75cv8ZpYFxoEHW/coXSS5/qjb/r/yVQKjuWvwSZpghtvKC/eN6Hq1OLlb+c6EuRPz6Mv3jqMKJ8Spa/ajH8SuP8qb+SGKHW/J2zv7xfLL8FlbS/igeKyOo7rL+5UjbqC2CevwDhWJ1m2Iq/ojmW1hw9eb84JMxaTANsvwk6x0ftJXO/Ew4UynYqeb+wZmLJPQF9v2wPGgi24XW/oHUytCsEZ79vlsEeDhBlv1baKECPJ4i/g+LGW2x3lL+vye8UxbOXv5CV/HMXsZu/Gya6u7uopL/fEJQh/2msv45D2rXB2bO/kLEE8wHAuL+j+PoAvM/Av7b5iSDpDMe/6xXx32W1yb+QH1nUyN3KvzDNa27Ifs+/Kxqxs44N0b9PCCwDmATRv1BW1TqjVdC/b6kNnczwzb/GK1qFUQbOv4ZgIVMyi9C/klAJ7TMo0L8UJGdwCA3Pv//qPeTjrc2/OOm76CFNy7+ISeuh8eLJv58eEQg3Ise/0654LzNowr9h0MhdekjAv2AHa3KE976/dpqXa8Ohub8/d62c/6u4vwphOLc5XLm/QK+6Xqkps7/ugSjbitmrv5zKL+MRqqW/KuvcAYJBpb+EpHUvEziov2Ibn/kzbqq/t0R8TuGUrb/KxOELLdWxv3TT2CvQM7O/mUwHR4VssL8b45Z78Uiov66w4kk3C6i/vhwDEI/Nrb9SdqaZ4JCyvyOUjQ+25Li/10cjJIWNvr9RRog2GVrCvy4ZRVu6Ssa/PuPyz9o/w7+KBUTFp32/v6xwiS4a/Lu/yoSH0tvZtb8OyDmLvWiwvz8PvSFCCK2/xj0vFWR0q7+E2QnIP2Onv/jGMGsBQ6K/4SqJRf/vk78weRrh/yaCv0dtDGY453a/oBucannhfL/5GGKtHZOMv+ojRlUWVKO/FjyAyUBftb+VfMQiPjfBv1CCY8CT+sS/x5x/cIgCyb+yFJ1Ko0TMv3vaH+/Ckcu/IBs/9xhGxr/2a5We2l/Bv3SWzL58LL+/M5kgCZc3vr+obLN9wPW3vzdeAys7saO/UmXL6K3Mfr9A49fYvlKGv86BX9x0MKC/wtj7SSHYfr+CKlzNl+Vxv/I2bfmvmmW/Nns2XLvjWL82x8gXumFLv2o0yITbeBG/+lj1xUxnU79bZVYQQJBjv2YM2EubNW6/M18Ie0uhdb9J0MhPWU1yv8pGrY9LfWi/p60XWT1lY78m1rHiEzFgvzBDOkPRVVq/CKqGCOhjVb+VPKtl8UJTvyv+TOGJbFK/IO1CGZ1bUL+6JYhstwFNv+WE0xOODEi/sB3WO6yRQr/iWRmftc1Av8qUdW+K2z2/d0uEFJWKMb8AAAAAAAAAAGr1VOeTLyu/fsYZspOmNb9jg6kOvyo1v7QJFP/RsDG/OVFYnrBUKL+ezeaDmXwov75UqINIGzG/WL+d7yQ1Ob/nQwFBGOZBv4U8gFbAuEW/Dl8km0TFSL8qlt6yrZJNv6jJIciIuFK/xAT7LhgmVb8siVXJTG5WvyIQwYIOqla/hsxvJEv1V7+Kd4/IoJBYv0VYiOw0VVW/TaLvdKgbUb/jdK2X43BNv0g2ddddBUe/F2+dnm03Nr/ocENZex4uv7IpPh0Sz0q/PX+dGCa5YL/i4DUK7V5rv0p/M/U6g1u/xiV2maveVL8hWfvF2mtTv7osDXUdnky/TuN8YujfR7/yzeeDJGdEv506TJ7xmze/rg4HuOheML/dbhlXmnY+v3LDLj53c0e/rOuC4MvRTr9Q0W03UQdNv1KQ0eQ9GEy/7yhkLRY0VL8Dz640LUhRv3vbGyoXECW/iYDnmiVLML+ZtKiFUoozv7VgdAwQKSO/8i8hGgV1EL/iLNlTzr4mv5a01dZC0TS/6lc96RlrPr9VwKSF4eNLvwilZh2En1S/6EdGHvazZb/Svn2FnkFyvzgBvH6bN3K/qpM+XMCpXL800HPwk5hZv9ah+I7gn1e/LnJFn6M+Vr90TNHTHPFVv2FKshwYAle/90fdR+IPVr8lzJo79oxTv5wSZohXWlK/tbUN7ZbZUb9ELyU2/3NQv9qGIsCXzEy/9vivcdXLSL8s6tYqutZDv/cWdnNp7Te/lcnrFZhnJr8YfNWPvLwxv4LOu590Yz+/WmorB8OyPb8qe3/UYy1Bv6fCltZhOmG/ppb1opqpW7/miSkwkJBfv3WQ2LDicWK/P+nLQOeOYb9qp4yr47phvx1tpEyfj2W/OHlIsyVTbr+K2/v6T89vv0pDODES/Wu/tFmatRwjcb++wO2MLrJpv8uJuAOGy2q/ClpqWx/yZr8YIYXHaOVhv9nnfjNZt2C/5zyae7HsZb8+09dCdTBjv7MXy9+u0FS/nD9s0IduYL9Wdt+INftiv42Syps+d2O/hix1SNWHZb/W4SE7mgtnv2ztD5liC2W/bcCWLHtgZL8dDgQlN25gv5EzVgcN3lS/EdO02chHRL+xBSAH7IAvv4St4zjCajC/oyaRo5sfNb/6QkLOgftAv8AVbYzmIFK/ShHnxjiTZr+RYUOTCTJ8v66DQw4LNIy/DSCFmwQrj79pxUznXEKGvzf0MgmeyH2/0hF8ycADer/ufcSyPzN/v/1e1kjCGIK/jyTZT25Ag78WCTLGUhSCv1AsDn3ObnW/VL3boByjZ79+i04Fgk9yvzihE/plVYW/8MNxo0X0jr9qt17yjPyKv37dVHkI/oe/yqvFyooPkL+/tYf/fvqav0Qw2GWrkpq/xL/cLttilL9g3qVJ7ASKvzo7T4qbtYG/vO0unysxe7/aw5M/vjB4v5ncNZ9OmXa/tf1lvYioc7+e/qVmx+Vjv+BioU2gXmS/3mvpI0kybr8lkne+g0Nuv7mQBgHsYm2/igdVv/xca7+wYKEna59sv0mCHAlqlmi/a9iUZqZtZr8rWKnC0phwv39hVD3vF2u/7fga1nGCab+gRI5nQut2v85ocH0jq4K/UkRj6MEsiL/RT4AQoseNv4HEo5wZ0ZG/B+jjw5+Lkr+nypp/sPCRv1msrDUVXpC/4AyLhBdgjr+k5uxbkVGOv4y3P3YP4pK/6i8Ea0ztmr/oPUwUl0Okv9QPDYI/4KS/ODnlVHlvor8ztLPYvh6av9ImG88eCJa/+IuqeWnMlr9iejcRdmOZv/Cei4RI6Jy/C8ZuRiylnb9urO4yPTSTv/SvSPgfLJO/akmZlvy1l79URIhmm/uSv/jjOjD6GXK/NkiV+2XqIL8P6tJ6r6czv3TowO+STEW/nBcIuQZZSr+r/p0LWXlAv9QF9aXB9BO/AAAAAAAAAAAAAAAAAAAAAAAAAAAAAAAAAAAAAAAAAACStFRenxgCv93xf6Z2tDC/2gxY55kOQr/G1LjpfQ5Ov8KvDhLiDlq/OUR8bDsVhb9iZNVJuxWNvwQU3l8/+oy/cSt8rNMrh7/+DqtAPt5qv6pvJnGqN1W/GidviIMqUb+UB9rfDfJMv4wWCITdzEO/+nQSJGxQOb9tyPT6kZoxv3Qy39X2NxO/AAAAAAAAAABtKCCeUO7Rvn5TAQV8aDK/2tSBwuj0N78Fhb9UWMQ+vwwc4gufgkK/A2ycq4MsRr+d6DgxYJ9Kv8N1e5uC5E2/JHHgUb7oTb+OcEvjAyNMv5rQZJK/Rku/mSjwUWj0Tb9YNwynMrdPv516YmGLoE2/CcZ8x8NnS7/t7jPZoYdGvxrgGhApkkC/dLFvAnfBOL8kCf1/zk0vvwAAAAAAAAAAAAAAAAAAAAADFpbPRwQ8v361aXerXVK/8M26t3P4Xb/BaNxfP1Vgv8K7HRJtRFm/eU8AEnx2WL/bmiEjv9Nav55PCBgjEVm/NXr+cgFeSL8PfjLy+hUlvzCApTxHnSu/IOhM5fKrI78AAAAAAAAAAAAAAAAAAAAAAAAAAAAAAAAAAAAAAAAAAAAAAAAAAAAAAAAAAAAAAADA4BMQJP9dv3Q3ekSWpmu/Ervb/fmOaL+eSQDRi35UvyycjXgcL/O+1ah8IjNRy74Rw+9kcJcGv8ZeI8GI6ii/hG/JafkOPL/HyyCOuRA2v0MWLi584DG/2DrD6awyTr8mmWUvqsUwv3El0M4zhQy/AAAAAAAAAAAC7BOjvYv/vgInFn1GdyO/o5BzuOGPLL9qfXQUlLMzvzNDphsC7SG/AAAAAAAAAAAcZ4LRI0EEvxBBpxI44Dm/3D++J4/KlL+czobED7mRv2j84ioNIUC/JIoBNOfrL7/XTrF2cUfzvn4ufaQwwNC+XIdfnpvI9L5OR8VYgv3gvgAAAAAAAAAA7yhjOFazNr8AAAAAAAAAAAAAAAAAAAAAzfJdLp6aPL8AAAAAAAAAAAAAAAAAAAAAAAAAAAAAAAAAAAAAAAAAAAAAAAAAAAAAAAAAAAAAAAAAAAAAAAAAAAAAAAAAAAAAAAAAAAAAAAAAAAAAAAAAAAAAAAAAAAAAAAAAAAAAAAAAAAAAAAAAAAAAAAAAAAAAAAAAAAAAAAAAAAAAAAAAABTiBvCXGVe/WOD8eBN+fL/mXH8ALat9v5DO4tgntW2/XrUznhcUW7//Jip8eXhpv8al/7OZ3Gm/nMD+iYm9a79mrphEkYpqv3xL+UheDli/AAAAAAAAAAAAAAAAAAAAAAAAAAAAAAAAAAAAAAAAAAAAAAAAAAAAAAAAAAAAAAAAAAAAAAAAAAAAAAAAAAAAAAAAAAAAAAAAAAAAAAAAAAAAAAAAAAAAAAAAAAAAAAAAAAAAAAAAAAAAAAAAAAAAAAAAAAAAAAAAAAAAAAAAAAAAAAAAAAAAAAAAAAAAAAAAAAAAAAAAAAAAAAAAAAAAAAAAAAAAAAAAAAAAAAAAAAAAAAAAAAAAAAAAAAAAAAAAAAAAAAAAAAAAAAAAAAAAAAAAAAAAAAAAAAAAAAAAAAAAAAAAAAAAAAAAAAAAAAAAAAAAAAAAAAAAAAAAAAAAAAAAAAAAAAAAAAAAAAAAAAAAAAAAAAAAAAAAAAAAAAAAAAAAAAAAAAAAAAAAAAAAAOtijo/S/BG/d9x6UFAvvr4AAAAAAAAAAAAAAAAAAAAAAAAAAAAAAAAAAAAAAAAAAAAAAAAAAAAAAAAAAAAAAAAAAAAAAAAAAAAAAAAAAAAAAAAAAAAAAAAAAAAAAAAAAAAAAAAAAAAAAAAAAAAAAAAAAAAAAAAAAAAAAAAAAAAAAAAAAAAAAAAAAAAAAAAAAAAAAAAAAAAAAAAAAAAAAAAAAAAAAAAAAAAAAAAAAAAAAAAAAAAAAAAAAAAAAAAAAAAAAAAAAAAAAAAAAAAAAAAAAAAAAAAAAAAAAAAAAAAALjdZOO7eSb/wruLk3NJQv6YOP9XnimO/AAAAAAAAAAAAAAAAAAAAAMZjXwVilGe/PxHg4uZpcL8ABZrjmahvv6ThQXtwqW6/LwwX3zwpVr8KIPiUrBNHv0wK5HprK1S/VCY2cGlWXr8oOybVzqlsv5X3Fqr/xIC/MbUuTozuab+OYko9HxNgvy4Rf0JM4EC/AAAAAAAAAAAAAAAAAAAAAAAAAAAAAAAAAAAAAAAAAAAAAAAAAAAAAAAAAAAAAAAAAAAAAAAAAAAAAAAAAAAAAAAAAAAAAAAAAAAAAAAAAAAAAAAAAAAAAAAAAAAAAAAApE0k2nieHr+mJ+zMZiNivwIcUdzdfnW/9/y1+uGJeb/GcAhwc+t2v9fu22b4VHK/k2OjwZH2YL/MuVR5jvE+v83bnsCvaQS/AAAAAAAAAAAAAAAAAAAAAAAAAAAAAAAAAAAAAAAAAAAAAAAAAAAAAAAAAAAAAAAAAAAAAAAAAADT329JebACvxJghqBkMzC/HYQdMI0/Qr9XaJY5S4BIv56ksEnxckW/8ryx9LKTOL9UzJtVFu4tv+VVOaBRui2/6P0XOdJYMr+CFVTyosU3v8TzcY5Kkz+/Xr2LZrKXQ79Gj2BgdtxGvwRlJoJ7fkm/xJXjQlOhTL8WdeSoAttLv7845ncRl0e/oICg8NocQr/CHXvmi5A0vwAAAAAAAAAAAAAAAAAAAAAAAAAAAAAAAAAAAAAAAAAAAAAAAAAAAAAAAAAAAAAAAAAAAAAAAAAAAAAAAAAAAAAAAAAAAAAAAAAAAAAAAAAAxpFBaCZXTr/W30cSkaJkv8hZxmGBhlG/AAAAAAAAAAAAAAAAAAAAAAAAAAAAAAAAAAAAAAAAAAAAAAAAAAAAAAAAAAAAAAAAAAAAAAAAAAAAAAAAAAAAAAAAAAAAAAAAAAAAAAAAAAAAAAAAAAAAAAAAAAAAAAAAHuIOu8s6IL90oFvBTMhLvwAAAAAAAAAAAAAAAAAAAAAAAAAAAAAAAAAAAAAAAAAAAAAAAAAAAAAAAAAAAAAAAAAAAAAAAAAAAAAAAAAAAAAAAAAAAAAAAAAAAAAAAAAAAAAAAAAAAADr1Bz+JM5Ov+2fmKcWlVK/5jdzFoMGa7/aZDsoZjJsv2rfqHly+mq/jOC2G0RkX7+MdKTU53lbvy/7+0LN2GC/ApTleqGuYL8nfPLjcw1iv4QR30Fb22G/2/o0kRDhYr+PC6FrQEBjv5wH3S8ycWS/TzCxEGjaZ7/CEBd2LFtyv8iKHL583X6/QPxjHBSShL/G5ixq1cSEv3zwVGFEvIC/WDgR4GwGeb+XI3irzT9yv8RXu0MmI2i/WGhifMmnXL+U9R0hIpdQvx3tw2/Xajy/u3yLkrusNb/itB5HwtpCvy7xoj3eXki/t07Q4itJTb97WKaygThSv+3thUSaJFO/+dzHIiEXXL+QjR8lO7Jmv4vP5FFChm6/I4wEGirhcL8e1/rE9RVxv2oK6+/uZG+/b97B2B0Mar/CRzb1FUVmv9j4FvlrbWO/w/41OHzxX78SypfmAdZVvyyndCFK5Um/CLUl6+DfVL8IfRcEjuxgvxnznUKkOma/6/UHJpi1ab+ax5gfRZ9vvy5bNaQLSm+/yjF7Otfwar/6IPqsHFVqv7qT8xCFTGq/WTtUcUI6Zb8736C1k4Zcv6sIvidLzVa/Rs9puKbMVb+zXal6NwlWv76Vs7A2nFm/F+KgG0dLW7/PYsDQ28pbv7vFS8ayH1+/fnfctsPkY78qWgXk4GNnv2xsdZKI5my/HIaaOBZYbL9swMckPHNtvzc33ZqSA2u/Fy+JXzwvaL9krAncnOlhv27++8PtJ06/lNJXE3cEWL9K6aGh+od5v/q5MzrXr4O/2u+DyAhTh796UDvu+8OIv9beWHlsMou/2hDeMXhrjr+rCjNgV9eRv/108y6jk5W/8nxmJCfEm7/sQBm2hQOgv9aYqnuV7Z6/MOMzranBmr9c3uKpVkWUv7cR+lA9cY+/qwzN+v+gi7+SIs3O/1aIv7LgiQCFkoK/9G0IeQ9beL8r8Rzk9Mxsv0GZYTFBnGC/JNF/ek+4Vr/wCBa6wylLvxYYpyQPFle/EfYGRoxxab+M+xV4dbxxv3gAjLQYcXG/hrgPFvVAcL9WoMFT9jtov/UF3hJn6nG/KtUxJ+b4Ub9U8V8wkZePv6pk3382qFS/wOISZwOWUz/AEkvWUPlZvwAYumFrB/c+uGiXAf2yez9g5YE5qJVpv943s8p5YHC/DsPiMnj6c7/pS6vDn4Bzv41P2XTB/m6/P/cR1q7/cr/eFeOIYZiJvw7UUUiWWJW/ecwXF8/xob9DWvSMnBWxvzdqSCDxyLW/HnymQkexvL8l2j0jWtayvy9InNGbFbW/BpFXvzB1s7/WymYK+S+vv2Z31T+YKK2/bpDBqH2drb9QCryqVXGlv3z8QSyN9pK/25oBCqMhfb/yrDy9mo5wv6B05d3jgnO/Jpi20fLCcr+W0su4PoBwvxx3DEg83my/Uf0Jwe4sab8eeaY/0FNtv/1OlpG3N3e/FMFRzbY8er9PB6Jrirh/v0r0VAY8Lny/3T2IhHtXdr9xu65juZJxv/7OD1Rf1my/TrYOmplrY7/jsFIiT7ZyvxqsD0H55Hq/YFB7qyBTcr8AWJPOdzzlvuRWX/08qo4/NjmFyXvDmT9btUGgctmjP6E1u1nRf6Q/lCpb/Mnwlz+i9GFE1N+PP7hJkIP8b3A/AD/bVpa/Ur/Y21VXOCdhvw0vjcBFa2u/DDjBddNYZ7/yhk7dUtBbv32neoFxuW+/ydLP5GP6gr+MJBjTrw6EvwbquPScX3y/jsl2UXhEgL9ZoVmSPbSDvzuRTW5uloi/6A7/kVAeg78kYp+jRZlyv8z/s9Cim2y/uNIf84tBbL8lPGziUHFqvw50SqO0X2O/Jgffj5UgYr9U2lBuO4VnvzAn99Njn2q/BCwsWiCBaL8AzIx1i5lQP8DAUl9fBE0/QGv2vcRISL+AQM3HeyBDv0D+DtW/BU+/UIsIBZbgYL9uBXUkuTtsv6wVB5NTeWa/zgOD1oVqY79sEpzeEPdcv/jeK5I8kkS/ag5NK0H2Xb8IDjxXDeRwv2yDqLkOCHC/tpebhrpoZL8R8jXa5qSEv35zNfG6WoG/pVhfp0ymhL/Vv9MRAC+Ev5mpil4w/oa/lGOlPStOib/JlAFcj2J+vwZi8wsPfm2/7bS632QRWr/pvHgPpyxnvw==\",\"dtype\":\"float64\",\"shape\":[2000]},\"md\":{\"__ndarray__\":\"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\",\"dtype\":\"float64\",\"shape\":[2000]},\"md_hi\":{\"__ndarray__\":\"Za+SKDPyez9y0XE0UJ2eP5dpOTdPgZM/afdP6YLAiD+tTs9kbGyNP6M80Fe1FqI/IY5lYa9MtD/TyIg9YoyxP0mAz4b0R6A/GC9vpt4UlT/0nlQ2rvmWP42+wawt6Z4/pvAz03+qnD/3DPx6DJGTP3Tx+w7nLok/ICv1DLEwkT/bVPq6M+yhP+YgT89QYKc/qPD2DinWoD9IwduF8B+XP+eHW/45sYY/Zu8MVY9SOD+kRLJA05hRP9oLCv420Vc/tv5X7ipWRz9YBHGD/CY6P1DHCiMtVFk/OFgj2IDzaj/GysU374BxP7AlHE8gG3I/6piLTm5hcD/DX1XZHXpvP/7dBVefGm4/vuZWIHzzZD+HIg4JbahcP/BJl9ES610/jhrA4lK8Yj+OaDsewL1pP2m5W2tqdnA/zp+MVIKPcz+OHLzej8pxP4og1FuiVnM/3F8Rkx1rbD/WzOrmqHRnP8T33rrZomc/5Op/OTInZj8k25PsmxJgP0KeX9/OBFs/qmclySViXj/qwFztexRhP3D2pw7T6V4/1JFimwwTXj/LdTrFfAVgP3hOM8SEIW0/LvG4YM7SgT+Q65itiICRP+nxDa9qfp4/4QficJr4oT+clFoshhygPxIhzAXv5pU/LKvkI9QGhT9QbP2MGOtiP8jltzjdiEs/h4dY6mX3bD9APKcbbYNyP2ut06KBqHA/+9mOZd37bT8diI/b+yVzPwLx4NMfxok/xg6pkCwHkD9o1kedwlSHPxCPIhMOo3M/Od0aM+JMaz/6QTv3oW5qPybxLH6Yrm4/18EldnnVcD/crEgM/B9kP7bor0g8ZmU/qwSiIxQ5cT9YGU00w5t1P/NkSN4EYnI/2fOxioydbz+v9jri55pjP+7n+7u3aU8/E3V2z4A5Pz887qB5m4tXP2oCfWn+Flg/KG3IL8YfWD9p+avx1bxXP/tdTS8qsk0/mYOVHIo7WT945yiMMkpwP/ijxKSdeHI/wJrA45cUbj8a0tP383dtP0rcsPF1s2c/I+tNdCF7Xj8U9zSblrBYP8xR87O3f1k/+Zus4DZiYj8AAAAAAAAAAAAAAAAAAAAAAAAAAAAAAACiKoju1BIsP+2plom63zA/pO2S2/3VSD8Rg62HonJXP9ICflb2Rl4/wh8J1aChYT8wtIc99zxlPzp4yEuejHA/DlRhVttUaz9qWS5JBqdXP313f0p8OEk/dni/5OJvPD8P/1xJNKopPwAAAAAAAAAAAAAAAAAAAAAAAAAAAAAAAAAAAAAAAAAAAAAAAAAAAAAAAAAAAAAAAAAAAAAAAAAAAAAAAAAAAAAAAAAAAAAAAAAAAAAAAAAAAAAAAAAAAAAAAAAAAAAAAAAAAAAAAAAAAAAAAAAAAAAAAAAAAAAAAAAAAAAAAAAAAAAAAAAAAAAAAAAAAAAAAAAAAAAAAAAAAAAAAAAAAAAAAAAAAAAAAAAAAAAAAAAAAAAAAAAAAAAAAAAAAAAAAAAAAAAAAAAAAAAAAAAAAAAAAAAAAAAAAAAAAAAAAAAAAAAAAAAAAAAAAAAAAAAAAAAAAAAAAAAAAAAAAAAAAAAAAAAAAAAAAAAAAAAAAAAAAAAAAAAAAACAixYFtVtNPy6u67h46mU/PHWtD63icD+C0hnAaQVwP7/ZudiZVWU/r/j4LchcTD8AAAAAAAAAAAAAAAAAAAAAAAAAAAAAAAAAAAAAAAAAAAAAAAAAAAAAAAAAAAAAAAAAAAAAAAAAAAAAAAAAAAAAAAAAAAAAAAAAAAAAAAAAAAAAAAAAAAAAAAAAAAAAAAAAAAAAAAAAAAAAAAAAAAAAAAAAAAAAAAAAAAAAAAAAAAAAAAAAAAAAAAAAAAAAAAAAAAAAAAAAAAAAAAAAAAAAAAAAAAAAAAAAAAAAAAAAAAAAAAAAAAAAAAAAAAAAAABEMDJfKT78Ppw2sNOIATk/EvkM8TjDLz8AAAAAAAAAAAAAAAAAAAAAAAAAAAAAAAAAAAAAAAAAAAAAAAAAAAAAAAAAAAAAAAAAAAAAAAAAAAAAAAAAAAAAAAAAAAAAAAAAAAAAAAAAAAAAAAAAAAAAAAAAAAAAAAAAAAAAAAAAAAAAAAAAAAAAAAAAAAAAAAAAAAAAAAAAAByFvk38/0g/BmlB2b8uZD/vmokfV0d8P+2rzx773HA/4vrfrxzsUD8AAAAAAAAAAAAAAAAAAAAAAAAAAAAAAAAAAAAAAAAAAAAAAAAAAAAAAAAAAAAAAAAAAAAAAAAAAAAAAAAAAAAAAAAAAAAAAAAAAAAAAAAAAAAAAAAAAAAAAAAAAAAAAAAAAAAAAAAAAAAAAAAAAAAAAAAAAAAAAAAAAAAAAAAAAAAAAAAAAAAAAAAAAAAAAAAAAAAAAAAAAAAAAAAAAAAAAAAAAAAAAAAAAAAAAAAAAAAAAAAAAAAAAAAAAAAAAAAAAAAAAAAAAAAAAAAAAAAAAAAAAAAAAAAAAAAAAAAAAAAAAAAAAAAAAAAAAAAAAAAAAAAAAAAAAAAAAAAAAAAAAAAAAAAAAAAAAAAAAAAAAAAAAAAAAAAAAAAAAAAAAAAAAAAAAAAAAAAAAAAAAAAASXq1Ow84Oz/RWCgaNsJkP1dOvtGF23A/KUggfWL4dD85bNZ4YbtwPxb9icMw02E/aoLWXEsANT8AAAAAAAAAAAAAAAAAAAAAAAAAAAAAAAAAAAAAAAAAAAAAAAAAAAAAllefQP7WPD+Cqa1R2VNKP174B6k3kEA/AAAAAAAAAAAAAAAAAAAAAAAAAAAAAAAAAAAAAAAAAAAAAAAAAAAAAAAAAAAAAAAAAAAAAAAAAAAAAAAAAAAAAAAAAAAAAAAAAAAAAAAAAAAAAAAAAAAAAAAAAAAAAAAAAAAAAAAAAAAAAAAAAAAAAAAAAAAAAAAAAAAAAAAAAAAAAAAAAAAAAAAAAAAAAAAAAAAAAAAAAAAAAAAAAAAAAAAAAAAAAAAAAAAAAAAAAAAAAAAAAAAAAAAAAAAAAAAAAAAAAAAAAAAAAAAAAAAAAAAAAAAAAAAAAAAAAAAAAAAAAAAAAAAAAAAAAAAAAAAAAAAAAAAAAAAAAAAAAAAAAAAAAAAAAAAAAAAAAAAAAAAAAAAAAAAAAAAAAAAAAAAAAAAAAAAAAAAAAAAAAAAAAAAAAAAAAAAAAAAAAAAAAAAAAAAAAAAAAAAAAAAAAAAAZaI8cr3kTz/wRBUDAgphP9SpyWc3JTA/AAAAAAAAAAAAAAAAAAAAAAAAAAAAAAAAAAAAAAAAAAAAAAAAAAAAAAAAAAAAAAAAAAAAAAAAAAAAAAAAAAAAAAAAAAAAAAAAAAAAAAAAAAAAAAAAAAAAAAAAAAAAAAAAAAAAAAAAAAAAAAAAAAAAAAAAAAAAAAAAAAAAAAAAAAAAAAAAAAAAAAAAAAAAAAAAAAAAAAAAAAAAAAAAAAAAAAAAAAAAAAAAAAAAAAAAAAAAAAAAAAAAAAAAAAAAAAAAAAAAAAAAAAAAAAAAAAAAAAAAAAAAAAAAAAAAAAAAAAAAAAAAAAAAAAAAAAAAAAAAAAAAAAAAAAAAAAAAAAAAAAAAAAAAAAAAAAAAAAAAAAAAAAAAAAAAAAAAAAAAAAAAAAAAAAAAAAAAAAAAAAAAAAAAAAAAAAAAAAAAAAAAAAAAAAAAAAAAAAAAAAAAAAAAAAAAAAAAAAAAAAAAAAAAAAAAAAAAAAAAAAAAAAAAAAAAAAAAAAAAAAAAAAAAAAAAAAAAAAAAAAAAAAAAAAAAAAAAAAAAAAAAAAAAAAAAAAAAAAAAAAAAAAAAAAAAAAAAAAAAAAAAAAAAAAAAAAAAAAAAAAAAAAAAAwpI5uNQUD/0FcpQlWFQP8qxXgX94Sg/AAAAAAAAAAAAAAAAAAAAAAAAAAAAAAAAAAAAAAAAAAAAAAAAAAAAAAAAAAAAAAAAAAAAAAAAAAAAAAAAAAAAAAAAAAAAAAAAAAAAAAAAAAAAAAAAAAAAAAAAAAAAAAAAAAAAAAAAAAAAAAAAAAAAAAAAAAAAAAAAAAAAAAAAAAAAAAAAAAAAAAAAAAAAAAAAAAAAAAAAAAB7o76S/vEIPAAAAAAAAAAAAAAAAAAAAAAAAAAAAAAAAAAAAAAAAAAAAAAAAAAAAAAAAAAAAAAAAAAAAAAAAAAAAAAAAAAAAAAAAAAAAAAAAAAAAAAAAAAAAAAAAAAAAAAAAAAAAAAAAAAAAAAAAAAAAAAAAAAAAAAAAAAAAAAAAAAAAAAAAAAAAAAAAAAAAAAAAAAAAAAAAAAAAAAAAAAAQn6s0ADnVD9HSvUQ/ZJDP6FDElYpujc/AAAAAAAAAAAAAAAAAAAAAAAAAAAAAAAAAAAAAAAAAAAAAAAAAAAAAAAAAAAAAAAAAAAAAAAAAAAAAAAAAAAAAAAAAAAAAAAAAAAAAAAAAAAAAAAAAAAAAAAAAAAAAAAAAAAAAAAAAAAAAAAAAAAAAAAAAAAAAAAAAAAAAAAAAACT3a6RBDVCPwAAAAAAAAAANAeG/iAhAD93chfu0o1PPwAAAAAAAAAAAAAAAAAAAAAAAAAAAAAAAFipY130hmw/AR7H6njcbz8AAAAAAAAAAAAAAAAAAAAAAAAAAAAAAAAAAAAAAAAAAAAAAAAAAAAAAAAAAAAAAAAAAAAAAAAAAAAAAAAAAAAAAAAAAAAAAAAAAAAAAAAAAAAAAAAAAAAAAAAAAAAAAAAAAAAAAAAAANxsSnW5UGY/nyM1P1YJWz8AAAAAAAAAAAAAAAAAAAAAAAAAAAAAAAAAAAAAAAAAAAAAAAAAAAAAAAAAAAAAAAAAAAAAAAAAAAAAAAAAAAAAAAAAAAAAAAAAAAAAAAAAAEFvXSY6+UM/NqM7MCgAQD8AAAAAAAAAAAAAAAAAAAAAAAAAAAAAAAAAAAAAAAAAAAAAAAAAAAAAAAAAAAAAAAAAAAAAAAAAAAAAAAAAAAAAAAAAAAAAAAAAAAAAAAAAAAAAAAAAAAAAAAAAAAAAAAAAAAAAAAAAAAAAAAAAAAAAAAAAAAAAAAAAAAAAAAAAAAAAAAAAAAAAAAAAAAAAAAAAAAAAAAAAAAAAAAAAAAAAAAAAAAAAAAAAAAAAAAAAAAAAAAAAAAAAAAAAAAAAAAAAAAAAAAAAAAAAAAAAAAAAAAAAAAAAAAAAAAAAAAAAAAAAAAAAAAAAAAAAAAAAAAAAAAAAAAAAAAAAAAAAAAAAAAAAAAAAAAAAAAAAAAAAAAAAAAAAAAAAAAAAAAAAAAAAAAAAAAAAAAAAAAAAAAAAAAAAAAAAAAAAAAAAAAAAAAAAAAAAAAAAAAAAAAAAAAAAAAAAAAAAAAAAAAAAAAAAAAAAAAAAAAAAAAAAAAAAAAAAAAAAAAAAAAAAAAAAAADhlNrs7A4zP7laufqe4FM/WOVuCs+JZT9wmxXoochoPx7H6E30WGQ/W6jDLKrGXD86VtHenexXP/E+zkGollQ/9m09lLssVD9W/PKxBMlKPwAAAAAAAAAAAAAAAAAAAAAAAAAAAAAAAAAAAAAAAAAAAAAAAAAAAAAAAAAAAAAAAAAAAAAAAAAAAAAAAAAAAAAAAAAAAAAAAAAAAAAAAAAAAAAAAAAAAAAAAAAAAAAAAAAAAAAAAAAAAAAAAAAAAAAAAAAAAAAAAFFnUtvzpwU/2BG7GD+HWT+ZVv0HoxhcP/g4haEZO1I/QrtzTu87Rz8kWxuqmgBQP2lGwHbNw1k/yYqEiHr1Yj/ioHBrKzpePyYyfos7PjQ/AAAAAAAAAAAAAAAAAAAAAAAAAAAAAAAAAAAAAAAAAAAAAAAAAAAAAAAAAAAAAAAAAAAAAAAAAAAAAAAAAAAAAAAAAAAAAAAAAAAAAAAAAAAAAAAAAAAAAAAAAAAAAAAA28do3mbjZj/Qx2pqp3CJPyT3Uov7u1U/AAAAAAAAAAAAAAAAAAAAAAAAAAAAAAAAAAAAAAAAAAAAAAAAAAAAAAAAAAAAAAAAAAAAAAAAAABigVn39RgyPwAAAAAAAAAAAAAAAAAAAAAAAAAAAAAAAEx6+c/5FSE/Jq5u5GH1Hj+8UXZjgjhAP7lypMFaPjs/AAAAAAAAAAAAAAAAAAAAAAAAAAAAAAAAAAAAAAAAAAAAAAAAAAAAAAAAAAAAAAAAAAAAAAAAAAAAAAAAAAAAAAAAAAAAAAAAAAAAAAAAAAAAAAAAAAAAAAAAAAAAAAAAAAAAAAAAAAAAAAAAAAAAAAAAAAAAAAAAAAAAAAAAAAAAAAAAAAAAAAAAAAAAAAAAAAAAAAAAAAAAAAAAAAAAAAAAAAAAAAAAAAAAAAAAAAAAAAAAAAAAAAAAAAAAAAAAAAAAAAAAAAAAAAAAAAAAAAAAAAAAAAAAAAAAAAAAAAAAAAAAAAAAAAAAAAAAAAAAAAAAAAAAAAANDKOfC31DPzhvR8tzhVU/dwVMbx4NVj/oVLqdUVBOP+kZtGNz8zo/s7hVqHTHNT+V3c0Ejlg+P78u+R+Xrj4/TvXh2oXrND9/pUCBBz4wP8YiY9Kj6EY/FIiokf2mUT8Gvk0YtfZTP0yH2cVL61I/G9ay2O33Sz9e6KYzfXxOPywpLVN6Flw/PLDaTAjMYD+wuiqSpa1ePzwbmRLbk2M/aJXdRCYvdT9I4EXPPySFP7q1ChDR+Yg/+J9E4XcEhT8I0DJHq51+P7FbAEEiP3I/UfMoAM4Qdz+LjwMGUouAP0pdW9NO7Ik/DM/Bt8tnmT8KiFUJ45yiPwF50EuOhqI/OdVV5C7/oD+ggls446edP/bvHrXZdJQ/GjZVzRJyiz+mCG4fXCd8P5bkmv68zWg/z5fQUF6dYj82QCsnvjBqPxQbJIMi8l0/FWnZzamCRz9gYNmfOF81PzonLs0WpiE/AAAAAAAAAADuCAuuZ0tOP8DCeg5F+Gg/qI+c8wmLcT9okPDdGolnPyS3+Gj1MFE/25UpnXAxQD/2wStAHOBDP/6eScKCX1Q/Cr4i+v/oVz9IqFBtZFZyP0uzJXujkHo/oj5nFQ9Afj9ZgObXqk6APz6vN27EaYA/HYfS6QhMfT/wRAXWyTWDP/uQwHyJOIE/tzDVtllsWz+mkWyMFukqP5y6SNPQ5ys/amvUvkYsMT9QfS374KI3P7C6w7/0RlM/zMvC9Qc9bT9UETQWNsRwP05RAigT0V8/zKJqoT2tUz844Rnvi05lP0ch7t8ea1A/hm41mqgjVj/mlYxYcC5VP5S4yrfUj1M/PnQ3///vUD/okoN1vEBNPxfpgHyV4Es/HvJoeoBuSj+0S7HUW5lEP0JLO0Kzu00/L8CRR927WT+weZA/zmJrP5S2hOXPFXw/CcbY7X4JhD/jpFIBkMmJP3psJonKvYg/yu81Yoc7gz89sbbHxEFzP3AbMDYKb1Y/HkaX5UIuTD84PIJg/T5JP7rOkLtkDEk/7QSudg5fVT9OcDdkqVNRPyWZy0RxC0U/es1ZQxB/RD8AAAAAAAAAAAAAAAAAAAAAAAAAAAAAAAAAAAAAAAAAAAAAAAAAAAAAAAAAAAAAAAAAAAAAAAAAAAAAAAAAAAAAAAAAAAAAAAAAAAAAAAAAAAAAAAAAAAAAAAAAAAAAAAAAAAAAAAAAAAAAAAAAAAAAAAAAAAAAAAAAAAAAAAAAAAAAAAAAAAAAAAAAAAAAAAAAAAAAAAAAAAAAAAAAAAAAAAAAAAAAAAAAAAAAAAAAAAAAAAAAAAAAAAAAAAAAAAAAAAAAAAAAAAAAAAAAAAAAAAAAAAAAAAAAAAAAAAAAAAAAAAAAAAAAAAAAAAAAAAAAAAAAAAAAAAAAAAAAAAAAAAAAAAAAAAAAAAAAAAAAAAAAAAAAAAAAAAAAAAAAAACRInEtIjg6P0ognrfE2mk/AIXdIl0McT8dH+YG6ktnPzQFRmDoc1o/cqPA1puAQT+GKKXLEQA7P5YefOcNMG0/ICECR9E4ij/sY3moNrOOP2wLQDvUA40/NCC5BBpUgj++bhKZIihePwAAAAAAAAAAAAAAAAAAAAAAAAAAAAAAAAAAAAAAAAAAAAAAAAAAAAAAAAAAAAAAAAAAAAAAAAAAAAAAAAAAAAAAAAAAAAAAAAAAAAAAAAAAAAAAAAAAAAAAAAAAAAAAAAAAAAAAAAAAAAAAAAAAAAAAAAAAAAAAAAAAAAAAAAAAAAAAAAAAAAAAAAAAAAAAAAAAAAAAAAAAAAAAAAAAAAAAAAAAAAAAAAAAAAAAAAAAAAAAAAAAAAAAAAAAAAAAABspQTpxQzQ/SOoJ/kD5LT8AAAAAAAAAAAAAAAAAAAAAAAAAAAAAAAAAAAAAAAAAAAAAAAAAAAAAAAAAAAAAAAAAAAAAAAAAAAAAAAAAAAAAAAAAAAAAAAAAAAAAAAAAAAAAAAAAAAAAAAAAAAAAAAAAAAAAAAAAAAAAAAAAAAAAAAAAAAAAAAAAAAAAAAAAAAAAAAAAAAAAAAAAAAAAAAAAAAAAAAAAAAAAAAAAAAAAAAAAAAAAAAAAAAAAAAAAAAAAAAAAAAAAAAAAAAAAAAAAAAAAAAAAAOOei+m/znc/fM/YuYk+gD+vRkIN4vFrPzpnmw6RsV8/mfrYxn1UVj9BAFnyDfdYP+DN3BFivDQ/eijnZNPpLz+g6lIRlIksP5z3D0/zkCU/jn67j/KFGz/JwCdowpsPP+/F3PBzNyE/85v1dKncKj9A5lhVC6MnP5YM4uObWUs/jAgmA1/LUj8Vrjs5yFtRP5CMTJrDt0o/vf6hvC4QQj/dGzkXZO49P5UeAkJqNTk/AAAAAAAAAAAAAAAAAAAAAAAAAAAAAAAACugnGvB0Cz9HFZMk0FYgP6RXpsnePAs/L8xt8t+Y9D5GoDiekYATP+azryom7xU/IWaqkV5aGz+bsFv2IwUeP4xOlGN0bxQ/aKh6t+IOFD9d79MILnQpPzwBjoQxwjs/xCaHEOf5PD9SJ2+xg1Q/P/ewAngKjzc/zBJBp6HHLz8IrSBxA9AgP0QsJsj1FDU/57Fxn/C+TD9tNdRqEFtRP2vF13cZyVE/Nm8Ikt/pXD90n8XC8B1uP/tT6N/rP3E/+hwUY0AndT9MojujtnmKPyZFHyuJyJs/t/EQLn6Rnz8NVICjoamSP15DBPQnfXs/hXeNadGReT87CUXMLNV0PypyafhG+nA/IjgG0O6pcz8cO/yO4q53P+DlIkRlbXQ/nH6UDUxTcj+ChMy+GIJ3PxiE+K6YHX8/AYgV02x+gD9gGW19Pl91P35csCrEtmE/ItPIjL1iRT+0ezXPOyJBP9YikyCrczw/iRvz8fzBOD/kXURp0acyPxE6izDb9DE/JHa6mRebNz/U7vUJSmY9P8cXACCxDD8/Wqn0tsEhOj9AUlRpw2E2P6oPF1ngSzU/pvyiNi01ND/EvwsB04ZIPxbJQtG65EU/99N0TY8MHj+cn4JYjG7pPgAAAAAAAAAAAAAAAAAAAACebbxXlU0ZP18/KZqp/Sc/znBOZ9EINT8oIxNLk2w/P6S8VJT/i0U/Auj/7GGnUT98TgJQEINaP3OTk2esLGk/4VCuX2FAgD9PsfrxRtOMP5sioYv72ZM/Ha3SHHWWnD+65nZLJCOJPy92EKyS2WA/AAAAAAAAAAAAAAAAAAAAAAAAAAAAAAAAZVVjloUUJj9FaQTl8w5hP06faoLZ4kk/AAAAAAAAAAAAAAAAAAAAAAAAAAAAAAAAAAAAAAAAAAAAAAAAAAAAAAAAAAAAAAAAAAAAAAAAAAAAAAAAAAAAAAAAAAAAAAAAAAAAAAAAAAAAAAAAAAAAAAAAAAAAAAAAAAAAAAAAAAAAAAAAAAAAAAAAAAAAAAAAAAAAAAAAAAAAAAAAAAAAAAAAAAAAAAAAAAAAAAAAAAAAAAAAAAAAADqqfxks/gs/kszCANKaLD8AAAAAAAAAAAAAAAAAAAAAAAAAAAAAAAAAAAAAAAAAAAAAAAAAAAAAAAAAAAAAAAAAAAAAAAAAAAAAAAAAAAAAAAAAAAAAAAAAAAAAAAAAAAAAAAAAAAAAAAAAAAAAAAAAAAAAAAAAAAAAAAAAAAAAAAAAAAAAAAAAAAAAAAAAAAAAAAAAAAAAAAAAAAAAAAAAAAAAAAAAAAAAAAAAAAAAAAAAAAAAAAAAAAAAAAAAAAAAAAAAAAAAAAAAAAAAAAAAAAAAAAAAAAAAAAAAAAAAAAAAAAAAAAAAAAAAAAAAAAAAAAAAAAAAAAAAAAAAAAAAAAAAAAAAAAAAAAAAAAAAAAAAAAAAAAAAAAAAAAAAAAAAAAAAAAAAAAAAAAAAAAAAAAAAAAAAAAAAAAAAAAAAAAAAAAAAAAAAAAAAAAAAAAAAAAAAAAAAAAAAAAAAAAAAAAAAAAAAAAAAAAAAAAAAAAAAAAAAAAAAAAAAAAAAAAAAAAAAAAAAAAAAAAAAAAAAAAAAAAAAAAAAAAAAAAAAAAAAAAAAAAAAAAAAAAAAAAAAAAAAAAAAAAAAAAAAAAAAAAAAAAAAAAAAAAAAAAAAAAAAAAAAAAAAAAAAAAAAAAAAAAAAAAAAAAAAAAAAAAAAAAAAAAAAAAAAAAAAAAAAgvlGPFY8Pz+OPVEEwmtRP2omfezV2FQ/Qqu5OnzkRj8AAAAAAAAAAAAAAAAAAAAAAAAAAAAAAAAAAAAAAAAAAAAAAAAAAAAAAAAAAAAAAAAAAAAAAAAAAAAAAAAAAAAAAAAAAAAAAAAAAAAAAAAAAAAAAAAAAAAAAAAAAAAAAAAAAAAAAAAAAAAAAAAAAAAAAAAAAAAAAAAAAAAAAAAAAAAAAAAAAAAAAAAAAAAAAAAAAAAAAAAAAAAAAAAAAAAAAAAAAAAAAAAAAAAAAAAAAAAAAAAAAAAAAAAAAAAAAAASt/bMxTb0PmQYYfcTgho/uIyBvlSHFj/QIgTtqGAUPzWO6emw0BE/RlOa1MZADD8q0l55aKECPwAAAAAAAAAAAAAAAAAAAAAAAAAAAAAAAAAAAAAAAAAAAAAAAAAAAAAAAAAAAAAAAAAAAAAAAAAAAAAAAAAAAAAAAAAAAAAAAAAAAAAAAAAAAAAAAAAAAAAAAAAAAAAAAAAAAAAAAAAAAAAAAAAAAAAAAAAAAAAAAAAAAAAAAAAAAAAAAAAAAAAAAAAAAAAAAAAAAAAAAAAAAAAAAAAAAAAAAAAAAAAAAAAAAAAAAAAAAAAAAAAAAAAAAAAAAAAAAAAAAAAAAAAAAAAAAAAAAAAAAAAAAAAAAAAAAAAAAAAAAAAAAAAAAAAAAAAAAAAAAAAAAAAAAAAAAAAAAAAAAAD/fgjcwVEmP04iAPwYUTM/9ajQHG3JZD+OkZ11zDx7P7fn0Tzs8o8/DlhGR+9iiD9pSUZ/VLl0P0R5hzqT71g/NZpEWtNYVD/ubJNu/nNRP9PcbE952FA/VBjpFTq2Tz8O2WvoKi9MP0DT9n9NoUg/jKxWRm2lRT9/idPEXxlDP+djQsTE9j0/Pt1MT+OdNz8HPnMAFbE1P0rUr6XMJjs/KFIkgSnZOT/YFoeXWmAxP7/6/GC8KxE/AAAAAAAAAAAAAAAAAAAAAAAAAAAAAAAAAAAAAAAAAAAAAAAAAAAAAAAAAAAAAAAAAAAAAAAAAAAAAAAAAAAAAAAAAAAAAAAAAAAAAAAAAAAAAAAAAAAAAAAAAAAAAAAAAAAAAAAAAAAAAAAAAAAAAAAAAAAAAAAAAAAAAAAAAACv0XTwM+QwP1hpqiXifDQ/5o6MJuZAOj8AAAAAAAAAAIim9yKLH1c/wPkvm69cXD+Y+sKaI2JQv6Bgaxo9XX6/MH92kKJSfr88VbNu1GR3v0aJ5wSVmYC/ekeUqWOygb84wl6E7aB5v5Dr38SSaoK/xEUabUL8hb/BIVU/Wv2Rv6jwhnu454i/oHqsBgxlg7+/i2d3+kqEv4hBI6pzLFm/8CAutLNARz/onKhRtB1nP0A1/MaIPWY/wJY//VdaUL98ME02ECh+v9pkovfTEoW/Drwnr5k9ib/sYQoV54p0v9gAi7qhw2G/yLEhEvMMUb+wCxnj1dhKv9h0z+g2jmC/eLTzd1D3cb/YXFQKRolvv8AexoHoLXG/4t7ZtsFMiL8UOUJ24w15v4DQKBVEqVK/fGYDzE3saz/zvCi3gEJoPzNdt4PckGk/Ln80O7rHbD+JaEKEUQNjP8ymQ/DqAFo/PWMzuRHbVz/iN1k9V1BhP7y8beERDn4/eKEzNO7vjD+ItOlipeeXP8MqbV8jpqA/jQN3d/+pnz+YkDwfPieYP4lt19AxfpI/yvcRiOwPhT9TUuFZO3OAP0hEeuEk3oI/+37lUOZFgT+QTHP3/BuAP4hdKU5zdYY/gOjp+v8ojT+a8qz/7fiHP3ZBkkWCM4U/XIhIDEz7hD8yPgYL7wV+P0gLvVHz2Ho/lKNTRSBXgj9w04jhFVmJP6RzbunMgI0/zgzLd72yhz/dYmI6Yn+APy0/npZZqYA/DJOSBD7qhT8MMjjfXGqQP6bsXd5KQ5o/Koo9B+pBnT/4fDl4SVWPP5r0lKLDj4A/vWWppYh7az+AHDkhqCxfP8E6gXiaXVI/LcfSvQXpTD8b3Mj2Itc+P76YZtAx41A/6DI6qNvIXT8IlRK1/0xhP8nPLXTpaVk/5lvGsbJXVz89KpqdwP5cPxraXIcMT1A/ykDHA+z6QT9eWF0Hl/9SP0EQ205VOk0/qNyZGUczdz9ypB7rO/GcP7qt+/BUAqQ/8NoYvsqWpz/LMqghJcamP2qt9pdHTKM/vR/POZLZoz9mudjjua6oP+jGIkvUuKk/X8+ZK7Anoz+qqbGsLp2aP3oOcdLDKI0/73mzJjYURj8n222VxJ9EP6x6vDMW5UM/WO74+QvJMj+qxMN7lpgJP9yr7ItGmwc/POFFJh8l7T4brRR9bEIzP0wj8a9L8TE/ERyOYjIEED8AAAAAAAAAAL0jSPTEk+8+AAAAAAAAAAAAAAAAAAAAAPowA9XMOhs/XtR0sjErLj9Wqilj455BP/YXqyvXFE4/9MiqxCraTz/Navc1j0VGP8iOpBpx6yI//Ywwc7KsIj/ClC/pvdsMPwAAAAAAAAAAAAAAAAAAAAAaO5r0FgkYP2xGjyrOdjk/wfRkHxa4Rj8d9/9fBS1KPzNDeNfwWVI/YGD/Mv33Vz/aTkGH4tFYP3i1oNXAwWw/QlWC1AV7kj+7vGgB+YqmP6gDDhdPbak/wL5Mc3IKrT/6aaNCVoGpP43zvhM2MaE/So2nSnLRkD9EedmatNWQP/xV0sg2t5Y/FMr6GF5ykT9ggoSejJqGP9IRBYhcfHQ/keERZrloZj9zAXXjGkF0PyzeZJUgNXw/UhVx33XRcj++xSUWHZ56P46i/+/t04Q/fz47KokEgD8PD+YOPCZzP1fXW2mcqGA//m1mqQ8NWj/ulRvPEGBaP3bReb4Ly14/sY9qTPlqZD8uLkgYg+FpP+Z6jf54AGM/0geWtZhYUT9MLTIXtdA3P2Dr2bjCnC4/0sdgDbeuLj8q+3K0CHkrP+9Je1bghC0/eQAVQslRLz/cS48MWZ5AP5XJMLaI20w/NNZ0faSaTz/2lXGgvvRSP/ytiFuC/VY/js4PS/kJUT+oX+P9nRE6PxZ6P3o0BCU/bfJh2r1XLj+o1y3KP9E8P9o4PDBMfUU/SvW2VwEIOj/b7a5Tsy82P9ZLkEAMOkA/SF6xpvGdQz8LcPp1B9lFP/yIGacGT0k/+J7wXV9QTz/W30VvBLtOPyxIoth4RUo//WmcLzJiRD9ZNyOOUdk+PzBKlgz67Do/QGQomHqMPj+gcTt0oEtEP6RES4b5vEk/NlFqSbEhTD8sRVwnUhJQPyKKmitS0Vc/cOhyGLkJXz8W1CSSJ+FOP/uTWlNwyjE/MCzPgYEgxT4AAAAAAAAAAAAAAAAAAAAAAAAAAAAAAABWmHjhbjVKP2v7NMiXEmc/T22zVTKwYz9qJDC3iLNfP+ra6JSa61Q/O9JspZXjUj9q+3hEiNFUPzb7jSzeb0M/hHG9SvVwRT8EW7CYZL5QPxm/yXLUpVE/AAAAAAAAAAAAAAAAAAAAAAAAAAAAAAAAAAAAAAAAAAAAAAAAAAAAAAAAAAAAAAAAAAAAAAAAAAAAAAAAAAAAAAAAAAAAAAAAAAAAAAAAAAC0IZUEuyA7P9Vp3fqr6ls/NpRNT4lccD9IUzsD685tPxno4wXEZlY/AAAAAAAAAAAAAAAAAAAAAAAAAAAAAAAAAAAAAAAAAAAAAAAAAAAAAAAAAAAAAAAAAAAAAAAAAAAAAAAAAAAAAAAAAAAAAAAA663obwyV2T4AAAAAAAAAAAAAAAAAAAAAAAAAAAAAAAAAAAAAAAAAAAAAAAAAAAAAAAAAAAAAAAAAAAAAAAAAAAAAAAAAAAAAQ7wUVLRFFj8AAAAAAAAAAAAAAAAAAAAAAAAAAAAAAAAAAAAAAAAAAAAAAAAAAAAAAAAAAAAAAAAAAAAAAAAAAAAAAAAAAAAAAAAAAAAAAAAAAAAAAAAAAAAAAAAAAAAAAAAAAAAAAAAAAAAAAAAAAAAAAAAAAAAAAAAAAAAAAAAAAAAAAAAAAAAAAAAAAAAAAAAAAAAAAAAAAAAAAAAAAI/vBigccUU/AAAAAAAAAAAAAAAAAAAAAAAAAAAAAAAAAAAAAAAAAAAAAAAAAAAAAAAAAAAAAAAAAAAAAAAAAAAAAAAAAAAAAAAAAAAAAAAAAAAAAAAAAAAAAAAAAAAAAAAAAAAAAAAAAAAAAAAAAAAAAAAAAAAAAAAAAAAAAAAAAAAAAAAAAAAAAAAAAAAAAAAAAAAAAAAASiQcca7mRD+taAUBnq9oPwAAAAAAAAAAAAAAAAAAAAAAAAAAAAAAAAAAAAAAAAAAAAAAAAAAAAAAAAAAAAAAAAAAAAAAAAAAAAAAAAAAAAAAAAAAAAAAAAAAAAAAAAAAAAAAAAAAAAAAAAAAAAAAAO62AZfP/3Y/xLqCCZUFcD8uJErQxZVoP7CA9eitnWQ/3Y2RKO/PYz92sF35E91kP4s7r0SmAmU/4nLUJrTgZD/3I24vMOllP+UhTpaFLmc/cKqikIvMZj+zQ4hbus5hP+rwWdJR91U/1iVo3t4NTD+ASqmQZw9DPylIw84k3DQ/jiMMKmYXJT8AAAAAAAAAAAAAAAAAAAAAAAAAAAAAAAAAAAAAAAAAAAAAAAAAAAAAAAAAAAAAAAAAAAAAAAAAAAAAAAAAAAAAAAAAAAAAAABgLsc4Uv5MP7i2auWDQF8/qTifzr2vYz/tOYlUGMtiP1YCAlVx4Gk/RhzvxO/odD96yCKXoUuAP1AWO1qwXHg/O2qCnMVwbj/VD3h1oHZxP3hUsNxFMIA/kvo6ZBIvfj8yfFfu2b5nPwJ9V2TYWmE/0EEwPzWMYj/z3slmNvhjP+RMxEesr2M/UD4UIhDmZT9ZWJPG12VqP34VK7iDlmk/mF/bbYHTZT/QwNAK5kFkPy+92eBqxGk/T34WTHaJcD9O7XWLf2dtP/IJldf5kXM//TUtKc+onT+8fijOc3ytPw9C3GFbJaE/r4qD6xGbgT+d+6bveE5xP84B+mrmvVs/Tb+Hhn1rUD+IIv6jMatQP7CjP6NgfVA/DFcWdcWGUj8EgH7YTg5NP7K9SvmxrEI/IPVrE/GzVD/RyFDx9kdSP2opFzKTlj0/WM9mbn0cNj+YXfZOUw1FP0Z/1FONPkg/zw0bANhLHT9FU7iAOjg+P8keJNFXPVA/4jB/GN5bQD/ApMIoPK1NP+9hoGFJDGE/urdolNVbcz/95zemLqV7PzV/BMLXJnw/WE1M6YoaZz/yevF7F3RfP+s+Eh33AmI/FI8pqMYkaD/CcFRB/n1wP8ITGWC9ono/9r0S83F9hD/51ouImLuQP+RVhXRfkY8/99LOcUR9gT9dPG68615wP2z6WrQ/H2M/wsGCMejSXz+cQBFgVvVdP7blHuOclWc/a89gu/Staj9+zlEmJEJOP7C7vKeyTCM/AAAAAAAAAAAAAAAAAAAAAAAAAAAAAAAAAAAAAAAAAAAAAAAAAAAAAAAAAAAAAAAAAAAAAAAAAAAAAAAAAAAAAAAAAAAAAAAAAAAAAAAAAAAAAAAAAAAAAAAAAAAAAAAAAAAAAAAAAAAAAAAAAAAAAAAAAAAAAAAAAAAAAAAAAAAAAAAAAAAAAAAAAAAAAAAAAAAAAAAAAAAAAAAAAAAAAAAAAAAAAAAAAAAAAAAAAAAAAAAAAAAAAAAAAAAAAAAAAAAAAAAAAAAAAAAAAAAAAAAAAAAAAAAAAAAAAAAAAAAAAAAAAAAAAAAAAAAAAAAAAAAAAAAAAAAAAAAAAAAAAAAAAAAAAAAAAAAAAAAAAAAAAAAAAAAAAAAAAAAAAAAAAAAAAAAAAAAAAAAAAAAAAAAAAAAAAAAAAAAAAAAAAAAAAAAAAAAAAAAAAAAAAAAAAAAAAAAAAAAAAAAAAAAAAAAAAAAAAAAAAAAAAAAAAAAAAAAAAAAAAAAAAAAAAAAAAAAAAAAAAAAAAAAAAAAAAAAAAAAAAAAAAAAAAAAAAAAAAAAAAAAAALCVGrobGDg/krF91lTATz8AAAAAAAAAAAAAAAAAAAAAAAAAAAAAAAAAAAAAAAAAAAAAAAAAAAAAAAAAAAAAAAAAAAAAAAAAAAAAAAAAAAAAAAAAAAAAAAAAAAAAAAAAAAAAAAAAAAAAAAAAAAAAAAAAAAAAAAAAAAAAAAAAAAAAAAAAAAAAAAAAAAAAAAAAAAAAAAAAAAAAAAAAAAAAAAAAAAAAAAAAAAAAAAAAAAAAAAAAAAAAAAAAAAAAAAAAAAAAAAAAAAAAAAAAAAAAAAAAAAAAAAAAAAAAAAAAAAAAAAAAAAAAAAAAAAAAAAAAAAAAAAAAAAAAAAAAAAAAAAAAAAAAAAAAAAAAAAAAAAAAAAAAAAAAAAAAAAAAAAAAAAAAAAAAAAAAAAAAAAAAAAAAAAAAAAAAAAAAAAAAAAAAAAAAAAAAAAAAAAAAAAAAAAAAAAAAAAAAAAAAAAAAAAAAAAAAAAAAAAAAAAAAAAAAAAAAAAAAAAAAAAAAAAAAAAAAAAAAAAAAAAAAAAAAAAA0nKmopDccP4SJ6ROnsA8/ifbh6WIn9T6XgPfVVHUBPznsGKe9nAM/8u/7Yy1v9j70BoZRf279PgeGywzzbgE/K+EbbV6pCz+JRM4KN3YYP4dR6TVLJSA/h4pZn+ErGz+XgmGZKOEUP9IjbcO0vxY/oMB0bYfuHj8IbC8Z6Z4jP6u+Lyg4FSM/MbHbv3qqJD+oxQuITSooP2jFRxqRFig/TjxI8acoKT/biDsjAeooPzw33kLs5Ck/Mqh7bHJoKz9N/SA+c4UrP+UMBdDzlSs/ZQjJPoAtLT/MYQ1/oBQsP2MPenmP5ic/q0DTbucIJD8pzHr1xF4iP0FTpw6BWSA/TmSO76YCHj+O4LrsPzghP9hyB/nL5iU/InaIXQcbJT86gn/RFSchPzi9km3g2BE/4Icj2QRvAT9PEAbVB8H7PgAAAAAAAAAAAAAAAAAAAAAAAAAAAAAAAML2AXoMvds+n28GCEfrBz8fZ6k7K/gfPwZkMRE5t1k/l1iRcgZggD/Oa12qbEZ0Py4yIyrHjmA/W8oVu1J8JD/EcgU8qKgdP5+Li0yXVRg/FMP6cmqyEj/Kt6m/6tAEPwAAAAAAAAAAAAAAAAAAAAAAAAAAAAAAAAAAAAAAAAAArgSjHZFi9T64agHZBgwPP7eYaRMYixQ/wIeH+HPmEj/w+A8PsnYSPwLnS8yuhAY/JsQE1EDL/j6RRvk7td0NPygPol1akwk/9PMDfR69AD/kBAp2+AfFPgAAAAAAAAAAAAAAAAAAAAAAAAAAAAAAAKYIF2Tf8Nw+CXl+wWJBNz/ypis95UkcPwZgybpmYwU/+WDFJOVWCj+CQtWekvcEPxAr3h6Bmvo+eqBZtOYpBD8JmfHp2wARP7akIEeuVxY/gmZrw9OUEz8G1bSD3LoKP6jZRzzjePk+AAAAAAAAAACGX0wlESzWPi6LsUJvbv4+AAAAAAAAAAAAAAAAAAAAAAAAAAAAAAAAAAAAAAAAAACgxArkL1fkPmAq7HDErgI/yECwinc5Bj9itAB0PnL9PpbkZBh+4vA+AAAAAAAAAABONVXlco/LPgAAAAAAAAAAAAAAAAAAAAAAAAAAAAAAAAAAAAAAAAAAAAAAAAAAAAAAAAAAAAAAAAAAAAAAAAAAAAAAAAAAAAAAAAAAAAAAAAAAAAAAAAAAAAAAAAAAAAAAAAAAAAAAAAAAAAAAAAAAAAAAAAAAAAAAAAAAAAAAAAAAAAAAAAAAAAAAAAAAAAAAAAAAAAAAAAAAAAAAAAAAAAAAAAAAAAAAAAAAAAAAAAAAAAAAAAAAAAAAAAAAAAAAAAAAAAAAAAAAAAAAAAAAAAAAAAAAAAAAAAAAAAAAAAAAAAAAAAAAAAAAAAAAAAAAAAAAAAAAAAAAAAAAAAAAAAAAAAAAAAAAAAAAAAAAAAAAAAAAAAAAAAAAAAAAAAAAAAAAAAAAAAAAAAAAAAAAAAAAAAAAAAAAAAAAAAAAAAAAAAAAAAAAAAAAAAAAAACxWbwRLXMzPwpXTN6T3k4/mYRntGR3ST85EA7pvk8oPwAAAAAAAAAAAAAAAAAAAAAAAAAAAAAAAAAAAAAAAAAAAAAAAAAAAAAAAAAAAAAAAAAAAAAAAAAAAAAAAAAAAAAAAAAAAAAAAAAAAAAAAAAAAAAAAAAAAAAAAAAAAAAAAAAAAAAAAAAAAAAAAAAAAAAAAAAAAAAAAAAAAAAAAAAAAAAAAAAAAAAAAAAAAAAAAAAAAAAAAAAAAAAAAAAAAAAAAAAAAAAAAAAAAAAAAAAAAAAAAAAAAAAAAAAAAAAAAAAAAAAAAAAAAAAAAAAAAAAAAAAAAAAAAAAAAAAAAAAAAAAAAAAAAAAAAAAAAAAAAAAAAAAAAAAAAAAAAAAAAAAAAAAAAAAAAAAAAAAAAAAAAAAAAAAAAAAAAAAAAAAAAAAAAAAAAAAACDmLz3TBNDwAAAAAAAAAAAAAAAAAAAAAAAAAAAAAAAAAAAAAAAAAAAAAAAAAAAAAAAAAAAAAAAAAAAAAAAAAAAAAAAAAAAAAAAAAAAAAAAAAAAAAAAAAAAAAAAAAAAAAAAAAAAAAAAAAAAAAAAAAAAAAAAAAAAAAAAAAAAAAAAAAAAAAAAAAAAAAAAAAAAAA6uFgM+axXT/Q4wLnOKx2P+kZquggOn4/qAqGIiZEcT/2gPKlP6hlPy53vf/pdGM/K6PGrKHTYj/wOBmJj8liP0yylhi9LGI/ot56vvFNYj+XsNANBMFjP+puRDwJz2Y/z16bEWBDaD/idwuM2udnP+R2fIYLvGU/rDvOwSyYYj/eiEazxJJfP2FQLYkEkls/K4F+qT2yVj/UDNc0Q5NQP/TC5XPBeEY/MfC0cicoPj/jV8F21QUsPwAAAAAAAAAAAAAAAAAAAAAAAAAAAAAAAAAAAAAAAAAAtubkR0dNND+XVyjn2M1MPyBy2leWj1Y/cZ5y4D+nWj98Nm0YRRZbP0jOUkpyC10/0XEhkfIWYD96xg6pinNiP3pA0/hr2WU/GltXh4LPbj/wEksEGWVzP73SQyk6bWk/hKQJi568Zz+GdpgDZYFmPxqSRkjHmWQ/eH5reritYj8jPeAjCh9hP6bYyNZJw2A/eSxG3yKqYT9xtI6Fu71lP1EJZwTNA3Y/uhBRft4vfj8eJkEh59WAP43g9AK91H8/coayLZ3NfD+gjzc2YctyP/7SqF3wtlM/MNtSmO1FRD+Yes4i721GP7K3x7UNcEw/yi00v4T1TT9G/+ij7XVHP45rhdH3NUE/ghVXiJYuQT8C3f1sX/5DP93Cp1r350M/rCdjlJQrQT8sSqKfMAtBP7BCpfKf1EM/Z8mFgfxART/zikVqBVI0P6fWMQ8OCCQ/a7yeB096YT8HJI5r9wNvPw+zfPQBWnI/mWuDjPaIcj8wNZWeiyFxP3+NIozYxW4/Lu4mDzZ/aj8JcM91WOBlP/o0DYbFOGE/hpWEK6oRXz8kOWQ+bgRhP4abwFSm1WE/2AdXNXhHYD/GrsyBBjZYPy8RZXsu8E8/3pr3o+iYST+e9+f7TGJGPxAVPKweiUQ/fSMvvqxBUz/wAIkIvi9hP/BduuIjDGY/jGW1YyDWaD+5vwz4fNxnP/YG0I1vSWI/N4bl4HnbWz96eSx/pA9XPwmE/E5y/lE/VNHO2uZJRz/IqOih++QwPwAAAAAAAAAAPJIZsXisQT8SwajFwo9LPwCwL/skhWY/w9wSbbU5bj+BvR53KnVqP4s5Z9892GQ/hCy1Uq4iWz/SWX5EQgNRP8EyinOAdk0/BH5r6tnzRj8m+xzvutpJP+DFQk7tyFE/kaRFTGIYUj8CbQIzLWZQP368q2xc90o/4hWYvfMiPj8UFse6siAkP6NTq1q5Qd8+4LHJtZCPDT8PZsZmR/42P6ExwIuvE0A/0l7OrDVGST+ah+C6wzlWP9RLPfvwBFc/VYPsjfjWUz+K4NMb/mVPP5eHCL2d/kI/iex9joU+PD/JzaGvi4pJP+dpsu9DClU/viTFZ4ewYj+HxiSHFilqP4DyYmzJJG0/MqMiqGZXaj9xCVN79R9pP9+ZGeYqBmY/V1PS9QprZD94DG0b+ZJgPzAGFNinYVw//FieTS8CYz86WJE6o9pjP9h24ETsrGI/emSn3Hv4aD9freGkFW1vP4u8GUhgLm0/RzXdA8rkaj8semTlf2txP2VZTyQUXng/XPV+OWvwcT+wimR63/dpP3y5jL2KOWs/TnqVIB1fdT9FgBaEOrVoP8N/kNE4yG8/WJ4+cp2aZT/s+aGhRUpiPyio0Rj3QmU/iPiCjeyMWj89hV3i4VMFP5oy6x1Nixc/KAA/B56oIT8AAAAAAAAAACXKFVwRWzA/8X52zo1wPz+siY8SV/AWP1qPlMSv8TM/KMeRC6EfZj/LBZnlypJwP36N/GAcB2I/tg/4uc1sWj+C4bIFbNJUP4BhRL7rJV0/ZW8WwMWkbz9aBG7psqdiP1ovQDgvVCo/pH/MrFGmMT8scvkuyNw1PwckHXLJqbs+AAAAAAAAAADoib8SuJUyP45ueIi8pEM/zmk2f+8xQz8el0CVaP0/Py9cuelVUz8/4NQwJ4iGQD+h9vgknxNCP751Pb+ViDo/iDFoYBNYQT++ijre0CpLP6DFasHOWlU/KlP5fvIEUj9cAlnYYWNLP5hiWrPGqDs/AAAAAAAAAAA4rF4NrQILPzgdF6yk5BU/HJzlAvJpKD/3148Ed6c0P6lwhmpoXTk/mUWKhwx6MD9cRb/mzfdTPw==\",\"dtype\":\"float64\",\"shape\":[2000]},\"md_lo\":{\"__ndarray__\":\"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\",\"dtype\":\"float64\",\"shape\":[2000]},\"x\":[0,1,2,3,4,5,6,7,8,9,10,11,12,13,14,15,16,17,18,19,20,21,22,23,24,25,26,27,28,29,30,31,32,33,34,35,36,37,38,39,40,41,42,43,44,45,46,47,48,49,50,51,52,53,54,55,56,57,58,59,60,61,62,63,64,65,66,67,68,69,70,71,72,73,74,75,76,77,78,79,80,81,82,83,84,85,86,87,88,89,90,91,92,93,94,95,96,97,98,99,100,101,102,103,104,105,106,107,108,109,110,111,112,113,114,115,116,117,118,119,120,121,122,123,124,125,126,127,128,129,130,131,132,133,134,135,136,137,138,139,140,141,142,143,144,145,146,147,148,149,150,151,152,153,154,155,156,157,158,159,160,161,162,163,164,165,166,167,168,169,170,171,172,173,174,175,176,177,178,179,180,181,182,183,184,185,186,187,188,189,190,191,192,193,194,195,196,197,198,199,200,201,202,203,204,205,206,207,208,209,210,211,212,213,214,215,216,217,218,219,220,221,222,223,224,225,226,227,228,229,230,231,232,233,234,235,236,237,238,239,240,241,242,243,244,245,246,247,248,249,250,251,252,253,254,255,256,257,258,259,260,261,262,263,264,265,266,267,268,269,270,271,272,273,274,275,276,277,278,279,280,281,282,283,284,285,286,287,288,289,290,291,292,293,294,295,296,297,298,299,300,301,302,303,304,305,306,307,308,309,310,311,312,313,314,315,316,317,318,319,320,321,322,323,324,325,326,327,328,329,330,331,332,333,334,335,336,337,338,339,340,341,342,343,344,345,346,347,348,349,350,351,352,353,354,355,356,357,358,359,360,361,362,363,364,365,366,367,368,369,370,371,372,373,374,375,376,377,378,379,380,381,382,383,384,385,386,387,388,389,390,391,392,393,394,395,396,397,398,399,400,401,402,403,404,405,406,407,408,409,410,411,412,413,414,415,416,417,418,419,420,421,422,423,424,425,426,427,428,429,430,431,432,433,434,435,436,437,438,439,440,441,442,443,444,445,446,447,448,449,450,451,452,453,454,455,456,457,458,459,460,461,462,463,464,465,466,467,468,469,470,471,472,473,474,475,476,477,478,479,480,481,482,483,484,485,486,487,488,489,490,491,492,493,494,495,496,497,498,499,500,501,502,503,504,505,506,507,508,509,510,511,512,513,514,515,516,517,518,519,520,521,522,523,524,525,526,527,528,529,530,531,532,533,534,535,536,537,538,539,540,541,542,543,544,545,546,547,548,549,550,551,552,553,554,555,556,557,558,559,560,561,562,563,564,565,566,567,568,569,570,571,572,573,574,575,576,577,578,579,580,581,582,583,584,585,586,587,588,589,590,591,592,593,594,595,596,597,598,599,600,601,602,603,604,605,606,607,608,609,610,611,612,613,614,615,616,617,618,619,620,621,622,623,624,625,626,627,628,629,630,631,632,633,634,635,636,637,638,639,640,641,642,643,644,645,646,647,648,649,650,651,652,653,654,655,656,657,658,659,660,661,662,663,664,665,666,667,668,669,670,671,672,673,674,675,676,677,678,679,680,681,682,683,684,685,686,687,688,689,690,691,692,693,694,695,696,697,698,699,700,701,702,703,704,705,706,707,708,709,710,711,712,713,714,715,716,717,718,719,720,721,722,723,724,725,726,727,728,729,730,731,732,733,734,735,736,737,738,739,740,741,742,743,744,745,746,747,748,749,750,751,752,753,754,755,756,757,758,759,760,761,762,763,764,765,766,767,768,769,770,771,772,773,774,775,776,777,778,779,780,781,782,783,784,785,786,787,788,789,790,791,792,793,794,795,796,797,798,799,800,801,802,803,804,805,806,807,808,809,810,811,812,813,814,815,816,817,818,819,820,821,822,823,824,825,826,827,828,829,830,831,832,833,834,835,836,837,838,839,840,841,842,843,844,845,846,847,848,849,850,851,852,853,854,855,856,857,858,859,860,861,862,863,864,865,866,867,868,869,870,871,872,873,874,875,876,877,878,879,880,881,882,883,884,885,886,887,888,889,890,891,892,893,894,895,896,897,898,899,900,901,902,903,904,905,906,907,908,909,910,911,912,913,914,915,916,917,918,919,920,921,922,923,924,925,926,927,928,929,930,931,932,933,934,935,936,937,938,939,940,941,942,943,944,945,946,947,948,949,950,951,952,953,954,955,956,957,958,959,960,961,962,963,964,965,966,967,968,969,970,971,972,973,974,975,976,977,978,979,980,981,982,983,984,985,986,987,988,989,990,991,992,993,994,995,996,997,998,999,1000,1001,1002,1003,1004,1005,1006,1007,1008,1009,1010,1011,1012,1013,1014,1015,1016,1017,1018,1019,1020,1021,1022,1023,1024,1025,1026,1027,1028,1029,1030,1031,1032,1033,1034,1035,1036,1037,1038,1039,1040,1041,1042,1043,1044,1045,1046,1047,1048,1049,1050,1051,1052,1053,1054,1055,1056,1057,1058,1059,1060,1061,1062,1063,1064,1065,1066,1067,1068,1069,1070,1071,1072,1073,1074,1075,1076,1077,1078,1079,1080,1081,1082,1083,1084,1085,1086,1087,1088,1089,1090,1091,1092,1093,1094,1095,1096,1097,1098,1099,1100,1101,1102,1103,1104,1105,1106,1107,1108,1109,1110,1111,1112,1113,1114,1115,1116,1117,1118,1119,1120,1121,1122,1123,1124,1125,1126,1127,1128,1129,1130,1131,1132,1133,1134,1135,1136,1137,1138,1139,1140,1141,1142,1143,1144,1145,1146,1147,1148,1149,1150,1151,1152,1153,1154,1155,1156,1157,1158,1159,1160,1161,1162,1163,1164,1165,1166,1167,1168,1169,1170,1171,1172,1173,1174,1175,1176,1177,1178,1179,1180,1181,1182,1183,1184,1185,1186,1187,1188,1189,1190,1191,1192,1193,1194,1195,1196,1197,1198,1199,1200,1201,1202,1203,1204,1205,1206,1207,1208,1209,1210,1211,1212,1213,1214,1215,1216,1217,1218,1219,1220,1221,1222,1223,1224,1225,1226,1227,1228,1229,1230,1231,1232,1233,1234,1235,1236,1237,1238,1239,1240,1241,1242,1243,1244,1245,1246,1247,1248,1249,1250,1251,1252,1253,1254,1255,1256,1257,1258,1259,1260,1261,1262,1263,1264,1265,1266,1267,1268,1269,1270,1271,1272,1273,1274,1275,1276,1277,1278,1279,1280,1281,1282,1283,1284,1285,1286,1287,1288,1289,1290,1291,1292,1293,1294,1295,1296,1297,1298,1299,1300,1301,1302,1303,1304,1305,1306,1307,1308,1309,1310,1311,1312,1313,1314,1315,1316,1317,1318,1319,1320,1321,1322,1323,1324,1325,1326,1327,1328,1329,1330,1331,1332,1333,1334,1335,1336,1337,1338,1339,1340,1341,1342,1343,1344,1345,1346,1347,1348,1349,1350,1351,1352,1353,1354,1355,1356,1357,1358,1359,1360,1361,1362,1363,1364,1365,1366,1367,1368,1369,1370,1371,1372,1373,1374,1375,1376,1377,1378,1379,1380,1381,1382,1383,1384,1385,1386,1387,1388,1389,1390,1391,1392,1393,1394,1395,1396,1397,1398,1399,1400,1401,1402,1403,1404,1405,1406,1407,1408,1409,1410,1411,1412,1413,1414,1415,1416,1417,1418,1419,1420,1421,1422,1423,1424,1425,1426,1427,1428,1429,1430,1431,1432,1433,1434,1435,1436,1437,1438,1439,1440,1441,1442,1443,1444,1445,1446,1447,1448,1449,1450,1451,1452,1453,1454,1455,1456,1457,1458,1459,1460,1461,1462,1463,1464,1465,1466,1467,1468,1469,1470,1471,1472,1473,1474,1475,1476,1477,1478,1479,1480,1481,1482,1483,1484,1485,1486,1487,1488,1489,1490,1491,1492,1493,1494,1495,1496,1497,1498,1499,1500,1501,1502,1503,1504,1505,1506,1507,1508,1509,1510,1511,1512,1513,1514,1515,1516,1517,1518,1519,1520,1521,1522,1523,1524,1525,1526,1527,1528,1529,1530,1531,1532,1533,1534,1535,1536,1537,1538,1539,1540,1541,1542,1543,1544,1545,1546,1547,1548,1549,1550,1551,1552,1553,1554,1555,1556,1557,1558,1559,1560,1561,1562,1563,1564,1565,1566,1567,1568,1569,1570,1571,1572,1573,1574,1575,1576,1577,1578,1579,1580,1581,1582,1583,1584,1585,1586,1587,1588,1589,1590,1591,1592,1593,1594,1595,1596,1597,1598,1599,1600,1601,1602,1603,1604,1605,1606,1607,1608,1609,1610,1611,1612,1613,1614,1615,1616,1617,1618,1619,1620,1621,1622,1623,1624,1625,1626,1627,1628,1629,1630,1631,1632,1633,1634,1635,1636,1637,1638,1639,1640,1641,1642,1643,1644,1645,1646,1647,1648,1649,1650,1651,1652,1653,1654,1655,1656,1657,1658,1659,1660,1661,1662,1663,1664,1665,1666,1667,1668,1669,1670,1671,1672,1673,1674,1675,1676,1677,1678,1679,1680,1681,1682,1683,1684,1685,1686,1687,1688,1689,1690,1691,1692,1693,1694,1695,1696,1697,1698,1699,1700,1701,1702,1703,1704,1705,1706,1707,1708,1709,1710,1711,1712,1713,1714,1715,1716,1717,1718,1719,1720,1721,1722,1723,1724,1725,1726,1727,1728,1729,1730,1731,1732,1733,1734,1735,1736,1737,1738,1739,1740,1741,1742,1743,1744,1745,1746,1747,1748,1749,1750,1751,1752,1753,1754,1755,1756,1757,1758,1759,1760,1761,1762,1763,1764,1765,1766,1767,1768,1769,1770,1771,1772,1773,1774,1775,1776,1777,1778,1779,1780,1781,1782,1783,1784,1785,1786,1787,1788,1789,1790,1791,1792,1793,1794,1795,1796,1797,1798,1799,1800,1801,1802,1803,1804,1805,1806,1807,1808,1809,1810,1811,1812,1813,1814,1815,1816,1817,1818,1819,1820,1821,1822,1823,1824,1825,1826,1827,1828,1829,1830,1831,1832,1833,1834,1835,1836,1837,1838,1839,1840,1841,1842,1843,1844,1845,1846,1847,1848,1849,1850,1851,1852,1853,1854,1855,1856,1857,1858,1859,1860,1861,1862,1863,1864,1865,1866,1867,1868,1869,1870,1871,1872,1873,1874,1875,1876,1877,1878,1879,1880,1881,1882,1883,1884,1885,1886,1887,1888,1889,1890,1891,1892,1893,1894,1895,1896,1897,1898,1899,1900,1901,1902,1903,1904,1905,1906,1907,1908,1909,1910,1911,1912,1913,1914,1915,1916,1917,1918,1919,1920,1921,1922,1923,1924,1925,1926,1927,1928,1929,1930,1931,1932,1933,1934,1935,1936,1937,1938,1939,1940,1941,1942,1943,1944,1945,1946,1947,1948,1949,1950,1951,1952,1953,1954,1955,1956,1957,1958,1959,1960,1961,1962,1963,1964,1965,1966,1967,1968,1969,1970,1971,1972,1973,1974,1975,1976,1977,1978,1979,1980,1981,1982,1983,1984,1985,1986,1987,1988,1989,1990,1991,1992,1993,1994,1995,1996,1997,1998,1999]},\"selected\":{\"id\":\"3165\",\"type\":\"Selection\"},\"selection_policy\":{\"id\":\"3164\",\"type\":\"UnionRenderers\"}},\"id\":\"3117\",\"type\":\"ColumnDataSource\"},{\"attributes\":{\"fill_alpha\":{\"value\":0.15},\"fill_color\":{\"value\":\"#C5B0D5\"},\"left\":400.0,\"right\":500.0},\"id\":\"3082\",\"type\":\"BoxAnnotation\"},{\"attributes\":{\"click_policy\":\"hide\",\"items\":[{\"id\":\"3151\",\"type\":\"LegendItem\"},{\"id\":\"3152\",\"type\":\"LegendItem\"},{\"id\":\"3153\",\"type\":\"LegendItem\"},{\"id\":\"3154\",\"type\":\"LegendItem\"},{\"id\":\"3155\",\"type\":\"LegendItem\"},{\"id\":\"3156\",\"type\":\"LegendItem\"}],\"location\":[0,70]},\"id\":\"3150\",\"type\":\"Legend\"},{\"attributes\":{\"angle\":1.5707963267948966,\"background_fill_alpha\":{\"value\":0.0},\"border_line_alpha\":{\"value\":0.0},\"text\":\"IFOF\",\"text_baseline\":\"middle\",\"x\":450.0,\"y\":10,\"y_units\":\"screen\"},\"id\":\"3083\",\"type\":\"Label\"},{\"attributes\":{\"line_color\":\"#1f77b4\",\"line_width\":3,\"x\":{\"field\":\"x\"},\"y\":{\"field\":\"fa\"}},\"id\":\"3119\",\"type\":\"Line\"},{\"attributes\":{\"fill_alpha\":{\"value\":0.0},\"fill_color\":{\"value\":null},\"left\":0.0,\"line_color\":{\"value\":\"black\"},\"line_width\":{\"value\":4},\"right\":900.0},\"id\":\"3114\",\"type\":\"BoxAnnotation\"},{\"attributes\":{\"line_alpha\":0.1,\"line_color\":\"#1f77b4\",\"line_width\":3,\"x\":{\"field\":\"x\"},\"y\":{\"field\":\"fa\"}},\"id\":\"3120\",\"type\":\"Line\"}],\"root_ids\":[\"3048\"]},\"title\":\"Bokeh Application\",\"version\":\"1.1.0\"}};\n",
       "  var render_items = [{\"docid\":\"61ffb29d-4106-48be-908d-5699cb7e4caf\",\"roots\":{\"3048\":\"f02a8cf1-bbf6-4697-9db3-e4704c057edd\"}}];\n",
       "  root.Bokeh.embed.embed_items_notebook(docs_json, render_items);\n",
       "\n",
       "  }\n",
       "  if (root.Bokeh !== undefined) {\n",
       "    embed_document(root);\n",
       "  } else {\n",
       "    var attempts = 0;\n",
       "    var timer = setInterval(function(root) {\n",
       "      if (root.Bokeh !== undefined) {\n",
       "        embed_document(root);\n",
       "        clearInterval(timer);\n",
       "      }\n",
       "      attempts++;\n",
       "      if (attempts > 100) {\n",
       "        console.log(\"Bokeh: ERROR: Unable to run BokehJS code because BokehJS library is missing\");\n",
       "        clearInterval(timer);\n",
       "      }\n",
       "    }, 10, root)\n",
       "  }\n",
       "})(window);"
      ],
      "application/vnd.bokehjs_exec.v0+json": ""
     },
     "metadata": {
      "application/vnd.bokehjs_exec.v0+json": {
       "id": "3048"
      }
     },
     "output_type": "display_data"
    }
   ],
   "source": [
    "width = 1150\n",
    "height = 700\n",
    "output_html = None\n",
    "\n",
    "p = figure(plot_width=width, plot_height=height, toolbar_location='above',\n",
    "              tools=\"save\")\n",
    "p.title.text = 'Feature weights in the \"unfolded\" brain'\n",
    "\n",
    "len_alltracts = len(unfolded_beta[list(unfolded_beta.keys())[0]])\n",
    "n_tracts = len(afqi.utils.canonical_tract_names)\n",
    "n_nodes = len_alltracts / n_tracts\n",
    "ticks = np.arange(0, len_alltracts, n_nodes)\n",
    "\n",
    "p.xaxis.ticker = FixedTicker(ticks=[ticks[4] + n_nodes/2, ticks[-4] - n_nodes/2],\n",
    "                             minor_ticks=[ticks[0], ticks[9], ticks[11], ticks[-1] + n_nodes])\n",
    "p.xaxis.major_label_overrides = {int(ticks[4] + n_nodes/2): 'Left Hemisphere',\n",
    "                                 int(ticks[-4] - n_nodes/2): 'Right Hemisphere'}\n",
    "\n",
    "p.xaxis.minor_tick_line_color = None  # turn off x-axis minor ticks\n",
    "p.xaxis.major_tick_line_color = None  # turn off x-axis major ticks\n",
    "\n",
    "p.xaxis.major_label_text_font_size = '14pt'  # turn off x-axis tick labels\n",
    "\n",
    "p.x_range = Range1d(0, len_alltracts)\n",
    "p.xgrid.grid_line_color = None\n",
    "\n",
    "tract_colors = np.copy(palettable.tableau.Tableau_20.hex_colors).tolist()\n",
    "tract_colors = (tract_colors[1:-2:2]\n",
    "                + tract_colors[-2:]\n",
    "                + tract_colors[-3::-2])\n",
    "\n",
    "for i, color in enumerate(tract_colors):\n",
    "    p.add_layout(BoxAnnotation(\n",
    "        left=ticks[i], right=ticks[i] + n_nodes,\n",
    "        fill_color=color, fill_alpha=0.15\n",
    "    ))\n",
    "\n",
    "    p.add_layout(Label(\n",
    "        x=ticks[i] + n_nodes / 2,\n",
    "        y=10,\n",
    "        x_units='data',\n",
    "        y_units='screen',\n",
    "        text=afqi.utils.canonical_tract_names[i].replace('Left ', '').replace('Right ',''),\n",
    "        render_mode='canvas',\n",
    "        border_line_alpha=0.0,\n",
    "        background_fill_alpha=0.0,\n",
    "        angle=np.pi / 2,\n",
    "        text_align='left',\n",
    "        text_baseline='middle'\n",
    "    ))\n",
    "\n",
    "p.add_layout(BoxAnnotation(\n",
    "    left=ticks[0], right=ticks[9],\n",
    "    fill_color=None, fill_alpha=0.0,\n",
    "    line_color=\"black\", line_width=4\n",
    "))\n",
    "p.add_layout(BoxAnnotation(\n",
    "    left=ticks[9], right=ticks[11],\n",
    "    fill_color=None, fill_alpha=0.0,\n",
    "    line_color=\"black\", line_width=4\n",
    "))\n",
    "p.add_layout(BoxAnnotation(\n",
    "    left=ticks[11], right=ticks[-1] + n_nodes,\n",
    "    fill_color=None, fill_alpha=0.0,\n",
    "    line_color=\"black\", line_width=4\n",
    "))\n",
    "    \n",
    "unfolded_beta_with_err['x'] = np.arange(len_alltracts)\n",
    "source = ColumnDataSource(data=unfolded_beta_with_err)\n",
    "del unfolded_beta_with_err['x']\n",
    "\n",
    "lines = {}\n",
    "for name, color in zip(\n",
    "        unfolded_beta.keys(),\n",
    "        Category10[max(len(list(unfolded_beta.keys())),\n",
    "                       min(list(Category10.keys())))]\n",
    "):\n",
    "    lines[name] = p.line(\n",
    "        x='x', y=name, source=source, name=name,\n",
    "        line_width=3, color=color\n",
    "    )\n",
    "    lines[name + '_hi'] = p.line(\n",
    "        x='x', y=name + '_hi', source=source, name=name,\n",
    "        line_width=1, color=color\n",
    "    )\n",
    "    lines[name + '_lo'] = p.line(\n",
    "        x='x', y=name + '_lo', source=source, name=name,\n",
    "        line_width=1, color=color\n",
    "    )\n",
    "\n",
    "p.add_tools(HoverTool(\n",
    "    show_arrow=False,\n",
    "    line_policy='interp',\n",
    "    tooltips=[\n",
    "        ('metric', '$name'),\n",
    "        ('beta', '$y'),\n",
    "    ],\n",
    "    point_policy='snap_to_data',\n",
    "    renderers=list(lines.values())\n",
    "))\n",
    "\n",
    "legend = Legend(items=[\n",
    "    (name, [renderer]) for name, renderer in lines.items()\n",
    "], location=(0, 70))\n",
    "\n",
    "p.add_layout(\n",
    "    Title(text='Click on legend entries to hide/show lines',\n",
    "          align=\"left\"), 'right'\n",
    ")\n",
    "p.add_layout(legend, 'right')\n",
    "p.legend.click_policy = 'hide'\n",
    "\n",
    "p.title.text_font_size = \"18pt\"\n",
    "p.yaxis.axis_label = \"β\"\n",
    "p.yaxis.axis_label_text_font_size = \"18pt\"\n",
    "\n",
    "# output_html = \"../docs/img/bokeh_plots/classification_unfolded_beta.html\"\n",
    "# if output_html is not None:\n",
    "#     html = file_html(p, CDN, \"my plot\")\n",
    "#     with open(op.abspath(output_html), 'w') as fp:\n",
    "#         fp.write(html)\n",
    "\n",
    "show(p)"
   ]
  },
  {
   "cell_type": "code",
   "execution_count": 53,
   "metadata": {},
   "outputs": [
    {
     "data": {
      "text/plain": [
       "OrderedDict([('fa',\n",
       "              array([ 3.33479807e-03, -1.02341720e-04,  0.00000000e+00,  1.20045831e-04,\n",
       "                      0.00000000e+00,  0.00000000e+00, -5.38210127e-05, -1.04723498e-04,\n",
       "                     -1.39198205e-04, -5.03202382e-04, -1.08844022e-03, -2.03750919e-03,\n",
       "                     -2.54004838e-03, -1.67291507e-03, -1.43021570e-03, -1.80218817e-03,\n",
       "                     -4.94738380e-03, -1.13249093e-02, -1.27806314e-02, -1.17454797e-02,\n",
       "                     -4.30326997e-03, -6.50254957e-04,  1.01578766e-04,  8.32257979e-04,\n",
       "                      1.19766771e-03,  1.43188265e-03,  1.88514019e-03,  2.97593203e-03,\n",
       "                      3.70433332e-03,  4.38498994e-03,  5.13996545e-03,  5.08789695e-03,\n",
       "                      4.08420496e-03,  2.06589724e-03,  8.16252465e-04,  3.68995992e-04,\n",
       "                      3.58236924e-04,  6.21688758e-04,  9.99853847e-04,  1.27327011e-03,\n",
       "                      1.20865462e-03,  9.33876585e-04,  6.51402716e-04,  4.31471502e-04,\n",
       "                      2.81183216e-04,  1.50961410e-04,  3.00734162e-05,  0.00000000e+00,\n",
       "                      0.00000000e+00, -4.45791980e-05, -1.03862666e-04, -1.39386931e-04,\n",
       "                     -1.73755219e-04, -1.88293865e-04, -4.10796385e-04, -8.52361417e-04,\n",
       "                     -6.88948720e-04, -3.38360549e-04, -3.21168110e-04, -5.07177662e-04,\n",
       "                     -5.75585425e-04, -3.84679332e-04,  0.00000000e+00,  1.50556361e-06,\n",
       "                      2.63084833e-04,  6.72329277e-04,  8.43801148e-04,  9.84952059e-04,\n",
       "                      1.02865495e-03,  8.60252452e-04,  6.51029438e-04,  7.03727014e-04,\n",
       "                      9.70076930e-04,  9.07719989e-04,  5.14298802e-04,  1.51604327e-04,\n",
       "                     -1.58751208e-04, -2.60332754e-04, -2.67384065e-04, -4.51709532e-04,\n",
       "                     -3.97006027e-04, -4.83512279e-04, -6.86282297e-04, -6.56710438e-04,\n",
       "                     -7.30562196e-04, -7.51095199e-04, -4.13675580e-04, -3.24024719e-04,\n",
       "                     -2.23229678e-04, -1.47223236e-05,  2.67177594e-05,  6.26046780e-04,\n",
       "                      3.76901372e-04,  2.57539647e-04,  1.58708381e-04,  9.12940241e-05,\n",
       "                     -1.63596662e-04, -1.38689481e-03, -9.16262435e-05,  1.39964919e-04])),\n",
       "             ('md',\n",
       "              array([ 1.61583568e-03,  1.00623132e-02,  6.32307746e-03,  3.84968160e-03,\n",
       "                      4.94837447e-03,  1.51415518e-02,  3.55769152e-02,  3.09316938e-02,\n",
       "                      1.50587890e-02,  8.66502702e-03,  9.16456158e-03,  1.29530496e-02,\n",
       "                      1.10803844e-02,  6.43947383e-03,  3.82945705e-03,  5.51141226e-03,\n",
       "                      1.49585046e-02,  2.06614472e-02,  1.29535141e-02,  8.04147002e-03,\n",
       "                      3.55715448e-03,  7.13581941e-05, -6.31327937e-04, -1.24033787e-03,\n",
       "                     -5.95584531e-04, -2.01852931e-04, -1.04020926e-03, -2.28495022e-03,\n",
       "                     -2.83929887e-03, -2.78021163e-03, -2.25774657e-03, -2.34399892e-03,\n",
       "                     -2.53313017e-03, -1.55208254e-03, -8.48052462e-04, -1.07457912e-03,\n",
       "                     -1.84176940e-03, -2.96328311e-03, -4.42692685e-03, -8.73349507e-03,\n",
       "                     -1.25505846e-02, -6.53475254e-03, -2.62779836e-03, -1.34144331e-03,\n",
       "                     -1.29847753e-03, -1.35639197e-03, -8.13644456e-04, -5.39170232e-04,\n",
       "                     -2.31589929e-05,  3.31711420e-04,  4.42802851e-04,  4.44436980e-04,\n",
       "                      4.72675634e-04,  1.07346528e-03,  2.92317820e-03,  6.59917250e-03,\n",
       "                      1.36216451e-02,  1.60434717e-02,  1.42030792e-02,  8.71835319e-03,\n",
       "                      3.49209304e-03,  6.66625839e-04, -2.79913998e-04, -2.43396198e-03,\n",
       "                     -4.57448604e-03, -4.38125163e-03, -3.13193348e-03, -7.22428620e-03,\n",
       "                     -2.64210659e-02, -3.46081298e-02, -2.67930712e-02, -9.84708538e-03,\n",
       "                     -3.15305966e-03, -1.90196793e-03, -3.10426788e-03, -5.44870132e-03,\n",
       "                     -7.86575335e-03, -6.32690141e-03, -4.11351581e-03, -4.91537705e-03,\n",
       "                     -4.01194077e-03, -2.35551566e-03, -1.14696642e-03, -3.26753666e-04,\n",
       "                      1.06518484e-04,  4.03304605e-04,  4.35915252e-04,  3.93106382e-04,\n",
       "                      3.42440675e-04,  1.91096051e-04, -7.27085351e-04, -4.09053953e-03,\n",
       "                     -4.93937937e-03, -4.65655572e-03, -3.93800117e-03, -1.86803948e-03,\n",
       "                     -4.55440558e-04,  1.13555140e-05, -3.40636163e-04, -9.54200998e-04]))])"
      ]
     },
     "execution_count": 53,
     "metadata": {},
     "output_type": "execute_result"
    }
   ],
   "source": [
    "betas_by_group['Left Arcuate']"
   ]
  },
  {
   "cell_type": "code",
   "execution_count": 54,
   "metadata": {},
   "outputs": [],
   "source": [
    "from dipy.viz import window, actor\n",
    "from dipy.data import fetch_bundles_2_subjects, read_bundles_2_subjects\n",
    "from dipy.tracking.streamline import transform_streamlines\n",
    "\n",
    "import json"
   ]
  },
  {
   "cell_type": "code",
   "execution_count": 55,
   "metadata": {},
   "outputs": [],
   "source": [
    "with open(\"../data/raw/core_streamlines.json\") as fp:\n",
    "    cores = json.load(fp)"
   ]
  },
  {
   "cell_type": "code",
   "execution_count": 59,
   "metadata": {},
   "outputs": [],
   "source": [
    "import deepdish as dd"
   ]
  },
  {
   "cell_type": "code",
   "execution_count": 63,
   "metadata": {},
   "outputs": [
    {
     "name": "stderr",
     "output_type": "stream",
     "text": [
      "/Users/richford/miniconda3/envs/afq-insight/lib/python3.6/site-packages/tables/path.py:157: NaturalNameWarning: object name is not a valid Python identifier: 'Callosum Forceps Major'; it does not match the pattern ``^[a-zA-Z_][a-zA-Z0-9_]*$``; you will not be able to use natural naming to access this object; using ``getattr()`` will still work, though\n",
      "  check_attribute_name(name)\n",
      "/Users/richford/miniconda3/envs/afq-insight/lib/python3.6/site-packages/tables/path.py:157: NaturalNameWarning: object name is not a valid Python identifier: 'Callosum Forceps Minor'; it does not match the pattern ``^[a-zA-Z_][a-zA-Z0-9_]*$``; you will not be able to use natural naming to access this object; using ``getattr()`` will still work, though\n",
      "  check_attribute_name(name)\n",
      "/Users/richford/miniconda3/envs/afq-insight/lib/python3.6/site-packages/tables/path.py:157: NaturalNameWarning: object name is not a valid Python identifier: 'Left Arcuate'; it does not match the pattern ``^[a-zA-Z_][a-zA-Z0-9_]*$``; you will not be able to use natural naming to access this object; using ``getattr()`` will still work, though\n",
      "  check_attribute_name(name)\n",
      "/Users/richford/miniconda3/envs/afq-insight/lib/python3.6/site-packages/tables/path.py:157: NaturalNameWarning: object name is not a valid Python identifier: 'Left Cingulum Cingulate'; it does not match the pattern ``^[a-zA-Z_][a-zA-Z0-9_]*$``; you will not be able to use natural naming to access this object; using ``getattr()`` will still work, though\n",
      "  check_attribute_name(name)\n",
      "/Users/richford/miniconda3/envs/afq-insight/lib/python3.6/site-packages/tables/path.py:157: NaturalNameWarning: object name is not a valid Python identifier: 'Left Cingulum Hippocampus'; it does not match the pattern ``^[a-zA-Z_][a-zA-Z0-9_]*$``; you will not be able to use natural naming to access this object; using ``getattr()`` will still work, though\n",
      "  check_attribute_name(name)\n",
      "/Users/richford/miniconda3/envs/afq-insight/lib/python3.6/site-packages/tables/path.py:157: NaturalNameWarning: object name is not a valid Python identifier: 'Left Corticospinal'; it does not match the pattern ``^[a-zA-Z_][a-zA-Z0-9_]*$``; you will not be able to use natural naming to access this object; using ``getattr()`` will still work, though\n",
      "  check_attribute_name(name)\n",
      "/Users/richford/miniconda3/envs/afq-insight/lib/python3.6/site-packages/tables/path.py:157: NaturalNameWarning: object name is not a valid Python identifier: 'Left IFOF'; it does not match the pattern ``^[a-zA-Z_][a-zA-Z0-9_]*$``; you will not be able to use natural naming to access this object; using ``getattr()`` will still work, though\n",
      "  check_attribute_name(name)\n",
      "/Users/richford/miniconda3/envs/afq-insight/lib/python3.6/site-packages/tables/path.py:157: NaturalNameWarning: object name is not a valid Python identifier: 'Left ILF'; it does not match the pattern ``^[a-zA-Z_][a-zA-Z0-9_]*$``; you will not be able to use natural naming to access this object; using ``getattr()`` will still work, though\n",
      "  check_attribute_name(name)\n",
      "/Users/richford/miniconda3/envs/afq-insight/lib/python3.6/site-packages/tables/path.py:157: NaturalNameWarning: object name is not a valid Python identifier: 'Left SLF'; it does not match the pattern ``^[a-zA-Z_][a-zA-Z0-9_]*$``; you will not be able to use natural naming to access this object; using ``getattr()`` will still work, though\n",
      "  check_attribute_name(name)\n",
      "/Users/richford/miniconda3/envs/afq-insight/lib/python3.6/site-packages/tables/path.py:157: NaturalNameWarning: object name is not a valid Python identifier: 'Left Thalamic Radiation'; it does not match the pattern ``^[a-zA-Z_][a-zA-Z0-9_]*$``; you will not be able to use natural naming to access this object; using ``getattr()`` will still work, though\n",
      "  check_attribute_name(name)\n",
      "/Users/richford/miniconda3/envs/afq-insight/lib/python3.6/site-packages/tables/path.py:157: NaturalNameWarning: object name is not a valid Python identifier: 'Left Uncinate'; it does not match the pattern ``^[a-zA-Z_][a-zA-Z0-9_]*$``; you will not be able to use natural naming to access this object; using ``getattr()`` will still work, though\n",
      "  check_attribute_name(name)\n",
      "/Users/richford/miniconda3/envs/afq-insight/lib/python3.6/site-packages/tables/path.py:157: NaturalNameWarning: object name is not a valid Python identifier: 'Right Arcuate'; it does not match the pattern ``^[a-zA-Z_][a-zA-Z0-9_]*$``; you will not be able to use natural naming to access this object; using ``getattr()`` will still work, though\n",
      "  check_attribute_name(name)\n",
      "/Users/richford/miniconda3/envs/afq-insight/lib/python3.6/site-packages/tables/path.py:157: NaturalNameWarning: object name is not a valid Python identifier: 'Right Cingulum Cingulate'; it does not match the pattern ``^[a-zA-Z_][a-zA-Z0-9_]*$``; you will not be able to use natural naming to access this object; using ``getattr()`` will still work, though\n",
      "  check_attribute_name(name)\n",
      "/Users/richford/miniconda3/envs/afq-insight/lib/python3.6/site-packages/tables/path.py:157: NaturalNameWarning: object name is not a valid Python identifier: 'Right Cingulum Hippocampus'; it does not match the pattern ``^[a-zA-Z_][a-zA-Z0-9_]*$``; you will not be able to use natural naming to access this object; using ``getattr()`` will still work, though\n",
      "  check_attribute_name(name)\n",
      "/Users/richford/miniconda3/envs/afq-insight/lib/python3.6/site-packages/tables/path.py:157: NaturalNameWarning: object name is not a valid Python identifier: 'Right Corticospinal'; it does not match the pattern ``^[a-zA-Z_][a-zA-Z0-9_]*$``; you will not be able to use natural naming to access this object; using ``getattr()`` will still work, though\n",
      "  check_attribute_name(name)\n",
      "/Users/richford/miniconda3/envs/afq-insight/lib/python3.6/site-packages/tables/path.py:157: NaturalNameWarning: object name is not a valid Python identifier: 'Right IFOF'; it does not match the pattern ``^[a-zA-Z_][a-zA-Z0-9_]*$``; you will not be able to use natural naming to access this object; using ``getattr()`` will still work, though\n",
      "  check_attribute_name(name)\n",
      "/Users/richford/miniconda3/envs/afq-insight/lib/python3.6/site-packages/tables/path.py:157: NaturalNameWarning: object name is not a valid Python identifier: 'Right ILF'; it does not match the pattern ``^[a-zA-Z_][a-zA-Z0-9_]*$``; you will not be able to use natural naming to access this object; using ``getattr()`` will still work, though\n",
      "  check_attribute_name(name)\n",
      "/Users/richford/miniconda3/envs/afq-insight/lib/python3.6/site-packages/tables/path.py:157: NaturalNameWarning: object name is not a valid Python identifier: 'Right SLF'; it does not match the pattern ``^[a-zA-Z_][a-zA-Z0-9_]*$``; you will not be able to use natural naming to access this object; using ``getattr()`` will still work, though\n",
      "  check_attribute_name(name)\n",
      "/Users/richford/miniconda3/envs/afq-insight/lib/python3.6/site-packages/tables/path.py:157: NaturalNameWarning: object name is not a valid Python identifier: 'Right Thalamic Radiation'; it does not match the pattern ``^[a-zA-Z_][a-zA-Z0-9_]*$``; you will not be able to use natural naming to access this object; using ``getattr()`` will still work, though\n",
      "  check_attribute_name(name)\n",
      "/Users/richford/miniconda3/envs/afq-insight/lib/python3.6/site-packages/tables/path.py:157: NaturalNameWarning: object name is not a valid Python identifier: 'Right Uncinate'; it does not match the pattern ``^[a-zA-Z_][a-zA-Z0-9_]*$``; you will not be able to use natural naming to access this object; using ``getattr()`` will still work, though\n",
      "  check_attribute_name(name)\n"
     ]
    }
   ],
   "source": [
    "dd.io.save(\"als_classify_betas.h5\", betas_by_group)"
   ]
  },
  {
   "cell_type": "code",
   "execution_count": 64,
   "metadata": {},
   "outputs": [],
   "source": [
    "betas_by_group = dd.io.load(\"als_classify_betas.h5\")"
   ]
  },
  {
   "cell_type": "code",
   "execution_count": 65,
   "metadata": {},
   "outputs": [],
   "source": [
    "metric = \"fa\"\n",
    "\n",
    "renderer = window.Renderer()\n",
    "renderer.background((1, 1, 1))\n",
    "colors = np.concatenate([betas_by_group[bn][metric]\n",
    "                         for bn in betas_by_group.keys()])\n",
    "bundle_names = betas_by_group.keys()\n",
    "bundles = [np.array(cores[bn][\"coreFiber\"]) for bn in bundle_names]\n",
    "stream_actor = actor.line(\n",
    "    lines=bundles,\n",
    "    colors=actor.create_colormap(colors, name='PuOr', auto=True),\n",
    "    linewidth=20,\n",
    "    spline_subdiv=300,\n",
    "    fake_tube=True,\n",
    ")\n",
    "\n",
    "renderer.add(stream_actor)\n",
    "window.show(renderer, size=(900, 900), reset_camera=True)"
   ]
  },
  {
   "cell_type": "code",
   "execution_count": 67,
   "metadata": {},
   "outputs": [
    {
     "data": {
      "text/plain": [
       "array([0.9682034 , 0.7208441 , 0.61229299])"
      ]
     },
     "execution_count": 67,
     "metadata": {},
     "output_type": "execute_result"
    }
   ],
   "source": [
    "actor.create_colormap(colors, name='coolwarm', auto=True)[115]"
   ]
  },
  {
   "cell_type": "code",
   "execution_count": 66,
   "metadata": {},
   "outputs": [
    {
     "data": {
      "text/plain": [
       "0.0"
      ]
     },
     "execution_count": 66,
     "metadata": {},
     "output_type": "execute_result"
    }
   ],
   "source": [
    "colors[115]"
   ]
  },
  {
   "cell_type": "code",
   "execution_count": 93,
   "metadata": {},
   "outputs": [
    {
     "ename": "TypeError",
     "evalue": "SetBackground argument 1: expected a sequence of 3 values, got 5 values",
     "output_type": "error",
     "traceback": [
      "\u001b[0;31m---------------------------------------------------------------------------\u001b[0m",
      "\u001b[0;31mTypeError\u001b[0m                                 Traceback (most recent call last)",
      "\u001b[0;32m<ipython-input-93-e9ea5b885513>\u001b[0m in \u001b[0;36m<module>\u001b[0;34m\u001b[0m\n\u001b[0;32m----> 1\u001b[0;31m \u001b[0mrenderer\u001b[0m\u001b[0;34m.\u001b[0m\u001b[0mbackground\u001b[0m\u001b[0;34m(\u001b[0m\u001b[0;34m'white'\u001b[0m\u001b[0;34m)\u001b[0m\u001b[0;34m\u001b[0m\u001b[0;34m\u001b[0m\u001b[0m\n\u001b[0m",
      "\u001b[0;32m~/miniconda3/envs/afq-insight/lib/python3.6/site-packages/fury/window.py\u001b[0m in \u001b[0;36mbackground\u001b[0;34m(self, color)\u001b[0m\n\u001b[1;32m     34\u001b[0m     \u001b[0;32mdef\u001b[0m \u001b[0mbackground\u001b[0m\u001b[0;34m(\u001b[0m\u001b[0mself\u001b[0m\u001b[0;34m,\u001b[0m \u001b[0mcolor\u001b[0m\u001b[0;34m)\u001b[0m\u001b[0;34m:\u001b[0m\u001b[0;34m\u001b[0m\u001b[0;34m\u001b[0m\u001b[0m\n\u001b[1;32m     35\u001b[0m         \u001b[0;34m\"\"\"Set a background color.\"\"\"\u001b[0m\u001b[0;34m\u001b[0m\u001b[0;34m\u001b[0m\u001b[0m\n\u001b[0;32m---> 36\u001b[0;31m         \u001b[0mself\u001b[0m\u001b[0;34m.\u001b[0m\u001b[0mSetBackground\u001b[0m\u001b[0;34m(\u001b[0m\u001b[0mcolor\u001b[0m\u001b[0;34m)\u001b[0m\u001b[0;34m\u001b[0m\u001b[0;34m\u001b[0m\u001b[0m\n\u001b[0m\u001b[1;32m     37\u001b[0m \u001b[0;34m\u001b[0m\u001b[0m\n\u001b[1;32m     38\u001b[0m     \u001b[0;32mdef\u001b[0m \u001b[0madd\u001b[0m\u001b[0;34m(\u001b[0m\u001b[0mself\u001b[0m\u001b[0;34m,\u001b[0m \u001b[0;34m*\u001b[0m\u001b[0mactors\u001b[0m\u001b[0;34m)\u001b[0m\u001b[0;34m:\u001b[0m\u001b[0;34m\u001b[0m\u001b[0;34m\u001b[0m\u001b[0m\n",
      "\u001b[0;31mTypeError\u001b[0m: SetBackground argument 1: expected a sequence of 3 values, got 5 values"
     ]
    }
   ],
   "source": []
  },
  {
   "cell_type": "code",
   "execution_count": null,
   "metadata": {},
   "outputs": [],
   "source": []
  }
 ],
 "metadata": {
  "kernelspec": {
   "display_name": "Python 3",
   "language": "python",
   "name": "python3"
  },
  "language_info": {
   "codemirror_mode": {
    "name": "ipython",
    "version": 3
   },
   "file_extension": ".py",
   "mimetype": "text/x-python",
   "name": "python",
   "nbconvert_exporter": "python",
   "pygments_lexer": "ipython3",
   "version": "3.6.7"
  }
 },
 "nbformat": 4,
 "nbformat_minor": 2
}
