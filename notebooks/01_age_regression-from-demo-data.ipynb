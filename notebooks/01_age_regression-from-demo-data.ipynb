{
 "cells": [
  {
   "cell_type": "markdown",
   "metadata": {},
   "source": [
    "# Predict age from AFQ-Browser-Demo data using AFQ-Insight"
   ]
  },
  {
   "cell_type": "code",
   "execution_count": 1,
   "metadata": {},
   "outputs": [],
   "source": [
    "import afqinsight as afqi\n",
    "import itertools\n",
    "import matplotlib.pyplot as plt\n",
    "import numpy as np\n",
    "import os.path as op\n",
    "import pandas as pd\n",
    "import pickle\n",
    "import ipywidgets\n",
    "\n",
    "from mpl_toolkits.mplot3d import Axes3D\n",
    "\n",
    "from bokeh.io import output_notebook\n",
    "from bokeh.embed import file_html\n",
    "from bokeh.layouts import row, column, widgetbox\n",
    "from bokeh.models import BoxSelectTool, ColorBar, CustomJS, HoverTool, Legend, Range1d, Title, Whisker\n",
    "from bokeh.models.tickers import FixedTicker\n",
    "from bokeh.models.annotations import LegendItem\n",
    "from bokeh.palettes import Spectral10, Cividis256, Category10_10\n",
    "from bokeh.plotting import figure, show, ColumnDataSource\n",
    "from bokeh.resources import CDN\n",
    "from bokeh.models.mappers import LinearColorMapper\n",
    "\n",
    "from sklearn.decomposition import PCA\n",
    "\n",
    "%matplotlib notebook"
   ]
  },
  {
   "cell_type": "code",
   "execution_count": 2,
   "metadata": {},
   "outputs": [
    {
     "data": {
      "text/html": [
       "\n",
       "    <div class=\"bk-root\">\n",
       "        <a href=\"https://bokeh.pydata.org\" target=\"_blank\" class=\"bk-logo bk-logo-small bk-logo-notebook\"></a>\n",
       "        <span id=\"1001\">Loading BokehJS ...</span>\n",
       "    </div>"
      ]
     },
     "metadata": {},
     "output_type": "display_data"
    },
    {
     "data": {
      "application/javascript": [
       "\n",
       "(function(root) {\n",
       "  function now() {\n",
       "    return new Date();\n",
       "  }\n",
       "\n",
       "  var force = true;\n",
       "\n",
       "  if (typeof root._bokeh_onload_callbacks === \"undefined\" || force === true) {\n",
       "    root._bokeh_onload_callbacks = [];\n",
       "    root._bokeh_is_loading = undefined;\n",
       "  }\n",
       "\n",
       "  var JS_MIME_TYPE = 'application/javascript';\n",
       "  var HTML_MIME_TYPE = 'text/html';\n",
       "  var EXEC_MIME_TYPE = 'application/vnd.bokehjs_exec.v0+json';\n",
       "  var CLASS_NAME = 'output_bokeh rendered_html';\n",
       "\n",
       "  /**\n",
       "   * Render data to the DOM node\n",
       "   */\n",
       "  function render(props, node) {\n",
       "    var script = document.createElement(\"script\");\n",
       "    node.appendChild(script);\n",
       "  }\n",
       "\n",
       "  /**\n",
       "   * Handle when an output is cleared or removed\n",
       "   */\n",
       "  function handleClearOutput(event, handle) {\n",
       "    var cell = handle.cell;\n",
       "\n",
       "    var id = cell.output_area._bokeh_element_id;\n",
       "    var server_id = cell.output_area._bokeh_server_id;\n",
       "    // Clean up Bokeh references\n",
       "    if (id != null && id in Bokeh.index) {\n",
       "      Bokeh.index[id].model.document.clear();\n",
       "      delete Bokeh.index[id];\n",
       "    }\n",
       "\n",
       "    if (server_id !== undefined) {\n",
       "      // Clean up Bokeh references\n",
       "      var cmd = \"from bokeh.io.state import curstate; print(curstate().uuid_to_server['\" + server_id + \"'].get_sessions()[0].document.roots[0]._id)\";\n",
       "      cell.notebook.kernel.execute(cmd, {\n",
       "        iopub: {\n",
       "          output: function(msg) {\n",
       "            var id = msg.content.text.trim();\n",
       "            if (id in Bokeh.index) {\n",
       "              Bokeh.index[id].model.document.clear();\n",
       "              delete Bokeh.index[id];\n",
       "            }\n",
       "          }\n",
       "        }\n",
       "      });\n",
       "      // Destroy server and session\n",
       "      var cmd = \"import bokeh.io.notebook as ion; ion.destroy_server('\" + server_id + \"')\";\n",
       "      cell.notebook.kernel.execute(cmd);\n",
       "    }\n",
       "  }\n",
       "\n",
       "  /**\n",
       "   * Handle when a new output is added\n",
       "   */\n",
       "  function handleAddOutput(event, handle) {\n",
       "    var output_area = handle.output_area;\n",
       "    var output = handle.output;\n",
       "\n",
       "    // limit handleAddOutput to display_data with EXEC_MIME_TYPE content only\n",
       "    if ((output.output_type != \"display_data\") || (!output.data.hasOwnProperty(EXEC_MIME_TYPE))) {\n",
       "      return\n",
       "    }\n",
       "\n",
       "    var toinsert = output_area.element.find(\".\" + CLASS_NAME.split(' ')[0]);\n",
       "\n",
       "    if (output.metadata[EXEC_MIME_TYPE][\"id\"] !== undefined) {\n",
       "      toinsert[toinsert.length - 1].firstChild.textContent = output.data[JS_MIME_TYPE];\n",
       "      // store reference to embed id on output_area\n",
       "      output_area._bokeh_element_id = output.metadata[EXEC_MIME_TYPE][\"id\"];\n",
       "    }\n",
       "    if (output.metadata[EXEC_MIME_TYPE][\"server_id\"] !== undefined) {\n",
       "      var bk_div = document.createElement(\"div\");\n",
       "      bk_div.innerHTML = output.data[HTML_MIME_TYPE];\n",
       "      var script_attrs = bk_div.children[0].attributes;\n",
       "      for (var i = 0; i < script_attrs.length; i++) {\n",
       "        toinsert[toinsert.length - 1].firstChild.setAttribute(script_attrs[i].name, script_attrs[i].value);\n",
       "      }\n",
       "      // store reference to server id on output_area\n",
       "      output_area._bokeh_server_id = output.metadata[EXEC_MIME_TYPE][\"server_id\"];\n",
       "    }\n",
       "  }\n",
       "\n",
       "  function register_renderer(events, OutputArea) {\n",
       "\n",
       "    function append_mime(data, metadata, element) {\n",
       "      // create a DOM node to render to\n",
       "      var toinsert = this.create_output_subarea(\n",
       "        metadata,\n",
       "        CLASS_NAME,\n",
       "        EXEC_MIME_TYPE\n",
       "      );\n",
       "      this.keyboard_manager.register_events(toinsert);\n",
       "      // Render to node\n",
       "      var props = {data: data, metadata: metadata[EXEC_MIME_TYPE]};\n",
       "      render(props, toinsert[toinsert.length - 1]);\n",
       "      element.append(toinsert);\n",
       "      return toinsert\n",
       "    }\n",
       "\n",
       "    /* Handle when an output is cleared or removed */\n",
       "    events.on('clear_output.CodeCell', handleClearOutput);\n",
       "    events.on('delete.Cell', handleClearOutput);\n",
       "\n",
       "    /* Handle when a new output is added */\n",
       "    events.on('output_added.OutputArea', handleAddOutput);\n",
       "\n",
       "    /**\n",
       "     * Register the mime type and append_mime function with output_area\n",
       "     */\n",
       "    OutputArea.prototype.register_mime_type(EXEC_MIME_TYPE, append_mime, {\n",
       "      /* Is output safe? */\n",
       "      safe: true,\n",
       "      /* Index of renderer in `output_area.display_order` */\n",
       "      index: 0\n",
       "    });\n",
       "  }\n",
       "\n",
       "  // register the mime type if in Jupyter Notebook environment and previously unregistered\n",
       "  if (root.Jupyter !== undefined) {\n",
       "    var events = require('base/js/events');\n",
       "    var OutputArea = require('notebook/js/outputarea').OutputArea;\n",
       "\n",
       "    if (OutputArea.prototype.mime_types().indexOf(EXEC_MIME_TYPE) == -1) {\n",
       "      register_renderer(events, OutputArea);\n",
       "    }\n",
       "  }\n",
       "\n",
       "  \n",
       "  if (typeof (root._bokeh_timeout) === \"undefined\" || force === true) {\n",
       "    root._bokeh_timeout = Date.now() + 5000;\n",
       "    root._bokeh_failed_load = false;\n",
       "  }\n",
       "\n",
       "  var NB_LOAD_WARNING = {'data': {'text/html':\n",
       "     \"<div style='background-color: #fdd'>\\n\"+\n",
       "     \"<p>\\n\"+\n",
       "     \"BokehJS does not appear to have successfully loaded. If loading BokehJS from CDN, this \\n\"+\n",
       "     \"may be due to a slow or bad network connection. Possible fixes:\\n\"+\n",
       "     \"</p>\\n\"+\n",
       "     \"<ul>\\n\"+\n",
       "     \"<li>re-rerun `output_notebook()` to attempt to load from CDN again, or</li>\\n\"+\n",
       "     \"<li>use INLINE resources instead, as so:</li>\\n\"+\n",
       "     \"</ul>\\n\"+\n",
       "     \"<code>\\n\"+\n",
       "     \"from bokeh.resources import INLINE\\n\"+\n",
       "     \"output_notebook(resources=INLINE)\\n\"+\n",
       "     \"</code>\\n\"+\n",
       "     \"</div>\"}};\n",
       "\n",
       "  function display_loaded() {\n",
       "    var el = document.getElementById(\"1001\");\n",
       "    if (el != null) {\n",
       "      el.textContent = \"BokehJS is loading...\";\n",
       "    }\n",
       "    if (root.Bokeh !== undefined) {\n",
       "      if (el != null) {\n",
       "        el.textContent = \"BokehJS \" + root.Bokeh.version + \" successfully loaded.\";\n",
       "      }\n",
       "    } else if (Date.now() < root._bokeh_timeout) {\n",
       "      setTimeout(display_loaded, 100)\n",
       "    }\n",
       "  }\n",
       "\n",
       "\n",
       "  function run_callbacks() {\n",
       "    try {\n",
       "      root._bokeh_onload_callbacks.forEach(function(callback) {\n",
       "        if (callback != null)\n",
       "          callback();\n",
       "      });\n",
       "    } finally {\n",
       "      delete root._bokeh_onload_callbacks\n",
       "    }\n",
       "    console.debug(\"Bokeh: all callbacks have finished\");\n",
       "  }\n",
       "\n",
       "  function load_libs(css_urls, js_urls, callback) {\n",
       "    if (css_urls == null) css_urls = [];\n",
       "    if (js_urls == null) js_urls = [];\n",
       "\n",
       "    root._bokeh_onload_callbacks.push(callback);\n",
       "    if (root._bokeh_is_loading > 0) {\n",
       "      console.debug(\"Bokeh: BokehJS is being loaded, scheduling callback at\", now());\n",
       "      return null;\n",
       "    }\n",
       "    if (js_urls == null || js_urls.length === 0) {\n",
       "      run_callbacks();\n",
       "      return null;\n",
       "    }\n",
       "    console.debug(\"Bokeh: BokehJS not loaded, scheduling load and callback at\", now());\n",
       "    root._bokeh_is_loading = css_urls.length + js_urls.length;\n",
       "\n",
       "    function on_load() {\n",
       "      root._bokeh_is_loading--;\n",
       "      if (root._bokeh_is_loading === 0) {\n",
       "        console.debug(\"Bokeh: all BokehJS libraries/stylesheets loaded\");\n",
       "        run_callbacks()\n",
       "      }\n",
       "    }\n",
       "\n",
       "    function on_error() {\n",
       "      console.error(\"failed to load \" + url);\n",
       "    }\n",
       "\n",
       "    for (var i = 0; i < css_urls.length; i++) {\n",
       "      var url = css_urls[i];\n",
       "      const element = document.createElement(\"link\");\n",
       "      element.onload = on_load;\n",
       "      element.onerror = on_error;\n",
       "      element.rel = \"stylesheet\";\n",
       "      element.type = \"text/css\";\n",
       "      element.href = url;\n",
       "      console.debug(\"Bokeh: injecting link tag for BokehJS stylesheet: \", url);\n",
       "      document.body.appendChild(element);\n",
       "    }\n",
       "\n",
       "    for (var i = 0; i < js_urls.length; i++) {\n",
       "      var url = js_urls[i];\n",
       "      var element = document.createElement('script');\n",
       "      element.onload = on_load;\n",
       "      element.onerror = on_error;\n",
       "      element.async = false;\n",
       "      element.src = url;\n",
       "      console.debug(\"Bokeh: injecting script tag for BokehJS library: \", url);\n",
       "      document.head.appendChild(element);\n",
       "    }\n",
       "  };var element = document.getElementById(\"1001\");\n",
       "  if (element == null) {\n",
       "    console.error(\"Bokeh: ERROR: autoload.js configured with elementid '1001' but no matching script tag was found. \")\n",
       "    return false;\n",
       "  }\n",
       "\n",
       "  function inject_raw_css(css) {\n",
       "    const element = document.createElement(\"style\");\n",
       "    element.appendChild(document.createTextNode(css));\n",
       "    document.body.appendChild(element);\n",
       "  }\n",
       "\n",
       "  var js_urls = [\"https://cdn.pydata.org/bokeh/release/bokeh-1.1.0.min.js\", \"https://cdn.pydata.org/bokeh/release/bokeh-widgets-1.1.0.min.js\", \"https://cdn.pydata.org/bokeh/release/bokeh-tables-1.1.0.min.js\", \"https://cdn.pydata.org/bokeh/release/bokeh-gl-1.1.0.min.js\"];\n",
       "  var css_urls = [\"https://cdn.pydata.org/bokeh/release/bokeh-1.1.0.min.css\", \"https://cdn.pydata.org/bokeh/release/bokeh-widgets-1.1.0.min.css\", \"https://cdn.pydata.org/bokeh/release/bokeh-tables-1.1.0.min.css\"];\n",
       "\n",
       "  var inline_js = [\n",
       "    function(Bokeh) {\n",
       "      Bokeh.set_log_level(\"info\");\n",
       "    },\n",
       "    \n",
       "    function(Bokeh) {\n",
       "      \n",
       "    },\n",
       "    function(Bokeh) {} // ensure no trailing comma for IE\n",
       "  ];\n",
       "\n",
       "  function run_inline_js() {\n",
       "    \n",
       "    if ((root.Bokeh !== undefined) || (force === true)) {\n",
       "      for (var i = 0; i < inline_js.length; i++) {\n",
       "        inline_js[i].call(root, root.Bokeh);\n",
       "      }if (force === true) {\n",
       "        display_loaded();\n",
       "      }} else if (Date.now() < root._bokeh_timeout) {\n",
       "      setTimeout(run_inline_js, 100);\n",
       "    } else if (!root._bokeh_failed_load) {\n",
       "      console.log(\"Bokeh: BokehJS failed to load within specified timeout.\");\n",
       "      root._bokeh_failed_load = true;\n",
       "    } else if (force !== true) {\n",
       "      var cell = $(document.getElementById(\"1001\")).parents('.cell').data().cell;\n",
       "      cell.output_area.append_execute_result(NB_LOAD_WARNING)\n",
       "    }\n",
       "\n",
       "  }\n",
       "\n",
       "  if (root._bokeh_is_loading === 0) {\n",
       "    console.debug(\"Bokeh: BokehJS loaded, going straight to plotting\");\n",
       "    run_inline_js();\n",
       "  } else {\n",
       "    load_libs(css_urls, js_urls, function() {\n",
       "      console.debug(\"Bokeh: BokehJS plotting callback run at\", now());\n",
       "      run_inline_js();\n",
       "    });\n",
       "  }\n",
       "}(window));"
      ],
      "application/vnd.bokehjs_load.v0+json": "\n(function(root) {\n  function now() {\n    return new Date();\n  }\n\n  var force = true;\n\n  if (typeof root._bokeh_onload_callbacks === \"undefined\" || force === true) {\n    root._bokeh_onload_callbacks = [];\n    root._bokeh_is_loading = undefined;\n  }\n\n  \n\n  \n  if (typeof (root._bokeh_timeout) === \"undefined\" || force === true) {\n    root._bokeh_timeout = Date.now() + 5000;\n    root._bokeh_failed_load = false;\n  }\n\n  var NB_LOAD_WARNING = {'data': {'text/html':\n     \"<div style='background-color: #fdd'>\\n\"+\n     \"<p>\\n\"+\n     \"BokehJS does not appear to have successfully loaded. If loading BokehJS from CDN, this \\n\"+\n     \"may be due to a slow or bad network connection. Possible fixes:\\n\"+\n     \"</p>\\n\"+\n     \"<ul>\\n\"+\n     \"<li>re-rerun `output_notebook()` to attempt to load from CDN again, or</li>\\n\"+\n     \"<li>use INLINE resources instead, as so:</li>\\n\"+\n     \"</ul>\\n\"+\n     \"<code>\\n\"+\n     \"from bokeh.resources import INLINE\\n\"+\n     \"output_notebook(resources=INLINE)\\n\"+\n     \"</code>\\n\"+\n     \"</div>\"}};\n\n  function display_loaded() {\n    var el = document.getElementById(\"1001\");\n    if (el != null) {\n      el.textContent = \"BokehJS is loading...\";\n    }\n    if (root.Bokeh !== undefined) {\n      if (el != null) {\n        el.textContent = \"BokehJS \" + root.Bokeh.version + \" successfully loaded.\";\n      }\n    } else if (Date.now() < root._bokeh_timeout) {\n      setTimeout(display_loaded, 100)\n    }\n  }\n\n\n  function run_callbacks() {\n    try {\n      root._bokeh_onload_callbacks.forEach(function(callback) {\n        if (callback != null)\n          callback();\n      });\n    } finally {\n      delete root._bokeh_onload_callbacks\n    }\n    console.debug(\"Bokeh: all callbacks have finished\");\n  }\n\n  function load_libs(css_urls, js_urls, callback) {\n    if (css_urls == null) css_urls = [];\n    if (js_urls == null) js_urls = [];\n\n    root._bokeh_onload_callbacks.push(callback);\n    if (root._bokeh_is_loading > 0) {\n      console.debug(\"Bokeh: BokehJS is being loaded, scheduling callback at\", now());\n      return null;\n    }\n    if (js_urls == null || js_urls.length === 0) {\n      run_callbacks();\n      return null;\n    }\n    console.debug(\"Bokeh: BokehJS not loaded, scheduling load and callback at\", now());\n    root._bokeh_is_loading = css_urls.length + js_urls.length;\n\n    function on_load() {\n      root._bokeh_is_loading--;\n      if (root._bokeh_is_loading === 0) {\n        console.debug(\"Bokeh: all BokehJS libraries/stylesheets loaded\");\n        run_callbacks()\n      }\n    }\n\n    function on_error() {\n      console.error(\"failed to load \" + url);\n    }\n\n    for (var i = 0; i < css_urls.length; i++) {\n      var url = css_urls[i];\n      const element = document.createElement(\"link\");\n      element.onload = on_load;\n      element.onerror = on_error;\n      element.rel = \"stylesheet\";\n      element.type = \"text/css\";\n      element.href = url;\n      console.debug(\"Bokeh: injecting link tag for BokehJS stylesheet: \", url);\n      document.body.appendChild(element);\n    }\n\n    for (var i = 0; i < js_urls.length; i++) {\n      var url = js_urls[i];\n      var element = document.createElement('script');\n      element.onload = on_load;\n      element.onerror = on_error;\n      element.async = false;\n      element.src = url;\n      console.debug(\"Bokeh: injecting script tag for BokehJS library: \", url);\n      document.head.appendChild(element);\n    }\n  };var element = document.getElementById(\"1001\");\n  if (element == null) {\n    console.error(\"Bokeh: ERROR: autoload.js configured with elementid '1001' but no matching script tag was found. \")\n    return false;\n  }\n\n  function inject_raw_css(css) {\n    const element = document.createElement(\"style\");\n    element.appendChild(document.createTextNode(css));\n    document.body.appendChild(element);\n  }\n\n  var js_urls = [\"https://cdn.pydata.org/bokeh/release/bokeh-1.1.0.min.js\", \"https://cdn.pydata.org/bokeh/release/bokeh-widgets-1.1.0.min.js\", \"https://cdn.pydata.org/bokeh/release/bokeh-tables-1.1.0.min.js\", \"https://cdn.pydata.org/bokeh/release/bokeh-gl-1.1.0.min.js\"];\n  var css_urls = [\"https://cdn.pydata.org/bokeh/release/bokeh-1.1.0.min.css\", \"https://cdn.pydata.org/bokeh/release/bokeh-widgets-1.1.0.min.css\", \"https://cdn.pydata.org/bokeh/release/bokeh-tables-1.1.0.min.css\"];\n\n  var inline_js = [\n    function(Bokeh) {\n      Bokeh.set_log_level(\"info\");\n    },\n    \n    function(Bokeh) {\n      \n    },\n    function(Bokeh) {} // ensure no trailing comma for IE\n  ];\n\n  function run_inline_js() {\n    \n    if ((root.Bokeh !== undefined) || (force === true)) {\n      for (var i = 0; i < inline_js.length; i++) {\n        inline_js[i].call(root, root.Bokeh);\n      }if (force === true) {\n        display_loaded();\n      }} else if (Date.now() < root._bokeh_timeout) {\n      setTimeout(run_inline_js, 100);\n    } else if (!root._bokeh_failed_load) {\n      console.log(\"Bokeh: BokehJS failed to load within specified timeout.\");\n      root._bokeh_failed_load = true;\n    } else if (force !== true) {\n      var cell = $(document.getElementById(\"1001\")).parents('.cell').data().cell;\n      cell.output_area.append_execute_result(NB_LOAD_WARNING)\n    }\n\n  }\n\n  if (root._bokeh_is_loading === 0) {\n    console.debug(\"Bokeh: BokehJS loaded, going straight to plotting\");\n    run_inline_js();\n  } else {\n    load_libs(css_urls, js_urls, function() {\n      console.debug(\"Bokeh: BokehJS plotting callback run at\", now());\n      run_inline_js();\n    });\n  }\n}(window));"
     },
     "metadata": {},
     "output_type": "display_data"
    }
   ],
   "source": [
    "output_notebook()"
   ]
  },
  {
   "cell_type": "markdown",
   "metadata": {},
   "source": [
    "## Load the data"
   ]
  },
  {
   "cell_type": "code",
   "execution_count": 3,
   "metadata": {},
   "outputs": [],
   "source": [
    "afq_data = afqi.load_afq_data(\n",
    "    '../data/raw/age_data',\n",
    "    target_cols=['Age'],\n",
    "    scale_x=False\n",
    ")\n",
    "\n",
    "x, y, groups, columns, bias_index = (\n",
    "    afq_data.x,\n",
    "    afq_data.y['Age'],\n",
    "    afq_data.groups,\n",
    "    afq_data.columns,\n",
    "    afq_data.bias_index\n",
    ")"
   ]
  },
  {
   "cell_type": "code",
   "execution_count": 4,
   "metadata": {},
   "outputs": [
    {
     "data": {
      "text/plain": [
       "243.16613916803428"
      ]
     },
     "execution_count": 4,
     "metadata": {},
     "output_type": "execute_result"
    }
   ],
   "source": [
    "np.linalg.cond(x)"
   ]
  },
  {
   "cell_type": "markdown",
   "metadata": {},
   "source": [
    "## Find the optimal feature coefficients $\\widehat{\\beta}$"
   ]
  },
  {
   "cell_type": "markdown",
   "metadata": {},
   "source": [
    "We search for the optimal coefficients using two different loss types: square loss and huber."
   ]
  },
  {
   "cell_type": "code",
   "execution_count": 5,
   "metadata": {},
   "outputs": [
    {
     "data": {
      "application/vnd.jupyter.widget-view+json": {
       "model_id": "44ff53f867fe4277bbaa83399b824c7f",
       "version_major": 2,
       "version_minor": 0
      },
      "text/plain": [
       "HBox(children=(IntProgress(value=0, max=15), HTML(value='')))"
      ]
     },
     "metadata": {},
     "output_type": "display_data"
    },
    {
     "name": "stdout",
     "output_type": "stream",
     "text": [
      "0it [00:00, ?it/s, best loss: ?]\n",
      "0it [00:00, ?it/s, best loss: ?]\n",
      "0it [00:00, ?it/s, best loss: ?]\n",
      "0it [00:00, ?it/s, best loss: ?]\n",
      "0it [00:00, ?it/s, best loss: ?]\n",
      "0it [00:00, ?it/s, best loss: ?]\n",
      "0it [00:00, ?it/s, best loss: ?]\n",
      "0it [00:00, ?it/s, best loss: ?]\n",
      "0it [00:00, ?it/s, best loss: ?]\n",
      "0it [00:00, ?it/s, best loss: ?]\n",
      "0it [00:00, ?it/s, best loss: ?]\n",
      "0it [00:00, ?it/s, best loss: ?]\n",
      "0it [00:00, ?it/s, best loss: ?]\n",
      "0it [00:00, ?it/s, best loss: ?]\n",
      "0it [00:00, ?it/s, best loss: ?]\n",
      "\n"
     ]
    }
   ],
   "source": [
    "hp_cv_res_r2 = afqi.fit_hyperparams_cv(\n",
    "    x, y, groups, bias_index=bias_index,\n",
    "    n_splits=5, n_repeats=3,\n",
    "    max_evals_per_cv=50, loss_type='square',\n",
    "    beta0=None,\n",
    "    score='r2',\n",
    "    trials_pickle_dir='./trials_age_from_demo_regression/cv3x5_rs42_transform_types_square_r2',\n",
    "    verbose=1, random_state=42, clf_threshold=0.5\n",
    ")"
   ]
  },
  {
   "cell_type": "code",
   "execution_count": 6,
   "metadata": {},
   "outputs": [
    {
     "data": {
      "application/vnd.jupyter.widget-view+json": {
       "model_id": "b5d66824a5154c70af9657a4fbffb554",
       "version_major": 2,
       "version_minor": 0
      },
      "text/plain": [
       "HBox(children=(IntProgress(value=0, max=15), HTML(value='')))"
      ]
     },
     "metadata": {},
     "output_type": "display_data"
    },
    {
     "name": "stdout",
     "output_type": "stream",
     "text": [
      "0it [00:00, ?it/s, best loss: ?]\n",
      "0it [00:00, ?it/s, best loss: ?]\n",
      "0it [00:00, ?it/s, best loss: ?]\n",
      "0it [00:00, ?it/s, best loss: ?]\n",
      "0it [00:00, ?it/s, best loss: ?]\n",
      "0it [00:00, ?it/s, best loss: ?]\n",
      "0it [00:00, ?it/s, best loss: ?]\n",
      "0it [00:00, ?it/s, best loss: ?]\n",
      "0it [00:00, ?it/s, best loss: ?]\n",
      "0it [00:00, ?it/s, best loss: ?]\n",
      "0it [00:00, ?it/s, best loss: ?]\n",
      "0it [00:00, ?it/s, best loss: ?]\n",
      "0it [00:00, ?it/s, best loss: ?]\n",
      "0it [00:00, ?it/s, best loss: ?]\n",
      "0it [00:00, ?it/s, best loss: ?]\n",
      "\n"
     ]
    }
   ],
   "source": [
    "hp_cv_res_medae = afqi.fit_hyperparams_cv(\n",
    "    x, y, groups, bias_index=bias_index,\n",
    "    n_splits=5, n_repeats=3,\n",
    "    max_evals_per_cv=50,\n",
    "    loss_type='square',\n",
    "    beta0=hp_cv_res_r2[0].beta_hat,\n",
    "    score='medae',\n",
    "    trials_pickle_dir='./trials_age_from_demo_regression/cv3x5_rs42_transform_types_square_medae',\n",
    "    verbose=1, random_state=42, clf_threshold=0.5\n",
    ")"
   ]
  },
  {
   "cell_type": "code",
   "execution_count": 7,
   "metadata": {},
   "outputs": [],
   "source": [
    "label_sets = afqi.multicol2sets(columns, tract_symmetry=True)\n",
    "select_labels = [[\"fa\"], [\"md\"]]\n",
    "x_md_fa = afqi.select_groups(np.delete(x, bias_index, axis=1), select_labels, label_sets)\n",
    "x_md_fa = np.hstack([x_md_fa, x[:, bias_index][:, np.newaxis]])"
   ]
  },
  {
   "cell_type": "code",
   "execution_count": 8,
   "metadata": {},
   "outputs": [
    {
     "data": {
      "application/vnd.jupyter.widget-view+json": {
       "model_id": "28f8672c4c7b430d8e7fe61ccf6d0335",
       "version_major": 2,
       "version_minor": 0
      },
      "text/plain": [
       "HBox(children=(IntProgress(value=0, max=15), HTML(value='')))"
      ]
     },
     "metadata": {},
     "output_type": "display_data"
    },
    {
     "name": "stdout",
     "output_type": "stream",
     "text": [
      "0it [00:00, ?it/s, best loss: ?]\n",
      "0it [00:00, ?it/s, best loss: ?]\n",
      "0it [00:00, ?it/s, best loss: ?]\n",
      "0it [00:00, ?it/s, best loss: ?]\n",
      "0it [00:00, ?it/s, best loss: ?]\n",
      "0it [00:00, ?it/s, best loss: ?]\n",
      "0it [00:00, ?it/s, best loss: ?]\n",
      "0it [00:00, ?it/s, best loss: ?]\n",
      "0it [00:00, ?it/s, best loss: ?]\n",
      "0it [00:00, ?it/s, best loss: ?]\n",
      "0it [00:00, ?it/s, best loss: ?]\n",
      "0it [00:00, ?it/s, best loss: ?]\n",
      "0it [00:00, ?it/s, best loss: ?]\n",
      "0it [00:00, ?it/s, best loss: ?]\n",
      "0it [00:00, ?it/s, best loss: ?]\n",
      "\n"
     ]
    }
   ],
   "source": [
    "hp_cv_res_medae_md_fa = afqi.fit_hyperparams_cv(\n",
    "    x_md_fa, y, groups[0:40], bias_index=4000,\n",
    "    n_splits=5, n_repeats=3,\n",
    "    max_evals_per_cv=40,\n",
    "    loss_type='square',\n",
    "    beta0=None,\n",
    "    score='medae',\n",
    "    trials_pickle_dir='./trials_age_from_demo_regression/cv3x5_rs42_transform_types_square_medae_md_fa_only',\n",
    "    verbose=1, random_state=42, clf_threshold=0.5\n",
    ")"
   ]
  },
  {
   "cell_type": "code",
   "execution_count": 9,
   "metadata": {},
   "outputs": [],
   "source": [
    "# hp_cv_res_square = afqi.fit_hyperparams_cv(\n",
    "#     x, y, groups, bias_index=bias_index,\n",
    "#     n_splits=5, n_repeats=3,\n",
    "#     max_evals_per_cv=50,\n",
    "#     loss_type='square',\n",
    "#     beta0=hp_cv_res_r2[0].beta_hat,\n",
    "#     score='rmse',\n",
    "#     trials_pickle_dir='./trials_age_from_demo_regression/cv3x5_rs42_transform_types_square_rmse',\n",
    "#     verbose=1, random_state=42, clf_threshold=0.5\n",
    "# )"
   ]
  },
  {
   "cell_type": "code",
   "execution_count": 10,
   "metadata": {},
   "outputs": [
    {
     "data": {
      "text/plain": [
       "[(1.308333578022212, 'power'),\n",
       " (1.4451756901947612, 'power'),\n",
       " (1.3448848510642792, 'power'),\n",
       " (1.0153552607604164, 'power'),\n",
       " (1.2870291126783182, 'power'),\n",
       " (1.003376067456136, 'power'),\n",
       " (1.057616305513259, 'power'),\n",
       " (1.1717808756628592, 'power'),\n",
       " (1.0038051760636006, 'power'),\n",
       " (1.5001004521848866, 'power'),\n",
       " (1.9572699983764492, 'power'),\n",
       " (1.376852897841195, 'power'),\n",
       " (1.005270870935569, 'exponentiation'),\n",
       " (1.084041717514223, 'power'),\n",
       " (1.0895019201978253, 'exponentiation')]"
      ]
     },
     "execution_count": 10,
     "metadata": {},
     "output_type": "execute_result"
    }
   ],
   "source": [
    "[(cv.eta, cv.transform_type) for cv in hp_cv_res_r2]"
   ]
  },
  {
   "cell_type": "code",
   "execution_count": 11,
   "metadata": {},
   "outputs": [
    {
     "data": {
      "text/plain": [
       "[(1.0600511810646331, 'exponentiation'),\n",
       " (1.0020598433267898, 'exponentiation'),\n",
       " (1.0068702080572887, 'exponentiation'),\n",
       " (1.02638042631787, 'exponentiation'),\n",
       " (1.025396676842336, 'exponentiation'),\n",
       " (1.0204869949808208, 'exponentiation'),\n",
       " (1.0061707663288886, 'exponentiation'),\n",
       " (1.0033298437899174, 'exponentiation'),\n",
       " (1.0025555027408934, 'exponentiation'),\n",
       " (1.0047972784439696, 'exponentiation'),\n",
       " (1.0172186252893334, 'exponentiation'),\n",
       " (1.0796138633443433, 'exponentiation'),\n",
       " (1.0831778092905289, 'exponentiation'),\n",
       " (1.014264329050301, 'exponentiation'),\n",
       " (1.032262579033703, 'exponentiation')]"
      ]
     },
     "execution_count": 11,
     "metadata": {},
     "output_type": "execute_result"
    }
   ],
   "source": [
    "[(cv.eta, cv.transform_type) for cv in hp_cv_res_medae]"
   ]
  },
  {
   "cell_type": "code",
   "execution_count": 12,
   "metadata": {},
   "outputs": [],
   "source": [
    "def print_results_summary(hp_cv_results):\n",
    "    template = '{stat:15s} {mean:7.5g} ({var:7.5g})'\n",
    "    test = [r.test for r in hp_cv_results]\n",
    "    train = [r.train for r in hp_cv_results]\n",
    "    test_rmse = [t.rmse for t in test]\n",
    "    test_r2 = [t.r2 for t in test]\n",
    "    test_medae = [t.medae for t in test]\n",
    "    train_medae = [t.medae for t in train]\n",
    "    train_rmse = [t.rmse for t in train]\n",
    "    train_r2 = [t.r2 for t in train]\n",
    "\n",
    "    print('Statistic         mean   (variance)')\n",
    "    print('--------------  ------- ------------')\n",
    "    print(template.format(stat='test RMSE', mean=np.mean(test_rmse), var=np.var(test_rmse)))\n",
    "    print(template.format(stat='test med AE', mean=np.mean(test_medae), var=np.var(test_medae)))\n",
    "    print(template.format(stat='test R2', mean=np.mean(test_r2), var=np.var(test_r2)))\n",
    "    print(template.format(stat='train RMSE', mean=np.mean(train_rmse), var=np.var(train_rmse)))\n",
    "    print(template.format(stat='train med AE', mean=np.mean(train_medae), var=np.var(train_medae)))\n",
    "    print(template.format(stat='train R2', mean=np.mean(train_r2), var=np.var(train_r2)))"
   ]
  },
  {
   "cell_type": "code",
   "execution_count": 13,
   "metadata": {},
   "outputs": [],
   "source": [
    "# print_results_summary(hp_cv_res_square)"
   ]
  },
  {
   "cell_type": "code",
   "execution_count": 14,
   "metadata": {},
   "outputs": [
    {
     "name": "stdout",
     "output_type": "stream",
     "text": [
      "Statistic         mean   (variance)\n",
      "--------------  ------- ------------\n",
      "test RMSE        9.8821 (  7.792)\n",
      "test med AE      5.5929 ( 2.9414)\n",
      "test R2         0.16394 (0.24533)\n",
      "train RMSE       3.6314 ( 2.2138)\n",
      "train med AE     3.0468 (0.28211)\n",
      "train R2        0.88916 (0.012866)\n"
     ]
    }
   ],
   "source": [
    "print_results_summary(hp_cv_res_r2)"
   ]
  },
  {
   "cell_type": "code",
   "execution_count": 15,
   "metadata": {},
   "outputs": [
    {
     "name": "stdout",
     "output_type": "stream",
     "text": [
      "Statistic         mean   (variance)\n",
      "--------------  ------- ------------\n",
      "test RMSE        11.381 ( 11.643)\n",
      "test med AE      5.2997 ( 8.0123)\n",
      "test R2         -0.010451 (0.089979)\n",
      "train RMSE       7.6033 (0.36323)\n",
      "train med AE     4.2009 (0.20909)\n",
      "train R2        0.60132 (0.0018586)\n"
     ]
    }
   ],
   "source": [
    "print_results_summary(hp_cv_res_medae)"
   ]
  },
  {
   "cell_type": "code",
   "execution_count": 16,
   "metadata": {},
   "outputs": [
    {
     "name": "stdout",
     "output_type": "stream",
     "text": [
      "Statistic         mean   (variance)\n",
      "--------------  ------- ------------\n",
      "test RMSE        8.3625 ( 6.6025)\n",
      "test med AE      3.6467 ( 4.6138)\n",
      "test R2         0.30735 (0.52887)\n",
      "train RMSE       1.0196 ( 1.5776)\n",
      "train med AE    0.45003 ( 0.2593)\n",
      "train R2        0.98102 (0.0029465)\n"
     ]
    }
   ],
   "source": [
    "print_results_summary(hp_cv_res_medae_md_fa)"
   ]
  },
  {
   "cell_type": "code",
   "execution_count": 17,
   "metadata": {},
   "outputs": [],
   "source": [
    "cv_results = [cv for cv in hp_cv_res_medae_md_fa]\n",
    "\n",
    "test_set_y_hat = pd.concat([\n",
    "    pd.Series(data=afqi.target_transformation(cv.test.x.dot(cv.beta_hat),\n",
    "                                              eta=cv.eta,\n",
    "                                              transform_type=cv.transform_type),\n",
    "              index=cv.test.y.index,\n",
    "              name='yhat')\n",
    "    for cv in cv_results\n",
    "]).groupby('subjectID').mean()\n",
    "\n",
    "test_set_cv_idx = pd.concat([\n",
    "    pd.Series(data=np.ones_like(cv.test.y.index) * idx,\n",
    "              index=cv.test.y.index,\n",
    "              name='cv_idx')\n",
    "    for idx, cv in enumerate(cv_results)\n",
    "]).apply(pd.to_numeric).groupby('subjectID').mean()\n",
    "\n",
    "# test_set_cv_color = pd.concat([\n",
    "#     pd.Series(data=np.ones_like(cv.test.y.index) * Spectral10[idx % 10],\n",
    "#               index=cv.test.y.index,\n",
    "#               name='cv_color')\n",
    "#     for idx, cv in enumerate(cv_results)\n",
    "# ])\n",
    "\n",
    "test_set_rmse = pd.concat([\n",
    "    pd.Series(data=np.ones_like(cv.test.y.index) * cv.test.rmse,\n",
    "              index=cv.test.y.index,\n",
    "              name='rmse')\n",
    "    for cv in cv_results\n",
    "]).apply(pd.to_numeric).groupby('subjectID').mean()"
   ]
  },
  {
   "cell_type": "code",
   "execution_count": 18,
   "metadata": {},
   "outputs": [
    {
     "data": {
      "text/html": [
       "<div>\n",
       "<style scoped>\n",
       "    .dataframe tbody tr th:only-of-type {\n",
       "        vertical-align: middle;\n",
       "    }\n",
       "\n",
       "    .dataframe tbody tr th {\n",
       "        vertical-align: top;\n",
       "    }\n",
       "\n",
       "    .dataframe thead th {\n",
       "        text-align: right;\n",
       "    }\n",
       "</style>\n",
       "<table border=\"1\" class=\"dataframe\">\n",
       "  <thead>\n",
       "    <tr style=\"text-align: right;\">\n",
       "      <th></th>\n",
       "      <th>Age</th>\n",
       "      <th>yhat</th>\n",
       "      <th>cv_idx</th>\n",
       "      <th>rmse</th>\n",
       "      <th>index</th>\n",
       "      <th>stdres</th>\n",
       "      <th>res</th>\n",
       "      <th>size</th>\n",
       "      <th>subject_id</th>\n",
       "    </tr>\n",
       "    <tr>\n",
       "      <th>subjectID</th>\n",
       "      <th></th>\n",
       "      <th></th>\n",
       "      <th></th>\n",
       "      <th></th>\n",
       "      <th></th>\n",
       "      <th></th>\n",
       "      <th></th>\n",
       "      <th></th>\n",
       "      <th></th>\n",
       "    </tr>\n",
       "  </thead>\n",
       "  <tbody>\n",
       "    <tr>\n",
       "      <th>subject_000</th>\n",
       "      <td>20</td>\n",
       "      <td>18.258082</td>\n",
       "      <td>7.666667</td>\n",
       "      <td>8.533942</td>\n",
       "      <td>0</td>\n",
       "      <td>0.216148</td>\n",
       "      <td>1.741918</td>\n",
       "      <td>85.339425</td>\n",
       "      <td>subject_000</td>\n",
       "    </tr>\n",
       "    <tr>\n",
       "      <th>subject_001</th>\n",
       "      <td>31</td>\n",
       "      <td>17.278382</td>\n",
       "      <td>7.000000</td>\n",
       "      <td>7.449756</td>\n",
       "      <td>1</td>\n",
       "      <td>1.702664</td>\n",
       "      <td>13.721618</td>\n",
       "      <td>74.497565</td>\n",
       "      <td>subject_001</td>\n",
       "    </tr>\n",
       "    <tr>\n",
       "      <th>subject_002</th>\n",
       "      <td>18</td>\n",
       "      <td>18.657529</td>\n",
       "      <td>8.333333</td>\n",
       "      <td>7.604281</td>\n",
       "      <td>2</td>\n",
       "      <td>-0.081590</td>\n",
       "      <td>-0.657529</td>\n",
       "      <td>76.042813</td>\n",
       "      <td>subject_002</td>\n",
       "    </tr>\n",
       "    <tr>\n",
       "      <th>subject_003</th>\n",
       "      <td>28</td>\n",
       "      <td>35.145521</td>\n",
       "      <td>6.333333</td>\n",
       "      <td>9.934976</td>\n",
       "      <td>3</td>\n",
       "      <td>-0.886661</td>\n",
       "      <td>-7.145521</td>\n",
       "      <td>99.349757</td>\n",
       "      <td>subject_003</td>\n",
       "    </tr>\n",
       "    <tr>\n",
       "      <th>subject_004</th>\n",
       "      <td>29</td>\n",
       "      <td>17.444871</td>\n",
       "      <td>6.333333</td>\n",
       "      <td>10.688884</td>\n",
       "      <td>4</td>\n",
       "      <td>1.433833</td>\n",
       "      <td>11.555129</td>\n",
       "      <td>106.888845</td>\n",
       "      <td>subject_004</td>\n",
       "    </tr>\n",
       "  </tbody>\n",
       "</table>\n",
       "</div>"
      ],
      "text/plain": [
       "             Age       yhat    cv_idx       rmse  index    stdres        res  \\\n",
       "subjectID                                                                      \n",
       "subject_000   20  18.258082  7.666667   8.533942      0  0.216148   1.741918   \n",
       "subject_001   31  17.278382  7.000000   7.449756      1  1.702664  13.721618   \n",
       "subject_002   18  18.657529  8.333333   7.604281      2 -0.081590  -0.657529   \n",
       "subject_003   28  35.145521  6.333333   9.934976      3 -0.886661  -7.145521   \n",
       "subject_004   29  17.444871  6.333333  10.688884      4  1.433833  11.555129   \n",
       "\n",
       "                   size   subject_id  \n",
       "subjectID                             \n",
       "subject_000   85.339425  subject_000  \n",
       "subject_001   74.497565  subject_001  \n",
       "subject_002   76.042813  subject_002  \n",
       "subject_003   99.349757  subject_003  \n",
       "subject_004  106.888845  subject_004  "
      ]
     },
     "execution_count": 18,
     "metadata": {},
     "output_type": "execute_result"
    }
   ],
   "source": [
    "df_y = pd.concat([\n",
    "    y,\n",
    "    test_set_y_hat,\n",
    "    test_set_cv_idx,\n",
    "#     test_set_cv_color,\n",
    "    test_set_rmse\n",
    "], axis='columns', sort=True)\n",
    "df_y['index'] = np.arange(len(y), dtype=np.int32)\n",
    "df_y['stdres'] = (df_y['Age'] - df_y['yhat']) / (np.std(df_y['Age'] - df_y['yhat']))\n",
    "df_y['res'] = df_y['Age'] - df_y['yhat']\n",
    "df_y['size'] = 10 * df_y['rmse']\n",
    "df_y['subject_id'] = df_y.index\n",
    "df_y.head()"
   ]
  },
  {
   "cell_type": "code",
   "execution_count": 19,
   "metadata": {},
   "outputs": [
    {
     "data": {
      "text/html": [
       "\n",
       "\n",
       "\n",
       "\n",
       "\n",
       "\n",
       "  <div class=\"bk-root\" id=\"a9470836-48de-4368-9771-c45b19c4505b\" data-root-id=\"1002\"></div>\n"
      ]
     },
     "metadata": {},
     "output_type": "display_data"
    },
    {
     "data": {
      "application/javascript": [
       "(function(root) {\n",
       "  function embed_document(root) {\n",
       "    \n",
       "  var docs_json = {\"bc649f67-9cb2-45d1-a359-0ab9d9e4eaf2\":{\"roots\":{\"references\":[{\"attributes\":{\"below\":[{\"id\":\"1011\",\"type\":\"LinearAxis\"}],\"center\":[{\"id\":\"1015\",\"type\":\"Grid\"},{\"id\":\"1020\",\"type\":\"Grid\"}],\"left\":[{\"id\":\"1016\",\"type\":\"LinearAxis\"}],\"renderers\":[{\"id\":\"1040\",\"type\":\"GlyphRenderer\"}],\"title\":{\"id\":\"1034\",\"type\":\"Title\"},\"toolbar\":{\"id\":\"1027\",\"type\":\"Toolbar\"},\"toolbar_location\":\"above\",\"x_range\":{\"id\":\"1003\",\"type\":\"DataRange1d\"},\"x_scale\":{\"id\":\"1007\",\"type\":\"LinearScale\"},\"y_range\":{\"id\":\"1005\",\"type\":\"DataRange1d\"},\"y_scale\":{\"id\":\"1009\",\"type\":\"LinearScale\"}},\"id\":\"1002\",\"subtype\":\"Figure\",\"type\":\"Plot\"},{\"attributes\":{},\"id\":\"1048\",\"type\":\"BasicTickFormatter\"},{\"attributes\":{},\"id\":\"1026\",\"type\":\"HelpTool\"},{\"attributes\":{},\"id\":\"1007\",\"type\":\"LinearScale\"},{\"attributes\":{\"dimension\":1,\"ticker\":{\"id\":\"1017\",\"type\":\"BasicTicker\"}},\"id\":\"1020\",\"type\":\"Grid\"},{\"attributes\":{},\"id\":\"1049\",\"type\":\"Selection\"},{\"attributes\":{\"source\":{\"id\":\"1035\",\"type\":\"ColumnDataSource\"}},\"id\":\"1041\",\"type\":\"CDSView\"},{\"attributes\":{\"axis_label\":\"Residuals\",\"formatter\":{\"id\":\"1048\",\"type\":\"BasicTickFormatter\"},\"ticker\":{\"id\":\"1017\",\"type\":\"BasicTicker\"}},\"id\":\"1016\",\"type\":\"LinearAxis\"},{\"attributes\":{},\"id\":\"1017\",\"type\":\"BasicTicker\"},{\"attributes\":{\"axis_label\":\"Subject\",\"formatter\":{\"id\":\"1046\",\"type\":\"BasicTickFormatter\"},\"ticker\":{\"id\":\"1012\",\"type\":\"BasicTicker\"}},\"id\":\"1011\",\"type\":\"LinearAxis\"},{\"attributes\":{\"callback\":null,\"data\":{\"Age\":[20,31,18,28,29,36,39,34,24,21,29,31,28,20,21,20,31,32,12,14,13,12,12,11,9,14,8,10,7,8,11,11,21,9,24,8,8,14,10,14,7,8,9,8,8,11,6,9,8,9,32,16,9,9,8,15,9,10,9,8,9,24,24,9,9,43,13,44,50,47,46,18,40,50,40,17,17],\"cv_idx\":{\"__ndarray__\":\"q6qqqqqqHkAAAAAAAAAcQKuqqqqqqiBAVVVVVVVVGUBVVVVVVVUZQKuqqqqqqhpAq6qqqqqqGkCrqqqqqqoaQKuqqqqqqiBAq6qqqqqqFkCrqqqqqqoaQAAAAAAAACBAVVVVVVVVFUBVVVVVVVUZQFVVVVVVVSFAVVVVVVVVGUAAAAAAAAAcQAAAAAAAABhAAAAAAAAAGEAAAAAAAAAYQKuqqqqqqhpAAAAAAAAAHECrqqqqqqoaQFVVVVVVVSFAAAAAAAAAGECrqqqqqqoeQAAAAAAAACBAq6qqqqqqIEBVVVVVVVUZQKuqqqqqqh5Aq6qqqqqqFkCrqqqqqqoaQAAAAAAAACBAVVVVVVVVGUBVVVVVVVUZQFVVVVVVVRVAq6qqqqqqHkBVVVVVVVUdQKuqqqqqqh5AVVVVVVVVGUCrqqqqqqoeQAAAAAAAACBAAAAAAAAAHEBVVVVVVVUdQFVVVVVVVR1AVVVVVVVVFUAAAAAAAAAcQFVVVVVVVRVAAAAAAAAAHEBVVVVVVVUVQFVVVVVVVR1Aq6qqqqqqGkAAAAAAAAAgQAAAAAAAABhAAAAAAAAAHECrqqqqqqoaQKuqqqqqqhpAq6qqqqqqHkAAAAAAAAAYQKuqqqqqqiBAq6qqqqqqIEBVVVVVVVUdQFVVVVVVVR1AAAAAAAAAHEAAAAAAAAAcQKuqqqqqqhpAVVVVVVVVGUBVVVVVVVUhQKuqqqqqqhpAq6qqqqqqGkBVVVVVVVUdQAAAAAAAACBAVVVVVVVVHUBVVVVVVVUdQAAAAAAAABhAAAAAAAAAIEAAAAAAAAAYQA==\",\"dtype\":\"float64\",\"shape\":[77]},\"index\":{\"__ndarray__\":\"AAAAAAEAAAACAAAAAwAAAAQAAAAFAAAABgAAAAcAAAAIAAAACQAAAAoAAAALAAAADAAAAA0AAAAOAAAADwAAABAAAAARAAAAEgAAABMAAAAUAAAAFQAAABYAAAAXAAAAGAAAABkAAAAaAAAAGwAAABwAAAAdAAAAHgAAAB8AAAAgAAAAIQAAACIAAAAjAAAAJAAAACUAAAAmAAAAJwAAACgAAAApAAAAKgAAACsAAAAsAAAALQAAAC4AAAAvAAAAMAAAADEAAAAyAAAAMwAAADQAAAA1AAAANgAAADcAAAA4AAAAOQAAADoAAAA7AAAAPAAAAD0AAAA+AAAAPwAAAEAAAABBAAAAQgAAAEMAAABEAAAARQAAAEYAAABHAAAASAAAAEkAAABKAAAASwAAAEwAAAA=\",\"dtype\":\"int32\",\"shape\":[77]},\"res\":{\"__ndarray__\":\"sEsngeXe+z8a/Jrhd3ErQADFXjd5CuW/KAYvdgOVHMA2fgzqORwnQNpqdQMIqSRAAE1ldcAVDECsLrdYFy8aQOyJ0VlNSBtAgAc6L8OaFsAuj407wBwgQHqQDD6vESpAgKmPQKyY/D8Av6ydFA7fv6iSPVc7eAVAgK6MNhYn4z/+ymsH4HEpQLasA3+TuDBAlGAgRg3cCUAWW+v6UsISQFAM0JZ3de4/gJzok3gd6r+gYYDbqg7wvxyYxiNqwwPArsUQ0nPwAkAwZ4lLAJbjPxizJfsqPP2/aLqbacMF/L9IWx1YT6oWwPaf+Z4quABAQMs8TEOv5j/AV2m+0vr2P6t8sK1XNylA4u/aEam6J8BgiGL+lw7vvwKy40RrrgBATBNADX3/C8Cg6+w33d70P+iBntusaANApEgtWRS6HcAqiGxWRwgVwPjZNEU72eQ/AJsMis+UqT9sVBYfsBAGwMCAGgeRxfk/2J++IPEO+r8wMg4NZG38P+SWyzlsRQ7AIAg1aT7Vwj+ytnr+fiQMQGDQ18fnKPe/9OSRsc0pAkAAZRKel9viv+ALI7MB8vi/QEWqTiCcEsAQNEuBr+7yv3rLgIxUoAlArQS5uZyZNcBo/4IMx3kIQCaUcHO2BAZAcgLopIymF0CY5ugyBZwDQBgAM/NR+AJAxjTcsLMgAECA1kXSljW2PycmPwxqjjRAYKzZE8sIBcBg3Nly+SEfQFPA2rEi8z1A2ZBvCYaUMEB0HXj7ye43QGIVmi1yLRdAQLNM8p2WLUCQ8TyLfuMuQG/3C6icKDdAuBI9MysOB8BA0EmoEf32vw==\",\"dtype\":\"float64\",\"shape\":[77]},\"rmse\":{\"__ndarray__\":\"mZE86GARIUAN2IP0jMwdQET4ObrIah5AD12PIrXeI0DZPsp3tWAlQGS02HcI/iFA/anOKCiSH0CDRkC5SIsVQPXeDryeDx9ALfVkt2ELIEBBrf9RiSIgQBKBacmMCSNAc7eW0zZaIUC/tO+PjwoZQNPyKBntJxdA9FtdsBO/IEC4goc8fXAkQDNwmHN01CBAU4WzjePGJUAzcJhzdNQgQAgWON60BxtAHqBk2/lwFEAZCBjwsCwhQNPyKBntJxdAcShfrgdiGUCQInNRKe8dQDNyJ3TObCFA0+yWwJqwJEANy6Px8igYQHWUH18C7R5ADNCb4TAPIUB/NaIvO2EjQBKBacmMCSNA2T7Kd7VgJUDZtGqC0AMgQHO3ltM2WiFAc4ZiNy+CIUCUL8CNGY0cQFGVpIztHiNA9AEpDxTOIEAnx7qp+zYcQBKBacmMCSNAP6gUgvTxIEBMQJpG660hQEPieS2iZB5Ac7eW0zZaIUD1TkNA8SckQFGSzf0FXiJAi9RsT90GIECjENwQQgIaQLFLHuKl1B5ACBY43rQHG0ClAQrbWZgYQOkK3ZzPpSFAi3o4rt0VIEA0Y34DUj0kQECMeQnO3xhA5Qz0+YCLH0A5xFor6RwiQO0N6JyTVRlAAQtfsiLSIEBnQcy4jM0kQEPieS2iZB5ADdiD9IzMHUDQhjndzxUVQJR8mFvgESRAX8pJDIZ7IkDBdoypMHkiQIVjAUMeVyZAGGJMkbAdIUBnQcy4jM0kQBe3ht7BgCJAewhaKsPBI0Ar9af6qVkjQFOFs43jxiVAM3IndM5sIUAzcJhzdNQgQA==\",\"dtype\":\"float64\",\"shape\":[77]},\"size\":{\"__ndarray__\":\"/7VLIrlVVUAIZ9IY2J9SQCo7ZHS9AlNAUzQza2LWWECPzrzV4rhaQH3hzpWKfVZAPiqBGVm7U0AkWJDnGu5KQFlLiTXDaVNAeDI+JToOVECRmH+mKytUQFbhw/vvy1dAUGV8iMSwVUDvoetzM01PQIgvc1/o8UxA8bJ0nNjuVEBmY6mLnIxZQECMfpCRCVVAqGYgcZw4W0BAjH6QkQlVQMUN4wrR5FBAJsg9UjiNSUAfCh4s3XdVQIgvc1/o8UxAjfL2mYm6T0Ca9efSebVSQMBOMRECyFVACKi8cMHcWUDQvQyuLzNOQMm8c3shVFNAD8QCGv1SVUDfwor7iTlYQFbhw/vvy1dAj8681eK4WkAPYgWjxARUQFBlfIjEsFVAECg7BbviVUC8HZj4L9hRQKW6ze+o5ldAcULzEpkBVUB4vBRKXaJRQFbhw/vvy1dAT9KZonEuVUBf0EAYZhlWQGotbFzl/lJAUGV8iMSwVUCyIlSQ7TFZQOX2QH2H9VZArglIo5QIVEBmiolKaUFQQE/vUq3nRFNAxQ3jCtHkUEAOgsxRcL5OQKNNFIRDD1ZALpnGGVUbVEAB/F2EpkxZQFDv14vBF09AD4g4nDC3U0BHdTF2I6RWQGgRIoT4qk9Awc32XqsGVUDBUf/m7wBaQGotbFzl/lJACGfSGNifUkCE6IfUQ1tKQLmbfnJYFllA9zxcj2caV0BxlO/TfBdXQGa8wdPl7FtAnnqftRxlVUDBUf/m7wBaQN1kKFbyIFdAmorw9DOyWEB28lF5FDBYQKhmIHGcOFtAwE4xEQLIVUBAjH6QkQlVQA==\",\"dtype\":\"float64\",\"shape\":[77]},\"stdres\":{\"__ndarray__\":\"irSAwb2qyz9x97LoHD77PxNCQVgZ47S/c6Ny6YZf7L9HG0mz+vD2P5kyD31egvQ/2v+8DjLh2z9oz/alF/7pP5wB/Gk/Fes/6fZ1PXZw5r8fufzrMv3vP1wi3pLm4Pk/+NvH2ihjzD8wsX1j99Ouv2xEQBMOUNU/IzP26j4Dsz8D8qJqQkL5P26ruB9JmQBAgZVA+Kir2T8hGrw+OJ/iP6Gar/N3PL4//b1L2pnsub+foZThPOG/v2Pdrk1untO/+pajwwLN0j+/jz1xWXGzPzZAV6F1Bc2/gG9k7lLRy7/uqydO5X/mv+sr8APhmNA/ToWE/c+Etj/8oLYJ0s/GP5NGk5knCPk/KgeDX0GO97/7kFnOedS+v5n3euczj9A/xOcQUBjL278QrVb0zrfEP0QAMNNaRNM/qzkXYHOC7b9B9MSS6+Dkv/Eb+4s3srQ/t4wAjfBkeT+UwlqPZefVvx1XEc1Wlck/JY9zly3eyb+z/v2lMTjMP3RG137GDN6/DwJdRQCykj/zQWsA1e/bPznM/daQ/ca/ZjcEYNAH0j+YAO6YTbiyv/jrGF9Tw8i/arSbDU154r+pjUzBQcvCv75/4gBgcNk/S8V+/jBxBcC6MH+1+UvYP7PklkyC29U/d9f3lEp65z+2yhIVU3fTP6zOqyvS1NI/Bz6HhoUC0D/AuKQ0BwyGP0lFB1XyZwRAMq6qWW7h1L8aakv+tufuP43td/MWuw1ArqyCIX91AEATq2K8AMIHQPU/hb0SAuc/1xjnVT9f/T9E024Csan+P7/+xkNG/QZAvL/bSgbj1r+Qqry/DNLGvw==\",\"dtype\":\"float64\",\"shape\":[77]},\"subjectID\":[\"subject_000\",\"subject_001\",\"subject_002\",\"subject_003\",\"subject_004\",\"subject_005\",\"subject_006\",\"subject_007\",\"subject_008\",\"subject_009\",\"subject_010\",\"subject_011\",\"subject_012\",\"subject_013\",\"subject_014\",\"subject_015\",\"subject_016\",\"subject_017\",\"subject_018\",\"subject_019\",\"subject_020\",\"subject_021\",\"subject_022\",\"subject_023\",\"subject_024\",\"subject_025\",\"subject_026\",\"subject_027\",\"subject_028\",\"subject_029\",\"subject_030\",\"subject_031\",\"subject_032\",\"subject_033\",\"subject_034\",\"subject_035\",\"subject_036\",\"subject_037\",\"subject_038\",\"subject_039\",\"subject_040\",\"subject_041\",\"subject_042\",\"subject_043\",\"subject_044\",\"subject_045\",\"subject_046\",\"subject_047\",\"subject_048\",\"subject_049\",\"subject_050\",\"subject_051\",\"subject_052\",\"subject_053\",\"subject_054\",\"subject_055\",\"subject_056\",\"subject_057\",\"subject_058\",\"subject_059\",\"subject_060\",\"subject_061\",\"subject_062\",\"subject_063\",\"subject_064\",\"subject_065\",\"subject_066\",\"subject_067\",\"subject_068\",\"subject_069\",\"subject_070\",\"subject_071\",\"subject_072\",\"subject_073\",\"subject_074\",\"subject_075\",\"subject_076\"],\"subject_id\":[\"subject_000\",\"subject_001\",\"subject_002\",\"subject_003\",\"subject_004\",\"subject_005\",\"subject_006\",\"subject_007\",\"subject_008\",\"subject_009\",\"subject_010\",\"subject_011\",\"subject_012\",\"subject_013\",\"subject_014\",\"subject_015\",\"subject_016\",\"subject_017\",\"subject_018\",\"subject_019\",\"subject_020\",\"subject_021\",\"subject_022\",\"subject_023\",\"subject_024\",\"subject_025\",\"subject_026\",\"subject_027\",\"subject_028\",\"subject_029\",\"subject_030\",\"subject_031\",\"subject_032\",\"subject_033\",\"subject_034\",\"subject_035\",\"subject_036\",\"subject_037\",\"subject_038\",\"subject_039\",\"subject_040\",\"subject_041\",\"subject_042\",\"subject_043\",\"subject_044\",\"subject_045\",\"subject_046\",\"subject_047\",\"subject_048\",\"subject_049\",\"subject_050\",\"subject_051\",\"subject_052\",\"subject_053\",\"subject_054\",\"subject_055\",\"subject_056\",\"subject_057\",\"subject_058\",\"subject_059\",\"subject_060\",\"subject_061\",\"subject_062\",\"subject_063\",\"subject_064\",\"subject_065\",\"subject_066\",\"subject_067\",\"subject_068\",\"subject_069\",\"subject_070\",\"subject_071\",\"subject_072\",\"subject_073\",\"subject_074\",\"subject_075\",\"subject_076\"],\"yhat\":{\"__ndarray__\":\"RYvtpxFCMkDzgTIPREcxQCj2uslTqDJAxeDFbqCSQUDlwPkK43ExQJNKRf57qzlAMKup+KO+QUBVNNIpOnQ7QIWdi6nsLTFA4IHOy7CmOkBpODnin/E0QMO3+WAo9zFAaAX3O3U2OkD8snZSOHw0QKtNGJX4UDJAjJpLTsdmM0CBGkr8D0cyQJWm+AHZji5A2+d3rvyIIUB1UoqC1p4iQDv/koaoGChAyIk+idehKUA0DHBb1QEqQAem8Yja8CpAKZ33FsaHGkCNaUf7n8YqQGO2ZF+FpyNATXczbbiAJ0CkrQ6sJ1UpQAUwg7DqoxdATDM8ywuVJEAI1TKopSAjQFWDT1KoyCBA8XftiFTdNEBDFPO/dPg4QP8mjl3KqBdA0wRQQ9//JkCMYgJZJGQpQAy/MJKpSx5AKVJLFoVuNUAVRDarI4QoQMFkWZfYZB1AZfN1MGvmIUAblcUHLIQlQNBfOb6bjhlA+9MXJN5BKUB0c7z8puQQQLnlcg5bkSlAv1e2DFZpH0CnpMKAwO0VQIO+Pj5HuUBAw4abk4x1K0BQJuF5uS0jQHxhZDZAHiVAoCJVJxBOKUBBsxT46i4wQEOav7nVLxdArQS5uZyZP0BMgL55HMMXQO21R8ak/RRAG/svtuayCEAt46JZf4w1QP2fmcH1oDVAneWRJ6bvG0BTdFvSlNMhQNnZwPOVcTZAGGv2xDJCL0B0xKTRwBtCQK0/JU7dDDRAJ2+Q9nlrPkCM4ocENhE2QE/1MulGaShAYKbZBrE0OUCcwzBdIEdBQJEI9Fdj1zBAV6JnZsXhM0AEnYQa0W8yQA==\",\"dtype\":\"float64\",\"shape\":[77]}},\"selected\":{\"id\":\"1049\",\"type\":\"Selection\"},\"selection_policy\":{\"id\":\"1050\",\"type\":\"UnionRenderers\"}},\"id\":\"1035\",\"type\":\"ColumnDataSource\"},{\"attributes\":{\"fill_color\":{\"value\":\"#1f77b4\"},\"line_color\":{\"value\":null},\"size\":{\"field\":\"rmse\",\"units\":\"screen\"},\"x\":{\"field\":\"index\"},\"y\":{\"field\":\"res\"}},\"id\":\"1038\",\"type\":\"Circle\"},{\"attributes\":{},\"id\":\"1022\",\"type\":\"WheelZoomTool\"},{\"attributes\":{\"active_drag\":\"auto\",\"active_inspect\":\"auto\",\"active_multi\":null,\"active_scroll\":\"auto\",\"active_tap\":\"auto\",\"tools\":[{\"id\":\"1021\",\"type\":\"PanTool\"},{\"id\":\"1022\",\"type\":\"WheelZoomTool\"},{\"id\":\"1023\",\"type\":\"BoxZoomTool\"},{\"id\":\"1024\",\"type\":\"SaveTool\"},{\"id\":\"1025\",\"type\":\"ResetTool\"},{\"id\":\"1026\",\"type\":\"HelpTool\"},{\"id\":\"1036\",\"type\":\"HoverTool\"}]},\"id\":\"1027\",\"type\":\"Toolbar\"},{\"attributes\":{\"overlay\":{\"id\":\"1051\",\"type\":\"BoxAnnotation\"}},\"id\":\"1023\",\"type\":\"BoxZoomTool\"},{\"attributes\":{\"fill_alpha\":{\"value\":0.1},\"fill_color\":{\"value\":\"#1f77b4\"},\"line_alpha\":{\"value\":0.1},\"line_color\":{\"value\":\"#1f77b4\"},\"size\":{\"field\":\"rmse\",\"units\":\"screen\"},\"x\":{\"field\":\"index\"},\"y\":{\"field\":\"res\"}},\"id\":\"1039\",\"type\":\"Circle\"},{\"attributes\":{},\"id\":\"1009\",\"type\":\"LinearScale\"},{\"attributes\":{},\"id\":\"1012\",\"type\":\"BasicTicker\"},{\"attributes\":{},\"id\":\"1050\",\"type\":\"UnionRenderers\"},{\"attributes\":{\"text\":\"Residuals by subject\"},\"id\":\"1034\",\"type\":\"Title\"},{\"attributes\":{},\"id\":\"1025\",\"type\":\"ResetTool\"},{\"attributes\":{},\"id\":\"1046\",\"type\":\"BasicTickFormatter\"},{\"attributes\":{\"data_source\":{\"id\":\"1035\",\"type\":\"ColumnDataSource\"},\"glyph\":{\"id\":\"1038\",\"type\":\"Circle\"},\"hover_glyph\":null,\"muted_glyph\":null,\"nonselection_glyph\":{\"id\":\"1039\",\"type\":\"Circle\"},\"selection_glyph\":null,\"view\":{\"id\":\"1041\",\"type\":\"CDSView\"}},\"id\":\"1040\",\"type\":\"GlyphRenderer\"},{\"attributes\":{\"callback\":null},\"id\":\"1003\",\"type\":\"DataRange1d\"},{\"attributes\":{\"ticker\":{\"id\":\"1012\",\"type\":\"BasicTicker\"}},\"id\":\"1015\",\"type\":\"Grid\"},{\"attributes\":{},\"id\":\"1024\",\"type\":\"SaveTool\"},{\"attributes\":{\"callback\":null,\"tooltips\":[[\"Subject\",\"@subject_id\"],[\"Age\",\"@Age\"],[\"CV\",\"@cv_idx\"]]},\"id\":\"1036\",\"type\":\"HoverTool\"},{\"attributes\":{},\"id\":\"1021\",\"type\":\"PanTool\"},{\"attributes\":{\"bottom_units\":\"screen\",\"fill_alpha\":{\"value\":0.5},\"fill_color\":{\"value\":\"lightgrey\"},\"left_units\":\"screen\",\"level\":\"overlay\",\"line_alpha\":{\"value\":1.0},\"line_color\":{\"value\":\"black\"},\"line_dash\":[4,4],\"line_width\":{\"value\":2},\"render_mode\":\"css\",\"right_units\":\"screen\",\"top_units\":\"screen\"},\"id\":\"1051\",\"type\":\"BoxAnnotation\"},{\"attributes\":{\"callback\":null},\"id\":\"1005\",\"type\":\"DataRange1d\"}],\"root_ids\":[\"1002\"]},\"title\":\"Bokeh Application\",\"version\":\"1.1.0\"}};\n",
       "  var render_items = [{\"docid\":\"bc649f67-9cb2-45d1-a359-0ab9d9e4eaf2\",\"roots\":{\"1002\":\"a9470836-48de-4368-9771-c45b19c4505b\"}}];\n",
       "  root.Bokeh.embed.embed_items_notebook(docs_json, render_items);\n",
       "\n",
       "  }\n",
       "  if (root.Bokeh !== undefined) {\n",
       "    embed_document(root);\n",
       "  } else {\n",
       "    var attempts = 0;\n",
       "    var timer = setInterval(function(root) {\n",
       "      if (root.Bokeh !== undefined) {\n",
       "        embed_document(root);\n",
       "        clearInterval(timer);\n",
       "      }\n",
       "      attempts++;\n",
       "      if (attempts > 100) {\n",
       "        console.log(\"Bokeh: ERROR: Unable to run BokehJS code because BokehJS library is missing\");\n",
       "        clearInterval(timer);\n",
       "      }\n",
       "    }, 10, root)\n",
       "  }\n",
       "})(window);"
      ],
      "application/vnd.bokehjs_exec.v0+json": ""
     },
     "metadata": {
      "application/vnd.bokehjs_exec.v0+json": {
       "id": "1002"
      }
     },
     "output_type": "display_data"
    }
   ],
   "source": [
    "p = figure(plot_width=600, plot_height=600, toolbar_location='above')\n",
    "p.title.text = 'Residuals by subject'\n",
    "\n",
    "source = ColumnDataSource(data=df_y)\n",
    "\n",
    "hover = HoverTool(\n",
    "    tooltips=[(\"Subject\", \"@subject_id\"),\n",
    "              (\"Age\", \"@Age\"),\n",
    "              (\"CV\", \"@cv_idx\")],\n",
    ")\n",
    "hover.point_policy = 'snap_to_data'\n",
    "hover.line_policy = 'nearest'\n",
    "\n",
    "p.circle(source=source,\n",
    "         x='index',\n",
    "         y='res',\n",
    "#          color='cv_color',\n",
    "         size='rmse',\n",
    "         line_color=None)\n",
    "\n",
    "p.xaxis.axis_label = 'Subject'\n",
    "p.yaxis.axis_label = 'Residuals'\n",
    "\n",
    "p.add_tools(hover)\n",
    "\n",
    "# html = file_html(p, CDN, 'my plot')\n",
    "# with open(op.abspath('../docs/img/bokeh_plots/regression_residuals_by_subject.html'), 'w') as fp:\n",
    "#     fp.write(html)\n",
    "show(p)"
   ]
  },
  {
   "cell_type": "code",
   "execution_count": 20,
   "metadata": {},
   "outputs": [
    {
     "data": {
      "text/plain": [
       "8.60174275978951"
      ]
     },
     "execution_count": 20,
     "metadata": {},
     "output_type": "execute_result"
    }
   ],
   "source": [
    "np.sqrt(np.square(df_y['res']).mean())"
   ]
  },
  {
   "cell_type": "code",
   "execution_count": 21,
   "metadata": {},
   "outputs": [
    {
     "data": {
      "text/html": [
       "\n",
       "\n",
       "\n",
       "\n",
       "\n",
       "\n",
       "  <div class=\"bk-root\" id=\"2483771e-433b-43a6-8213-6174375890b9\" data-root-id=\"1193\"></div>\n"
      ]
     },
     "metadata": {},
     "output_type": "display_data"
    },
    {
     "data": {
      "application/javascript": [
       "(function(root) {\n",
       "  function embed_document(root) {\n",
       "    \n",
       "  var docs_json = {\"ef6fd211-04a7-4b6c-8310-ab6f5fb0e88e\":{\"roots\":{\"references\":[{\"attributes\":{\"children\":[{\"id\":\"1106\",\"subtype\":\"Figure\",\"type\":\"Plot\"},{\"id\":\"1138\",\"subtype\":\"Figure\",\"type\":\"Plot\"}]},\"id\":\"1193\",\"type\":\"Row\"},{\"attributes\":{\"data_source\":{\"id\":\"1179\",\"type\":\"ColumnDataSource\"},\"glyph\":{\"id\":\"1180\",\"type\":\"Line\"},\"hover_glyph\":null,\"muted_glyph\":null,\"nonselection_glyph\":{\"id\":\"1181\",\"type\":\"Line\"},\"selection_glyph\":null,\"view\":{\"id\":\"1183\",\"type\":\"CDSView\"}},\"id\":\"1182\",\"type\":\"GlyphRenderer\"},{\"attributes\":{},\"id\":\"1121\",\"type\":\"BasicTicker\"},{\"attributes\":{},\"id\":\"1145\",\"type\":\"LinearScale\"},{\"attributes\":{\"below\":[{\"id\":\"1115\",\"type\":\"LinearAxis\"}],\"center\":[{\"id\":\"1119\",\"type\":\"Grid\"},{\"id\":\"1124\",\"type\":\"Grid\"}],\"left\":[{\"id\":\"1120\",\"type\":\"LinearAxis\"}],\"renderers\":[{\"id\":\"1177\",\"type\":\"GlyphRenderer\"},{\"id\":\"1182\",\"type\":\"GlyphRenderer\"}],\"title\":{\"id\":\"1170\",\"type\":\"Title\"},\"toolbar\":{\"id\":\"1131\",\"type\":\"Toolbar\"},\"toolbar_location\":\"above\",\"x_range\":{\"id\":\"1107\",\"type\":\"Range1d\"},\"x_scale\":{\"id\":\"1111\",\"type\":\"LinearScale\"},\"y_range\":{\"id\":\"1109\",\"type\":\"Range1d\"},\"y_scale\":{\"id\":\"1113\",\"type\":\"LinearScale\"}},\"id\":\"1106\",\"subtype\":\"Figure\",\"type\":\"Plot\"},{\"attributes\":{\"data_source\":{\"id\":\"1172\",\"type\":\"ColumnDataSource\"},\"glyph\":{\"id\":\"1185\",\"type\":\"Scatter\"},\"hover_glyph\":null,\"muted_glyph\":null,\"nonselection_glyph\":{\"id\":\"1186\",\"type\":\"Scatter\"},\"selection_glyph\":null,\"view\":{\"id\":\"1188\",\"type\":\"CDSView\"}},\"id\":\"1187\",\"type\":\"GlyphRenderer\"},{\"attributes\":{\"source\":{\"id\":\"1172\",\"type\":\"ColumnDataSource\"}},\"id\":\"1188\",\"type\":\"CDSView\"},{\"attributes\":{\"callback\":null,\"end\":52},\"id\":\"1107\",\"type\":\"Range1d\"},{\"attributes\":{\"axis_label\":\"Standardized Residuals\",\"axis_label_text_font_size\":{\"value\":\"16pt\"},\"formatter\":{\"id\":\"1214\",\"type\":\"BasicTickFormatter\"},\"major_label_text_font_size\":{\"value\":\"14pt\"},\"ticker\":{\"id\":\"1153\",\"type\":\"BasicTicker\"}},\"id\":\"1152\",\"type\":\"LinearAxis\"},{\"attributes\":{\"callback\":null,\"tooltips\":[[\"Subject\",\"@subject_id\"],[\"Age\",\"@Age\"],[\"Residual\",\"@stdres\"],[\"CV\",\"@cv_idx\"]]},\"id\":\"1173\",\"type\":\"HoverTool\"},{\"attributes\":{},\"id\":\"1208\",\"type\":\"BasicTickFormatter\"},{\"attributes\":{\"callback\":null,\"end\":52},\"id\":\"1109\",\"type\":\"Range1d\"},{\"attributes\":{},\"id\":\"1157\",\"type\":\"PanTool\"},{\"attributes\":{\"active_drag\":\"auto\",\"active_inspect\":\"auto\",\"active_multi\":null,\"active_scroll\":\"auto\",\"active_tap\":\"auto\",\"tools\":[{\"id\":\"1157\",\"type\":\"PanTool\"},{\"id\":\"1158\",\"type\":\"WheelZoomTool\"},{\"id\":\"1159\",\"type\":\"BoxZoomTool\"},{\"id\":\"1160\",\"type\":\"SaveTool\"},{\"id\":\"1161\",\"type\":\"ResetTool\"},{\"id\":\"1162\",\"type\":\"HelpTool\"},{\"id\":\"1173\",\"type\":\"HoverTool\"}]},\"id\":\"1163\",\"type\":\"Toolbar\"},{\"attributes\":{\"fill_alpha\":{\"value\":0.1},\"fill_color\":{\"value\":\"#1f77b4\"},\"line_alpha\":{\"value\":0.1},\"line_color\":{\"value\":\"#1f77b4\"},\"size\":{\"units\":\"screen\",\"value\":10},\"x\":{\"field\":\"yhat\"},\"y\":{\"field\":\"Age\"}},\"id\":\"1176\",\"type\":\"Scatter\"},{\"attributes\":{},\"id\":\"1210\",\"type\":\"BasicTickFormatter\"},{\"attributes\":{},\"id\":\"1160\",\"type\":\"SaveTool\"},{\"attributes\":{\"fill_color\":{\"value\":\"#1f77b4\"},\"line_color\":{\"value\":null},\"size\":{\"field\":\"rmse\",\"units\":\"screen\"},\"x\":{\"field\":\"yhat\"},\"y\":{\"field\":\"stdres\"}},\"id\":\"1185\",\"type\":\"Scatter\"},{\"attributes\":{},\"id\":\"1215\",\"type\":\"Selection\"},{\"attributes\":{},\"id\":\"1212\",\"type\":\"BasicTickFormatter\"},{\"attributes\":{},\"id\":\"1214\",\"type\":\"BasicTickFormatter\"},{\"attributes\":{\"fill_alpha\":{\"value\":0.1},\"fill_color\":{\"value\":\"#1f77b4\"},\"line_alpha\":{\"value\":0.1},\"line_color\":{\"value\":\"#1f77b4\"},\"size\":{\"field\":\"rmse\",\"units\":\"screen\"},\"x\":{\"field\":\"yhat\"},\"y\":{\"field\":\"stdres\"}},\"id\":\"1186\",\"type\":\"Scatter\"},{\"attributes\":{\"callback\":null,\"data\":{\"Age\":[20,31,18,28,29,36,39,34,24,21,29,31,28,20,21,20,31,32,12,14,13,12,12,11,9,14,8,10,7,8,11,11,21,9,24,8,8,14,10,14,7,8,9,8,8,11,6,9,8,9,32,16,9,9,8,15,9,10,9,8,9,24,24,9,9,43,13,44,50,47,46,18,40,50,40,17,17],\"cv_idx\":{\"__ndarray__\":\"q6qqqqqqHkAAAAAAAAAcQKuqqqqqqiBAVVVVVVVVGUBVVVVVVVUZQKuqqqqqqhpAq6qqqqqqGkCrqqqqqqoaQKuqqqqqqiBAq6qqqqqqFkCrqqqqqqoaQAAAAAAAACBAVVVVVVVVFUBVVVVVVVUZQFVVVVVVVSFAVVVVVVVVGUAAAAAAAAAcQAAAAAAAABhAAAAAAAAAGEAAAAAAAAAYQKuqqqqqqhpAAAAAAAAAHECrqqqqqqoaQFVVVVVVVSFAAAAAAAAAGECrqqqqqqoeQAAAAAAAACBAq6qqqqqqIEBVVVVVVVUZQKuqqqqqqh5Aq6qqqqqqFkCrqqqqqqoaQAAAAAAAACBAVVVVVVVVGUBVVVVVVVUZQFVVVVVVVRVAq6qqqqqqHkBVVVVVVVUdQKuqqqqqqh5AVVVVVVVVGUCrqqqqqqoeQAAAAAAAACBAAAAAAAAAHEBVVVVVVVUdQFVVVVVVVR1AVVVVVVVVFUAAAAAAAAAcQFVVVVVVVRVAAAAAAAAAHEBVVVVVVVUVQFVVVVVVVR1Aq6qqqqqqGkAAAAAAAAAgQAAAAAAAABhAAAAAAAAAHECrqqqqqqoaQKuqqqqqqhpAq6qqqqqqHkAAAAAAAAAYQKuqqqqqqiBAq6qqqqqqIEBVVVVVVVUdQFVVVVVVVR1AAAAAAAAAHEAAAAAAAAAcQKuqqqqqqhpAVVVVVVVVGUBVVVVVVVUhQKuqqqqqqhpAq6qqqqqqGkBVVVVVVVUdQAAAAAAAACBAVVVVVVVVHUBVVVVVVVUdQAAAAAAAABhAAAAAAAAAIEAAAAAAAAAYQA==\",\"dtype\":\"float64\",\"shape\":[77]},\"index\":{\"__ndarray__\":\"AAAAAAEAAAACAAAAAwAAAAQAAAAFAAAABgAAAAcAAAAIAAAACQAAAAoAAAALAAAADAAAAA0AAAAOAAAADwAAABAAAAARAAAAEgAAABMAAAAUAAAAFQAAABYAAAAXAAAAGAAAABkAAAAaAAAAGwAAABwAAAAdAAAAHgAAAB8AAAAgAAAAIQAAACIAAAAjAAAAJAAAACUAAAAmAAAAJwAAACgAAAApAAAAKgAAACsAAAAsAAAALQAAAC4AAAAvAAAAMAAAADEAAAAyAAAAMwAAADQAAAA1AAAANgAAADcAAAA4AAAAOQAAADoAAAA7AAAAPAAAAD0AAAA+AAAAPwAAAEAAAABBAAAAQgAAAEMAAABEAAAARQAAAEYAAABHAAAASAAAAEkAAABKAAAASwAAAEwAAAA=\",\"dtype\":\"int32\",\"shape\":[77]},\"res\":{\"__ndarray__\":\"sEsngeXe+z8a/Jrhd3ErQADFXjd5CuW/KAYvdgOVHMA2fgzqORwnQNpqdQMIqSRAAE1ldcAVDECsLrdYFy8aQOyJ0VlNSBtAgAc6L8OaFsAuj407wBwgQHqQDD6vESpAgKmPQKyY/D8Av6ydFA7fv6iSPVc7eAVAgK6MNhYn4z/+ymsH4HEpQLasA3+TuDBAlGAgRg3cCUAWW+v6UsISQFAM0JZ3de4/gJzok3gd6r+gYYDbqg7wvxyYxiNqwwPArsUQ0nPwAkAwZ4lLAJbjPxizJfsqPP2/aLqbacMF/L9IWx1YT6oWwPaf+Z4quABAQMs8TEOv5j/AV2m+0vr2P6t8sK1XNylA4u/aEam6J8BgiGL+lw7vvwKy40RrrgBATBNADX3/C8Cg6+w33d70P+iBntusaANApEgtWRS6HcAqiGxWRwgVwPjZNEU72eQ/AJsMis+UqT9sVBYfsBAGwMCAGgeRxfk/2J++IPEO+r8wMg4NZG38P+SWyzlsRQ7AIAg1aT7Vwj+ytnr+fiQMQGDQ18fnKPe/9OSRsc0pAkAAZRKel9viv+ALI7MB8vi/QEWqTiCcEsAQNEuBr+7yv3rLgIxUoAlArQS5uZyZNcBo/4IMx3kIQCaUcHO2BAZAcgLopIymF0CY5ugyBZwDQBgAM/NR+AJAxjTcsLMgAECA1kXSljW2PycmPwxqjjRAYKzZE8sIBcBg3Nly+SEfQFPA2rEi8z1A2ZBvCYaUMEB0HXj7ye43QGIVmi1yLRdAQLNM8p2WLUCQ8TyLfuMuQG/3C6icKDdAuBI9MysOB8BA0EmoEf32vw==\",\"dtype\":\"float64\",\"shape\":[77]},\"rmse\":{\"__ndarray__\":\"mZE86GARIUAN2IP0jMwdQET4ObrIah5AD12PIrXeI0DZPsp3tWAlQGS02HcI/iFA/anOKCiSH0CDRkC5SIsVQPXeDryeDx9ALfVkt2ELIEBBrf9RiSIgQBKBacmMCSNAc7eW0zZaIUC/tO+PjwoZQNPyKBntJxdA9FtdsBO/IEC4goc8fXAkQDNwmHN01CBAU4WzjePGJUAzcJhzdNQgQAgWON60BxtAHqBk2/lwFEAZCBjwsCwhQNPyKBntJxdAcShfrgdiGUCQInNRKe8dQDNyJ3TObCFA0+yWwJqwJEANy6Px8igYQHWUH18C7R5ADNCb4TAPIUB/NaIvO2EjQBKBacmMCSNA2T7Kd7VgJUDZtGqC0AMgQHO3ltM2WiFAc4ZiNy+CIUCUL8CNGY0cQFGVpIztHiNA9AEpDxTOIEAnx7qp+zYcQBKBacmMCSNAP6gUgvTxIEBMQJpG660hQEPieS2iZB5Ac7eW0zZaIUD1TkNA8SckQFGSzf0FXiJAi9RsT90GIECjENwQQgIaQLFLHuKl1B5ACBY43rQHG0ClAQrbWZgYQOkK3ZzPpSFAi3o4rt0VIEA0Y34DUj0kQECMeQnO3xhA5Qz0+YCLH0A5xFor6RwiQO0N6JyTVRlAAQtfsiLSIEBnQcy4jM0kQEPieS2iZB5ADdiD9IzMHUDQhjndzxUVQJR8mFvgESRAX8pJDIZ7IkDBdoypMHkiQIVjAUMeVyZAGGJMkbAdIUBnQcy4jM0kQBe3ht7BgCJAewhaKsPBI0Ar9af6qVkjQFOFs43jxiVAM3IndM5sIUAzcJhzdNQgQA==\",\"dtype\":\"float64\",\"shape\":[77]},\"size\":{\"__ndarray__\":\"/7VLIrlVVUAIZ9IY2J9SQCo7ZHS9AlNAUzQza2LWWECPzrzV4rhaQH3hzpWKfVZAPiqBGVm7U0AkWJDnGu5KQFlLiTXDaVNAeDI+JToOVECRmH+mKytUQFbhw/vvy1dAUGV8iMSwVUDvoetzM01PQIgvc1/o8UxA8bJ0nNjuVEBmY6mLnIxZQECMfpCRCVVAqGYgcZw4W0BAjH6QkQlVQMUN4wrR5FBAJsg9UjiNSUAfCh4s3XdVQIgvc1/o8UxAjfL2mYm6T0Ca9efSebVSQMBOMRECyFVACKi8cMHcWUDQvQyuLzNOQMm8c3shVFNAD8QCGv1SVUDfwor7iTlYQFbhw/vvy1dAj8681eK4WkAPYgWjxARUQFBlfIjEsFVAECg7BbviVUC8HZj4L9hRQKW6ze+o5ldAcULzEpkBVUB4vBRKXaJRQFbhw/vvy1dAT9KZonEuVUBf0EAYZhlWQGotbFzl/lJAUGV8iMSwVUCyIlSQ7TFZQOX2QH2H9VZArglIo5QIVEBmiolKaUFQQE/vUq3nRFNAxQ3jCtHkUEAOgsxRcL5OQKNNFIRDD1ZALpnGGVUbVEAB/F2EpkxZQFDv14vBF09AD4g4nDC3U0BHdTF2I6RWQGgRIoT4qk9Awc32XqsGVUDBUf/m7wBaQGotbFzl/lJACGfSGNifUkCE6IfUQ1tKQLmbfnJYFllA9zxcj2caV0BxlO/TfBdXQGa8wdPl7FtAnnqftRxlVUDBUf/m7wBaQN1kKFbyIFdAmorw9DOyWEB28lF5FDBYQKhmIHGcOFtAwE4xEQLIVUBAjH6QkQlVQA==\",\"dtype\":\"float64\",\"shape\":[77]},\"stdres\":{\"__ndarray__\":\"irSAwb2qyz9x97LoHD77PxNCQVgZ47S/c6Ny6YZf7L9HG0mz+vD2P5kyD31egvQ/2v+8DjLh2z9oz/alF/7pP5wB/Gk/Fes/6fZ1PXZw5r8fufzrMv3vP1wi3pLm4Pk/+NvH2ihjzD8wsX1j99Ouv2xEQBMOUNU/IzP26j4Dsz8D8qJqQkL5P26ruB9JmQBAgZVA+Kir2T8hGrw+OJ/iP6Gar/N3PL4//b1L2pnsub+foZThPOG/v2Pdrk1untO/+pajwwLN0j+/jz1xWXGzPzZAV6F1Bc2/gG9k7lLRy7/uqydO5X/mv+sr8APhmNA/ToWE/c+Etj/8oLYJ0s/GP5NGk5knCPk/KgeDX0GO97/7kFnOedS+v5n3euczj9A/xOcQUBjL278QrVb0zrfEP0QAMNNaRNM/qzkXYHOC7b9B9MSS6+Dkv/Eb+4s3srQ/t4wAjfBkeT+UwlqPZefVvx1XEc1Wlck/JY9zly3eyb+z/v2lMTjMP3RG137GDN6/DwJdRQCykj/zQWsA1e/bPznM/daQ/ca/ZjcEYNAH0j+YAO6YTbiyv/jrGF9Tw8i/arSbDU154r+pjUzBQcvCv75/4gBgcNk/S8V+/jBxBcC6MH+1+UvYP7PklkyC29U/d9f3lEp65z+2yhIVU3fTP6zOqyvS1NI/Bz6HhoUC0D/AuKQ0BwyGP0lFB1XyZwRAMq6qWW7h1L8aakv+tufuP43td/MWuw1ArqyCIX91AEATq2K8AMIHQPU/hb0SAuc/1xjnVT9f/T9E024Csan+P7/+xkNG/QZAvL/bSgbj1r+Qqry/DNLGvw==\",\"dtype\":\"float64\",\"shape\":[77]},\"subjectID\":[\"subject_000\",\"subject_001\",\"subject_002\",\"subject_003\",\"subject_004\",\"subject_005\",\"subject_006\",\"subject_007\",\"subject_008\",\"subject_009\",\"subject_010\",\"subject_011\",\"subject_012\",\"subject_013\",\"subject_014\",\"subject_015\",\"subject_016\",\"subject_017\",\"subject_018\",\"subject_019\",\"subject_020\",\"subject_021\",\"subject_022\",\"subject_023\",\"subject_024\",\"subject_025\",\"subject_026\",\"subject_027\",\"subject_028\",\"subject_029\",\"subject_030\",\"subject_031\",\"subject_032\",\"subject_033\",\"subject_034\",\"subject_035\",\"subject_036\",\"subject_037\",\"subject_038\",\"subject_039\",\"subject_040\",\"subject_041\",\"subject_042\",\"subject_043\",\"subject_044\",\"subject_045\",\"subject_046\",\"subject_047\",\"subject_048\",\"subject_049\",\"subject_050\",\"subject_051\",\"subject_052\",\"subject_053\",\"subject_054\",\"subject_055\",\"subject_056\",\"subject_057\",\"subject_058\",\"subject_059\",\"subject_060\",\"subject_061\",\"subject_062\",\"subject_063\",\"subject_064\",\"subject_065\",\"subject_066\",\"subject_067\",\"subject_068\",\"subject_069\",\"subject_070\",\"subject_071\",\"subject_072\",\"subject_073\",\"subject_074\",\"subject_075\",\"subject_076\"],\"subject_id\":[\"subject_000\",\"subject_001\",\"subject_002\",\"subject_003\",\"subject_004\",\"subject_005\",\"subject_006\",\"subject_007\",\"subject_008\",\"subject_009\",\"subject_010\",\"subject_011\",\"subject_012\",\"subject_013\",\"subject_014\",\"subject_015\",\"subject_016\",\"subject_017\",\"subject_018\",\"subject_019\",\"subject_020\",\"subject_021\",\"subject_022\",\"subject_023\",\"subject_024\",\"subject_025\",\"subject_026\",\"subject_027\",\"subject_028\",\"subject_029\",\"subject_030\",\"subject_031\",\"subject_032\",\"subject_033\",\"subject_034\",\"subject_035\",\"subject_036\",\"subject_037\",\"subject_038\",\"subject_039\",\"subject_040\",\"subject_041\",\"subject_042\",\"subject_043\",\"subject_044\",\"subject_045\",\"subject_046\",\"subject_047\",\"subject_048\",\"subject_049\",\"subject_050\",\"subject_051\",\"subject_052\",\"subject_053\",\"subject_054\",\"subject_055\",\"subject_056\",\"subject_057\",\"subject_058\",\"subject_059\",\"subject_060\",\"subject_061\",\"subject_062\",\"subject_063\",\"subject_064\",\"subject_065\",\"subject_066\",\"subject_067\",\"subject_068\",\"subject_069\",\"subject_070\",\"subject_071\",\"subject_072\",\"subject_073\",\"subject_074\",\"subject_075\",\"subject_076\"],\"yhat\":{\"__ndarray__\":\"RYvtpxFCMkDzgTIPREcxQCj2uslTqDJAxeDFbqCSQUDlwPkK43ExQJNKRf57qzlAMKup+KO+QUBVNNIpOnQ7QIWdi6nsLTFA4IHOy7CmOkBpODnin/E0QMO3+WAo9zFAaAX3O3U2OkD8snZSOHw0QKtNGJX4UDJAjJpLTsdmM0CBGkr8D0cyQJWm+AHZji5A2+d3rvyIIUB1UoqC1p4iQDv/koaoGChAyIk+idehKUA0DHBb1QEqQAem8Yja8CpAKZ33FsaHGkCNaUf7n8YqQGO2ZF+FpyNATXczbbiAJ0CkrQ6sJ1UpQAUwg7DqoxdATDM8ywuVJEAI1TKopSAjQFWDT1KoyCBA8XftiFTdNEBDFPO/dPg4QP8mjl3KqBdA0wRQQ9//JkCMYgJZJGQpQAy/MJKpSx5AKVJLFoVuNUAVRDarI4QoQMFkWZfYZB1AZfN1MGvmIUAblcUHLIQlQNBfOb6bjhlA+9MXJN5BKUB0c7z8puQQQLnlcg5bkSlAv1e2DFZpH0CnpMKAwO0VQIO+Pj5HuUBAw4abk4x1K0BQJuF5uS0jQHxhZDZAHiVAoCJVJxBOKUBBsxT46i4wQEOav7nVLxdArQS5uZyZP0BMgL55HMMXQO21R8ak/RRAG/svtuayCEAt46JZf4w1QP2fmcH1oDVAneWRJ6bvG0BTdFvSlNMhQNnZwPOVcTZAGGv2xDJCL0B0xKTRwBtCQK0/JU7dDDRAJ2+Q9nlrPkCM4ocENhE2QE/1MulGaShAYKbZBrE0OUCcwzBdIEdBQJEI9Fdj1zBAV6JnZsXhM0AEnYQa0W8yQA==\",\"dtype\":\"float64\",\"shape\":[77]}},\"selected\":{\"id\":\"1215\",\"type\":\"Selection\"},\"selection_policy\":{\"id\":\"1216\",\"type\":\"UnionRenderers\"}},\"id\":\"1172\",\"type\":\"ColumnDataSource\"},{\"attributes\":{},\"id\":\"1128\",\"type\":\"SaveTool\"},{\"attributes\":{\"overlay\":{\"id\":\"1220\",\"type\":\"BoxAnnotation\"}},\"id\":\"1159\",\"type\":\"BoxZoomTool\"},{\"attributes\":{},\"id\":\"1153\",\"type\":\"BasicTicker\"},{\"attributes\":{\"line_dash\":[6],\"line_width\":2,\"x\":{\"field\":\"x\"},\"y\":{\"field\":\"y\"}},\"id\":\"1180\",\"type\":\"Line\"},{\"attributes\":{},\"id\":\"1216\",\"type\":\"UnionRenderers\"},{\"attributes\":{\"source\":{\"id\":\"1172\",\"type\":\"ColumnDataSource\"}},\"id\":\"1178\",\"type\":\"CDSView\"},{\"attributes\":{},\"id\":\"1217\",\"type\":\"Selection\"},{\"attributes\":{},\"id\":\"1116\",\"type\":\"BasicTicker\"},{\"attributes\":{},\"id\":\"1113\",\"type\":\"LinearScale\"},{\"attributes\":{\"overlay\":{\"id\":\"1219\",\"type\":\"BoxAnnotation\"}},\"id\":\"1127\",\"type\":\"BoxZoomTool\"},{\"attributes\":{\"ticker\":{\"id\":\"1116\",\"type\":\"BasicTicker\"}},\"id\":\"1119\",\"type\":\"Grid\"},{\"attributes\":{},\"id\":\"1111\",\"type\":\"LinearScale\"},{\"attributes\":{},\"id\":\"1143\",\"type\":\"LinearScale\"},{\"attributes\":{},\"id\":\"1218\",\"type\":\"UnionRenderers\"},{\"attributes\":{\"axis_label\":\"Predicted Age\",\"axis_label_text_font_size\":{\"value\":\"16pt\"},\"formatter\":{\"id\":\"1208\",\"type\":\"BasicTickFormatter\"},\"major_label_text_font_size\":{\"value\":\"14pt\"},\"ticker\":{\"id\":\"1116\",\"type\":\"BasicTicker\"}},\"id\":\"1115\",\"type\":\"LinearAxis\"},{\"attributes\":{\"ticker\":{\"id\":\"1148\",\"type\":\"BasicTicker\"}},\"id\":\"1151\",\"type\":\"Grid\"},{\"attributes\":{\"text\":\"Standardized residuals (test splits)\",\"text_font_size\":{\"value\":\"14pt\"}},\"id\":\"1171\",\"type\":\"Title\"},{\"attributes\":{\"callback\":null},\"id\":\"1141\",\"type\":\"DataRange1d\"},{\"attributes\":{\"bottom_units\":\"screen\",\"fill_alpha\":{\"value\":0.5},\"fill_color\":{\"value\":\"lightgrey\"},\"left_units\":\"screen\",\"level\":\"overlay\",\"line_alpha\":{\"value\":1.0},\"line_color\":{\"value\":\"black\"},\"line_dash\":[4,4],\"line_width\":{\"value\":2},\"render_mode\":\"css\",\"right_units\":\"screen\",\"top_units\":\"screen\"},\"id\":\"1219\",\"type\":\"BoxAnnotation\"},{\"attributes\":{},\"id\":\"1125\",\"type\":\"PanTool\"},{\"attributes\":{\"axis_label\":\"Predicted Age\",\"axis_label_text_font_size\":{\"value\":\"16pt\"},\"formatter\":{\"id\":\"1212\",\"type\":\"BasicTickFormatter\"},\"major_label_text_font_size\":{\"value\":\"14pt\"},\"ticker\":{\"id\":\"1148\",\"type\":\"BasicTicker\"}},\"id\":\"1147\",\"type\":\"LinearAxis\"},{\"attributes\":{\"axis_label\":\"Actual Age\",\"axis_label_text_font_size\":{\"value\":\"16pt\"},\"formatter\":{\"id\":\"1210\",\"type\":\"BasicTickFormatter\"},\"major_label_text_font_size\":{\"value\":\"14pt\"},\"ticker\":{\"id\":\"1121\",\"type\":\"BasicTicker\"}},\"id\":\"1120\",\"type\":\"LinearAxis\"},{\"attributes\":{\"callback\":null},\"id\":\"1139\",\"type\":\"DataRange1d\"},{\"attributes\":{},\"id\":\"1161\",\"type\":\"ResetTool\"},{\"attributes\":{\"bottom_units\":\"screen\",\"fill_alpha\":{\"value\":0.5},\"fill_color\":{\"value\":\"lightgrey\"},\"left_units\":\"screen\",\"level\":\"overlay\",\"line_alpha\":{\"value\":1.0},\"line_color\":{\"value\":\"black\"},\"line_dash\":[4,4],\"line_width\":{\"value\":2},\"render_mode\":\"css\",\"right_units\":\"screen\",\"top_units\":\"screen\"},\"id\":\"1220\",\"type\":\"BoxAnnotation\"},{\"attributes\":{\"dimension\":1,\"ticker\":{\"id\":\"1121\",\"type\":\"BasicTicker\"}},\"id\":\"1124\",\"type\":\"Grid\"},{\"attributes\":{},\"id\":\"1158\",\"type\":\"WheelZoomTool\"},{\"attributes\":{\"source\":{\"id\":\"1179\",\"type\":\"ColumnDataSource\"}},\"id\":\"1183\",\"type\":\"CDSView\"},{\"attributes\":{\"data_source\":{\"id\":\"1172\",\"type\":\"ColumnDataSource\"},\"glyph\":{\"id\":\"1175\",\"type\":\"Scatter\"},\"hover_glyph\":null,\"muted_glyph\":null,\"nonselection_glyph\":{\"id\":\"1176\",\"type\":\"Scatter\"},\"selection_glyph\":null,\"view\":{\"id\":\"1178\",\"type\":\"CDSView\"}},\"id\":\"1177\",\"type\":\"GlyphRenderer\"},{\"attributes\":{\"dimension\":1,\"ticker\":{\"id\":\"1153\",\"type\":\"BasicTicker\"}},\"id\":\"1156\",\"type\":\"Grid\"},{\"attributes\":{\"text\":\"Predicted ages (test splits)\",\"text_font_size\":{\"value\":\"14pt\"}},\"id\":\"1170\",\"type\":\"Title\"},{\"attributes\":{},\"id\":\"1148\",\"type\":\"BasicTicker\"},{\"attributes\":{\"callback\":null,\"data\":{\"x\":[0,52],\"y\":[0,52]},\"selected\":{\"id\":\"1217\",\"type\":\"Selection\"},\"selection_policy\":{\"id\":\"1218\",\"type\":\"UnionRenderers\"}},\"id\":\"1179\",\"type\":\"ColumnDataSource\"},{\"attributes\":{},\"id\":\"1126\",\"type\":\"WheelZoomTool\"},{\"attributes\":{\"line_alpha\":0.1,\"line_color\":\"#1f77b4\",\"line_dash\":[6],\"line_width\":2,\"x\":{\"field\":\"x\"},\"y\":{\"field\":\"y\"}},\"id\":\"1181\",\"type\":\"Line\"},{\"attributes\":{},\"id\":\"1129\",\"type\":\"ResetTool\"},{\"attributes\":{},\"id\":\"1162\",\"type\":\"HelpTool\"},{\"attributes\":{},\"id\":\"1130\",\"type\":\"HelpTool\"},{\"attributes\":{\"active_drag\":\"auto\",\"active_inspect\":\"auto\",\"active_multi\":null,\"active_scroll\":\"auto\",\"active_tap\":\"auto\",\"tools\":[{\"id\":\"1125\",\"type\":\"PanTool\"},{\"id\":\"1126\",\"type\":\"WheelZoomTool\"},{\"id\":\"1127\",\"type\":\"BoxZoomTool\"},{\"id\":\"1128\",\"type\":\"SaveTool\"},{\"id\":\"1129\",\"type\":\"ResetTool\"},{\"id\":\"1130\",\"type\":\"HelpTool\"},{\"id\":\"1173\",\"type\":\"HoverTool\"}]},\"id\":\"1131\",\"type\":\"Toolbar\"},{\"attributes\":{\"fill_color\":{\"value\":\"#1f77b4\"},\"size\":{\"units\":\"screen\",\"value\":10},\"x\":{\"field\":\"yhat\"},\"y\":{\"field\":\"Age\"}},\"id\":\"1175\",\"type\":\"Scatter\"},{\"attributes\":{\"below\":[{\"id\":\"1147\",\"type\":\"LinearAxis\"}],\"center\":[{\"id\":\"1151\",\"type\":\"Grid\"},{\"id\":\"1156\",\"type\":\"Grid\"}],\"left\":[{\"id\":\"1152\",\"type\":\"LinearAxis\"}],\"renderers\":[{\"id\":\"1187\",\"type\":\"GlyphRenderer\"}],\"title\":{\"id\":\"1171\",\"type\":\"Title\"},\"toolbar\":{\"id\":\"1163\",\"type\":\"Toolbar\"},\"toolbar_location\":\"above\",\"x_range\":{\"id\":\"1139\",\"type\":\"DataRange1d\"},\"x_scale\":{\"id\":\"1143\",\"type\":\"LinearScale\"},\"y_range\":{\"id\":\"1141\",\"type\":\"DataRange1d\"},\"y_scale\":{\"id\":\"1145\",\"type\":\"LinearScale\"}},\"id\":\"1138\",\"subtype\":\"Figure\",\"type\":\"Plot\"}],\"root_ids\":[\"1193\"]},\"title\":\"Bokeh Application\",\"version\":\"1.1.0\"}};\n",
       "  var render_items = [{\"docid\":\"ef6fd211-04a7-4b6c-8310-ab6f5fb0e88e\",\"roots\":{\"1193\":\"2483771e-433b-43a6-8213-6174375890b9\"}}];\n",
       "  root.Bokeh.embed.embed_items_notebook(docs_json, render_items);\n",
       "\n",
       "  }\n",
       "  if (root.Bokeh !== undefined) {\n",
       "    embed_document(root);\n",
       "  } else {\n",
       "    var attempts = 0;\n",
       "    var timer = setInterval(function(root) {\n",
       "      if (root.Bokeh !== undefined) {\n",
       "        embed_document(root);\n",
       "        clearInterval(timer);\n",
       "      }\n",
       "      attempts++;\n",
       "      if (attempts > 100) {\n",
       "        console.log(\"Bokeh: ERROR: Unable to run BokehJS code because BokehJS library is missing\");\n",
       "        clearInterval(timer);\n",
       "      }\n",
       "    }, 10, root)\n",
       "  }\n",
       "})(window);"
      ],
      "application/vnd.bokehjs_exec.v0+json": ""
     },
     "metadata": {
      "application/vnd.bokehjs_exec.v0+json": {
       "id": "1193"
      }
     },
     "output_type": "display_data"
    }
   ],
   "source": [
    "p = figure(plot_width=600, plot_height=600, toolbar_location='above', x_range=(0, 52), y_range=(0, 52))\n",
    "p_res = figure(plot_width=600, plot_height=600, toolbar_location='above')\n",
    "p.title.text = 'Predicted ages (test splits)'\n",
    "p_res.title.text = 'Standardized residuals (test splits)'\n",
    "\n",
    "source = ColumnDataSource(data=df_y)\n",
    "\n",
    "hover = HoverTool(\n",
    "    tooltips=[(\"Subject\", \"@subject_id\"),\n",
    "              (\"Age\", \"@Age\"),\n",
    "              (\"Residual\", \"@stdres\"),\n",
    "              (\"CV\", \"@cv_idx\")],\n",
    ")\n",
    "hover.point_policy = 'snap_to_data'\n",
    "hover.line_policy = 'nearest'\n",
    "\n",
    "p.scatter(source=source,\n",
    "          x='yhat',\n",
    "          y='Age',\n",
    "#           color='cv_color',\n",
    "          size=10,\n",
    "          line_color='black')\n",
    "\n",
    "p.line(x=[0, 52], y=[0, 52], line_color=\"black\", line_width=2, line_dash='dashed')\n",
    "\n",
    "p_res.scatter(source=source,\n",
    "              x='yhat',\n",
    "              y='stdres',\n",
    "#               color='cv_color',\n",
    "              size='rmse',\n",
    "              line_color=None)\n",
    "\n",
    "p.xaxis.axis_label = 'Predicted Age'\n",
    "p.yaxis.axis_label = 'Actual Age'\n",
    "p.xaxis.axis_label_text_font_size = \"16pt\"\n",
    "p.yaxis.axis_label_text_font_size = \"16pt\"\n",
    "p.xaxis.major_label_text_font_size = \"14pt\"\n",
    "p.yaxis.major_label_text_font_size = \"14pt\"\n",
    "p.title.text_font_size = \"14pt\"\n",
    "\n",
    "p_res.xaxis.axis_label = 'Predicted Age'\n",
    "p_res.yaxis.axis_label = 'Standardized Residuals'\n",
    "p_res.xaxis.axis_label_text_font_size = \"16pt\"\n",
    "p_res.yaxis.axis_label_text_font_size = \"16pt\"\n",
    "p_res.xaxis.major_label_text_font_size = \"14pt\"\n",
    "p_res.yaxis.major_label_text_font_size = \"14pt\"\n",
    "p_res.title.text_font_size = \"14pt\"\n",
    "\n",
    "p.add_tools(hover)\n",
    "p_res.add_tools(hover)\n",
    "\n",
    "layout = row([p, p_res])\n",
    "\n",
    "# html = file_html(layout, CDN, 'my plot')\n",
    "# with open(op.abspath('../docs/img/bokeh_plots/regression_residuals_abs_power.html'), 'w') as fp:\n",
    "#     fp.write(html)\n",
    "show(layout)"
   ]
  },
  {
   "cell_type": "code",
   "execution_count": 22,
   "metadata": {},
   "outputs": [
    {
     "data": {
      "image/png": "[encoded data removed]",
      "text/plain": [
       "<Figure size 432x288 with 1 Axes>"
      ]
     },
     "metadata": {
      "needs_background": "light"
     },
     "output_type": "display_data"
    }
   ],
   "source": [
    "ax = y.hist()"
   ]
  },
  {
   "cell_type": "code",
   "execution_count": 23,
   "metadata": {},
   "outputs": [
    {
     "data": {
      "image/png": "[encoded data removed]",
      "text/plain": [
       "<Figure size 720x576 with 15 Axes>"
      ]
     },
     "metadata": {
      "needs_background": "light"
     },
     "output_type": "display_data"
    }
   ],
   "source": [
    "fig, ax = plt.subplots(5, 3, figsize=(10, 8))\n",
    "_ = [ax[idx % 5, idx // 5].hist(cv.train.y, alpha=0.5) for idx, cv in enumerate(cv_results)]\n",
    "_ = [cv.test.y.hist(alpha=1, ax=ax[idx % 5, idx // 5]) for idx, cv in enumerate(cv_results)]\n",
    "_ = [ax[idx % 5, idx // 5].text(x=0.5, y=0.9, s=f\"CV{idx}: RMSE={cv.test.rmse}\",\n",
    "                                horizontalalignment='center',\n",
    "                                verticalalignment='center',\n",
    "                                transform=ax[idx % 5, idx // 5].transAxes)\n",
    "     for idx, cv in enumerate(cv_results)]"
   ]
  },
  {
   "cell_type": "code",
   "execution_count": 24,
   "metadata": {},
   "outputs": [
    {
     "name": "stdout",
     "output_type": "stream",
     "text": [
      "[0.865533616595851, 0.8517870532366908, 0.9367658085478631, 0.9917520619845038, 0.7050737315671082, 0.9917520619845038, 0.6658335416145964, 0.8090477380654836, 0.8582854286428393, 0.6890777305673582, 0.9620094976255936, 0.981254686328418, 0.10047488127968009, 0.9917520619845038, 0.9802549362659335]\n"
     ]
    }
   ],
   "source": [
    "print([np.count_nonzero(cv.beta_hat) / len(cv.beta_hat) for cv in cv_results])"
   ]
  },
  {
   "cell_type": "markdown",
   "metadata": {},
   "source": [
    "# Feature Importance"
   ]
  },
  {
   "cell_type": "markdown",
   "metadata": {},
   "source": [
    "Let's sort the features by their importance"
   ]
  },
  {
   "cell_type": "code",
   "execution_count": 25,
   "metadata": {},
   "outputs": [],
   "source": [
    "columns_md_fa = columns.drop(['ad', 'cl', 'curvature', 'rd', 'torsion', 'volume'], level=0)\n",
    "columns_md_fa = columns_md_fa.remove_unused_levels()"
   ]
  },
  {
   "cell_type": "code",
   "execution_count": 26,
   "metadata": {},
   "outputs": [
    {
     "data": {
      "text/plain": [
       "[({'metric': 'fa', 'tractID': 'Left IFOF', 'nodeID': 29}, -1.2876599006922698),\n",
       " ({'metric': 'fa', 'tractID': 'Left IFOF', 'nodeID': 30}, -1.2159507497587394),\n",
       " ({'metric': 'fa', 'tractID': 'Right IFOF', 'nodeID': 24},\n",
       "  -1.1295751149513908),\n",
       " ({'metric': 'fa', 'tractID': 'Right Cingulum Cingulate', 'nodeID': 0},\n",
       "  -1.1248011753910314),\n",
       " ({'metric': 'fa', 'tractID': 'Left IFOF', 'nodeID': 28}, -1.090666543064945),\n",
       " ({'metric': 'fa', 'tractID': 'Left Cingulum Cingulate', 'nodeID': 97},\n",
       "  -1.0875937165545138),\n",
       " ({'metric': 'fa', 'tractID': 'Right IFOF', 'nodeID': 23},\n",
       "  -1.0797813385563508),\n",
       " ({'metric': 'fa', 'tractID': 'Right IFOF', 'nodeID': 22},\n",
       "  -1.0755110839589974),\n",
       " ({'metric': 'fa', 'tractID': 'Left IFOF', 'nodeID': 31}, -1.0651498865605713),\n",
       " ({'metric': 'fa', 'tractID': 'Left Cingulum Cingulate', 'nodeID': 96},\n",
       "  -1.0522134780128627),\n",
       " ({'metric': 'fa', 'tractID': 'Right IFOF', 'nodeID': 25},\n",
       "  -1.0446880288188318),\n",
       " ({'metric': 'fa', 'tractID': 'Right Thalamic Radiation', 'nodeID': 7},\n",
       "  -1.0393865564837435),\n",
       " ({'metric': 'fa', 'tractID': 'Left Arcuate', 'nodeID': 2},\n",
       "  -1.027899673659076),\n",
       " ({'metric': 'fa', 'tractID': 'Right IFOF', 'nodeID': 21},\n",
       "  -1.0188900533534704),\n",
       " ({'metric': 'fa', 'tractID': 'Right Uncinate', 'nodeID': 24},\n",
       "  0.9873517245446951),\n",
       " ({'metric': 'fa', 'tractID': 'Right IFOF', 'nodeID': 19},\n",
       "  -0.9825494505985722),\n",
       " ({'metric': 'fa', 'tractID': 'Right IFOF', 'nodeID': 20},\n",
       "  -0.9795317048677972),\n",
       " ({'metric': 'fa', 'tractID': 'Left IFOF', 'nodeID': 32}, -0.9642262415846614),\n",
       " ({'metric': 'fa', 'tractID': 'Right Uncinate', 'nodeID': 23},\n",
       "  0.9589062559976879),\n",
       " ({'metric': 'fa', 'tractID': 'Right Uncinate', 'nodeID': 25},\n",
       "  0.9317218261297775),\n",
       " ({'metric': 'fa', 'tractID': 'Left Cingulum Cingulate', 'nodeID': 95},\n",
       "  -0.9311680042065639),\n",
       " ({'metric': 'fa', 'tractID': 'Callosum Forceps Minor', 'nodeID': 49},\n",
       "  -0.930097604556231),\n",
       " ({'metric': 'fa', 'tractID': 'Right Thalamic Radiation', 'nodeID': 6},\n",
       "  -0.921674966063468),\n",
       " ({'metric': 'fa', 'tractID': 'Right Thalamic Radiation', 'nodeID': 8},\n",
       "  -0.9180723540697914),\n",
       " ({'metric': 'fa', 'tractID': 'Left Corticospinal', 'nodeID': 61},\n",
       "  -0.9096765601362818),\n",
       " ({'metric': 'fa', 'tractID': 'Left Corticospinal', 'nodeID': 60},\n",
       "  -0.8983795517927488),\n",
       " ({'metric': 'fa', 'tractID': 'Right SLF', 'nodeID': 27}, -0.8921456103976554),\n",
       " ({'metric': 'fa', 'tractID': 'Right IFOF', 'nodeID': 18},\n",
       "  -0.8913157781982554),\n",
       " ({'metric': 'fa', 'tractID': 'Callosum Forceps Minor', 'nodeID': 48},\n",
       "  -0.8856888346276439),\n",
       " ({'metric': 'fa', 'tractID': 'Left Corticospinal', 'nodeID': 62},\n",
       "  -0.8794908855540985),\n",
       " ({'metric': 'fa', 'tractID': 'Left IFOF', 'nodeID': 27}, -0.8766506658038878),\n",
       " ({'metric': 'fa', 'tractID': 'Right SLF', 'nodeID': 26}, -0.8688596021775523),\n",
       " ({'metric': 'md', 'tractID': 'Right Thalamic Radiation', 'nodeID': 96},\n",
       "  -0.8678253774118064),\n",
       " ({'metric': 'md', 'tractID': 'Right Thalamic Radiation', 'nodeID': 97},\n",
       "  -0.8583201867434405),\n",
       " ({'metric': 'fa', 'tractID': 'Callosum Forceps Minor', 'nodeID': 50},\n",
       "  -0.8581526156868409),\n",
       " ({'metric': 'md', 'tractID': 'Callosum Forceps Major', 'nodeID': 83},\n",
       "  0.8450679002689612),\n",
       " ({'metric': 'fa', 'tractID': 'Left IFOF', 'nodeID': 33}, -0.8407659856743258),\n",
       " ({'metric': 'fa', 'tractID': 'Right IFOF', 'nodeID': 26},\n",
       "  -0.8407071154501398),\n",
       " ({'metric': 'fa', 'tractID': 'Left Corticospinal', 'nodeID': 63},\n",
       "  -0.8369135513437328),\n",
       " ({'metric': 'fa', 'tractID': 'Right Uncinate', 'nodeID': 55},\n",
       "  -0.8343383060320465),\n",
       " ({'metric': 'md', 'tractID': 'Right Arcuate', 'nodeID': 81},\n",
       "  -0.8303571374335685),\n",
       " ({'metric': 'fa', 'tractID': 'Left Uncinate', 'nodeID': 92},\n",
       "  -0.8297891368850631),\n",
       " ({'metric': 'fa', 'tractID': 'Left Corticospinal', 'nodeID': 59},\n",
       "  -0.8291089427698689),\n",
       " ({'metric': 'fa', 'tractID': 'Right SLF', 'nodeID': 28}, -0.8261894290687689),\n",
       " ({'metric': 'md', 'tractID': 'Callosum Forceps Major', 'nodeID': 84},\n",
       "  0.8214382091794311),\n",
       " ({'metric': 'md', 'tractID': 'Right Thalamic Radiation', 'nodeID': 95},\n",
       "  -0.816941697218487),\n",
       " ({'metric': 'fa', 'tractID': 'Right Uncinate', 'nodeID': 26},\n",
       "  0.8137429066723996),\n",
       " ({'metric': 'fa', 'tractID': 'Right Uncinate', 'nodeID': 22},\n",
       "  0.8132084743623269),\n",
       " ({'metric': 'md', 'tractID': 'Right Arcuate', 'nodeID': 80},\n",
       "  -0.8113048734873549),\n",
       " ({'metric': 'fa', 'tractID': 'Left Corticospinal', 'nodeID': 64},\n",
       "  -0.8101122170104518)]"
      ]
     },
     "execution_count": 26,
     "metadata": {},
     "output_type": "execute_result"
    }
   ],
   "source": [
    "feature_dicts = afqi.multicol2dicts(columns_md_fa, tract_symmetry=False)\n",
    "\n",
    "mean_beta = np.mean(np.array(\n",
    "    [np.delete(res.beta_hat, 4000) for res in hp_cv_res_medae_md_fa]\n",
    "), axis=0)\n",
    "\n",
    "var_beta = np.std(np.array(\n",
    "    [np.delete(res.beta_hat, 4000) for res in hp_cv_res_medae_md_fa]\n",
    "), axis=0)\n",
    "\n",
    "sorted_features = afqi.sort_features(feature_dicts, mean_beta)\n",
    "\n",
    "sorted_features[0:50]"
   ]
  },
  {
   "cell_type": "markdown",
   "metadata": {},
   "source": [
    "It's nice to see the top few features in a sorted list, but let's plot the features to get a feel for their distributions"
   ]
  },
  {
   "cell_type": "code",
   "execution_count": 27,
   "metadata": {},
   "outputs": [],
   "source": [
    "beta_hats = afqi.beta_hat_by_groups(mean_beta, columns=columns_md_fa, drop_zeros=True)\n",
    "beta_hats_var = afqi.beta_hat_by_groups(var_beta, columns=columns_md_fa, drop_zeros=True)\n",
    "# beta_hats_converged = afqi.beta_hat_by_groups(mean_beta_converged, columns=columns, drop_zeros=True)"
   ]
  },
  {
   "cell_type": "markdown",
   "metadata": {},
   "source": [
    "First let's plot the coefficients themselves"
   ]
  },
  {
   "cell_type": "code",
   "execution_count": 28,
   "metadata": {},
   "outputs": [],
   "source": [
    "unfolded_beta = afqi.transform.unfold_beta_hat_by_metrics(\n",
    "    beta_hat=mean_beta,\n",
    "    columns=columns_md_fa\n",
    ")\n",
    "\n",
    "unfolded_beta_var = afqi.transform.unfold_beta_hat_by_metrics(\n",
    "    beta_hat=var_beta,\n",
    "    columns=columns_md_fa\n",
    ")"
   ]
  },
  {
   "cell_type": "code",
   "execution_count": 29,
   "metadata": {},
   "outputs": [],
   "source": [
    "afqi.plot.plot_unfolded_beta(\n",
    "    unfolded_beta=unfolded_beta,\n",
    "    output_html='../docs/img/bokeh_plots/regression_unfolded_beta.html',\n",
    "    width=1500,\n",
    "    height=800\n",
    ")"
   ]
  },
  {
   "cell_type": "code",
   "execution_count": 30,
   "metadata": {},
   "outputs": [],
   "source": [
    "afqi.plot.plot_unfolded_beta(\n",
    "    unfolded_beta=unfolded_beta_var,\n",
    "    output_html='../docs/img/bokeh_plots/regression_unfolded_beta_variance.html',\n",
    "    width=1500,\n",
    "    height=800\n",
    ")"
   ]
  },
  {
   "cell_type": "code",
   "execution_count": 31,
   "metadata": {},
   "outputs": [],
   "source": [
    "from dipy.viz import window, actor\n",
    "from dipy.data import fetch_bundles_2_subjects, read_bundles_2_subjects\n",
    "from dipy.tracking.streamline import transform_streamlines\n",
    "\n",
    "import json"
   ]
  },
  {
   "cell_type": "code",
   "execution_count": 32,
   "metadata": {},
   "outputs": [],
   "source": [
    "with open(\"../data/raw/core_streamlines.json\") as fp:\n",
    "    cores = json.load(fp)"
   ]
  },
  {
   "cell_type": "code",
   "execution_count": 33,
   "metadata": {},
   "outputs": [],
   "source": [
    "import deepdish as dd"
   ]
  },
  {
   "cell_type": "code",
   "execution_count": 34,
   "metadata": {},
   "outputs": [
    {
     "name": "stderr",
     "output_type": "stream",
     "text": [
      "/Users/arokem/.virtualenvs/afqinsight_test/lib/python3.7/site-packages/tables/path.py:157: NaturalNameWarning: object name is not a valid Python identifier: 'Callosum Forceps Major'; it does not match the pattern ``^[a-zA-Z_][a-zA-Z0-9_]*$``; you will not be able to use natural naming to access this object; using ``getattr()`` will still work, though\n",
      "  check_attribute_name(name)\n",
      "/Users/arokem/.virtualenvs/afqinsight_test/lib/python3.7/site-packages/tables/path.py:157: NaturalNameWarning: object name is not a valid Python identifier: 'Callosum Forceps Minor'; it does not match the pattern ``^[a-zA-Z_][a-zA-Z0-9_]*$``; you will not be able to use natural naming to access this object; using ``getattr()`` will still work, though\n",
      "  check_attribute_name(name)\n",
      "/Users/arokem/.virtualenvs/afqinsight_test/lib/python3.7/site-packages/tables/path.py:157: NaturalNameWarning: object name is not a valid Python identifier: 'Left Arcuate'; it does not match the pattern ``^[a-zA-Z_][a-zA-Z0-9_]*$``; you will not be able to use natural naming to access this object; using ``getattr()`` will still work, though\n",
      "  check_attribute_name(name)\n",
      "/Users/arokem/.virtualenvs/afqinsight_test/lib/python3.7/site-packages/tables/path.py:157: NaturalNameWarning: object name is not a valid Python identifier: 'Left Cingulum Cingulate'; it does not match the pattern ``^[a-zA-Z_][a-zA-Z0-9_]*$``; you will not be able to use natural naming to access this object; using ``getattr()`` will still work, though\n",
      "  check_attribute_name(name)\n",
      "/Users/arokem/.virtualenvs/afqinsight_test/lib/python3.7/site-packages/tables/path.py:157: NaturalNameWarning: object name is not a valid Python identifier: 'Left Cingulum Hippocampus'; it does not match the pattern ``^[a-zA-Z_][a-zA-Z0-9_]*$``; you will not be able to use natural naming to access this object; using ``getattr()`` will still work, though\n",
      "  check_attribute_name(name)\n",
      "/Users/arokem/.virtualenvs/afqinsight_test/lib/python3.7/site-packages/tables/path.py:157: NaturalNameWarning: object name is not a valid Python identifier: 'Left Corticospinal'; it does not match the pattern ``^[a-zA-Z_][a-zA-Z0-9_]*$``; you will not be able to use natural naming to access this object; using ``getattr()`` will still work, though\n",
      "  check_attribute_name(name)\n",
      "/Users/arokem/.virtualenvs/afqinsight_test/lib/python3.7/site-packages/tables/path.py:157: NaturalNameWarning: object name is not a valid Python identifier: 'Left IFOF'; it does not match the pattern ``^[a-zA-Z_][a-zA-Z0-9_]*$``; you will not be able to use natural naming to access this object; using ``getattr()`` will still work, though\n",
      "  check_attribute_name(name)\n",
      "/Users/arokem/.virtualenvs/afqinsight_test/lib/python3.7/site-packages/tables/path.py:157: NaturalNameWarning: object name is not a valid Python identifier: 'Left ILF'; it does not match the pattern ``^[a-zA-Z_][a-zA-Z0-9_]*$``; you will not be able to use natural naming to access this object; using ``getattr()`` will still work, though\n",
      "  check_attribute_name(name)\n",
      "/Users/arokem/.virtualenvs/afqinsight_test/lib/python3.7/site-packages/tables/path.py:157: NaturalNameWarning: object name is not a valid Python identifier: 'Left SLF'; it does not match the pattern ``^[a-zA-Z_][a-zA-Z0-9_]*$``; you will not be able to use natural naming to access this object; using ``getattr()`` will still work, though\n",
      "  check_attribute_name(name)\n",
      "/Users/arokem/.virtualenvs/afqinsight_test/lib/python3.7/site-packages/tables/path.py:157: NaturalNameWarning: object name is not a valid Python identifier: 'Left Thalamic Radiation'; it does not match the pattern ``^[a-zA-Z_][a-zA-Z0-9_]*$``; you will not be able to use natural naming to access this object; using ``getattr()`` will still work, though\n",
      "  check_attribute_name(name)\n",
      "/Users/arokem/.virtualenvs/afqinsight_test/lib/python3.7/site-packages/tables/path.py:157: NaturalNameWarning: object name is not a valid Python identifier: 'Left Uncinate'; it does not match the pattern ``^[a-zA-Z_][a-zA-Z0-9_]*$``; you will not be able to use natural naming to access this object; using ``getattr()`` will still work, though\n",
      "  check_attribute_name(name)\n",
      "/Users/arokem/.virtualenvs/afqinsight_test/lib/python3.7/site-packages/tables/path.py:157: NaturalNameWarning: object name is not a valid Python identifier: 'Right Arcuate'; it does not match the pattern ``^[a-zA-Z_][a-zA-Z0-9_]*$``; you will not be able to use natural naming to access this object; using ``getattr()`` will still work, though\n",
      "  check_attribute_name(name)\n",
      "/Users/arokem/.virtualenvs/afqinsight_test/lib/python3.7/site-packages/tables/path.py:157: NaturalNameWarning: object name is not a valid Python identifier: 'Right Cingulum Cingulate'; it does not match the pattern ``^[a-zA-Z_][a-zA-Z0-9_]*$``; you will not be able to use natural naming to access this object; using ``getattr()`` will still work, though\n",
      "  check_attribute_name(name)\n",
      "/Users/arokem/.virtualenvs/afqinsight_test/lib/python3.7/site-packages/tables/path.py:157: NaturalNameWarning: object name is not a valid Python identifier: 'Right Cingulum Hippocampus'; it does not match the pattern ``^[a-zA-Z_][a-zA-Z0-9_]*$``; you will not be able to use natural naming to access this object; using ``getattr()`` will still work, though\n",
      "  check_attribute_name(name)\n",
      "/Users/arokem/.virtualenvs/afqinsight_test/lib/python3.7/site-packages/tables/path.py:157: NaturalNameWarning: object name is not a valid Python identifier: 'Right Corticospinal'; it does not match the pattern ``^[a-zA-Z_][a-zA-Z0-9_]*$``; you will not be able to use natural naming to access this object; using ``getattr()`` will still work, though\n",
      "  check_attribute_name(name)\n",
      "/Users/arokem/.virtualenvs/afqinsight_test/lib/python3.7/site-packages/tables/path.py:157: NaturalNameWarning: object name is not a valid Python identifier: 'Right IFOF'; it does not match the pattern ``^[a-zA-Z_][a-zA-Z0-9_]*$``; you will not be able to use natural naming to access this object; using ``getattr()`` will still work, though\n",
      "  check_attribute_name(name)\n",
      "/Users/arokem/.virtualenvs/afqinsight_test/lib/python3.7/site-packages/tables/path.py:157: NaturalNameWarning: object name is not a valid Python identifier: 'Right ILF'; it does not match the pattern ``^[a-zA-Z_][a-zA-Z0-9_]*$``; you will not be able to use natural naming to access this object; using ``getattr()`` will still work, though\n",
      "  check_attribute_name(name)\n",
      "/Users/arokem/.virtualenvs/afqinsight_test/lib/python3.7/site-packages/tables/path.py:157: NaturalNameWarning: object name is not a valid Python identifier: 'Right SLF'; it does not match the pattern ``^[a-zA-Z_][a-zA-Z0-9_]*$``; you will not be able to use natural naming to access this object; using ``getattr()`` will still work, though\n",
      "  check_attribute_name(name)\n",
      "/Users/arokem/.virtualenvs/afqinsight_test/lib/python3.7/site-packages/tables/path.py:157: NaturalNameWarning: object name is not a valid Python identifier: 'Right Thalamic Radiation'; it does not match the pattern ``^[a-zA-Z_][a-zA-Z0-9_]*$``; you will not be able to use natural naming to access this object; using ``getattr()`` will still work, though\n",
      "  check_attribute_name(name)\n",
      "/Users/arokem/.virtualenvs/afqinsight_test/lib/python3.7/site-packages/tables/path.py:157: NaturalNameWarning: object name is not a valid Python identifier: 'Right Uncinate'; it does not match the pattern ``^[a-zA-Z_][a-zA-Z0-9_]*$``; you will not be able to use natural naming to access this object; using ``getattr()`` will still work, though\n",
      "  check_attribute_name(name)\n"
     ]
    }
   ],
   "source": [
    "dd.io.save(\"age_regression_betas.h5\", beta_hats)"
   ]
  },
  {
   "cell_type": "code",
   "execution_count": 35,
   "metadata": {},
   "outputs": [],
   "source": [
    "renderer = window.Renderer()\n",
    "\n",
    "metric = \"fa\"\n",
    "colors = np.concatenate([beta_hats[bn][metric] for bn in beta_hats.keys()])\n",
    "bundle_names = beta_hats.keys()\n",
    "bundles = [np.array(cores[bn][\"coreFiber\"]) for bn in bundle_names]\n",
    "stream_actor = actor.line(\n",
    "    lines=bundles,\n",
    "    colors=actor.create_colormap(colors, name='coolwarm'),\n",
    "    linewidth=20,\n",
    "    spline_subdiv=300,\n",
    "    fake_tube=True,\n",
    ")\n",
    "\n",
    "renderer.add(stream_actor)\n",
    "window.show(renderer, size=(900, 900), reset_camera=True)"
   ]
  },
  {
   "cell_type": "code",
   "execution_count": 36,
   "metadata": {},
   "outputs": [
    {
     "data": {
      "text/plain": [
       "50"
      ]
     },
     "execution_count": 36,
     "metadata": {},
     "output_type": "execute_result"
    }
   ],
   "source": [
    "y.max()"
   ]
  },
  {
   "cell_type": "code",
   "execution_count": null,
   "metadata": {},
   "outputs": [],
   "source": []
  }
 ],
 "metadata": {
  "kernelspec": {
   "display_name": "Python 3",
   "language": "python",
   "name": "python3"
  },
  "language_info": {
   "codemirror_mode": {
    "name": "ipython",
    "version": 3
   },
   "file_extension": ".py",
   "mimetype": "text/x-python",
   "name": "python",
   "nbconvert_exporter": "python",
   "pygments_lexer": "ipython3",
   "version": "3.7.0"
  }
 },
 "nbformat": 4,
 "nbformat_minor": 2
}
