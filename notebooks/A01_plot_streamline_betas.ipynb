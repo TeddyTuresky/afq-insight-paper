{
 "cells": [
  {
   "cell_type": "code",
   "execution_count": 1,
   "metadata": {},
   "outputs": [],
   "source": [
    "from dipy.viz import window, actor\n",
    "from dipy.data import fetch_bundles_2_subjects, read_bundles_2_subjects\n",
    "from dipy.tracking.streamline import transform_streamlines\n",
    "\n",
    "import deepdish as dd\n",
    "import numpy as np\n",
    "\n",
    "import json"
   ]
  },
  {
   "cell_type": "markdown",
   "metadata": {},
   "source": [
    "# Load streamlines (common to both plots)"
   ]
  },
  {
   "cell_type": "code",
   "execution_count": 2,
   "metadata": {},
   "outputs": [],
   "source": [
    "with open(\"../data/raw/core_streamlines.json\") as fp:\n",
    "    cores = json.load(fp)"
   ]
  },
  {
   "cell_type": "markdown",
   "metadata": {},
   "source": [
    "# Load and plot $\\widehat{\\beta}$ for ALS classification"
   ]
  },
  {
   "cell_type": "code",
   "execution_count": 3,
   "metadata": {},
   "outputs": [],
   "source": [
    "als_betas_by_group = dd.io.load(\"als_classify_betas.h5\")"
   ]
  },
  {
   "cell_type": "code",
   "execution_count": 4,
   "metadata": {},
   "outputs": [],
   "source": [
    "metric = \"fa\"\n",
    "\n",
    "renderer = window.Renderer()\n",
    "renderer.background((1, 1, 1))\n",
    "colors = np.concatenate([als_betas_by_group[bn][metric]\n",
    "                         for bn in als_betas_by_group.keys()])\n",
    "bundle_names = als_betas_by_group.keys()\n",
    "bundles = [np.array(cores[bn][\"coreFiber\"]) for bn in bundle_names]\n",
    "stream_actor = actor.line(\n",
    "    lines=bundles,\n",
    "    colors=actor.create_colormap(colors, name='PuOr', auto=True),\n",
    "    linewidth=20,\n",
    "    spline_subdiv=300,\n",
    "    fake_tube=True,\n",
    ")\n",
    "\n",
    "renderer.add(stream_actor)\n",
    "window.show(renderer, size=(900, 900), reset_camera=True)"
   ]
  },
  {
   "cell_type": "markdown",
   "metadata": {},
   "source": [
    "# Load and plot $\\widehat{\\beta}$ for age regression"
   ]
  },
  {
   "cell_type": "code",
   "execution_count": 5,
   "metadata": {},
   "outputs": [],
   "source": [
    "age_betas_by_group = dd.io.load(\"age_regression_betas.h5\")"
   ]
  },
  {
   "cell_type": "code",
   "execution_count": 6,
   "metadata": {},
   "outputs": [],
   "source": [
    "renderer = window.Renderer()\n",
    "\n",
    "metric = \"fa\"\n",
    "colors = np.concatenate([age_betas_by_group[bn][metric] for bn in age_betas_by_group.keys()])\n",
    "bundle_names = age_betas_by_group.keys()\n",
    "bundles = [np.array(cores[bn][\"coreFiber\"]) for bn in bundle_names]\n",
    "stream_actor = actor.line(\n",
    "    lines=bundles,\n",
    "    colors=actor.create_colormap(colors, name='coolwarm'),\n",
    "    linewidth=20,\n",
    "    spline_subdiv=300,\n",
    "    fake_tube=True,\n",
    ")\n",
    "\n",
    "renderer.add(stream_actor)\n",
    "window.show(renderer, size=(900, 900), reset_camera=True)"
   ]
  },
  {
   "cell_type": "code",
   "execution_count": null,
   "metadata": {},
   "outputs": [],
   "source": []
  }
 ],
 "metadata": {
  "kernelspec": {
   "display_name": "Python [conda env:afq-insight]",
   "language": "python",
   "name": "conda-env-afq-insight-py"
  },
  "language_info": {
   "codemirror_mode": {
    "name": "ipython",
    "version": 3
   },
   "file_extension": ".py",
   "mimetype": "text/x-python",
   "name": "python",
   "nbconvert_exporter": "python",
   "pygments_lexer": "ipython3",
   "version": "3.6.7"
  }
 },
 "nbformat": 4,
 "nbformat_minor": 2
}
