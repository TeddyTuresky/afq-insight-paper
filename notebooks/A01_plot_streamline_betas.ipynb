{
 "cells": [
  {
   "cell_type": "code",
   "execution_count": 1,
   "metadata": {},
   "outputs": [],
   "source": [
    "from dipy.viz import window, actor\n",
    "from dipy.data import fetch_bundles_2_subjects, read_bundles_2_subjects\n",
    "from dipy.tracking.streamline import transform_streamlines\n",
    "\n",
    "import deepdish as dd\n",
    "import numpy as np\n",
    "\n",
    "import json"
   ]
  },
  {
   "cell_type": "code",
   "execution_count": null,
   "metadata": {},
   "outputs": [],
   "source": []
  },
  {
   "cell_type": "code",
   "execution_count": null,
   "metadata": {},
   "outputs": [],
   "source": []
  },
  {
   "cell_type": "code",
   "execution_count": null,
   "metadata": {},
   "outputs": [],
   "source": []
  },
  {
   "cell_type": "code",
   "execution_count": null,
   "metadata": {},
   "outputs": [],
   "source": []
  },
  {
   "cell_type": "code",
   "execution_count": null,
   "metadata": {},
   "outputs": [],
   "source": []
  },
  {
   "cell_type": "code",
   "execution_count": 1,
   "metadata": {},
   "outputs": [
    {
     "name": "stdout",
     "output_type": "stream",
     "text": [
      "Data size is approximately 234MB\n",
      "Dataset is already in place. If you want to fetch it again please first remove the folder /Users/richford/.dipy/exp_bundles_and_maps \n"
     ]
    }
   ],
   "source": [
    "import numpy as np\n",
    "from dipy.viz import window, actor\n",
    "from dipy.data import fetch_bundles_2_subjects, read_bundles_2_subjects\n",
    "from dipy.tracking.streamline import transform_streamlines\n",
    "\n",
    "fetch_bundles_2_subjects()\n",
    "dix = read_bundles_2_subjects(subj_id='subj_1', metrics=['fa'],\n",
    "                              bundles=['cg.left', 'cst.right'])"
   ]
  },
  {
   "cell_type": "code",
   "execution_count": 2,
   "metadata": {},
   "outputs": [],
   "source": [
    "fa = dix['fa']"
   ]
  },
  {
   "cell_type": "code",
   "execution_count": 3,
   "metadata": {},
   "outputs": [],
   "source": [
    "affine = dix['affine']"
   ]
  },
  {
   "cell_type": "code",
   "execution_count": 4,
   "metadata": {},
   "outputs": [],
   "source": [
    "bundle = dix['cg.left']"
   ]
  },
  {
   "cell_type": "code",
   "execution_count": 5,
   "metadata": {},
   "outputs": [],
   "source": [
    "bundle_native = transform_streamlines(bundle, np.linalg.inv(affine))"
   ]
  },
  {
   "cell_type": "code",
   "execution_count": 6,
   "metadata": {},
   "outputs": [],
   "source": [
    "renderer = window.Renderer()\n",
    "\n",
    "stream_actor = actor.line(bundle_native)\n",
    "\n",
    "renderer.set_camera(position=(-176.42, 118.52, 128.20),\n",
    "                    focal_point=(113.30, 128.31, 76.56),\n",
    "                    view_up=(0.18, 0.00, 0.98))\n",
    "\n",
    "renderer.add(stream_actor)"
   ]
  },
  {
   "cell_type": "code",
   "execution_count": 70,
   "metadata": {},
   "outputs": [
    {
     "data": {
      "text/plain": [
       "0.004874"
      ]
     },
     "execution_count": 70,
     "metadata": {},
     "output_type": "execute_result"
    }
   ],
   "source": [
    "cmap.min()"
   ]
  },
  {
   "cell_type": "code",
   "execution_count": 72,
   "metadata": {},
   "outputs": [
    {
     "data": {
      "text/plain": [
       "(256, 256, 150)"
      ]
     },
     "execution_count": 72,
     "metadata": {},
     "output_type": "execute_result"
    }
   ],
   "source": [
    "fa.shape"
   ]
  },
  {
   "cell_type": "code",
   "execution_count": 77,
   "metadata": {},
   "outputs": [
    {
     "data": {
      "text/plain": [
       "(70, 3)"
      ]
     },
     "execution_count": 77,
     "metadata": {},
     "output_type": "execute_result"
    }
   ],
   "source": [
    "bundle_native"
   ]
  },
  {
   "cell_type": "code",
   "execution_count": 71,
   "metadata": {},
   "outputs": [],
   "source": [
    "renderer.clear()\n",
    "\n",
    "cmap = actor.create_colormap(np.ravel(fa), name=\"viridis\")\n",
    "\n",
    "stream_actor2 = actor.line(bundle_native, cmap, linewidth=0.1)\n",
    "bar = actor.scalar_bar()\n",
    "\n",
    "renderer.add(stream_actor2)\n",
    "renderer.add(bar)\n",
    "\n",
    "renderer.set_camera(position=(-176.42, 118.52, 128.20),\n",
    "                    focal_point=(113.30, 128.31, 76.56),\n",
    "                    view_up=(0.18, 0.00, 0.98))\n",
    "\n",
    "axes = actor.axes(scale=(20, 20, 20))\n",
    "axes.SetPosition((\n",
    "    np.mean(stream_actor2.GetXRange()),\n",
    "    np.max(stream_actor2.GetYRange()) - 20,\n",
    "    np.min(stream_actor2.GetZRange()) - 20,\n",
    "))\n",
    "renderer.add(axes)\n",
    "\n",
    "window.show(renderer, size=(600, 600), reset_camera=False)"
   ]
  },
  {
   "cell_type": "code",
   "execution_count": 17,
   "metadata": {},
   "outputs": [
    {
     "data": {
      "text/plain": [
       "(0.0, 0.0, 0.0)"
      ]
     },
     "execution_count": 17,
     "metadata": {},
     "output_type": "execute_result"
    }
   ],
   "source": [
    "stream_actor2.GetPosition()"
   ]
  },
  {
   "cell_type": "code",
   "execution_count": 30,
   "metadata": {},
   "outputs": [],
   "source": [
    "coord = bar.GetActualPositionCoordinate()\n",
    "coord2 = bar.GetActualPosition2Coordinate()"
   ]
  },
  {
   "cell_type": "code",
   "execution_count": null,
   "metadata": {},
   "outputs": [],
   "source": []
  },
  {
   "cell_type": "code",
   "execution_count": null,
   "metadata": {},
   "outputs": [],
   "source": []
  },
  {
   "cell_type": "code",
   "execution_count": null,
   "metadata": {},
   "outputs": [],
   "source": []
  },
  {
   "cell_type": "code",
   "execution_count": null,
   "metadata": {},
   "outputs": [],
   "source": []
  },
  {
   "cell_type": "markdown",
   "metadata": {},
   "source": [
    "# Load streamlines (common to both plots)"
   ]
  },
  {
   "cell_type": "code",
   "execution_count": 2,
   "metadata": {},
   "outputs": [],
   "source": [
    "with open(\"../data/raw/core_streamlines.json\") as fp:\n",
    "    cores = json.load(fp)"
   ]
  },
  {
   "cell_type": "markdown",
   "metadata": {},
   "source": [
    "# Load and plot $\\widehat{\\beta}$ for ALS classification"
   ]
  },
  {
   "cell_type": "code",
   "execution_count": 3,
   "metadata": {},
   "outputs": [],
   "source": [
    "als_betas_by_group = dd.io.load(\"als_classify_betas.h5\")"
   ]
  },
  {
   "cell_type": "code",
   "execution_count": 4,
   "metadata": {},
   "outputs": [],
   "source": [
    "metric = \"fa\"\n",
    "\n",
    "renderer = window.Renderer()\n",
    "renderer.background((1, 1, 1))\n",
    "colors = np.concatenate([als_betas_by_group[bn][metric]\n",
    "                         for bn in als_betas_by_group.keys()])\n",
    "bundle_names = als_betas_by_group.keys()\n",
    "bundles = [np.array(cores[bn][\"coreFiber\"]) for bn in bundle_names]\n",
    "stream_actor = actor.line(\n",
    "    lines=bundles,\n",
    "    colors=actor.create_colormap(colors, name='PuOr', auto=True),\n",
    "    linewidth=20,\n",
    "    spline_subdiv=300,\n",
    "    fake_tube=True,\n",
    ")\n",
    "\n",
    "renderer.add(stream_actor)\n",
    "window.show(renderer, size=(900, 900), reset_camera=True)"
   ]
  },
  {
   "cell_type": "markdown",
   "metadata": {},
   "source": [
    "# Load and plot $\\widehat{\\beta}$ for age regression"
   ]
  },
  {
   "cell_type": "code",
   "execution_count": 5,
   "metadata": {},
   "outputs": [],
   "source": [
    "age_betas_by_group = dd.io.load(\"age_regression_betas.h5\")"
   ]
  },
  {
   "cell_type": "code",
   "execution_count": 6,
   "metadata": {},
   "outputs": [],
   "source": [
    "renderer = window.Renderer()\n",
    "\n",
    "metric = \"fa\"\n",
    "colors = np.concatenate([age_betas_by_group[bn][metric] for bn in age_betas_by_group.keys()])\n",
    "bundle_names = age_betas_by_group.keys()\n",
    "bundles = [np.array(cores[bn][\"coreFiber\"]) for bn in bundle_names]\n",
    "stream_actor = actor.line(\n",
    "    lines=bundles,\n",
    "    colors=actor.create_colormap(colors, name='coolwarm'),\n",
    "    linewidth=20,\n",
    "    spline_subdiv=300,\n",
    "    fake_tube=True,\n",
    ")\n",
    "\n",
    "renderer.add(stream_actor)\n",
    "window.show(renderer, size=(900, 900), reset_camera=True)"
   ]
  },
  {
   "cell_type": "code",
   "execution_count": null,
   "metadata": {},
   "outputs": [],
   "source": []
  }
 ],
 "metadata": {
  "kernelspec": {
   "display_name": "Python 3",
   "language": "python",
   "name": "python3"
  },
  "language_info": {
   "codemirror_mode": {
    "name": "ipython",
    "version": 3
   },
   "file_extension": ".py",
   "mimetype": "text/x-python",
   "name": "python",
   "nbconvert_exporter": "python",
   "pygments_lexer": "ipython3",
   "version": "3.6.7"
  }
 },
 "nbformat": 4,
 "nbformat_minor": 2
}
