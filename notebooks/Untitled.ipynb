{
 "cells": [
  {
   "cell_type": "code",
   "execution_count": 1,
   "metadata": {},
   "outputs": [
    {
     "name": "stderr",
     "output_type": "stream",
     "text": [
      "/Users/richford/miniconda3/envs/nipy-dipy/lib/python3.6/site-packages/h5py/__init__.py:36: FutureWarning: Conversion of the second argument of issubdtype from `float` to `np.floating` is deprecated. In future, it will be treated as `np.float64 == np.dtype(float).type`.\n",
      "  from ._conv import register_converters as _register_converters\n"
     ]
    }
   ],
   "source": [
    "import numpy as np\n",
    "from dipy.viz import window, actor\n",
    "from dipy.data import fetch_bundles_2_subjects, read_bundles_2_subjects\n",
    "from dipy.tracking.streamline import transform_streamlines\n",
    "\n",
    "import matplotlib.pyplot as plt\n",
    "from matplotlib import cm\n",
    "\n",
    "import json\n",
    "\n",
    "%matplotlib inline"
   ]
  },
  {
   "cell_type": "code",
   "execution_count": 2,
   "metadata": {},
   "outputs": [],
   "source": [
    "with open(\"../data/raw/core_streamlines.json\") as fp:\n",
    "    cores = json.load(fp)"
   ]
  },
  {
   "cell_type": "code",
   "execution_count": 3,
   "metadata": {},
   "outputs": [
    {
     "data": {
      "text/plain": [
       "[<matplotlib.lines.Line2D at 0xb1d625828>]"
      ]
     },
     "execution_count": 3,
     "metadata": {},
     "output_type": "execute_result"
    },
    {
     "data": {
      "image/png": "[encoded data removed]",
      "text/plain": [
       "<Figure size 432x288 with 1 Axes>"
      ]
     },
     "metadata": {
      "needs_background": "light"
     },
     "output_type": "display_data"
    }
   ],
   "source": [
    "x = np.linspace(-3, 3, 100)\n",
    "colors = np.exp(-np.square(x)) * np.sin(x)\n",
    "plt.plot(x, colors)\n",
    "colors = np.hstack()"
   ]
  },
  {
   "cell_type": "code",
   "execution_count": 5,
   "metadata": {},
   "outputs": [],
   "source": [
    "renderer = window.Renderer()\n",
    "\n",
    "bundle_names = [\"Left Corticospinal\", \"Right Corticospinal\"]\n",
    "bundles = [np.array(cores[bn][\"coreFiber\"]) for bn in bundle_names]\n",
    "stream_actor = actor.line(\n",
    "    lines=bundles,\n",
    "    colors=actor.create_colormap(colors, name='coolwarm'),\n",
    "    linewidth=20,\n",
    "    spline_subdiv=300,\n",
    "    fake_tube=True,\n",
    ")\n",
    "renderer.add(stream_actor)\n",
    "window.show(renderer, size=(900, 900), reset_camera=True)"
   ]
  },
  {
   "cell_type": "code",
   "execution_count": null,
   "metadata": {},
   "outputs": [],
   "source": [
    "renderer.clear()\n",
    "show_m = window.ShowManager(renderer, size=(1200, 900))\n",
    "show_m.initialize()"
   ]
  },
  {
   "cell_type": "code",
   "execution_count": null,
   "metadata": {},
   "outputs": [],
   "source": []
  }
 ],
 "metadata": {
  "kernelspec": {
   "display_name": "Python [conda env:nipy-dipy]",
   "language": "python",
   "name": "conda-env-nipy-dipy-py"
  },
  "language_info": {
   "codemirror_mode": {
    "name": "ipython",
    "version": 3
   },
   "file_extension": ".py",
   "mimetype": "text/x-python",
   "name": "python",
   "nbconvert_exporter": "python",
   "pygments_lexer": "ipython3",
   "version": "3.6.7"
  }
 },
 "nbformat": 4,
 "nbformat_minor": 2
}
