{
 "cells": [
  {
   "cell_type": "markdown",
   "metadata": {},
   "source": [
    "# Predict age from AFQ-Browser-Demo data using AFQ-Insight"
   ]
  },
  {
   "cell_type": "code",
   "execution_count": 1,
   "metadata": {},
   "outputs": [],
   "source": [
    "import afqinsight as afqi\n",
    "import itertools\n",
    "import matplotlib.pyplot as plt\n",
    "import numpy as np\n",
    "import os.path as op\n",
    "import pandas as pd\n",
    "import pickle\n",
    "\n",
    "from mpl_toolkits.mplot3d import Axes3D\n",
    "\n",
    "from bokeh.io import output_notebook\n",
    "from bokeh.embed import file_html\n",
    "from bokeh.layouts import row, column, widgetbox\n",
    "from bokeh.models import BoxSelectTool, ColorBar, CustomJS, HoverTool, Legend, Range1d, Title, Whisker\n",
    "from bokeh.models.tickers import FixedTicker\n",
    "from bokeh.models.annotations import LegendItem\n",
    "from bokeh.palettes import Spectral10, Cividis256, Category10_10\n",
    "from bokeh.plotting import figure, show, ColumnDataSource\n",
    "from bokeh.resources import CDN\n",
    "from bokeh.models.mappers import LinearColorMapper\n",
    "\n",
    "from sklearn.decomposition import PCA\n",
    "\n",
    "%matplotlib notebook"
   ]
  },
  {
   "cell_type": "code",
   "execution_count": 2,
   "metadata": {},
   "outputs": [
    {
     "data": {
      "text/html": [
       "\n",
       "    <div class=\"bk-root\">\n",
       "        <a href=\"https://bokeh.pydata.org\" target=\"_blank\" class=\"bk-logo bk-logo-small bk-logo-notebook\"></a>\n",
       "        <span id=\"1001\">Loading BokehJS ...</span>\n",
       "    </div>"
      ]
     },
     "metadata": {},
     "output_type": "display_data"
    },
    {
     "data": {
      "application/javascript": [
       "\n",
       "(function(root) {\n",
       "  function now() {\n",
       "    return new Date();\n",
       "  }\n",
       "\n",
       "  var force = true;\n",
       "\n",
       "  if (typeof root._bokeh_onload_callbacks === \"undefined\" || force === true) {\n",
       "    root._bokeh_onload_callbacks = [];\n",
       "    root._bokeh_is_loading = undefined;\n",
       "  }\n",
       "\n",
       "  var JS_MIME_TYPE = 'application/javascript';\n",
       "  var HTML_MIME_TYPE = 'text/html';\n",
       "  var EXEC_MIME_TYPE = 'application/vnd.bokehjs_exec.v0+json';\n",
       "  var CLASS_NAME = 'output_bokeh rendered_html';\n",
       "\n",
       "  /**\n",
       "   * Render data to the DOM node\n",
       "   */\n",
       "  function render(props, node) {\n",
       "    var script = document.createElement(\"script\");\n",
       "    node.appendChild(script);\n",
       "  }\n",
       "\n",
       "  /**\n",
       "   * Handle when an output is cleared or removed\n",
       "   */\n",
       "  function handleClearOutput(event, handle) {\n",
       "    var cell = handle.cell;\n",
       "\n",
       "    var id = cell.output_area._bokeh_element_id;\n",
       "    var server_id = cell.output_area._bokeh_server_id;\n",
       "    // Clean up Bokeh references\n",
       "    if (id != null && id in Bokeh.index) {\n",
       "      Bokeh.index[id].model.document.clear();\n",
       "      delete Bokeh.index[id];\n",
       "    }\n",
       "\n",
       "    if (server_id !== undefined) {\n",
       "      // Clean up Bokeh references\n",
       "      var cmd = \"from bokeh.io.state import curstate; print(curstate().uuid_to_server['\" + server_id + \"'].get_sessions()[0].document.roots[0]._id)\";\n",
       "      cell.notebook.kernel.execute(cmd, {\n",
       "        iopub: {\n",
       "          output: function(msg) {\n",
       "            var id = msg.content.text.trim();\n",
       "            if (id in Bokeh.index) {\n",
       "              Bokeh.index[id].model.document.clear();\n",
       "              delete Bokeh.index[id];\n",
       "            }\n",
       "          }\n",
       "        }\n",
       "      });\n",
       "      // Destroy server and session\n",
       "      var cmd = \"import bokeh.io.notebook as ion; ion.destroy_server('\" + server_id + \"')\";\n",
       "      cell.notebook.kernel.execute(cmd);\n",
       "    }\n",
       "  }\n",
       "\n",
       "  /**\n",
       "   * Handle when a new output is added\n",
       "   */\n",
       "  function handleAddOutput(event, handle) {\n",
       "    var output_area = handle.output_area;\n",
       "    var output = handle.output;\n",
       "\n",
       "    // limit handleAddOutput to display_data with EXEC_MIME_TYPE content only\n",
       "    if ((output.output_type != \"display_data\") || (!output.data.hasOwnProperty(EXEC_MIME_TYPE))) {\n",
       "      return\n",
       "    }\n",
       "\n",
       "    var toinsert = output_area.element.find(\".\" + CLASS_NAME.split(' ')[0]);\n",
       "\n",
       "    if (output.metadata[EXEC_MIME_TYPE][\"id\"] !== undefined) {\n",
       "      toinsert[toinsert.length - 1].firstChild.textContent = output.data[JS_MIME_TYPE];\n",
       "      // store reference to embed id on output_area\n",
       "      output_area._bokeh_element_id = output.metadata[EXEC_MIME_TYPE][\"id\"];\n",
       "    }\n",
       "    if (output.metadata[EXEC_MIME_TYPE][\"server_id\"] !== undefined) {\n",
       "      var bk_div = document.createElement(\"div\");\n",
       "      bk_div.innerHTML = output.data[HTML_MIME_TYPE];\n",
       "      var script_attrs = bk_div.children[0].attributes;\n",
       "      for (var i = 0; i < script_attrs.length; i++) {\n",
       "        toinsert[toinsert.length - 1].firstChild.setAttribute(script_attrs[i].name, script_attrs[i].value);\n",
       "      }\n",
       "      // store reference to server id on output_area\n",
       "      output_area._bokeh_server_id = output.metadata[EXEC_MIME_TYPE][\"server_id\"];\n",
       "    }\n",
       "  }\n",
       "\n",
       "  function register_renderer(events, OutputArea) {\n",
       "\n",
       "    function append_mime(data, metadata, element) {\n",
       "      // create a DOM node to render to\n",
       "      var toinsert = this.create_output_subarea(\n",
       "        metadata,\n",
       "        CLASS_NAME,\n",
       "        EXEC_MIME_TYPE\n",
       "      );\n",
       "      this.keyboard_manager.register_events(toinsert);\n",
       "      // Render to node\n",
       "      var props = {data: data, metadata: metadata[EXEC_MIME_TYPE]};\n",
       "      render(props, toinsert[toinsert.length - 1]);\n",
       "      element.append(toinsert);\n",
       "      return toinsert\n",
       "    }\n",
       "\n",
       "    /* Handle when an output is cleared or removed */\n",
       "    events.on('clear_output.CodeCell', handleClearOutput);\n",
       "    events.on('delete.Cell', handleClearOutput);\n",
       "\n",
       "    /* Handle when a new output is added */\n",
       "    events.on('output_added.OutputArea', handleAddOutput);\n",
       "\n",
       "    /**\n",
       "     * Register the mime type and append_mime function with output_area\n",
       "     */\n",
       "    OutputArea.prototype.register_mime_type(EXEC_MIME_TYPE, append_mime, {\n",
       "      /* Is output safe? */\n",
       "      safe: true,\n",
       "      /* Index of renderer in `output_area.display_order` */\n",
       "      index: 0\n",
       "    });\n",
       "  }\n",
       "\n",
       "  // register the mime type if in Jupyter Notebook environment and previously unregistered\n",
       "  if (root.Jupyter !== undefined) {\n",
       "    var events = require('base/js/events');\n",
       "    var OutputArea = require('notebook/js/outputarea').OutputArea;\n",
       "\n",
       "    if (OutputArea.prototype.mime_types().indexOf(EXEC_MIME_TYPE) == -1) {\n",
       "      register_renderer(events, OutputArea);\n",
       "    }\n",
       "  }\n",
       "\n",
       "  \n",
       "  if (typeof (root._bokeh_timeout) === \"undefined\" || force === true) {\n",
       "    root._bokeh_timeout = Date.now() + 5000;\n",
       "    root._bokeh_failed_load = false;\n",
       "  }\n",
       "\n",
       "  var NB_LOAD_WARNING = {'data': {'text/html':\n",
       "     \"<div style='background-color: #fdd'>\\n\"+\n",
       "     \"<p>\\n\"+\n",
       "     \"BokehJS does not appear to have successfully loaded. If loading BokehJS from CDN, this \\n\"+\n",
       "     \"may be due to a slow or bad network connection. Possible fixes:\\n\"+\n",
       "     \"</p>\\n\"+\n",
       "     \"<ul>\\n\"+\n",
       "     \"<li>re-rerun `output_notebook()` to attempt to load from CDN again, or</li>\\n\"+\n",
       "     \"<li>use INLINE resources instead, as so:</li>\\n\"+\n",
       "     \"</ul>\\n\"+\n",
       "     \"<code>\\n\"+\n",
       "     \"from bokeh.resources import INLINE\\n\"+\n",
       "     \"output_notebook(resources=INLINE)\\n\"+\n",
       "     \"</code>\\n\"+\n",
       "     \"</div>\"}};\n",
       "\n",
       "  function display_loaded() {\n",
       "    var el = document.getElementById(\"1001\");\n",
       "    if (el != null) {\n",
       "      el.textContent = \"BokehJS is loading...\";\n",
       "    }\n",
       "    if (root.Bokeh !== undefined) {\n",
       "      if (el != null) {\n",
       "        el.textContent = \"BokehJS \" + root.Bokeh.version + \" successfully loaded.\";\n",
       "      }\n",
       "    } else if (Date.now() < root._bokeh_timeout) {\n",
       "      setTimeout(display_loaded, 100)\n",
       "    }\n",
       "  }\n",
       "\n",
       "\n",
       "  function run_callbacks() {\n",
       "    try {\n",
       "      root._bokeh_onload_callbacks.forEach(function(callback) {\n",
       "        if (callback != null)\n",
       "          callback();\n",
       "      });\n",
       "    } finally {\n",
       "      delete root._bokeh_onload_callbacks\n",
       "    }\n",
       "    console.debug(\"Bokeh: all callbacks have finished\");\n",
       "  }\n",
       "\n",
       "  function load_libs(css_urls, js_urls, callback) {\n",
       "    if (css_urls == null) css_urls = [];\n",
       "    if (js_urls == null) js_urls = [];\n",
       "\n",
       "    root._bokeh_onload_callbacks.push(callback);\n",
       "    if (root._bokeh_is_loading > 0) {\n",
       "      console.debug(\"Bokeh: BokehJS is being loaded, scheduling callback at\", now());\n",
       "      return null;\n",
       "    }\n",
       "    if (js_urls == null || js_urls.length === 0) {\n",
       "      run_callbacks();\n",
       "      return null;\n",
       "    }\n",
       "    console.debug(\"Bokeh: BokehJS not loaded, scheduling load and callback at\", now());\n",
       "    root._bokeh_is_loading = css_urls.length + js_urls.length;\n",
       "\n",
       "    function on_load() {\n",
       "      root._bokeh_is_loading--;\n",
       "      if (root._bokeh_is_loading === 0) {\n",
       "        console.debug(\"Bokeh: all BokehJS libraries/stylesheets loaded\");\n",
       "        run_callbacks()\n",
       "      }\n",
       "    }\n",
       "\n",
       "    function on_error() {\n",
       "      console.error(\"failed to load \" + url);\n",
       "    }\n",
       "\n",
       "    for (var i = 0; i < css_urls.length; i++) {\n",
       "      var url = css_urls[i];\n",
       "      const element = document.createElement(\"link\");\n",
       "      element.onload = on_load;\n",
       "      element.onerror = on_error;\n",
       "      element.rel = \"stylesheet\";\n",
       "      element.type = \"text/css\";\n",
       "      element.href = url;\n",
       "      console.debug(\"Bokeh: injecting link tag for BokehJS stylesheet: \", url);\n",
       "      document.body.appendChild(element);\n",
       "    }\n",
       "\n",
       "    for (var i = 0; i < js_urls.length; i++) {\n",
       "      var url = js_urls[i];\n",
       "      var element = document.createElement('script');\n",
       "      element.onload = on_load;\n",
       "      element.onerror = on_error;\n",
       "      element.async = false;\n",
       "      element.src = url;\n",
       "      console.debug(\"Bokeh: injecting script tag for BokehJS library: \", url);\n",
       "      document.head.appendChild(element);\n",
       "    }\n",
       "  };var element = document.getElementById(\"1001\");\n",
       "  if (element == null) {\n",
       "    console.error(\"Bokeh: ERROR: autoload.js configured with elementid '1001' but no matching script tag was found. \")\n",
       "    return false;\n",
       "  }\n",
       "\n",
       "  function inject_raw_css(css) {\n",
       "    const element = document.createElement(\"style\");\n",
       "    element.appendChild(document.createTextNode(css));\n",
       "    document.body.appendChild(element);\n",
       "  }\n",
       "\n",
       "  var js_urls = [\"https://cdn.pydata.org/bokeh/release/bokeh-1.1.0.min.js\", \"https://cdn.pydata.org/bokeh/release/bokeh-widgets-1.1.0.min.js\", \"https://cdn.pydata.org/bokeh/release/bokeh-tables-1.1.0.min.js\", \"https://cdn.pydata.org/bokeh/release/bokeh-gl-1.1.0.min.js\"];\n",
       "  var css_urls = [\"https://cdn.pydata.org/bokeh/release/bokeh-1.1.0.min.css\", \"https://cdn.pydata.org/bokeh/release/bokeh-widgets-1.1.0.min.css\", \"https://cdn.pydata.org/bokeh/release/bokeh-tables-1.1.0.min.css\"];\n",
       "\n",
       "  var inline_js = [\n",
       "    function(Bokeh) {\n",
       "      Bokeh.set_log_level(\"info\");\n",
       "    },\n",
       "    \n",
       "    function(Bokeh) {\n",
       "      \n",
       "    },\n",
       "    function(Bokeh) {} // ensure no trailing comma for IE\n",
       "  ];\n",
       "\n",
       "  function run_inline_js() {\n",
       "    \n",
       "    if ((root.Bokeh !== undefined) || (force === true)) {\n",
       "      for (var i = 0; i < inline_js.length; i++) {\n",
       "        inline_js[i].call(root, root.Bokeh);\n",
       "      }if (force === true) {\n",
       "        display_loaded();\n",
       "      }} else if (Date.now() < root._bokeh_timeout) {\n",
       "      setTimeout(run_inline_js, 100);\n",
       "    } else if (!root._bokeh_failed_load) {\n",
       "      console.log(\"Bokeh: BokehJS failed to load within specified timeout.\");\n",
       "      root._bokeh_failed_load = true;\n",
       "    } else if (force !== true) {\n",
       "      var cell = $(document.getElementById(\"1001\")).parents('.cell').data().cell;\n",
       "      cell.output_area.append_execute_result(NB_LOAD_WARNING)\n",
       "    }\n",
       "\n",
       "  }\n",
       "\n",
       "  if (root._bokeh_is_loading === 0) {\n",
       "    console.debug(\"Bokeh: BokehJS loaded, going straight to plotting\");\n",
       "    run_inline_js();\n",
       "  } else {\n",
       "    load_libs(css_urls, js_urls, function() {\n",
       "      console.debug(\"Bokeh: BokehJS plotting callback run at\", now());\n",
       "      run_inline_js();\n",
       "    });\n",
       "  }\n",
       "}(window));"
      ],
      "application/vnd.bokehjs_load.v0+json": "\n(function(root) {\n  function now() {\n    return new Date();\n  }\n\n  var force = true;\n\n  if (typeof root._bokeh_onload_callbacks === \"undefined\" || force === true) {\n    root._bokeh_onload_callbacks = [];\n    root._bokeh_is_loading = undefined;\n  }\n\n  \n\n  \n  if (typeof (root._bokeh_timeout) === \"undefined\" || force === true) {\n    root._bokeh_timeout = Date.now() + 5000;\n    root._bokeh_failed_load = false;\n  }\n\n  var NB_LOAD_WARNING = {'data': {'text/html':\n     \"<div style='background-color: #fdd'>\\n\"+\n     \"<p>\\n\"+\n     \"BokehJS does not appear to have successfully loaded. If loading BokehJS from CDN, this \\n\"+\n     \"may be due to a slow or bad network connection. Possible fixes:\\n\"+\n     \"</p>\\n\"+\n     \"<ul>\\n\"+\n     \"<li>re-rerun `output_notebook()` to attempt to load from CDN again, or</li>\\n\"+\n     \"<li>use INLINE resources instead, as so:</li>\\n\"+\n     \"</ul>\\n\"+\n     \"<code>\\n\"+\n     \"from bokeh.resources import INLINE\\n\"+\n     \"output_notebook(resources=INLINE)\\n\"+\n     \"</code>\\n\"+\n     \"</div>\"}};\n\n  function display_loaded() {\n    var el = document.getElementById(\"1001\");\n    if (el != null) {\n      el.textContent = \"BokehJS is loading...\";\n    }\n    if (root.Bokeh !== undefined) {\n      if (el != null) {\n        el.textContent = \"BokehJS \" + root.Bokeh.version + \" successfully loaded.\";\n      }\n    } else if (Date.now() < root._bokeh_timeout) {\n      setTimeout(display_loaded, 100)\n    }\n  }\n\n\n  function run_callbacks() {\n    try {\n      root._bokeh_onload_callbacks.forEach(function(callback) {\n        if (callback != null)\n          callback();\n      });\n    } finally {\n      delete root._bokeh_onload_callbacks\n    }\n    console.debug(\"Bokeh: all callbacks have finished\");\n  }\n\n  function load_libs(css_urls, js_urls, callback) {\n    if (css_urls == null) css_urls = [];\n    if (js_urls == null) js_urls = [];\n\n    root._bokeh_onload_callbacks.push(callback);\n    if (root._bokeh_is_loading > 0) {\n      console.debug(\"Bokeh: BokehJS is being loaded, scheduling callback at\", now());\n      return null;\n    }\n    if (js_urls == null || js_urls.length === 0) {\n      run_callbacks();\n      return null;\n    }\n    console.debug(\"Bokeh: BokehJS not loaded, scheduling load and callback at\", now());\n    root._bokeh_is_loading = css_urls.length + js_urls.length;\n\n    function on_load() {\n      root._bokeh_is_loading--;\n      if (root._bokeh_is_loading === 0) {\n        console.debug(\"Bokeh: all BokehJS libraries/stylesheets loaded\");\n        run_callbacks()\n      }\n    }\n\n    function on_error() {\n      console.error(\"failed to load \" + url);\n    }\n\n    for (var i = 0; i < css_urls.length; i++) {\n      var url = css_urls[i];\n      const element = document.createElement(\"link\");\n      element.onload = on_load;\n      element.onerror = on_error;\n      element.rel = \"stylesheet\";\n      element.type = \"text/css\";\n      element.href = url;\n      console.debug(\"Bokeh: injecting link tag for BokehJS stylesheet: \", url);\n      document.body.appendChild(element);\n    }\n\n    for (var i = 0; i < js_urls.length; i++) {\n      var url = js_urls[i];\n      var element = document.createElement('script');\n      element.onload = on_load;\n      element.onerror = on_error;\n      element.async = false;\n      element.src = url;\n      console.debug(\"Bokeh: injecting script tag for BokehJS library: \", url);\n      document.head.appendChild(element);\n    }\n  };var element = document.getElementById(\"1001\");\n  if (element == null) {\n    console.error(\"Bokeh: ERROR: autoload.js configured with elementid '1001' but no matching script tag was found. \")\n    return false;\n  }\n\n  function inject_raw_css(css) {\n    const element = document.createElement(\"style\");\n    element.appendChild(document.createTextNode(css));\n    document.body.appendChild(element);\n  }\n\n  var js_urls = [\"https://cdn.pydata.org/bokeh/release/bokeh-1.1.0.min.js\", \"https://cdn.pydata.org/bokeh/release/bokeh-widgets-1.1.0.min.js\", \"https://cdn.pydata.org/bokeh/release/bokeh-tables-1.1.0.min.js\", \"https://cdn.pydata.org/bokeh/release/bokeh-gl-1.1.0.min.js\"];\n  var css_urls = [\"https://cdn.pydata.org/bokeh/release/bokeh-1.1.0.min.css\", \"https://cdn.pydata.org/bokeh/release/bokeh-widgets-1.1.0.min.css\", \"https://cdn.pydata.org/bokeh/release/bokeh-tables-1.1.0.min.css\"];\n\n  var inline_js = [\n    function(Bokeh) {\n      Bokeh.set_log_level(\"info\");\n    },\n    \n    function(Bokeh) {\n      \n    },\n    function(Bokeh) {} // ensure no trailing comma for IE\n  ];\n\n  function run_inline_js() {\n    \n    if ((root.Bokeh !== undefined) || (force === true)) {\n      for (var i = 0; i < inline_js.length; i++) {\n        inline_js[i].call(root, root.Bokeh);\n      }if (force === true) {\n        display_loaded();\n      }} else if (Date.now() < root._bokeh_timeout) {\n      setTimeout(run_inline_js, 100);\n    } else if (!root._bokeh_failed_load) {\n      console.log(\"Bokeh: BokehJS failed to load within specified timeout.\");\n      root._bokeh_failed_load = true;\n    } else if (force !== true) {\n      var cell = $(document.getElementById(\"1001\")).parents('.cell').data().cell;\n      cell.output_area.append_execute_result(NB_LOAD_WARNING)\n    }\n\n  }\n\n  if (root._bokeh_is_loading === 0) {\n    console.debug(\"Bokeh: BokehJS loaded, going straight to plotting\");\n    run_inline_js();\n  } else {\n    load_libs(css_urls, js_urls, function() {\n      console.debug(\"Bokeh: BokehJS plotting callback run at\", now());\n      run_inline_js();\n    });\n  }\n}(window));"
     },
     "metadata": {},
     "output_type": "display_data"
    }
   ],
   "source": [
    "output_notebook()"
   ]
  },
  {
   "cell_type": "markdown",
   "metadata": {},
   "source": [
    "## Load the data"
   ]
  },
  {
   "cell_type": "code",
   "execution_count": 3,
   "metadata": {},
   "outputs": [
    {
     "name": "stderr",
     "output_type": "stream",
     "text": [
      "/Users/richford/projects/neuro/afq/insight/afqinsight/transform.py:145: FutureWarning: .labels was deprecated in version 0.24.0. Use .codes instead.\n",
      "  features.columns.labels[metric_level].astype(np.int64) * n_tracts\n",
      "/Users/richford/projects/neuro/afq/insight/afqinsight/transform.py:146: FutureWarning: .labels was deprecated in version 0.24.0. Use .codes instead.\n",
      "  + features.columns.labels[tract_level].astype(np.int64),\n"
     ]
    }
   ],
   "source": [
    "afq_data = afqi.load_afq_data(\n",
    "    '../data/raw/age_data',\n",
    "    target_cols=['Age'],\n",
    "    scale_x=False\n",
    ")\n",
    "\n",
    "x, y, groups, columns, bias_index = (\n",
    "    afq_data.x,\n",
    "    afq_data.y['Age'],\n",
    "    afq_data.groups,\n",
    "    afq_data.columns,\n",
    "    afq_data.bias_index\n",
    ")"
   ]
  },
  {
   "cell_type": "code",
   "execution_count": 4,
   "metadata": {},
   "outputs": [
    {
     "data": {
      "text/plain": [
       "243.16613916803428"
      ]
     },
     "execution_count": 4,
     "metadata": {},
     "output_type": "execute_result"
    }
   ],
   "source": [
    "np.linalg.cond(x)"
   ]
  },
  {
   "cell_type": "markdown",
   "metadata": {},
   "source": [
    "## Find the optimal feature coefficients $\\widehat{\\beta}$"
   ]
  },
  {
   "cell_type": "markdown",
   "metadata": {},
   "source": [
    "We search for the optimal coefficients using two different loss types: square loss and huber."
   ]
  },
  {
   "cell_type": "code",
   "execution_count": 5,
   "metadata": {},
   "outputs": [
    {
     "data": {
      "application/vnd.jupyter.widget-view+json": {
       "model_id": "20de541d0ec9426b8fece669211593e3",
       "version_major": 2,
       "version_minor": 0
      },
      "text/plain": [
       "HBox(children=(IntProgress(value=0, max=15), HTML(value='')))"
      ]
     },
     "metadata": {},
     "output_type": "display_data"
    },
    {
     "name": "stdout",
     "output_type": "stream",
     "text": [
      "0it [00:00, ?it/s, best loss: ?]\n",
      "0it [00:00, ?it/s, best loss: ?]\n",
      "0it [00:00, ?it/s, best loss: ?]\n",
      "0it [00:00, ?it/s, best loss: ?]\n",
      "0it [00:00, ?it/s, best loss: ?]\n",
      "0it [00:00, ?it/s, best loss: ?]\n",
      "0it [00:00, ?it/s, best loss: ?]\n",
      "0it [00:00, ?it/s, best loss: ?]\n",
      "0it [00:00, ?it/s, best loss: ?]\n",
      "0it [00:00, ?it/s, best loss: ?]\n",
      "0it [00:00, ?it/s, best loss: ?]\n",
      "0it [00:00, ?it/s, best loss: ?]\n",
      "0it [00:00, ?it/s, best loss: ?]\n",
      "0it [00:00, ?it/s, best loss: ?]\n",
      "0it [00:00, ?it/s, best loss: ?]\n",
      "\n"
     ]
    }
   ],
   "source": [
    "hp_cv_res_r2 = afqi.fit_hyperparams_cv(\n",
    "    x, y, groups, bias_index=bias_index,\n",
    "    n_splits=5, n_repeats=3,\n",
    "    max_evals_per_cv=50, loss_type='square',\n",
    "    beta0=None,\n",
    "    score='r2',\n",
    "    trials_pickle_dir='./trials_age_from_demo_regression/cv3x5_rs42_transform_types_square_r2',\n",
    "    verbose=1, random_state=42, clf_threshold=0.5\n",
    ")"
   ]
  },
  {
   "cell_type": "code",
   "execution_count": 6,
   "metadata": {},
   "outputs": [
    {
     "data": {
      "application/vnd.jupyter.widget-view+json": {
       "model_id": "dfc8c781d9884d58b5b24ac0aedf8710",
       "version_major": 2,
       "version_minor": 0
      },
      "text/plain": [
       "HBox(children=(IntProgress(value=0, max=15), HTML(value='')))"
      ]
     },
     "metadata": {},
     "output_type": "display_data"
    },
    {
     "name": "stdout",
     "output_type": "stream",
     "text": [
      "0it [00:00, ?it/s, best loss: ?]\n",
      "0it [00:00, ?it/s, best loss: ?]\n",
      "0it [00:00, ?it/s, best loss: ?]\n",
      "0it [00:00, ?it/s, best loss: ?]\n",
      "0it [00:00, ?it/s, best loss: ?]\n",
      "0it [00:00, ?it/s, best loss: ?]\n",
      "0it [00:00, ?it/s, best loss: ?]\n",
      "0it [00:00, ?it/s, best loss: ?]\n",
      "0it [00:00, ?it/s, best loss: ?]\n",
      "0it [00:00, ?it/s, best loss: ?]\n",
      "0it [00:00, ?it/s, best loss: ?]\n",
      "0it [00:00, ?it/s, best loss: ?]\n",
      "0it [00:00, ?it/s, best loss: ?]\n",
      "0it [00:00, ?it/s, best loss: ?]\n",
      "0it [00:00, ?it/s, best loss: ?]\n",
      "\n"
     ]
    }
   ],
   "source": [
    "hp_cv_res_medae = afqi.fit_hyperparams_cv(\n",
    "    x, y, groups, bias_index=bias_index,\n",
    "    n_splits=5, n_repeats=3,\n",
    "    max_evals_per_cv=50,\n",
    "    loss_type='square',\n",
    "    beta0=hp_cv_res_r2[0].beta_hat,\n",
    "    score='medae',\n",
    "    trials_pickle_dir='./trials_age_from_demo_regression/cv3x5_rs42_transform_types_square_medae',\n",
    "    verbose=1, random_state=42, clf_threshold=0.5\n",
    ")"
   ]
  },
  {
   "cell_type": "code",
   "execution_count": 7,
   "metadata": {},
   "outputs": [],
   "source": [
    "label_sets = afqi.multicol2sets(columns, tract_symmetry=True)\n",
    "select_labels = [[\"fa\"], [\"md\"]]\n",
    "x_md_fa = afqi.select_groups(np.delete(x, bias_index, axis=1), select_labels, label_sets)\n",
    "x_md_fa = np.hstack([x_md_fa, x[:, bias_index][:, np.newaxis]])"
   ]
  },
  {
   "cell_type": "code",
   "execution_count": 8,
   "metadata": {},
   "outputs": [
    {
     "data": {
      "text/plain": [
       "(77, 4001)"
      ]
     },
     "execution_count": 8,
     "metadata": {},
     "output_type": "execute_result"
    }
   ],
   "source": [
    "x_md_fa.shape"
   ]
  },
  {
   "cell_type": "code",
   "execution_count": 9,
   "metadata": {},
   "outputs": [
    {
     "data": {
      "text/plain": [
       "(77,)"
      ]
     },
     "execution_count": 9,
     "metadata": {},
     "output_type": "execute_result"
    }
   ],
   "source": [
    "y.shape"
   ]
  },
  {
   "cell_type": "code",
   "execution_count": 10,
   "metadata": {},
   "outputs": [
    {
     "data": {
      "application/vnd.jupyter.widget-view+json": {
       "model_id": "85c4d679cd18461db554e5e36019ef5b",
       "version_major": 2,
       "version_minor": 0
      },
      "text/plain": [
       "HBox(children=(IntProgress(value=0, max=15), HTML(value='')))"
      ]
     },
     "metadata": {},
     "output_type": "display_data"
    },
    {
     "name": "stdout",
     "output_type": "stream",
     "text": [
      "0it [00:00, ?it/s, best loss: ?]\n",
      "0it [00:00, ?it/s, best loss: ?]\n",
      "0it [00:00, ?it/s, best loss: ?]\n",
      "0it [00:00, ?it/s, best loss: ?]\n",
      "0it [00:00, ?it/s, best loss: ?]\n",
      "0it [00:00, ?it/s, best loss: ?]\n",
      "0it [00:00, ?it/s, best loss: ?]\n",
      "0it [00:00, ?it/s, best loss: ?]\n",
      "0it [00:00, ?it/s, best loss: ?]\n",
      "0it [00:00, ?it/s, best loss: ?]\n",
      "0it [00:00, ?it/s, best loss: ?]\n",
      "0it [00:00, ?it/s, best loss: ?]\n",
      "0it [00:00, ?it/s, best loss: ?]\n",
      "0it [00:00, ?it/s, best loss: ?]\n",
      "0it [00:00, ?it/s, best loss: ?]\n",
      "\n"
     ]
    }
   ],
   "source": [
    "hp_cv_res_medae_md_fa = afqi.fit_hyperparams_cv(\n",
    "    x_md_fa, y, groups[0:40], bias_index=4000,\n",
    "    n_splits=5, n_repeats=3,\n",
    "    max_evals_per_cv=40,\n",
    "    loss_type='square',\n",
    "    beta0=None,\n",
    "    score='medae',\n",
    "    trials_pickle_dir='./trials_age_from_demo_regression/cv3x5_rs42_transform_types_square_medae_md_fa_only',\n",
    "    verbose=1, random_state=42, clf_threshold=0.5\n",
    ")"
   ]
  },
  {
   "cell_type": "code",
   "execution_count": 11,
   "metadata": {},
   "outputs": [],
   "source": [
    "# hp_cv_res_square = afqi.fit_hyperparams_cv(\n",
    "#     x, y, groups, bias_index=bias_index,\n",
    "#     n_splits=5, n_repeats=3,\n",
    "#     max_evals_per_cv=50,\n",
    "#     loss_type='square',\n",
    "#     beta0=hp_cv_res_r2[0].beta_hat,\n",
    "#     score='rmse',\n",
    "#     trials_pickle_dir='./trials_age_from_demo_regression/cv3x5_rs42_transform_types_square_rmse',\n",
    "#     verbose=1, random_state=42, clf_threshold=0.5\n",
    "# )"
   ]
  },
  {
   "cell_type": "code",
   "execution_count": 12,
   "metadata": {},
   "outputs": [
    {
     "data": {
      "text/plain": [
       "[(1.308333578022212, 'power'),\n",
       " (1.4451756901947612, 'power'),\n",
       " (1.3448848510642792, 'power'),\n",
       " (1.0153552607604164, 'power'),\n",
       " (1.2870291126783182, 'power'),\n",
       " (1.003376067456136, 'power'),\n",
       " (1.057616305513259, 'power'),\n",
       " (1.1717808756628592, 'power'),\n",
       " (1.0038051760636006, 'power'),\n",
       " (1.5001004521848866, 'power'),\n",
       " (1.9572699983764492, 'power'),\n",
       " (1.376852897841195, 'power'),\n",
       " (1.005270870935569, 'exponentiation'),\n",
       " (1.084041717514223, 'power'),\n",
       " (1.0895019201978253, 'exponentiation')]"
      ]
     },
     "execution_count": 12,
     "metadata": {},
     "output_type": "execute_result"
    }
   ],
   "source": [
    "[(cv.eta, cv.transform_type) for cv in hp_cv_res_r2]"
   ]
  },
  {
   "cell_type": "code",
   "execution_count": 13,
   "metadata": {},
   "outputs": [
    {
     "data": {
      "text/plain": [
       "[(1.0600511810646331, 'exponentiation'),\n",
       " (1.0020598433267898, 'exponentiation'),\n",
       " (1.0068702080572887, 'exponentiation'),\n",
       " (1.02638042631787, 'exponentiation'),\n",
       " (1.025396676842336, 'exponentiation'),\n",
       " (1.0204869949808208, 'exponentiation'),\n",
       " (1.0061707663288886, 'exponentiation'),\n",
       " (1.0033298437899174, 'exponentiation'),\n",
       " (1.0025555027408934, 'exponentiation'),\n",
       " (1.0047972784439696, 'exponentiation'),\n",
       " (1.0172186252893334, 'exponentiation'),\n",
       " (1.0796138633443433, 'exponentiation'),\n",
       " (1.0831778092905289, 'exponentiation'),\n",
       " (1.014264329050301, 'exponentiation'),\n",
       " (1.032262579033703, 'exponentiation')]"
      ]
     },
     "execution_count": 13,
     "metadata": {},
     "output_type": "execute_result"
    }
   ],
   "source": [
    "[(cv.eta, cv.transform_type) for cv in hp_cv_res_medae]"
   ]
  },
  {
   "cell_type": "code",
   "execution_count": 14,
   "metadata": {},
   "outputs": [],
   "source": [
    "def print_results_summary(hp_cv_results):\n",
    "    template = '{stat:15s} {mean:7.5g} ({var:7.5g})'\n",
    "    test = [r.test for r in hp_cv_results]\n",
    "    train = [r.train for r in hp_cv_results]\n",
    "    test_rmse = [t.rmse for t in test]\n",
    "    test_r2 = [t.r2 for t in test]\n",
    "    test_medae = [t.medae for t in test]\n",
    "    train_medae = [t.medae for t in train]\n",
    "    train_rmse = [t.rmse for t in train]\n",
    "    train_r2 = [t.r2 for t in train]\n",
    "\n",
    "    print('Statistic         mean   (variance)')\n",
    "    print('--------------  ------- ------------')\n",
    "    print(template.format(stat='test RMSE', mean=np.mean(test_rmse), var=np.var(test_rmse)))\n",
    "    print(template.format(stat='test med AE', mean=np.mean(test_medae), var=np.var(test_medae)))\n",
    "    print(template.format(stat='test R2', mean=np.mean(test_r2), var=np.var(test_r2)))\n",
    "    print(template.format(stat='train RMSE', mean=np.mean(train_rmse), var=np.var(train_rmse)))\n",
    "    print(template.format(stat='train med AE', mean=np.mean(train_medae), var=np.var(train_medae)))\n",
    "    print(template.format(stat='train R2', mean=np.mean(train_r2), var=np.var(train_r2)))"
   ]
  },
  {
   "cell_type": "code",
   "execution_count": 15,
   "metadata": {},
   "outputs": [],
   "source": [
    "# print_results_summary(hp_cv_res_square)"
   ]
  },
  {
   "cell_type": "code",
   "execution_count": 16,
   "metadata": {},
   "outputs": [
    {
     "name": "stdout",
     "output_type": "stream",
     "text": [
      "Statistic         mean   (variance)\n",
      "--------------  ------- ------------\n",
      "test RMSE        8.4361 ( 4.9922)\n",
      "test med AE      4.3653 ( 2.7166)\n",
      "test R2          0.2479 (0.89732)\n",
      "train RMSE      0.38994 (0.02015)\n",
      "train med AE    0.35002 (0.047057)\n",
      "train R2        0.99883 (5.534e-07)\n"
     ]
    }
   ],
   "source": [
    "print_results_summary(hp_cv_res_r2)"
   ]
  },
  {
   "cell_type": "code",
   "execution_count": 17,
   "metadata": {},
   "outputs": [
    {
     "name": "stdout",
     "output_type": "stream",
     "text": [
      "Statistic         mean   (variance)\n",
      "--------------  ------- ------------\n",
      "test RMSE        8.1646 ( 7.3006)\n",
      "test med AE      3.4574 ( 4.3173)\n",
      "test R2         0.36395 (0.34579)\n",
      "train RMSE      0.60166 (0.0051277)\n",
      "train med AE    0.51146 (0.0043223)\n",
      "train R2        0.99746 (4.4173e-07)\n"
     ]
    }
   ],
   "source": [
    "print_results_summary(hp_cv_res_medae)"
   ]
  },
  {
   "cell_type": "code",
   "execution_count": 18,
   "metadata": {},
   "outputs": [
    {
     "name": "stdout",
     "output_type": "stream",
     "text": [
      "Statistic         mean   (variance)\n",
      "--------------  ------- ------------\n",
      "test RMSE        8.1124 ( 5.7393)\n",
      "test med AE      3.9324 ( 4.2993)\n",
      "test R2         0.31205 (0.69847)\n",
      "train RMSE       1.0444 ( 1.3156)\n",
      "train med AE    0.83003 (0.20326)\n",
      "train R2        0.98253 (0.0025155)\n"
     ]
    }
   ],
   "source": [
    "print_results_summary(hp_cv_res_medae_md_fa)"
   ]
  },
  {
   "cell_type": "code",
   "execution_count": 19,
   "metadata": {},
   "outputs": [],
   "source": [
    "cv_results = [cv for cv in hp_cv_res_medae_md_fa]\n",
    "\n",
    "test_set_y_hat = pd.concat([\n",
    "    pd.Series(data=afqi.target_transformation(cv.test.x.dot(cv.beta_hat),\n",
    "                                              eta=cv.eta,\n",
    "                                              transform_type=cv.transform_type),\n",
    "              index=cv.test.y.index,\n",
    "              name='yhat')\n",
    "    for cv in cv_results\n",
    "]).groupby('subjectID').mean()\n",
    "\n",
    "test_set_cv_idx = pd.concat([\n",
    "    pd.Series(data=np.ones_like(cv.test.y.index) * idx,\n",
    "              index=cv.test.y.index,\n",
    "              name='cv_idx')\n",
    "    for idx, cv in enumerate(cv_results)\n",
    "]).apply(pd.to_numeric).groupby('subjectID').mean()\n",
    "\n",
    "# test_set_cv_color = pd.concat([\n",
    "#     pd.Series(data=np.ones_like(cv.test.y.index) * Spectral10[idx % 10],\n",
    "#               index=cv.test.y.index,\n",
    "#               name='cv_color')\n",
    "#     for idx, cv in enumerate(cv_results)\n",
    "# ])\n",
    "\n",
    "test_set_rmse = pd.concat([\n",
    "    pd.Series(data=np.ones_like(cv.test.y.index) * cv.test.rmse,\n",
    "              index=cv.test.y.index,\n",
    "              name='rmse')\n",
    "    for cv in cv_results\n",
    "]).apply(pd.to_numeric).groupby('subjectID').mean()"
   ]
  },
  {
   "cell_type": "code",
   "execution_count": 20,
   "metadata": {},
   "outputs": [
    {
     "data": {
      "text/html": [
       "<div>\n",
       "<style scoped>\n",
       "    .dataframe tbody tr th:only-of-type {\n",
       "        vertical-align: middle;\n",
       "    }\n",
       "\n",
       "    .dataframe tbody tr th {\n",
       "        vertical-align: top;\n",
       "    }\n",
       "\n",
       "    .dataframe thead th {\n",
       "        text-align: right;\n",
       "    }\n",
       "</style>\n",
       "<table border=\"1\" class=\"dataframe\">\n",
       "  <thead>\n",
       "    <tr style=\"text-align: right;\">\n",
       "      <th></th>\n",
       "      <th>Age</th>\n",
       "      <th>yhat</th>\n",
       "      <th>cv_idx</th>\n",
       "      <th>rmse</th>\n",
       "      <th>index</th>\n",
       "      <th>stdres</th>\n",
       "      <th>res</th>\n",
       "      <th>size</th>\n",
       "      <th>subject_id</th>\n",
       "    </tr>\n",
       "    <tr>\n",
       "      <th>subjectID</th>\n",
       "      <th></th>\n",
       "      <th></th>\n",
       "      <th></th>\n",
       "      <th></th>\n",
       "      <th></th>\n",
       "      <th></th>\n",
       "      <th></th>\n",
       "      <th></th>\n",
       "      <th></th>\n",
       "    </tr>\n",
       "  </thead>\n",
       "  <tbody>\n",
       "    <tr>\n",
       "      <th>subject_000</th>\n",
       "      <td>20</td>\n",
       "      <td>19.411938</td>\n",
       "      <td>7.666667</td>\n",
       "      <td>8.163825</td>\n",
       "      <td>0</td>\n",
       "      <td>0.073251</td>\n",
       "      <td>0.588062</td>\n",
       "      <td>81.638255</td>\n",
       "      <td>subject_000</td>\n",
       "    </tr>\n",
       "    <tr>\n",
       "      <th>subject_001</th>\n",
       "      <td>31</td>\n",
       "      <td>17.942245</td>\n",
       "      <td>7.000000</td>\n",
       "      <td>7.013543</td>\n",
       "      <td>1</td>\n",
       "      <td>1.626511</td>\n",
       "      <td>13.057755</td>\n",
       "      <td>70.135426</td>\n",
       "      <td>subject_001</td>\n",
       "    </tr>\n",
       "    <tr>\n",
       "      <th>subject_002</th>\n",
       "      <td>18</td>\n",
       "      <td>19.341283</td>\n",
       "      <td>8.333333</td>\n",
       "      <td>7.356130</td>\n",
       "      <td>2</td>\n",
       "      <td>-0.167074</td>\n",
       "      <td>-1.341283</td>\n",
       "      <td>73.561298</td>\n",
       "      <td>subject_002</td>\n",
       "    </tr>\n",
       "    <tr>\n",
       "      <th>subject_003</th>\n",
       "      <td>28</td>\n",
       "      <td>37.531578</td>\n",
       "      <td>6.333333</td>\n",
       "      <td>9.541370</td>\n",
       "      <td>3</td>\n",
       "      <td>-1.187280</td>\n",
       "      <td>-9.531578</td>\n",
       "      <td>95.413705</td>\n",
       "      <td>subject_003</td>\n",
       "    </tr>\n",
       "    <tr>\n",
       "      <th>subject_004</th>\n",
       "      <td>29</td>\n",
       "      <td>18.530056</td>\n",
       "      <td>6.333333</td>\n",
       "      <td>10.275905</td>\n",
       "      <td>4</td>\n",
       "      <td>1.304166</td>\n",
       "      <td>10.469944</td>\n",
       "      <td>102.759046</td>\n",
       "      <td>subject_004</td>\n",
       "    </tr>\n",
       "  </tbody>\n",
       "</table>\n",
       "</div>"
      ],
      "text/plain": [
       "             Age       yhat    cv_idx       rmse  index    stdres        res  \\\n",
       "subjectID                                                                      \n",
       "subject_000   20  19.411938  7.666667   8.163825      0  0.073251   0.588062   \n",
       "subject_001   31  17.942245  7.000000   7.013543      1  1.626511  13.057755   \n",
       "subject_002   18  19.341283  8.333333   7.356130      2 -0.167074  -1.341283   \n",
       "subject_003   28  37.531578  6.333333   9.541370      3 -1.187280  -9.531578   \n",
       "subject_004   29  18.530056  6.333333  10.275905      4  1.304166  10.469944   \n",
       "\n",
       "                   size   subject_id  \n",
       "subjectID                             \n",
       "subject_000   81.638255  subject_000  \n",
       "subject_001   70.135426  subject_001  \n",
       "subject_002   73.561298  subject_002  \n",
       "subject_003   95.413705  subject_003  \n",
       "subject_004  102.759046  subject_004  "
      ]
     },
     "execution_count": 20,
     "metadata": {},
     "output_type": "execute_result"
    }
   ],
   "source": [
    "df_y = pd.concat([\n",
    "    y,\n",
    "    test_set_y_hat,\n",
    "    test_set_cv_idx,\n",
    "#     test_set_cv_color,\n",
    "    test_set_rmse\n",
    "], axis='columns', sort=True)\n",
    "df_y['index'] = np.arange(len(y), dtype=np.int32)\n",
    "df_y['stdres'] = (df_y['Age'] - df_y['yhat']) / (np.std(df_y['Age'] - df_y['yhat']))\n",
    "df_y['res'] = df_y['Age'] - df_y['yhat']\n",
    "df_y['size'] = 10 * df_y['rmse']\n",
    "df_y['subject_id'] = df_y.index\n",
    "df_y.head()"
   ]
  },
  {
   "cell_type": "code",
   "execution_count": 21,
   "metadata": {},
   "outputs": [
    {
     "data": {
      "text/html": [
       "\n",
       "\n",
       "\n",
       "\n",
       "\n",
       "\n",
       "  <div class=\"bk-root\" id=\"a2a6a61a-7f9c-4dee-8d64-cf0908d640b6\" data-root-id=\"1002\"></div>\n"
      ]
     },
     "metadata": {},
     "output_type": "display_data"
    },
    {
     "data": {
      "application/javascript": [
       "(function(root) {\n",
       "  function embed_document(root) {\n",
       "    \n",
       "  var docs_json = {\"b5d906b2-58b9-4c54-b3aa-82b51aec61cb\":{\"roots\":{\"references\":[{\"attributes\":{\"below\":[{\"id\":\"1011\",\"type\":\"LinearAxis\"}],\"center\":[{\"id\":\"1015\",\"type\":\"Grid\"},{\"id\":\"1020\",\"type\":\"Grid\"}],\"left\":[{\"id\":\"1016\",\"type\":\"LinearAxis\"}],\"renderers\":[{\"id\":\"1040\",\"type\":\"GlyphRenderer\"}],\"title\":{\"id\":\"1034\",\"type\":\"Title\"},\"toolbar\":{\"id\":\"1027\",\"type\":\"Toolbar\"},\"toolbar_location\":\"above\",\"x_range\":{\"id\":\"1003\",\"type\":\"DataRange1d\"},\"x_scale\":{\"id\":\"1007\",\"type\":\"LinearScale\"},\"y_range\":{\"id\":\"1005\",\"type\":\"DataRange1d\"},\"y_scale\":{\"id\":\"1009\",\"type\":\"LinearScale\"}},\"id\":\"1002\",\"subtype\":\"Figure\",\"type\":\"Plot\"},{\"attributes\":{\"bottom_units\":\"screen\",\"fill_alpha\":{\"value\":0.5},\"fill_color\":{\"value\":\"lightgrey\"},\"left_units\":\"screen\",\"level\":\"overlay\",\"line_alpha\":{\"value\":1.0},\"line_color\":{\"value\":\"black\"},\"line_dash\":[4,4],\"line_width\":{\"value\":2},\"render_mode\":\"css\",\"right_units\":\"screen\",\"top_units\":\"screen\"},\"id\":\"1049\",\"type\":\"BoxAnnotation\"},{\"attributes\":{},\"id\":\"1024\",\"type\":\"SaveTool\"},{\"attributes\":{\"source\":{\"id\":\"1035\",\"type\":\"ColumnDataSource\"}},\"id\":\"1041\",\"type\":\"CDSView\"},{\"attributes\":{},\"id\":\"1017\",\"type\":\"BasicTicker\"},{\"attributes\":{\"fill_color\":{\"value\":\"#1f77b4\"},\"line_color\":{\"value\":null},\"size\":{\"field\":\"rmse\",\"units\":\"screen\"},\"x\":{\"field\":\"index\"},\"y\":{\"field\":\"res\"}},\"id\":\"1038\",\"type\":\"Circle\"},{\"attributes\":{},\"id\":\"1048\",\"type\":\"BasicTickFormatter\"},{\"attributes\":{\"text\":\"Residuals by subject\"},\"id\":\"1034\",\"type\":\"Title\"},{\"attributes\":{\"dimension\":1,\"ticker\":{\"id\":\"1017\",\"type\":\"BasicTicker\"}},\"id\":\"1020\",\"type\":\"Grid\"},{\"attributes\":{},\"id\":\"1007\",\"type\":\"LinearScale\"},{\"attributes\":{\"active_drag\":\"auto\",\"active_inspect\":\"auto\",\"active_multi\":null,\"active_scroll\":\"auto\",\"active_tap\":\"auto\",\"tools\":[{\"id\":\"1021\",\"type\":\"PanTool\"},{\"id\":\"1022\",\"type\":\"WheelZoomTool\"},{\"id\":\"1023\",\"type\":\"BoxZoomTool\"},{\"id\":\"1024\",\"type\":\"SaveTool\"},{\"id\":\"1025\",\"type\":\"ResetTool\"},{\"id\":\"1026\",\"type\":\"HelpTool\"},{\"id\":\"1036\",\"type\":\"HoverTool\"}]},\"id\":\"1027\",\"type\":\"Toolbar\"},{\"attributes\":{},\"id\":\"1022\",\"type\":\"WheelZoomTool\"},{\"attributes\":{\"callback\":null},\"id\":\"1005\",\"type\":\"DataRange1d\"},{\"attributes\":{},\"id\":\"1046\",\"type\":\"BasicTickFormatter\"},{\"attributes\":{\"axis_label\":\"Subject\",\"formatter\":{\"id\":\"1048\",\"type\":\"BasicTickFormatter\"},\"ticker\":{\"id\":\"1012\",\"type\":\"BasicTicker\"}},\"id\":\"1011\",\"type\":\"LinearAxis\"},{\"attributes\":{},\"id\":\"1012\",\"type\":\"BasicTicker\"},{\"attributes\":{},\"id\":\"1050\",\"type\":\"UnionRenderers\"},{\"attributes\":{\"axis_label\":\"Residuals\",\"formatter\":{\"id\":\"1046\",\"type\":\"BasicTickFormatter\"},\"ticker\":{\"id\":\"1017\",\"type\":\"BasicTicker\"}},\"id\":\"1016\",\"type\":\"LinearAxis\"},{\"attributes\":{},\"id\":\"1026\",\"type\":\"HelpTool\"},{\"attributes\":{\"fill_alpha\":{\"value\":0.1},\"fill_color\":{\"value\":\"#1f77b4\"},\"line_alpha\":{\"value\":0.1},\"line_color\":{\"value\":\"#1f77b4\"},\"size\":{\"field\":\"rmse\",\"units\":\"screen\"},\"x\":{\"field\":\"index\"},\"y\":{\"field\":\"res\"}},\"id\":\"1039\",\"type\":\"Circle\"},{\"attributes\":{\"data_source\":{\"id\":\"1035\",\"type\":\"ColumnDataSource\"},\"glyph\":{\"id\":\"1038\",\"type\":\"Circle\"},\"hover_glyph\":null,\"muted_glyph\":null,\"nonselection_glyph\":{\"id\":\"1039\",\"type\":\"Circle\"},\"selection_glyph\":null,\"view\":{\"id\":\"1041\",\"type\":\"CDSView\"}},\"id\":\"1040\",\"type\":\"GlyphRenderer\"},{\"attributes\":{\"callback\":null,\"tooltips\":[[\"Subject\",\"@subject_id\"],[\"Age\",\"@Age\"],[\"CV\",\"@cv_idx\"]]},\"id\":\"1036\",\"type\":\"HoverTool\"},{\"attributes\":{},\"id\":\"1009\",\"type\":\"LinearScale\"},{\"attributes\":{},\"id\":\"1025\",\"type\":\"ResetTool\"},{\"attributes\":{},\"id\":\"1051\",\"type\":\"Selection\"},{\"attributes\":{\"ticker\":{\"id\":\"1012\",\"type\":\"BasicTicker\"}},\"id\":\"1015\",\"type\":\"Grid\"},{\"attributes\":{\"callback\":null,\"data\":{\"Age\":[20,31,18,28,29,36,39,34,24,21,29,31,28,20,21,20,31,32,12,14,13,12,12,11,9,14,8,10,7,8,11,11,21,9,24,8,8,14,10,14,7,8,9,8,8,11,6,9,8,9,32,16,9,9,8,15,9,10,9,8,9,24,24,9,9,43,13,44,50,47,46,18,40,50,40,17,17],\"cv_idx\":{\"__ndarray__\":\"q6qqqqqqHkAAAAAAAAAcQKuqqqqqqiBAVVVVVVVVGUBVVVVVVVUZQKuqqqqqqhpAq6qqqqqqGkCrqqqqqqoaQKuqqqqqqiBAq6qqqqqqFkCrqqqqqqoaQAAAAAAAACBAVVVVVVVVFUBVVVVVVVUZQFVVVVVVVSFAVVVVVVVVGUAAAAAAAAAcQAAAAAAAABhAAAAAAAAAGEAAAAAAAAAYQKuqqqqqqhpAAAAAAAAAHECrqqqqqqoaQFVVVVVVVSFAAAAAAAAAGECrqqqqqqoeQAAAAAAAACBAq6qqqqqqIEBVVVVVVVUZQKuqqqqqqh5Aq6qqqqqqFkCrqqqqqqoaQAAAAAAAACBAVVVVVVVVGUBVVVVVVVUZQFVVVVVVVRVAq6qqqqqqHkBVVVVVVVUdQKuqqqqqqh5AVVVVVVVVGUCrqqqqqqoeQAAAAAAAACBAAAAAAAAAHEBVVVVVVVUdQFVVVVVVVR1AVVVVVVVVFUAAAAAAAAAcQFVVVVVVVRVAAAAAAAAAHEBVVVVVVVUVQFVVVVVVVR1Aq6qqqqqqGkAAAAAAAAAgQAAAAAAAABhAAAAAAAAAHECrqqqqqqoaQKuqqqqqqhpAq6qqqqqqHkAAAAAAAAAYQKuqqqqqqiBAq6qqqqqqIEBVVVVVVVUdQFVVVVVVVR1AAAAAAAAAHEAAAAAAAAAcQKuqqqqqqhpAVVVVVVVVGUBVVVVVVVUhQKuqqqqqqhpAq6qqqqqqGkBVVVVVVVUdQAAAAAAAACBAVVVVVVVVHUBVVVVVVVUdQAAAAAAAABhAAAAAAAAAIEAAAAAAAAAYQA==\",\"dtype\":\"float64\",\"shape\":[77]},\"index\":{\"__ndarray__\":\"AAAAAAEAAAACAAAAAwAAAAQAAAAFAAAABgAAAAcAAAAIAAAACQAAAAoAAAALAAAADAAAAA0AAAAOAAAADwAAABAAAAARAAAAEgAAABMAAAAUAAAAFQAAABYAAAAXAAAAGAAAABkAAAAaAAAAGwAAABwAAAAdAAAAHgAAAB8AAAAgAAAAIQAAACIAAAAjAAAAJAAAACUAAAAmAAAAJwAAACgAAAApAAAAKgAAACsAAAAsAAAALQAAAC4AAAAvAAAAMAAAADEAAAAyAAAAMwAAADQAAAA1AAAANgAAADcAAAA4AAAAOQAAADoAAAA7AAAAPAAAAD0AAAA+AAAAPwAAAEAAAABBAAAAQgAAAEMAAABEAAAARQAAAEYAAABHAAAASAAAAEkAAABKAAAASwAAAEwAAAA=\",\"dtype\":\"int32\",\"shape\":[77]},\"res\":{\"__ndarray__\":\"oLCK0WfR4j/W/nAOkh0qQFBJuS7ldfW/QECVACsQI8CqpsOInPAkQHjEDnQIfSJAoEN7XBd5/z+8PWxL8IwXQOACtH9q2BNA9AFtHJ1lGcDAdSj34L8aQDZk3ybPRChAAJDBU5L24T9w5/uvyNv4vxAmej/gcv8/oJVsAVf/57+qRro/4tknQGa0I3oa0C5AMOqKSfrtAkCmLD9HKjMQQAAsBVGZN9I/KGX3oL1f97+oTbjms6L0v6zieKLtJQvA1GVMllP6+z8AqCQmu+DWv8y5upwaPQXAUJHNg1XNBMBGWNyNgB4bwABDsYbbK/g/QFIwTb4iwz+wrFs6WFroP39Eh/jQJihAOB1BlsNOKsAA//15EZ/5vwC2/dHQmfw/ILVP9TWDEcCg806L0A3bP/i3tQ4/3/0/iPQ0hkHJIMBYBd8nCaQWwMB+eXTOHLM/8IzThty6479MmeoHTo8MwKDFsenOoPA/tG0cSOkxB8AAJmLa3hvzPwojuea1EBPAQJ/vvDDy1b9ACXk8oJUKQMD21vy9wg7AwHrSGuv2/z8YC+TRnRPzvyRvfq9uowLAOi3EWE+KFcBg2ZC59+4BwH7ravFyiwVA4sz6BgM9N8Cy0Sq5Hu8DQKBiYQKpSQJA3gg6f90+FkAgPI9IWeHnP0BDfGEZxdI/xNtgiVoa9D9QKV8Rma7lv6OpJgyyijNAoCUPxaeTDMA4M2RnyRoXQCWHcnDMUTxAOmxIDaMCLkAdvNlEpQo3QKYDMyOffRNA/lCBFYHRKkA0UK4DonQrQG//bLuw6jVAQKe9AhfXD8BIAjyMpFYGwA==\",\"dtype\":\"float64\",\"shape\":[77]},\"rmse\":{\"__ndarray__\":\"SQeD7+BTIEAUX5Ec3g0cQPAsN0etbB1ARQqsgi4VI0C0f4BeQ40kQMn2g75B1iBA+cy4KqaKHkCFuHSD234VQAhiD8eJlR1ANGZl4JNVH0BlE17A3GUfQINr4RPmzyJAmZ1+UXbfIEB3w7ve+xYZQM9YKotwHhdAvEo8PEoSIEAfwzuflLMjQNsaAQm/wR9AdI6uMEj5JEDbGgEJv8EfQA93iFrYQhpA36s9rh+tFEBdPj15v/kgQM9YKotwHhdAlA8n/uumGECvwnXsnwkdQJNflnOvHCFAVOSUmYTWI0CBjQxGNOgXQG3+KvfHmRxANPkvL081IEDR+vs28gMjQINr4RPmzyJAtH+AXkONJECHpBeAhTMfQJmdflF23yBARKLau0TrIEDDMY8oyCocQDSuJVx7niJAdBA218GeIED0RwcRLDEcQINr4RPmzyJAl9KNzk+lIEBTSJDLPLMgQDya1EF/sh1AmZ1+UXbfIEB+9W7clqEjQLHje5D7aSFAA5+5izxZH0CDbA7k9ewYQPAcn9OEmh5AD3eIWthCGkBFT+l3yOkXQHdoHJpPBCFAOZXW4BU5IEAvOLMkLHAjQBU+M07ReRlAwubi7RAWIEDz+oE4btMhQBer97vDnxhAaKLmQ41pIEDcBwASIbYjQDya1EF/sh1AFF+RHN4NHED44BUu/NUUQDWVNP2WWCNA3CiJ2msuIkA5G5rJK3AhQCFe+x09PyVApXhD3kdtIEDcBwASIbYjQBD8wPkygSFAveZACpI1I0D7GdUG6/IiQHSOrjBI+SRAk1+Wc68cIUDbGgEJv8EfQA==\",\"dtype\":\"float64\",\"shape\":[77]},\"size\":{\"__ndarray__\":\"G8ljK9loVEBs29rRqohRQBZ8gkzsY1JA1gxXI3raV0ChnyA2lLBZQHv0JC7SC1VAHICz2qcWU0Cm5lFkkt5KQEWdaRx2fVJA4F8/bHyVU0AfzDr4qZ9TQGTG2Zjfg1dA/0Te5VMXVUBVtGrWulxPQAPv9K0M5kxAa11Ly9wWVEDnswrHeaBYQMmwoGUX2VNAETLaPJo3WkDJsKBlF9lTQGlKlTjHaVBA1xbNmWfYSUD0jYxXLzhVQAPv9K0M5kxAedOw/abQTkCtmcnzAyZSQHj3e1DbY1VAaR36vyXMWEDhsI9XQeJNQATfevoc4FFAgff7+qJCVECF+brE7sRXQGTG2Zjfg1dAoZ8gNpSwWUDUxg5wM4BTQP9E3uVTF1VA1UrR6hUmVUAaf1kZvZpRQMEZLzMaRldAkZQDTXLGVED4jKSKu55RQGTG2Zjfg1dAPUcxwqPOVEBoWnT+C+BUQGbgJImPj1JA/0Te5VMXVUDesoqT/IlYQJ3cmnR6xFVAYgNU18WXU0CkBxJdMyhPQBZyQwSTIFNAaUqVOMdpUEAWo+OVOuRNQJWCo4BjRVVAhzoMWVtHVEA7BuAtN0xYQJoNwKFF2E9AcqBbKZUbVECweaLGSUhWQN2V9aq0x05AAkvglPCDVEDTCYBWqaNYQGbgJImPj1JAbNva0aqIUUA2WZs5ewtKQIK6gby8LlhAE3Mr0Qa6VkAHogC8NsxVQKk1emUMj1pAzlbU1ZmIVEDTCYBWqaNYQBQ7Mbh/4VVAbCDRjPYCWEB6YIrIpa9XQBEy2jyaN1pAePd7UNtjVUDJsKBlF9lTQA==\",\"dtype\":\"float64\",\"shape\":[77]},\"stdres\":{\"__ndarray__\":\"aKksbo7Asj+YPWf1Lwb6PxL79RSuYsW/CYAMaxn/8r+5gs3F3N30PyQJPZx6bPI/AquuPOlczz+czwsh2nfnP2qkE56lxuM/Jv9Eud9O6b9ycHGK7afqP7MtZFoUL/g/3pys4HzmsT+PNaW1hsXIvwV9UrC3Vs8/LbZvaNrpt7/3tUcwh8T3PyVcFqmDtP4/ADH6UAfd0j+n59QBqSTgP/2soKRJJ6I/VPau7s9Kx79JC7PlOZDEv2qZXNaeDdu/saERnUbhyz9vjoksP8ymv1kuc1wWKtW/SVP/VrW61L8JgO5nOAbrv5FOiRE3Fsg/D/nfFZwRkz/oIZolikS4P49+5wYxEfg/rzZGcTU3+r/0aVKlIIjJvxh6QQs1gMw/Bf3LzIdz4b8N+m5Wl/WqP2zsAeZ/xM0/BXWM3Tm68L8ZnJuGw4/mv1yW/o2xC4M/toiWGzKps7+d3HKqu3Xcv57kTXjrkcA/6vOvniQd17964W/KwgrDPzx90tSj/+K/2uC2WIrepb9ZiMuk0n3aPysyaSIzp96/k5poUUzazz8SM+cliQLDv/9J7HW+ktK/i2Sf9wV35b9BrGwV6d7Rv/+KL4soeNU/PjcgbTQoB8A8eWqDRd3TP76dCypJOdI/0drjc/Iq5j8HnQSK98u3P7WU8QJLtKI/AnXGnVoIxD8h2m8yL5u1v2IrU8EyeQNAYm5gghF63L8el3tyGQbnP55mMyVxOAxABC57NMTn/T+NXsHDA/YGQAx9HY0rbOM//6a/4H25+j8wGDO/DFz7P1GzVA4R1wVANOXuuJS63788NLM2pELWvw==\",\"dtype\":\"float64\",\"shape\":[77]},\"subjectID\":[\"subject_000\",\"subject_001\",\"subject_002\",\"subject_003\",\"subject_004\",\"subject_005\",\"subject_006\",\"subject_007\",\"subject_008\",\"subject_009\",\"subject_010\",\"subject_011\",\"subject_012\",\"subject_013\",\"subject_014\",\"subject_015\",\"subject_016\",\"subject_017\",\"subject_018\",\"subject_019\",\"subject_020\",\"subject_021\",\"subject_022\",\"subject_023\",\"subject_024\",\"subject_025\",\"subject_026\",\"subject_027\",\"subject_028\",\"subject_029\",\"subject_030\",\"subject_031\",\"subject_032\",\"subject_033\",\"subject_034\",\"subject_035\",\"subject_036\",\"subject_037\",\"subject_038\",\"subject_039\",\"subject_040\",\"subject_041\",\"subject_042\",\"subject_043\",\"subject_044\",\"subject_045\",\"subject_046\",\"subject_047\",\"subject_048\",\"subject_049\",\"subject_050\",\"subject_051\",\"subject_052\",\"subject_053\",\"subject_054\",\"subject_055\",\"subject_056\",\"subject_057\",\"subject_058\",\"subject_059\",\"subject_060\",\"subject_061\",\"subject_062\",\"subject_063\",\"subject_064\",\"subject_065\",\"subject_066\",\"subject_067\",\"subject_068\",\"subject_069\",\"subject_070\",\"subject_071\",\"subject_072\",\"subject_073\",\"subject_074\",\"subject_075\",\"subject_076\"],\"subject_id\":[\"subject_000\",\"subject_001\",\"subject_002\",\"subject_003\",\"subject_004\",\"subject_005\",\"subject_006\",\"subject_007\",\"subject_008\",\"subject_009\",\"subject_010\",\"subject_011\",\"subject_012\",\"subject_013\",\"subject_014\",\"subject_015\",\"subject_016\",\"subject_017\",\"subject_018\",\"subject_019\",\"subject_020\",\"subject_021\",\"subject_022\",\"subject_023\",\"subject_024\",\"subject_025\",\"subject_026\",\"subject_027\",\"subject_028\",\"subject_029\",\"subject_030\",\"subject_031\",\"subject_032\",\"subject_033\",\"subject_034\",\"subject_035\",\"subject_036\",\"subject_037\",\"subject_038\",\"subject_039\",\"subject_040\",\"subject_041\",\"subject_042\",\"subject_043\",\"subject_044\",\"subject_045\",\"subject_046\",\"subject_047\",\"subject_048\",\"subject_049\",\"subject_050\",\"subject_051\",\"subject_052\",\"subject_053\",\"subject_054\",\"subject_055\",\"subject_056\",\"subject_057\",\"subject_058\",\"subject_059\",\"subject_060\",\"subject_061\",\"subject_062\",\"subject_063\",\"subject_064\",\"subject_065\",\"subject_066\",\"subject_067\",\"subject_068\",\"subject_069\",\"subject_070\",\"subject_071\",\"subject_072\",\"subject_073\",\"subject_074\",\"subject_075\",\"subject_076\"],\"yhat\":{\"__ndarray__\":\"e6pzwXRpM0CVgMf4NvExQJWU61JeVzNAEFAlwArEQkCrLJ67sYcyQMSd+MV7wTpA4yUcRTeEQkCR8CTtwxw8QEj/EmDlCTNAfUAbR2dZO0CQ4jXCB1A2QOVNkGyY3TJAgPNhbUtwO0B3vv+KvI01QJ9dCPzRCDNArWQLuPq/NECr3CLgDhMzQM0l7sLylzBAdEWdbYFEI0CtaWDcauYjQKDWdzVDbilApewetPfrKkC1Cdd8VpQqQKs4nmh7ySxAi+ZsGmsBHUBAJTHZBbcsQHOuLqdGTyVAVGTzYFUzKUAjLO5GQI8rQECvUx4J9RlAtz7LBnWzJUA1RVp8WnokQIG7eAcv2SFAnI4gy2EnNkDw358X8Zk5QICSgMuL2RhAkNqn+prBKEBjiKV7kScrQAFJKR4YRCBARHoaw6BkNkCsgu+TBFIpQAUaLsaMsx9AzzhtyK07I0BTpvqB0yMnQJiOk0XM1xtAbRsHUnrMK0CAdmdJCDkTQIWRXPNaiCtA+nznhZGvIEBge8PhL7UWQGxvzd8r7EFAqLClnCIBLEBjgTy6c2IkQMmb36vbqCZAnRZirCfFKkAsGzL33j0xQEGKSodGOhlAcWZ9g4GeQEAnl2qjcAgaQLBOz34r2xZAQ+6LAUWCC0Afhrs19UA3QPMOeprrtDdAD8mnXWn5HkCV8hWR6VojQF1W2fNNdTdAtOSh+HSSMECZeRPTphxDQNt4jY8zrjVA48lbea7+P0DjQya7WvU2QC1+Zm4wQSpAgVc/dT+XOkDzaxR/1yJCQJEAk0RPFTJA6LRX4OL6NEBJgIeR1MozQA==\",\"dtype\":\"float64\",\"shape\":[77]}},\"selected\":{\"id\":\"1051\",\"type\":\"Selection\"},\"selection_policy\":{\"id\":\"1050\",\"type\":\"UnionRenderers\"}},\"id\":\"1035\",\"type\":\"ColumnDataSource\"},{\"attributes\":{},\"id\":\"1021\",\"type\":\"PanTool\"},{\"attributes\":{\"overlay\":{\"id\":\"1049\",\"type\":\"BoxAnnotation\"}},\"id\":\"1023\",\"type\":\"BoxZoomTool\"},{\"attributes\":{\"callback\":null},\"id\":\"1003\",\"type\":\"DataRange1d\"}],\"root_ids\":[\"1002\"]},\"title\":\"Bokeh Application\",\"version\":\"1.1.0\"}};\n",
       "  var render_items = [{\"docid\":\"b5d906b2-58b9-4c54-b3aa-82b51aec61cb\",\"roots\":{\"1002\":\"a2a6a61a-7f9c-4dee-8d64-cf0908d640b6\"}}];\n",
       "  root.Bokeh.embed.embed_items_notebook(docs_json, render_items);\n",
       "\n",
       "  }\n",
       "  if (root.Bokeh !== undefined) {\n",
       "    embed_document(root);\n",
       "  } else {\n",
       "    var attempts = 0;\n",
       "    var timer = setInterval(function(root) {\n",
       "      if (root.Bokeh !== undefined) {\n",
       "        embed_document(root);\n",
       "        clearInterval(timer);\n",
       "      }\n",
       "      attempts++;\n",
       "      if (attempts > 100) {\n",
       "        console.log(\"Bokeh: ERROR: Unable to run BokehJS code because BokehJS library is missing\");\n",
       "        clearInterval(timer);\n",
       "      }\n",
       "    }, 10, root)\n",
       "  }\n",
       "})(window);"
      ],
      "application/vnd.bokehjs_exec.v0+json": ""
     },
     "metadata": {
      "application/vnd.bokehjs_exec.v0+json": {
       "id": "1002"
      }
     },
     "output_type": "display_data"
    }
   ],
   "source": [
    "p = figure(plot_width=600, plot_height=600, toolbar_location='above')\n",
    "p.title.text = 'Residuals by subject'\n",
    "\n",
    "source = ColumnDataSource(data=df_y)\n",
    "\n",
    "hover = HoverTool(\n",
    "    tooltips=[(\"Subject\", \"@subject_id\"),\n",
    "              (\"Age\", \"@Age\"),\n",
    "              (\"CV\", \"@cv_idx\")],\n",
    ")\n",
    "hover.point_policy = 'snap_to_data'\n",
    "hover.line_policy = 'nearest'\n",
    "\n",
    "p.circle(source=source,\n",
    "         x='index',\n",
    "         y='res',\n",
    "#          color='cv_color',\n",
    "         size='rmse',\n",
    "         line_color=None)\n",
    "\n",
    "p.xaxis.axis_label = 'Subject'\n",
    "p.yaxis.axis_label = 'Residuals'\n",
    "\n",
    "p.add_tools(hover)\n",
    "\n",
    "# html = file_html(p, CDN, 'my plot')\n",
    "# with open(op.abspath('../docs/img/bokeh_plots/regression_residuals_by_subject.html'), 'w') as fp:\n",
    "#     fp.write(html)\n",
    "show(p)"
   ]
  },
  {
   "cell_type": "code",
   "execution_count": 22,
   "metadata": {},
   "outputs": [
    {
     "data": {
      "text/plain": [
       "8.285362721970747"
      ]
     },
     "execution_count": 22,
     "metadata": {},
     "output_type": "execute_result"
    }
   ],
   "source": [
    "np.sqrt(np.square(df_y['res']).mean())"
   ]
  },
  {
   "cell_type": "code",
   "execution_count": 23,
   "metadata": {},
   "outputs": [
    {
     "data": {
      "text/html": [
       "\n",
       "\n",
       "\n",
       "\n",
       "\n",
       "\n",
       "  <div class=\"bk-root\" id=\"fcda0b8d-e0aa-45ba-9bdf-93f5f82ae02e\" data-root-id=\"1192\"></div>\n"
      ]
     },
     "metadata": {},
     "output_type": "display_data"
    },
    {
     "data": {
      "application/javascript": [
       "(function(root) {\n",
       "  function embed_document(root) {\n",
       "    \n",
       "  var docs_json = {\"9ee94010-7944-4bab-b7fa-e31990c65c8c\":{\"roots\":{\"references\":[{\"attributes\":{\"children\":[{\"id\":\"1106\",\"subtype\":\"Figure\",\"type\":\"Plot\"},{\"id\":\"1138\",\"subtype\":\"Figure\",\"type\":\"Plot\"}]},\"id\":\"1192\",\"type\":\"Row\"},{\"attributes\":{\"dimension\":1,\"ticker\":{\"id\":\"1121\",\"type\":\"BasicTicker\"}},\"id\":\"1124\",\"type\":\"Grid\"},{\"attributes\":{},\"id\":\"1111\",\"type\":\"LinearScale\"},{\"attributes\":{\"active_drag\":\"auto\",\"active_inspect\":\"auto\",\"active_multi\":null,\"active_scroll\":\"auto\",\"active_tap\":\"auto\",\"tools\":[{\"id\":\"1157\",\"type\":\"PanTool\"},{\"id\":\"1158\",\"type\":\"WheelZoomTool\"},{\"id\":\"1159\",\"type\":\"BoxZoomTool\"},{\"id\":\"1160\",\"type\":\"SaveTool\"},{\"id\":\"1161\",\"type\":\"ResetTool\"},{\"id\":\"1162\",\"type\":\"HelpTool\"},{\"id\":\"1173\",\"type\":\"HoverTool\"}]},\"id\":\"1163\",\"type\":\"Toolbar\"},{\"attributes\":{\"overlay\":{\"id\":\"1214\",\"type\":\"BoxAnnotation\"}},\"id\":\"1127\",\"type\":\"BoxZoomTool\"},{\"attributes\":{},\"id\":\"1216\",\"type\":\"Selection\"},{\"attributes\":{\"data_source\":{\"id\":\"1172\",\"type\":\"ColumnDataSource\"},\"glyph\":{\"id\":\"1175\",\"type\":\"Scatter\"},\"hover_glyph\":null,\"muted_glyph\":null,\"nonselection_glyph\":{\"id\":\"1176\",\"type\":\"Scatter\"},\"selection_glyph\":null,\"view\":{\"id\":\"1178\",\"type\":\"CDSView\"}},\"id\":\"1177\",\"type\":\"GlyphRenderer\"},{\"attributes\":{},\"id\":\"1121\",\"type\":\"BasicTicker\"},{\"attributes\":{\"text\":\"Residuals for test splits\"},\"id\":\"1171\",\"type\":\"Title\"},{\"attributes\":{},\"id\":\"1162\",\"type\":\"HelpTool\"},{\"attributes\":{\"callback\":null,\"tooltips\":[[\"Subject\",\"@subject_id\"],[\"Age\",\"@Age\"],[\"Residual\",\"@stdres\"],[\"CV\",\"@cv_idx\"]]},\"id\":\"1173\",\"type\":\"HoverTool\"},{\"attributes\":{},\"id\":\"1217\",\"type\":\"UnionRenderers\"},{\"attributes\":{\"source\":{\"id\":\"1172\",\"type\":\"ColumnDataSource\"}},\"id\":\"1178\",\"type\":\"CDSView\"},{\"attributes\":{\"text\":\"B\",\"text_font_size\":{\"value\":\"16pt\"}},\"id\":\"1170\",\"type\":\"Title\"},{\"attributes\":{},\"id\":\"1218\",\"type\":\"Selection\"},{\"attributes\":{\"callback\":null},\"id\":\"1139\",\"type\":\"DataRange1d\"},{\"attributes\":{\"bottom_units\":\"screen\",\"fill_alpha\":{\"value\":0.5},\"fill_color\":{\"value\":\"lightgrey\"},\"left_units\":\"screen\",\"level\":\"overlay\",\"line_alpha\":{\"value\":1.0},\"line_color\":{\"value\":\"black\"},\"line_dash\":[4,4],\"line_width\":{\"value\":2},\"render_mode\":\"css\",\"right_units\":\"screen\",\"top_units\":\"screen\"},\"id\":\"1219\",\"type\":\"BoxAnnotation\"},{\"attributes\":{\"line_dash\":[6],\"line_width\":2,\"x\":{\"field\":\"x\"},\"y\":{\"field\":\"y\"}},\"id\":\"1180\",\"type\":\"Line\"},{\"attributes\":{\"callback\":null,\"data\":{\"Age\":[20,31,18,28,29,36,39,34,24,21,29,31,28,20,21,20,31,32,12,14,13,12,12,11,9,14,8,10,7,8,11,11,21,9,24,8,8,14,10,14,7,8,9,8,8,11,6,9,8,9,32,16,9,9,8,15,9,10,9,8,9,24,24,9,9,43,13,44,50,47,46,18,40,50,40,17,17],\"cv_idx\":{\"__ndarray__\":\"q6qqqqqqHkAAAAAAAAAcQKuqqqqqqiBAVVVVVVVVGUBVVVVVVVUZQKuqqqqqqhpAq6qqqqqqGkCrqqqqqqoaQKuqqqqqqiBAq6qqqqqqFkCrqqqqqqoaQAAAAAAAACBAVVVVVVVVFUBVVVVVVVUZQFVVVVVVVSFAVVVVVVVVGUAAAAAAAAAcQAAAAAAAABhAAAAAAAAAGEAAAAAAAAAYQKuqqqqqqhpAAAAAAAAAHECrqqqqqqoaQFVVVVVVVSFAAAAAAAAAGECrqqqqqqoeQAAAAAAAACBAq6qqqqqqIEBVVVVVVVUZQKuqqqqqqh5Aq6qqqqqqFkCrqqqqqqoaQAAAAAAAACBAVVVVVVVVGUBVVVVVVVUZQFVVVVVVVRVAq6qqqqqqHkBVVVVVVVUdQKuqqqqqqh5AVVVVVVVVGUCrqqqqqqoeQAAAAAAAACBAAAAAAAAAHEBVVVVVVVUdQFVVVVVVVR1AVVVVVVVVFUAAAAAAAAAcQFVVVVVVVRVAAAAAAAAAHEBVVVVVVVUVQFVVVVVVVR1Aq6qqqqqqGkAAAAAAAAAgQAAAAAAAABhAAAAAAAAAHECrqqqqqqoaQKuqqqqqqhpAq6qqqqqqHkAAAAAAAAAYQKuqqqqqqiBAq6qqqqqqIEBVVVVVVVUdQFVVVVVVVR1AAAAAAAAAHEAAAAAAAAAcQKuqqqqqqhpAVVVVVVVVGUBVVVVVVVUhQKuqqqqqqhpAq6qqqqqqGkBVVVVVVVUdQAAAAAAAACBAVVVVVVVVHUBVVVVVVVUdQAAAAAAAABhAAAAAAAAAIEAAAAAAAAAYQA==\",\"dtype\":\"float64\",\"shape\":[77]},\"index\":{\"__ndarray__\":\"AAAAAAEAAAACAAAAAwAAAAQAAAAFAAAABgAAAAcAAAAIAAAACQAAAAoAAAALAAAADAAAAA0AAAAOAAAADwAAABAAAAARAAAAEgAAABMAAAAUAAAAFQAAABYAAAAXAAAAGAAAABkAAAAaAAAAGwAAABwAAAAdAAAAHgAAAB8AAAAgAAAAIQAAACIAAAAjAAAAJAAAACUAAAAmAAAAJwAAACgAAAApAAAAKgAAACsAAAAsAAAALQAAAC4AAAAvAAAAMAAAADEAAAAyAAAAMwAAADQAAAA1AAAANgAAADcAAAA4AAAAOQAAADoAAAA7AAAAPAAAAD0AAAA+AAAAPwAAAEAAAABBAAAAQgAAAEMAAABEAAAARQAAAEYAAABHAAAASAAAAEkAAABKAAAASwAAAEwAAAA=\",\"dtype\":\"int32\",\"shape\":[77]},\"res\":{\"__ndarray__\":\"oLCK0WfR4j/W/nAOkh0qQFBJuS7ldfW/QECVACsQI8CqpsOInPAkQHjEDnQIfSJAoEN7XBd5/z+8PWxL8IwXQOACtH9q2BNA9AFtHJ1lGcDAdSj34L8aQDZk3ybPRChAAJDBU5L24T9w5/uvyNv4vxAmej/gcv8/oJVsAVf/57+qRro/4tknQGa0I3oa0C5AMOqKSfrtAkCmLD9HKjMQQAAsBVGZN9I/KGX3oL1f97+oTbjms6L0v6zieKLtJQvA1GVMllP6+z8AqCQmu+DWv8y5upwaPQXAUJHNg1XNBMBGWNyNgB4bwABDsYbbK/g/QFIwTb4iwz+wrFs6WFroP39Eh/jQJihAOB1BlsNOKsAA//15EZ/5vwC2/dHQmfw/ILVP9TWDEcCg806L0A3bP/i3tQ4/3/0/iPQ0hkHJIMBYBd8nCaQWwMB+eXTOHLM/8IzThty6479MmeoHTo8MwKDFsenOoPA/tG0cSOkxB8AAJmLa3hvzPwojuea1EBPAQJ/vvDDy1b9ACXk8oJUKQMD21vy9wg7AwHrSGuv2/z8YC+TRnRPzvyRvfq9uowLAOi3EWE+KFcBg2ZC59+4BwH7ravFyiwVA4sz6BgM9N8Cy0Sq5Hu8DQKBiYQKpSQJA3gg6f90+FkAgPI9IWeHnP0BDfGEZxdI/xNtgiVoa9D9QKV8Rma7lv6OpJgyyijNAoCUPxaeTDMA4M2RnyRoXQCWHcnDMUTxAOmxIDaMCLkAdvNlEpQo3QKYDMyOffRNA/lCBFYHRKkA0UK4DonQrQG//bLuw6jVAQKe9AhfXD8BIAjyMpFYGwA==\",\"dtype\":\"float64\",\"shape\":[77]},\"rmse\":{\"__ndarray__\":\"SQeD7+BTIEAUX5Ec3g0cQPAsN0etbB1ARQqsgi4VI0C0f4BeQ40kQMn2g75B1iBA+cy4KqaKHkCFuHSD234VQAhiD8eJlR1ANGZl4JNVH0BlE17A3GUfQINr4RPmzyJAmZ1+UXbfIEB3w7ve+xYZQM9YKotwHhdAvEo8PEoSIEAfwzuflLMjQNsaAQm/wR9AdI6uMEj5JEDbGgEJv8EfQA93iFrYQhpA36s9rh+tFEBdPj15v/kgQM9YKotwHhdAlA8n/uumGECvwnXsnwkdQJNflnOvHCFAVOSUmYTWI0CBjQxGNOgXQG3+KvfHmRxANPkvL081IEDR+vs28gMjQINr4RPmzyJAtH+AXkONJECHpBeAhTMfQJmdflF23yBARKLau0TrIEDDMY8oyCocQDSuJVx7niJAdBA218GeIED0RwcRLDEcQINr4RPmzyJAl9KNzk+lIEBTSJDLPLMgQDya1EF/sh1AmZ1+UXbfIEB+9W7clqEjQLHje5D7aSFAA5+5izxZH0CDbA7k9ewYQPAcn9OEmh5AD3eIWthCGkBFT+l3yOkXQHdoHJpPBCFAOZXW4BU5IEAvOLMkLHAjQBU+M07ReRlAwubi7RAWIEDz+oE4btMhQBer97vDnxhAaKLmQ41pIEDcBwASIbYjQDya1EF/sh1AFF+RHN4NHED44BUu/NUUQDWVNP2WWCNA3CiJ2msuIkA5G5rJK3AhQCFe+x09PyVApXhD3kdtIEDcBwASIbYjQBD8wPkygSFAveZACpI1I0D7GdUG6/IiQHSOrjBI+SRAk1+Wc68cIUDbGgEJv8EfQA==\",\"dtype\":\"float64\",\"shape\":[77]},\"size\":{\"__ndarray__\":\"G8ljK9loVEBs29rRqohRQBZ8gkzsY1JA1gxXI3raV0ChnyA2lLBZQHv0JC7SC1VAHICz2qcWU0Cm5lFkkt5KQEWdaRx2fVJA4F8/bHyVU0AfzDr4qZ9TQGTG2Zjfg1dA/0Te5VMXVUBVtGrWulxPQAPv9K0M5kxAa11Ly9wWVEDnswrHeaBYQMmwoGUX2VNAETLaPJo3WkDJsKBlF9lTQGlKlTjHaVBA1xbNmWfYSUD0jYxXLzhVQAPv9K0M5kxAedOw/abQTkCtmcnzAyZSQHj3e1DbY1VAaR36vyXMWEDhsI9XQeJNQATfevoc4FFAgff7+qJCVECF+brE7sRXQGTG2Zjfg1dAoZ8gNpSwWUDUxg5wM4BTQP9E3uVTF1VA1UrR6hUmVUAaf1kZvZpRQMEZLzMaRldAkZQDTXLGVED4jKSKu55RQGTG2Zjfg1dAPUcxwqPOVEBoWnT+C+BUQGbgJImPj1JA/0Te5VMXVUDesoqT/IlYQJ3cmnR6xFVAYgNU18WXU0CkBxJdMyhPQBZyQwSTIFNAaUqVOMdpUEAWo+OVOuRNQJWCo4BjRVVAhzoMWVtHVEA7BuAtN0xYQJoNwKFF2E9AcqBbKZUbVECweaLGSUhWQN2V9aq0x05AAkvglPCDVEDTCYBWqaNYQGbgJImPj1JAbNva0aqIUUA2WZs5ewtKQIK6gby8LlhAE3Mr0Qa6VkAHogC8NsxVQKk1emUMj1pAzlbU1ZmIVEDTCYBWqaNYQBQ7Mbh/4VVAbCDRjPYCWEB6YIrIpa9XQBEy2jyaN1pAePd7UNtjVUDJsKBlF9lTQA==\",\"dtype\":\"float64\",\"shape\":[77]},\"stdres\":{\"__ndarray__\":\"aKksbo7Asj+YPWf1Lwb6PxL79RSuYsW/CYAMaxn/8r+5gs3F3N30PyQJPZx6bPI/AquuPOlczz+czwsh2nfnP2qkE56lxuM/Jv9Eud9O6b9ycHGK7afqP7MtZFoUL/g/3pys4HzmsT+PNaW1hsXIvwV9UrC3Vs8/LbZvaNrpt7/3tUcwh8T3PyVcFqmDtP4/ADH6UAfd0j+n59QBqSTgP/2soKRJJ6I/VPau7s9Kx79JC7PlOZDEv2qZXNaeDdu/saERnUbhyz9vjoksP8ymv1kuc1wWKtW/SVP/VrW61L8JgO5nOAbrv5FOiRE3Fsg/D/nfFZwRkz/oIZolikS4P49+5wYxEfg/rzZGcTU3+r/0aVKlIIjJvxh6QQs1gMw/Bf3LzIdz4b8N+m5Wl/WqP2zsAeZ/xM0/BXWM3Tm68L8ZnJuGw4/mv1yW/o2xC4M/toiWGzKps7+d3HKqu3Xcv57kTXjrkcA/6vOvniQd17964W/KwgrDPzx90tSj/+K/2uC2WIrepb9ZiMuk0n3aPysyaSIzp96/k5poUUzazz8SM+cliQLDv/9J7HW+ktK/i2Sf9wV35b9BrGwV6d7Rv/+KL4soeNU/PjcgbTQoB8A8eWqDRd3TP76dCypJOdI/0drjc/Iq5j8HnQSK98u3P7WU8QJLtKI/AnXGnVoIxD8h2m8yL5u1v2IrU8EyeQNAYm5gghF63L8el3tyGQbnP55mMyVxOAxABC57NMTn/T+NXsHDA/YGQAx9HY0rbOM//6a/4H25+j8wGDO/DFz7P1GzVA4R1wVANOXuuJS63788NLM2pELWvw==\",\"dtype\":\"float64\",\"shape\":[77]},\"subjectID\":[\"subject_000\",\"subject_001\",\"subject_002\",\"subject_003\",\"subject_004\",\"subject_005\",\"subject_006\",\"subject_007\",\"subject_008\",\"subject_009\",\"subject_010\",\"subject_011\",\"subject_012\",\"subject_013\",\"subject_014\",\"subject_015\",\"subject_016\",\"subject_017\",\"subject_018\",\"subject_019\",\"subject_020\",\"subject_021\",\"subject_022\",\"subject_023\",\"subject_024\",\"subject_025\",\"subject_026\",\"subject_027\",\"subject_028\",\"subject_029\",\"subject_030\",\"subject_031\",\"subject_032\",\"subject_033\",\"subject_034\",\"subject_035\",\"subject_036\",\"subject_037\",\"subject_038\",\"subject_039\",\"subject_040\",\"subject_041\",\"subject_042\",\"subject_043\",\"subject_044\",\"subject_045\",\"subject_046\",\"subject_047\",\"subject_048\",\"subject_049\",\"subject_050\",\"subject_051\",\"subject_052\",\"subject_053\",\"subject_054\",\"subject_055\",\"subject_056\",\"subject_057\",\"subject_058\",\"subject_059\",\"subject_060\",\"subject_061\",\"subject_062\",\"subject_063\",\"subject_064\",\"subject_065\",\"subject_066\",\"subject_067\",\"subject_068\",\"subject_069\",\"subject_070\",\"subject_071\",\"subject_072\",\"subject_073\",\"subject_074\",\"subject_075\",\"subject_076\"],\"subject_id\":[\"subject_000\",\"subject_001\",\"subject_002\",\"subject_003\",\"subject_004\",\"subject_005\",\"subject_006\",\"subject_007\",\"subject_008\",\"subject_009\",\"subject_010\",\"subject_011\",\"subject_012\",\"subject_013\",\"subject_014\",\"subject_015\",\"subject_016\",\"subject_017\",\"subject_018\",\"subject_019\",\"subject_020\",\"subject_021\",\"subject_022\",\"subject_023\",\"subject_024\",\"subject_025\",\"subject_026\",\"subject_027\",\"subject_028\",\"subject_029\",\"subject_030\",\"subject_031\",\"subject_032\",\"subject_033\",\"subject_034\",\"subject_035\",\"subject_036\",\"subject_037\",\"subject_038\",\"subject_039\",\"subject_040\",\"subject_041\",\"subject_042\",\"subject_043\",\"subject_044\",\"subject_045\",\"subject_046\",\"subject_047\",\"subject_048\",\"subject_049\",\"subject_050\",\"subject_051\",\"subject_052\",\"subject_053\",\"subject_054\",\"subject_055\",\"subject_056\",\"subject_057\",\"subject_058\",\"subject_059\",\"subject_060\",\"subject_061\",\"subject_062\",\"subject_063\",\"subject_064\",\"subject_065\",\"subject_066\",\"subject_067\",\"subject_068\",\"subject_069\",\"subject_070\",\"subject_071\",\"subject_072\",\"subject_073\",\"subject_074\",\"subject_075\",\"subject_076\"],\"yhat\":{\"__ndarray__\":\"e6pzwXRpM0CVgMf4NvExQJWU61JeVzNAEFAlwArEQkCrLJ67sYcyQMSd+MV7wTpA4yUcRTeEQkCR8CTtwxw8QEj/EmDlCTNAfUAbR2dZO0CQ4jXCB1A2QOVNkGyY3TJAgPNhbUtwO0B3vv+KvI01QJ9dCPzRCDNArWQLuPq/NECr3CLgDhMzQM0l7sLylzBAdEWdbYFEI0CtaWDcauYjQKDWdzVDbilApewetPfrKkC1Cdd8VpQqQKs4nmh7ySxAi+ZsGmsBHUBAJTHZBbcsQHOuLqdGTyVAVGTzYFUzKUAjLO5GQI8rQECvUx4J9RlAtz7LBnWzJUA1RVp8WnokQIG7eAcv2SFAnI4gy2EnNkDw358X8Zk5QICSgMuL2RhAkNqn+prBKEBjiKV7kScrQAFJKR4YRCBARHoaw6BkNkCsgu+TBFIpQAUaLsaMsx9AzzhtyK07I0BTpvqB0yMnQJiOk0XM1xtAbRsHUnrMK0CAdmdJCDkTQIWRXPNaiCtA+nznhZGvIEBge8PhL7UWQGxvzd8r7EFAqLClnCIBLEBjgTy6c2IkQMmb36vbqCZAnRZirCfFKkAsGzL33j0xQEGKSodGOhlAcWZ9g4GeQEAnl2qjcAgaQLBOz34r2xZAQ+6LAUWCC0Afhrs19UA3QPMOeprrtDdAD8mnXWn5HkCV8hWR6VojQF1W2fNNdTdAtOSh+HSSMECZeRPTphxDQNt4jY8zrjVA48lbea7+P0DjQya7WvU2QC1+Zm4wQSpAgVc/dT+XOkDzaxR/1yJCQJEAk0RPFTJA6LRX4OL6NEBJgIeR1MozQA==\",\"dtype\":\"float64\",\"shape\":[77]}},\"selected\":{\"id\":\"1216\",\"type\":\"Selection\"},\"selection_policy\":{\"id\":\"1215\",\"type\":\"UnionRenderers\"}},\"id\":\"1172\",\"type\":\"ColumnDataSource\"},{\"attributes\":{\"overlay\":{\"id\":\"1219\",\"type\":\"BoxAnnotation\"}},\"id\":\"1159\",\"type\":\"BoxZoomTool\"},{\"attributes\":{\"line_alpha\":0.1,\"line_color\":\"#1f77b4\",\"line_dash\":[6],\"line_width\":2,\"x\":{\"field\":\"x\"},\"y\":{\"field\":\"y\"}},\"id\":\"1181\",\"type\":\"Line\"},{\"attributes\":{},\"id\":\"1145\",\"type\":\"LinearScale\"},{\"attributes\":{\"axis_label\":\"Predicted Age\",\"formatter\":{\"id\":\"1213\",\"type\":\"BasicTickFormatter\"},\"ticker\":{\"id\":\"1148\",\"type\":\"BasicTicker\"}},\"id\":\"1147\",\"type\":\"LinearAxis\"},{\"attributes\":{\"data_source\":{\"id\":\"1179\",\"type\":\"ColumnDataSource\"},\"glyph\":{\"id\":\"1180\",\"type\":\"Line\"},\"hover_glyph\":null,\"muted_glyph\":null,\"nonselection_glyph\":{\"id\":\"1181\",\"type\":\"Line\"},\"selection_glyph\":null,\"view\":{\"id\":\"1183\",\"type\":\"CDSView\"}},\"id\":\"1182\",\"type\":\"GlyphRenderer\"},{\"attributes\":{\"callback\":null,\"end\":52},\"id\":\"1107\",\"type\":\"Range1d\"},{\"attributes\":{},\"id\":\"1126\",\"type\":\"WheelZoomTool\"},{\"attributes\":{},\"id\":\"1113\",\"type\":\"LinearScale\"},{\"attributes\":{\"fill_color\":{\"value\":\"#1f77b4\"},\"size\":{\"units\":\"screen\",\"value\":10},\"x\":{\"field\":\"yhat\"},\"y\":{\"field\":\"Age\"}},\"id\":\"1175\",\"type\":\"Scatter\"},{\"attributes\":{\"source\":{\"id\":\"1179\",\"type\":\"ColumnDataSource\"}},\"id\":\"1183\",\"type\":\"CDSView\"},{\"attributes\":{},\"id\":\"1128\",\"type\":\"SaveTool\"},{\"attributes\":{\"callback\":null,\"data\":{\"x\":[0,52],\"y\":[0,52]},\"selected\":{\"id\":\"1218\",\"type\":\"Selection\"},\"selection_policy\":{\"id\":\"1217\",\"type\":\"UnionRenderers\"}},\"id\":\"1179\",\"type\":\"ColumnDataSource\"},{\"attributes\":{\"below\":[{\"id\":\"1147\",\"type\":\"LinearAxis\"}],\"center\":[{\"id\":\"1151\",\"type\":\"Grid\"},{\"id\":\"1156\",\"type\":\"Grid\"}],\"left\":[{\"id\":\"1152\",\"type\":\"LinearAxis\"}],\"renderers\":[{\"id\":\"1187\",\"type\":\"GlyphRenderer\"}],\"title\":{\"id\":\"1171\",\"type\":\"Title\"},\"toolbar\":{\"id\":\"1163\",\"type\":\"Toolbar\"},\"toolbar_location\":\"above\",\"x_range\":{\"id\":\"1139\",\"type\":\"DataRange1d\"},\"x_scale\":{\"id\":\"1143\",\"type\":\"LinearScale\"},\"y_range\":{\"id\":\"1141\",\"type\":\"DataRange1d\"},\"y_scale\":{\"id\":\"1145\",\"type\":\"LinearScale\"}},\"id\":\"1138\",\"subtype\":\"Figure\",\"type\":\"Plot\"},{\"attributes\":{},\"id\":\"1130\",\"type\":\"HelpTool\"},{\"attributes\":{\"fill_alpha\":{\"value\":0.1},\"fill_color\":{\"value\":\"#1f77b4\"},\"line_alpha\":{\"value\":0.1},\"line_color\":{\"value\":\"#1f77b4\"},\"size\":{\"units\":\"screen\",\"value\":10},\"x\":{\"field\":\"yhat\"},\"y\":{\"field\":\"Age\"}},\"id\":\"1176\",\"type\":\"Scatter\"},{\"attributes\":{\"fill_alpha\":{\"value\":0.1},\"fill_color\":{\"value\":\"#1f77b4\"},\"line_alpha\":{\"value\":0.1},\"line_color\":{\"value\":\"#1f77b4\"},\"size\":{\"field\":\"rmse\",\"units\":\"screen\"},\"x\":{\"field\":\"yhat\"},\"y\":{\"field\":\"res\"}},\"id\":\"1186\",\"type\":\"Scatter\"},{\"attributes\":{},\"id\":\"1129\",\"type\":\"ResetTool\"},{\"attributes\":{\"below\":[{\"id\":\"1115\",\"type\":\"LinearAxis\"}],\"center\":[{\"id\":\"1119\",\"type\":\"Grid\"},{\"id\":\"1124\",\"type\":\"Grid\"}],\"left\":[{\"id\":\"1120\",\"type\":\"LinearAxis\"}],\"renderers\":[{\"id\":\"1177\",\"type\":\"GlyphRenderer\"},{\"id\":\"1182\",\"type\":\"GlyphRenderer\"}],\"title\":{\"id\":\"1170\",\"type\":\"Title\"},\"toolbar\":{\"id\":\"1131\",\"type\":\"Toolbar\"},\"toolbar_location\":\"above\",\"x_range\":{\"id\":\"1107\",\"type\":\"Range1d\"},\"x_scale\":{\"id\":\"1111\",\"type\":\"LinearScale\"},\"y_range\":{\"id\":\"1109\",\"type\":\"Range1d\"},\"y_scale\":{\"id\":\"1113\",\"type\":\"LinearScale\"}},\"id\":\"1106\",\"subtype\":\"Figure\",\"type\":\"Plot\"},{\"attributes\":{\"data_source\":{\"id\":\"1172\",\"type\":\"ColumnDataSource\"},\"glyph\":{\"id\":\"1185\",\"type\":\"Scatter\"},\"hover_glyph\":null,\"muted_glyph\":null,\"nonselection_glyph\":{\"id\":\"1186\",\"type\":\"Scatter\"},\"selection_glyph\":null,\"view\":{\"id\":\"1188\",\"type\":\"CDSView\"}},\"id\":\"1187\",\"type\":\"GlyphRenderer\"},{\"attributes\":{},\"id\":\"1207\",\"type\":\"BasicTickFormatter\"},{\"attributes\":{\"callback\":null,\"end\":52},\"id\":\"1109\",\"type\":\"Range1d\"},{\"attributes\":{},\"id\":\"1161\",\"type\":\"ResetTool\"},{\"attributes\":{\"source\":{\"id\":\"1172\",\"type\":\"ColumnDataSource\"}},\"id\":\"1188\",\"type\":\"CDSView\"},{\"attributes\":{\"callback\":null},\"id\":\"1141\",\"type\":\"DataRange1d\"},{\"attributes\":{},\"id\":\"1160\",\"type\":\"SaveTool\"},{\"attributes\":{\"fill_color\":{\"value\":\"#1f77b4\"},\"line_color\":{\"value\":null},\"size\":{\"field\":\"rmse\",\"units\":\"screen\"},\"x\":{\"field\":\"yhat\"},\"y\":{\"field\":\"res\"}},\"id\":\"1185\",\"type\":\"Scatter\"},{\"attributes\":{},\"id\":\"1143\",\"type\":\"LinearScale\"},{\"attributes\":{},\"id\":\"1125\",\"type\":\"PanTool\"},{\"attributes\":{},\"id\":\"1209\",\"type\":\"BasicTickFormatter\"},{\"attributes\":{},\"id\":\"1148\",\"type\":\"BasicTicker\"},{\"attributes\":{\"active_drag\":\"auto\",\"active_inspect\":\"auto\",\"active_multi\":null,\"active_scroll\":\"auto\",\"active_tap\":\"auto\",\"tools\":[{\"id\":\"1125\",\"type\":\"PanTool\"},{\"id\":\"1126\",\"type\":\"WheelZoomTool\"},{\"id\":\"1127\",\"type\":\"BoxZoomTool\"},{\"id\":\"1128\",\"type\":\"SaveTool\"},{\"id\":\"1129\",\"type\":\"ResetTool\"},{\"id\":\"1130\",\"type\":\"HelpTool\"},{\"id\":\"1173\",\"type\":\"HoverTool\"}]},\"id\":\"1131\",\"type\":\"Toolbar\"},{\"attributes\":{\"axis_label\":\"Actual Age\",\"axis_label_text_font_size\":{\"value\":\"16pt\"},\"formatter\":{\"id\":\"1207\",\"type\":\"BasicTickFormatter\"},\"major_label_text_font_size\":{\"value\":\"14pt\"},\"ticker\":{\"id\":\"1121\",\"type\":\"BasicTicker\"}},\"id\":\"1120\",\"type\":\"LinearAxis\"},{\"attributes\":{\"ticker\":{\"id\":\"1148\",\"type\":\"BasicTicker\"}},\"id\":\"1151\",\"type\":\"Grid\"},{\"attributes\":{},\"id\":\"1211\",\"type\":\"BasicTickFormatter\"},{\"attributes\":{\"axis_label\":\"Standardized Residuals\",\"formatter\":{\"id\":\"1211\",\"type\":\"BasicTickFormatter\"},\"ticker\":{\"id\":\"1153\",\"type\":\"BasicTicker\"}},\"id\":\"1152\",\"type\":\"LinearAxis\"},{\"attributes\":{\"axis_label\":\"Predicted Age\",\"axis_label_text_font_size\":{\"value\":\"16pt\"},\"formatter\":{\"id\":\"1209\",\"type\":\"BasicTickFormatter\"},\"major_label_text_font_size\":{\"value\":\"14pt\"},\"ticker\":{\"id\":\"1116\",\"type\":\"BasicTicker\"}},\"id\":\"1115\",\"type\":\"LinearAxis\"},{\"attributes\":{},\"id\":\"1157\",\"type\":\"PanTool\"},{\"attributes\":{},\"id\":\"1213\",\"type\":\"BasicTickFormatter\"},{\"attributes\":{},\"id\":\"1116\",\"type\":\"BasicTicker\"},{\"attributes\":{\"dimension\":1,\"ticker\":{\"id\":\"1153\",\"type\":\"BasicTicker\"}},\"id\":\"1156\",\"type\":\"Grid\"},{\"attributes\":{},\"id\":\"1158\",\"type\":\"WheelZoomTool\"},{\"attributes\":{\"bottom_units\":\"screen\",\"fill_alpha\":{\"value\":0.5},\"fill_color\":{\"value\":\"lightgrey\"},\"left_units\":\"screen\",\"level\":\"overlay\",\"line_alpha\":{\"value\":1.0},\"line_color\":{\"value\":\"black\"},\"line_dash\":[4,4],\"line_width\":{\"value\":2},\"render_mode\":\"css\",\"right_units\":\"screen\",\"top_units\":\"screen\"},\"id\":\"1214\",\"type\":\"BoxAnnotation\"},{\"attributes\":{\"ticker\":{\"id\":\"1116\",\"type\":\"BasicTicker\"}},\"id\":\"1119\",\"type\":\"Grid\"},{\"attributes\":{},\"id\":\"1153\",\"type\":\"BasicTicker\"},{\"attributes\":{},\"id\":\"1215\",\"type\":\"UnionRenderers\"}],\"root_ids\":[\"1192\"]},\"title\":\"Bokeh Application\",\"version\":\"1.1.0\"}};\n",
       "  var render_items = [{\"docid\":\"9ee94010-7944-4bab-b7fa-e31990c65c8c\",\"roots\":{\"1192\":\"fcda0b8d-e0aa-45ba-9bdf-93f5f82ae02e\"}}];\n",
       "  root.Bokeh.embed.embed_items_notebook(docs_json, render_items);\n",
       "\n",
       "  }\n",
       "  if (root.Bokeh !== undefined) {\n",
       "    embed_document(root);\n",
       "  } else {\n",
       "    var attempts = 0;\n",
       "    var timer = setInterval(function(root) {\n",
       "      if (root.Bokeh !== undefined) {\n",
       "        embed_document(root);\n",
       "        clearInterval(timer);\n",
       "      }\n",
       "      attempts++;\n",
       "      if (attempts > 100) {\n",
       "        console.log(\"Bokeh: ERROR: Unable to run BokehJS code because BokehJS library is missing\");\n",
       "        clearInterval(timer);\n",
       "      }\n",
       "    }, 10, root)\n",
       "  }\n",
       "})(window);"
      ],
      "application/vnd.bokehjs_exec.v0+json": ""
     },
     "metadata": {
      "application/vnd.bokehjs_exec.v0+json": {
       "id": "1192"
      }
     },
     "output_type": "display_data"
    }
   ],
   "source": [
    "p = figure(plot_width=600, plot_height=600, toolbar_location='above', x_range=(0, 52), y_range=(0, 52))\n",
    "p_res = figure(plot_width=600, plot_height=600, toolbar_location='above')\n",
    "p.title.text = 'B'\n",
    "p_res.title.text = 'Residuals for test splits'\n",
    "\n",
    "source = ColumnDataSource(data=df_y)\n",
    "\n",
    "hover = HoverTool(\n",
    "    tooltips=[(\"Subject\", \"@subject_id\"),\n",
    "              (\"Age\", \"@Age\"),\n",
    "              (\"Residual\", \"@stdres\"),\n",
    "              (\"CV\", \"@cv_idx\")],\n",
    ")\n",
    "hover.point_policy = 'snap_to_data'\n",
    "hover.line_policy = 'nearest'\n",
    "\n",
    "p.scatter(source=source,\n",
    "          x='yhat',\n",
    "          y='Age',\n",
    "#           color='cv_color',\n",
    "          size=10,\n",
    "          line_color='black')\n",
    "\n",
    "p.line(x=[0, 52], y=[0, 52], line_color=\"black\", line_width=2, line_dash='dashed')\n",
    "\n",
    "p_res.scatter(source=source,\n",
    "              x='yhat',\n",
    "              y='res',\n",
    "#               color='cv_color',\n",
    "              size='rmse',\n",
    "              line_color=None)\n",
    "\n",
    "p.xaxis.axis_label = 'Predicted Age'\n",
    "p.yaxis.axis_label = 'Actual Age'\n",
    "p.xaxis.axis_label_text_font_size = \"16pt\"\n",
    "p.yaxis.axis_label_text_font_size = \"16pt\"\n",
    "p.xaxis.major_label_text_font_size = \"14pt\"\n",
    "p.yaxis.major_label_text_font_size = \"14pt\"\n",
    "p.title.text_font_size = \"16pt\"\n",
    "\n",
    "p_res.xaxis.axis_label = 'Predicted Age'\n",
    "p_res.yaxis.axis_label = 'Standardized Residuals'\n",
    "\n",
    "p.add_tools(hover)\n",
    "p_res.add_tools(hover)\n",
    "\n",
    "layout = row([p, p_res])\n",
    "\n",
    "# html = file_html(layout, CDN, 'my plot')\n",
    "# with open(op.abspath('../docs/img/bokeh_plots/regression_residuals_abs_power.html'), 'w') as fp:\n",
    "#     fp.write(html)\n",
    "show(layout)"
   ]
  },
  {
   "cell_type": "code",
   "execution_count": 24,
   "metadata": {},
   "outputs": [
    {
     "data": {
      "image/png": "[encoded data removed]",
      "text/plain": [
       "<Figure size 432x288 with 1 Axes>"
      ]
     },
     "metadata": {
      "needs_background": "light"
     },
     "output_type": "display_data"
    }
   ],
   "source": [
    "ax = y.hist()"
   ]
  },
  {
   "cell_type": "code",
   "execution_count": 25,
   "metadata": {},
   "outputs": [
    {
     "ename": "AttributeError",
     "evalue": "'numpy.ndarray' object has no attribute 'hist'",
     "output_type": "error",
     "traceback": [
      "\u001b[0;31m---------------------------------------------------------------------------\u001b[0m",
      "\u001b[0;31mAttributeError\u001b[0m                            Traceback (most recent call last)",
      "\u001b[0;32m<ipython-input-25-81bb2a5699ac>\u001b[0m in \u001b[0;36m<module>\u001b[0;34m\u001b[0m\n\u001b[1;32m      1\u001b[0m \u001b[0mfig\u001b[0m\u001b[0;34m,\u001b[0m \u001b[0max\u001b[0m \u001b[0;34m=\u001b[0m \u001b[0mplt\u001b[0m\u001b[0;34m.\u001b[0m\u001b[0msubplots\u001b[0m\u001b[0;34m(\u001b[0m\u001b[0;36m5\u001b[0m\u001b[0;34m,\u001b[0m \u001b[0;36m3\u001b[0m\u001b[0;34m,\u001b[0m \u001b[0mfigsize\u001b[0m\u001b[0;34m=\u001b[0m\u001b[0;34m(\u001b[0m\u001b[0;36m10\u001b[0m\u001b[0;34m,\u001b[0m \u001b[0;36m8\u001b[0m\u001b[0;34m)\u001b[0m\u001b[0;34m)\u001b[0m\u001b[0;34m\u001b[0m\u001b[0;34m\u001b[0m\u001b[0m\n\u001b[0;32m----> 2\u001b[0;31m \u001b[0m_\u001b[0m \u001b[0;34m=\u001b[0m \u001b[0;34m[\u001b[0m\u001b[0mcv\u001b[0m\u001b[0;34m.\u001b[0m\u001b[0mtrain\u001b[0m\u001b[0;34m.\u001b[0m\u001b[0my\u001b[0m\u001b[0;34m.\u001b[0m\u001b[0mhist\u001b[0m\u001b[0;34m(\u001b[0m\u001b[0malpha\u001b[0m\u001b[0;34m=\u001b[0m\u001b[0;36m0.5\u001b[0m\u001b[0;34m,\u001b[0m \u001b[0max\u001b[0m\u001b[0;34m=\u001b[0m\u001b[0max\u001b[0m\u001b[0;34m[\u001b[0m\u001b[0midx\u001b[0m \u001b[0;34m%\u001b[0m \u001b[0;36m5\u001b[0m\u001b[0;34m,\u001b[0m \u001b[0midx\u001b[0m \u001b[0;34m//\u001b[0m \u001b[0;36m5\u001b[0m\u001b[0;34m]\u001b[0m\u001b[0;34m)\u001b[0m \u001b[0;32mfor\u001b[0m \u001b[0midx\u001b[0m\u001b[0;34m,\u001b[0m \u001b[0mcv\u001b[0m \u001b[0;32min\u001b[0m \u001b[0menumerate\u001b[0m\u001b[0;34m(\u001b[0m\u001b[0mcv_results\u001b[0m\u001b[0;34m)\u001b[0m\u001b[0;34m]\u001b[0m\u001b[0;34m\u001b[0m\u001b[0;34m\u001b[0m\u001b[0m\n\u001b[0m\u001b[1;32m      3\u001b[0m \u001b[0m_\u001b[0m \u001b[0;34m=\u001b[0m \u001b[0;34m[\u001b[0m\u001b[0mcv\u001b[0m\u001b[0;34m.\u001b[0m\u001b[0mtest\u001b[0m\u001b[0;34m.\u001b[0m\u001b[0my\u001b[0m\u001b[0;34m.\u001b[0m\u001b[0mhist\u001b[0m\u001b[0;34m(\u001b[0m\u001b[0malpha\u001b[0m\u001b[0;34m=\u001b[0m\u001b[0;36m1\u001b[0m\u001b[0;34m,\u001b[0m \u001b[0max\u001b[0m\u001b[0;34m=\u001b[0m\u001b[0max\u001b[0m\u001b[0;34m[\u001b[0m\u001b[0midx\u001b[0m \u001b[0;34m%\u001b[0m \u001b[0;36m5\u001b[0m\u001b[0;34m,\u001b[0m \u001b[0midx\u001b[0m \u001b[0;34m//\u001b[0m \u001b[0;36m5\u001b[0m\u001b[0;34m]\u001b[0m\u001b[0;34m)\u001b[0m \u001b[0;32mfor\u001b[0m \u001b[0midx\u001b[0m\u001b[0;34m,\u001b[0m \u001b[0mcv\u001b[0m \u001b[0;32min\u001b[0m \u001b[0menumerate\u001b[0m\u001b[0;34m(\u001b[0m\u001b[0mcv_results\u001b[0m\u001b[0;34m)\u001b[0m\u001b[0;34m]\u001b[0m\u001b[0;34m\u001b[0m\u001b[0;34m\u001b[0m\u001b[0m\n\u001b[1;32m      4\u001b[0m _ = [ax[idx % 5, idx // 5].text(x=0.5, y=0.9, s=f\"CV{idx}: RMSE={cv.test.rmse}\",\n\u001b[1;32m      5\u001b[0m                                 \u001b[0mhorizontalalignment\u001b[0m\u001b[0;34m=\u001b[0m\u001b[0;34m'center'\u001b[0m\u001b[0;34m,\u001b[0m\u001b[0;34m\u001b[0m\u001b[0;34m\u001b[0m\u001b[0m\n",
      "\u001b[0;32m<ipython-input-25-81bb2a5699ac>\u001b[0m in \u001b[0;36m<listcomp>\u001b[0;34m(.0)\u001b[0m\n\u001b[1;32m      1\u001b[0m \u001b[0mfig\u001b[0m\u001b[0;34m,\u001b[0m \u001b[0max\u001b[0m \u001b[0;34m=\u001b[0m \u001b[0mplt\u001b[0m\u001b[0;34m.\u001b[0m\u001b[0msubplots\u001b[0m\u001b[0;34m(\u001b[0m\u001b[0;36m5\u001b[0m\u001b[0;34m,\u001b[0m \u001b[0;36m3\u001b[0m\u001b[0;34m,\u001b[0m \u001b[0mfigsize\u001b[0m\u001b[0;34m=\u001b[0m\u001b[0;34m(\u001b[0m\u001b[0;36m10\u001b[0m\u001b[0;34m,\u001b[0m \u001b[0;36m8\u001b[0m\u001b[0;34m)\u001b[0m\u001b[0;34m)\u001b[0m\u001b[0;34m\u001b[0m\u001b[0;34m\u001b[0m\u001b[0m\n\u001b[0;32m----> 2\u001b[0;31m \u001b[0m_\u001b[0m \u001b[0;34m=\u001b[0m \u001b[0;34m[\u001b[0m\u001b[0mcv\u001b[0m\u001b[0;34m.\u001b[0m\u001b[0mtrain\u001b[0m\u001b[0;34m.\u001b[0m\u001b[0my\u001b[0m\u001b[0;34m.\u001b[0m\u001b[0mhist\u001b[0m\u001b[0;34m(\u001b[0m\u001b[0malpha\u001b[0m\u001b[0;34m=\u001b[0m\u001b[0;36m0.5\u001b[0m\u001b[0;34m,\u001b[0m \u001b[0max\u001b[0m\u001b[0;34m=\u001b[0m\u001b[0max\u001b[0m\u001b[0;34m[\u001b[0m\u001b[0midx\u001b[0m \u001b[0;34m%\u001b[0m \u001b[0;36m5\u001b[0m\u001b[0;34m,\u001b[0m \u001b[0midx\u001b[0m \u001b[0;34m//\u001b[0m \u001b[0;36m5\u001b[0m\u001b[0;34m]\u001b[0m\u001b[0;34m)\u001b[0m \u001b[0;32mfor\u001b[0m \u001b[0midx\u001b[0m\u001b[0;34m,\u001b[0m \u001b[0mcv\u001b[0m \u001b[0;32min\u001b[0m \u001b[0menumerate\u001b[0m\u001b[0;34m(\u001b[0m\u001b[0mcv_results\u001b[0m\u001b[0;34m)\u001b[0m\u001b[0;34m]\u001b[0m\u001b[0;34m\u001b[0m\u001b[0;34m\u001b[0m\u001b[0m\n\u001b[0m\u001b[1;32m      3\u001b[0m \u001b[0m_\u001b[0m \u001b[0;34m=\u001b[0m \u001b[0;34m[\u001b[0m\u001b[0mcv\u001b[0m\u001b[0;34m.\u001b[0m\u001b[0mtest\u001b[0m\u001b[0;34m.\u001b[0m\u001b[0my\u001b[0m\u001b[0;34m.\u001b[0m\u001b[0mhist\u001b[0m\u001b[0;34m(\u001b[0m\u001b[0malpha\u001b[0m\u001b[0;34m=\u001b[0m\u001b[0;36m1\u001b[0m\u001b[0;34m,\u001b[0m \u001b[0max\u001b[0m\u001b[0;34m=\u001b[0m\u001b[0max\u001b[0m\u001b[0;34m[\u001b[0m\u001b[0midx\u001b[0m \u001b[0;34m%\u001b[0m \u001b[0;36m5\u001b[0m\u001b[0;34m,\u001b[0m \u001b[0midx\u001b[0m \u001b[0;34m//\u001b[0m \u001b[0;36m5\u001b[0m\u001b[0;34m]\u001b[0m\u001b[0;34m)\u001b[0m \u001b[0;32mfor\u001b[0m \u001b[0midx\u001b[0m\u001b[0;34m,\u001b[0m \u001b[0mcv\u001b[0m \u001b[0;32min\u001b[0m \u001b[0menumerate\u001b[0m\u001b[0;34m(\u001b[0m\u001b[0mcv_results\u001b[0m\u001b[0;34m)\u001b[0m\u001b[0;34m]\u001b[0m\u001b[0;34m\u001b[0m\u001b[0;34m\u001b[0m\u001b[0m\n\u001b[1;32m      4\u001b[0m _ = [ax[idx % 5, idx // 5].text(x=0.5, y=0.9, s=f\"CV{idx}: RMSE={cv.test.rmse}\",\n\u001b[1;32m      5\u001b[0m                                 \u001b[0mhorizontalalignment\u001b[0m\u001b[0;34m=\u001b[0m\u001b[0;34m'center'\u001b[0m\u001b[0;34m,\u001b[0m\u001b[0;34m\u001b[0m\u001b[0;34m\u001b[0m\u001b[0m\n",
      "\u001b[0;31mAttributeError\u001b[0m: 'numpy.ndarray' object has no attribute 'hist'"
     ]
    },
    {
     "data": {
      "image/png": "[encoded data removed]",
      "text/plain": [
       "<Figure size 720x576 with 15 Axes>"
      ]
     },
     "metadata": {
      "needs_background": "light"
     },
     "output_type": "display_data"
    }
   ],
   "source": [
    "fig, ax = plt.subplots(5, 3, figsize=(10, 8))\n",
    "_ = [cv.train.y.hist(alpha=0.5, ax=ax[idx % 5, idx // 5]) for idx, cv in enumerate(cv_results)]\n",
    "_ = [cv.test.y.hist(alpha=1, ax=ax[idx % 5, idx // 5]) for idx, cv in enumerate(cv_results)]\n",
    "_ = [ax[idx % 5, idx // 5].text(x=0.5, y=0.9, s=f\"CV{idx}: RMSE={cv.test.rmse}\",\n",
    "                                horizontalalignment='center',\n",
    "                                verticalalignment='center',\n",
    "                                transform=ax[idx % 5, idx // 5].transAxes)\n",
    "     for idx, cv in enumerate(cv_results)]"
   ]
  },
  {
   "cell_type": "code",
   "execution_count": null,
   "metadata": {},
   "outputs": [],
   "source": [
    "print([np.count_nonzero(cv.beta_hat) / len(cv.beta_hat) for cv in cv_results])"
   ]
  },
  {
   "cell_type": "code",
   "execution_count": null,
   "metadata": {},
   "outputs": [],
   "source": [
    "for cv in cv_results:\n",
    "    print(cv.beta_hat[4000])"
   ]
  },
  {
   "cell_type": "markdown",
   "metadata": {},
   "source": [
    "Using the hover tool on the chart above, we can see that subjects 05, 07, 16, 19, 30, 32, 35, 36 are all hard to classify (they are consistently closer to the classification threshold of 0.5). We should fire up the AFQ browser and look at how these subjects compare to the rest of the subjects in their group.\n",
    "\n",
    "Here are links to a running instance of AFQ-Browser with the hard to classify subjects:\n",
    "- [False negatives](https://yeatmanlab.github.io/Sarica_2017/?table[prevSort][count]=2&table[prevSort][order]=ascending&table[prevSort][key]=&table[sort][count]=2&table[sort][order]=ascending&table[sort][key]=class&table[selectedRows][subject_005]=true&table[selectedRows][subject_007]=true&table[selectedRows][subject_016]=true&table[selectedRows][subject_019]=true&table[selectedRows][subject_030]=false&table[selectedRows][subject_032]=false&table[selectedRows][subject_035]=false&table[selectedRows][subject_036]=false&plots[checkboxes][right-corticospinal]=true&plots[zoom][rd][scale]=1&plots[zoom][rd][translate][0]=-3&plots[zoom][rd][translate][1]=-21&plots[zoom][fa][scale]=2.1140360811227614&plots[zoom][fa][translate][0]=-27.244995845837778&plots[zoom][fa][translate][1]=-106.10468474511174&plots[plotKey]=fa&plots[errorType]=stderr&plots[lineOpacity]=0.09355440414507772)\n",
    "- [False positives](https://yeatmanlab.github.io/Sarica_2017/?table[prevSort][count]=2&table[prevSort][order]=ascending&table[prevSort][key]=&table[sort][count]=2&table[sort][order]=ascending&table[sort][key]=class&table[selectedRows][subject_005]=false&table[selectedRows][subject_007]=false&table[selectedRows][subject_016]=false&table[selectedRows][subject_019]=false&table[selectedRows][subject_030]=true&table[selectedRows][subject_032]=true&table[selectedRows][subject_035]=true&table[selectedRows][subject_036]=true&plots[checkboxes][right-corticospinal]=true&plots[zoom][rd][scale]=1&plots[zoom][rd][translate][0]=-3&plots[zoom][rd][translate][1]=-21&plots[zoom][fa][scale]=2.1140360811227614&plots[zoom][fa][translate][0]=-27.244995845837778&plots[zoom][fa][translate][1]=-106.10468474511174&plots[plotKey]=fa&plots[errorType]=stderr&plots[lineOpacity]=0.09355440414507772)"
   ]
  },
  {
   "cell_type": "markdown",
   "metadata": {},
   "source": [
    "# Feature Importance"
   ]
  },
  {
   "cell_type": "markdown",
   "metadata": {},
   "source": [
    "Let's sort the features by their importance"
   ]
  },
  {
   "cell_type": "code",
   "execution_count": null,
   "metadata": {},
   "outputs": [],
   "source": [
    "feature_dicts = afqi.multicol2dicts(columns, tract_symmetry=False)\n",
    "\n",
    "mean_beta = np.mean(np.array(\n",
    "    [np.delete(res.beta_hat, 4000) for res in hp_cv_res_medae_md_fa]\n",
    "), axis=0)\n",
    "\n",
    "var_beta = np.std(np.array(\n",
    "    [np.delete(res.beta_hat, 4000) for res in hp_cv_res_medae_md_fa]\n",
    "), axis=0)\n",
    "\n",
    "sorted_features = afqi.sort_features(feature_dicts, mean_beta)\n",
    "\n",
    "# sorted_features[0:50]"
   ]
  },
  {
   "cell_type": "code",
   "execution_count": null,
   "metadata": {},
   "outputs": [],
   "source": [
    "columns_md_fa = columns.drop(['ad', 'cl', 'curvature', 'rd', 'torsion', 'volume'], level=0)\n",
    "columns_md_fa = columns_md_fa.remove_unused_levels()"
   ]
  },
  {
   "cell_type": "markdown",
   "metadata": {},
   "source": [
    "It's nice to see the top few features in a sorted list, but let's plot the features to get a feel for their distributions"
   ]
  },
  {
   "cell_type": "code",
   "execution_count": null,
   "metadata": {},
   "outputs": [],
   "source": [
    "beta_hats = afqi.beta_hat_by_groups(mean_beta, columns=columns_md_fa, drop_zeros=True)\n",
    "beta_hats_var = afqi.beta_hat_by_groups(var_beta, columns=columns_md_fa, drop_zeros=True)\n",
    "# beta_hats_converged = afqi.beta_hat_by_groups(mean_beta_converged, columns=columns, drop_zeros=True)"
   ]
  },
  {
   "cell_type": "markdown",
   "metadata": {},
   "source": [
    "First let's plot the coefficients themselves"
   ]
  },
  {
   "cell_type": "code",
   "execution_count": null,
   "metadata": {},
   "outputs": [],
   "source": [
    "# afqi.plot.plot_betas(beta_hat=beta_hats, columns=columns)"
   ]
  },
  {
   "cell_type": "code",
   "execution_count": null,
   "metadata": {},
   "outputs": [],
   "source": [
    "unfolded_beta = afqi.transform.unfold_beta_hat_by_metrics(\n",
    "    beta_hat=mean_beta,\n",
    "    columns=columns_md_fa\n",
    ")\n",
    "\n",
    "unfolded_beta_var = afqi.transform.unfold_beta_hat_by_metrics(\n",
    "    beta_hat=var_beta,\n",
    "    columns=columns_md_fa\n",
    ")"
   ]
  },
  {
   "cell_type": "code",
   "execution_count": 99,
   "metadata": {},
   "outputs": [],
   "source": [
    "afqi.plot.plot_unfolded_beta(\n",
    "    unfolded_beta=unfolded_beta,\n",
    "    output_html='../docs/img/bokeh_plots/regression_unfolded_beta.html',\n",
    "    width=1500,\n",
    "    height=800\n",
    ")"
   ]
  },
  {
   "cell_type": "code",
   "execution_count": 100,
   "metadata": {},
   "outputs": [],
   "source": [
    "afqi.plot.plot_unfolded_beta(\n",
    "    unfolded_beta=unfolded_beta_var,\n",
    "    output_html='../docs/img/bokeh_plots/regression_unfolded_beta_variance.html',\n",
    "    width=1500,\n",
    "    height=800\n",
    ")"
   ]
  },
  {
   "cell_type": "code",
   "execution_count": null,
   "metadata": {},
   "outputs": [],
   "source": [
    "from dipy.viz import window, actor\n",
    "from dipy.data import fetch_bundles_2_subjects, read_bundles_2_subjects\n",
    "from dipy.tracking.streamline import transform_streamlines\n",
    "\n",
    "import json"
   ]
  },
  {
   "cell_type": "code",
   "execution_count": null,
   "metadata": {},
   "outputs": [],
   "source": [
    "with open(\"../data/raw/core_streamlines.json\") as fp:\n",
    "    cores = json.load(fp)"
   ]
  },
  {
   "cell_type": "code",
   "execution_count": null,
   "metadata": {},
   "outputs": [],
   "source": [
    "colors.shape"
   ]
  },
  {
   "cell_type": "code",
   "execution_count": null,
   "metadata": {},
   "outputs": [],
   "source": [
    "renderer = window.Renderer()\n",
    "\n",
    "metric = \"fa\"\n",
    "colors = np.concatenate([beta_hats[bn][metric] for bn in beta_hats.keys()])\n",
    "bundle_names = beta_hats.keys()\n",
    "bundles = [np.array(cores[bn][\"coreFiber\"]) for bn in bundle_names]\n",
    "stream_actor = actor.line(\n",
    "    lines=bundles,\n",
    "    colors=actor.create_colormap(colors, name='coolwarm'),\n",
    "    linewidth=20,\n",
    "    spline_subdiv=300,\n",
    "    fake_tube=True,\n",
    ")\n",
    "\n",
    "renderer.add(stream_actor)\n",
    "window.show(renderer, size=(900, 900), reset_camera=True)"
   ]
  },
  {
   "cell_type": "code",
   "execution_count": 108,
   "metadata": {},
   "outputs": [
    {
     "data": {
      "text/plain": [
       "50"
      ]
     },
     "execution_count": 108,
     "metadata": {},
     "output_type": "execute_result"
    }
   ],
   "source": [
    "y.max()"
   ]
  },
  {
   "cell_type": "code",
   "execution_count": null,
   "metadata": {},
   "outputs": [],
   "source": []
  }
 ],
 "metadata": {
  "kernelspec": {
   "display_name": "Python [conda env:afq-insight]",
   "language": "python",
   "name": "conda-env-afq-insight-py"
  },
  "language_info": {
   "codemirror_mode": {
    "name": "ipython",
    "version": 3
   },
   "file_extension": ".py",
   "mimetype": "text/x-python",
   "name": "python",
   "nbconvert_exporter": "python",
   "pygments_lexer": "ipython3",
   "version": "3.6.7"
  }
 },
 "nbformat": 4,
 "nbformat_minor": 2
}
