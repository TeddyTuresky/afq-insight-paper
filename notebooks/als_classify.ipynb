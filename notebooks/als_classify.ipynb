{
 "cells": [
  {
   "cell_type": "markdown",
   "metadata": {},
   "source": [
    "# Classify ALS status using AFQ-Insight"
   ]
  },
  {
   "cell_type": "code",
   "execution_count": 1,
   "metadata": {},
   "outputs": [],
   "source": [
    "import afqinsight as afqi\n",
    "import itertools\n",
    "import matplotlib.pyplot as plt\n",
    "import numpy as np\n",
    "import os.path as op\n",
    "import palettable\n",
    "import pickle\n",
    "\n",
    "from matplotlib.colors import to_hex\n",
    "from mpl_toolkits.mplot3d import Axes3D\n",
    "\n",
    "from bokeh.io import output_notebook, reset_output\n",
    "from bokeh.embed import file_html\n",
    "from bokeh.layouts import row, column, widgetbox\n",
    "from bokeh.models import BoxSelectTool, HoverTool, Legend, Title, Range1d, CustomJS, ColorBar\n",
    "from bokeh.models.tickers import FixedTicker\n",
    "from bokeh.models.mappers import LinearColorMapper\n",
    "from bokeh.palettes import Spectral10, RdBu, Category10\n",
    "from bokeh.plotting import figure, show, ColumnDataSource\n",
    "from bokeh.resources import CDN\n",
    "from bokeh.transform import factor_cmap\n",
    "from bokeh.models import BoxAnnotation, Label\n",
    "\n",
    "from sklearn.decomposition import PCA\n",
    "\n",
    "%matplotlib notebook"
   ]
  },
  {
   "cell_type": "code",
   "execution_count": 2,
   "metadata": {},
   "outputs": [
    {
     "data": {
      "text/html": [
       "\n",
       "    <div class=\"bk-root\">\n",
       "        <a href=\"https://bokeh.pydata.org\" target=\"_blank\" class=\"bk-logo bk-logo-small bk-logo-notebook\"></a>\n",
       "        <span id=\"1001\">Loading BokehJS ...</span>\n",
       "    </div>"
      ]
     },
     "metadata": {},
     "output_type": "display_data"
    },
    {
     "data": {
      "application/javascript": [
       "\n",
       "(function(root) {\n",
       "  function now() {\n",
       "    return new Date();\n",
       "  }\n",
       "\n",
       "  var force = true;\n",
       "\n",
       "  if (typeof root._bokeh_onload_callbacks === \"undefined\" || force === true) {\n",
       "    root._bokeh_onload_callbacks = [];\n",
       "    root._bokeh_is_loading = undefined;\n",
       "  }\n",
       "\n",
       "  var JS_MIME_TYPE = 'application/javascript';\n",
       "  var HTML_MIME_TYPE = 'text/html';\n",
       "  var EXEC_MIME_TYPE = 'application/vnd.bokehjs_exec.v0+json';\n",
       "  var CLASS_NAME = 'output_bokeh rendered_html';\n",
       "\n",
       "  /**\n",
       "   * Render data to the DOM node\n",
       "   */\n",
       "  function render(props, node) {\n",
       "    var script = document.createElement(\"script\");\n",
       "    node.appendChild(script);\n",
       "  }\n",
       "\n",
       "  /**\n",
       "   * Handle when an output is cleared or removed\n",
       "   */\n",
       "  function handleClearOutput(event, handle) {\n",
       "    var cell = handle.cell;\n",
       "\n",
       "    var id = cell.output_area._bokeh_element_id;\n",
       "    var server_id = cell.output_area._bokeh_server_id;\n",
       "    // Clean up Bokeh references\n",
       "    if (id != null && id in Bokeh.index) {\n",
       "      Bokeh.index[id].model.document.clear();\n",
       "      delete Bokeh.index[id];\n",
       "    }\n",
       "\n",
       "    if (server_id !== undefined) {\n",
       "      // Clean up Bokeh references\n",
       "      var cmd = \"from bokeh.io.state import curstate; print(curstate().uuid_to_server['\" + server_id + \"'].get_sessions()[0].document.roots[0]._id)\";\n",
       "      cell.notebook.kernel.execute(cmd, {\n",
       "        iopub: {\n",
       "          output: function(msg) {\n",
       "            var id = msg.content.text.trim();\n",
       "            if (id in Bokeh.index) {\n",
       "              Bokeh.index[id].model.document.clear();\n",
       "              delete Bokeh.index[id];\n",
       "            }\n",
       "          }\n",
       "        }\n",
       "      });\n",
       "      // Destroy server and session\n",
       "      var cmd = \"import bokeh.io.notebook as ion; ion.destroy_server('\" + server_id + \"')\";\n",
       "      cell.notebook.kernel.execute(cmd);\n",
       "    }\n",
       "  }\n",
       "\n",
       "  /**\n",
       "   * Handle when a new output is added\n",
       "   */\n",
       "  function handleAddOutput(event, handle) {\n",
       "    var output_area = handle.output_area;\n",
       "    var output = handle.output;\n",
       "\n",
       "    // limit handleAddOutput to display_data with EXEC_MIME_TYPE content only\n",
       "    if ((output.output_type != \"display_data\") || (!output.data.hasOwnProperty(EXEC_MIME_TYPE))) {\n",
       "      return\n",
       "    }\n",
       "\n",
       "    var toinsert = output_area.element.find(\".\" + CLASS_NAME.split(' ')[0]);\n",
       "\n",
       "    if (output.metadata[EXEC_MIME_TYPE][\"id\"] !== undefined) {\n",
       "      toinsert[toinsert.length - 1].firstChild.textContent = output.data[JS_MIME_TYPE];\n",
       "      // store reference to embed id on output_area\n",
       "      output_area._bokeh_element_id = output.metadata[EXEC_MIME_TYPE][\"id\"];\n",
       "    }\n",
       "    if (output.metadata[EXEC_MIME_TYPE][\"server_id\"] !== undefined) {\n",
       "      var bk_div = document.createElement(\"div\");\n",
       "      bk_div.innerHTML = output.data[HTML_MIME_TYPE];\n",
       "      var script_attrs = bk_div.children[0].attributes;\n",
       "      for (var i = 0; i < script_attrs.length; i++) {\n",
       "        toinsert[toinsert.length - 1].firstChild.setAttribute(script_attrs[i].name, script_attrs[i].value);\n",
       "      }\n",
       "      // store reference to server id on output_area\n",
       "      output_area._bokeh_server_id = output.metadata[EXEC_MIME_TYPE][\"server_id\"];\n",
       "    }\n",
       "  }\n",
       "\n",
       "  function register_renderer(events, OutputArea) {\n",
       "\n",
       "    function append_mime(data, metadata, element) {\n",
       "      // create a DOM node to render to\n",
       "      var toinsert = this.create_output_subarea(\n",
       "        metadata,\n",
       "        CLASS_NAME,\n",
       "        EXEC_MIME_TYPE\n",
       "      );\n",
       "      this.keyboard_manager.register_events(toinsert);\n",
       "      // Render to node\n",
       "      var props = {data: data, metadata: metadata[EXEC_MIME_TYPE]};\n",
       "      render(props, toinsert[toinsert.length - 1]);\n",
       "      element.append(toinsert);\n",
       "      return toinsert\n",
       "    }\n",
       "\n",
       "    /* Handle when an output is cleared or removed */\n",
       "    events.on('clear_output.CodeCell', handleClearOutput);\n",
       "    events.on('delete.Cell', handleClearOutput);\n",
       "\n",
       "    /* Handle when a new output is added */\n",
       "    events.on('output_added.OutputArea', handleAddOutput);\n",
       "\n",
       "    /**\n",
       "     * Register the mime type and append_mime function with output_area\n",
       "     */\n",
       "    OutputArea.prototype.register_mime_type(EXEC_MIME_TYPE, append_mime, {\n",
       "      /* Is output safe? */\n",
       "      safe: true,\n",
       "      /* Index of renderer in `output_area.display_order` */\n",
       "      index: 0\n",
       "    });\n",
       "  }\n",
       "\n",
       "  // register the mime type if in Jupyter Notebook environment and previously unregistered\n",
       "  if (root.Jupyter !== undefined) {\n",
       "    var events = require('base/js/events');\n",
       "    var OutputArea = require('notebook/js/outputarea').OutputArea;\n",
       "\n",
       "    if (OutputArea.prototype.mime_types().indexOf(EXEC_MIME_TYPE) == -1) {\n",
       "      register_renderer(events, OutputArea);\n",
       "    }\n",
       "  }\n",
       "\n",
       "  \n",
       "  if (typeof (root._bokeh_timeout) === \"undefined\" || force === true) {\n",
       "    root._bokeh_timeout = Date.now() + 5000;\n",
       "    root._bokeh_failed_load = false;\n",
       "  }\n",
       "\n",
       "  var NB_LOAD_WARNING = {'data': {'text/html':\n",
       "     \"<div style='background-color: #fdd'>\\n\"+\n",
       "     \"<p>\\n\"+\n",
       "     \"BokehJS does not appear to have successfully loaded. If loading BokehJS from CDN, this \\n\"+\n",
       "     \"may be due to a slow or bad network connection. Possible fixes:\\n\"+\n",
       "     \"</p>\\n\"+\n",
       "     \"<ul>\\n\"+\n",
       "     \"<li>re-rerun `output_notebook()` to attempt to load from CDN again, or</li>\\n\"+\n",
       "     \"<li>use INLINE resources instead, as so:</li>\\n\"+\n",
       "     \"</ul>\\n\"+\n",
       "     \"<code>\\n\"+\n",
       "     \"from bokeh.resources import INLINE\\n\"+\n",
       "     \"output_notebook(resources=INLINE)\\n\"+\n",
       "     \"</code>\\n\"+\n",
       "     \"</div>\"}};\n",
       "\n",
       "  function display_loaded() {\n",
       "    var el = document.getElementById(\"1001\");\n",
       "    if (el != null) {\n",
       "      el.textContent = \"BokehJS is loading...\";\n",
       "    }\n",
       "    if (root.Bokeh !== undefined) {\n",
       "      if (el != null) {\n",
       "        el.textContent = \"BokehJS \" + root.Bokeh.version + \" successfully loaded.\";\n",
       "      }\n",
       "    } else if (Date.now() < root._bokeh_timeout) {\n",
       "      setTimeout(display_loaded, 100)\n",
       "    }\n",
       "  }\n",
       "\n",
       "\n",
       "  function run_callbacks() {\n",
       "    try {\n",
       "      root._bokeh_onload_callbacks.forEach(function(callback) {\n",
       "        if (callback != null)\n",
       "          callback();\n",
       "      });\n",
       "    } finally {\n",
       "      delete root._bokeh_onload_callbacks\n",
       "    }\n",
       "    console.debug(\"Bokeh: all callbacks have finished\");\n",
       "  }\n",
       "\n",
       "  function load_libs(css_urls, js_urls, callback) {\n",
       "    if (css_urls == null) css_urls = [];\n",
       "    if (js_urls == null) js_urls = [];\n",
       "\n",
       "    root._bokeh_onload_callbacks.push(callback);\n",
       "    if (root._bokeh_is_loading > 0) {\n",
       "      console.debug(\"Bokeh: BokehJS is being loaded, scheduling callback at\", now());\n",
       "      return null;\n",
       "    }\n",
       "    if (js_urls == null || js_urls.length === 0) {\n",
       "      run_callbacks();\n",
       "      return null;\n",
       "    }\n",
       "    console.debug(\"Bokeh: BokehJS not loaded, scheduling load and callback at\", now());\n",
       "    root._bokeh_is_loading = css_urls.length + js_urls.length;\n",
       "\n",
       "    function on_load() {\n",
       "      root._bokeh_is_loading--;\n",
       "      if (root._bokeh_is_loading === 0) {\n",
       "        console.debug(\"Bokeh: all BokehJS libraries/stylesheets loaded\");\n",
       "        run_callbacks()\n",
       "      }\n",
       "    }\n",
       "\n",
       "    function on_error() {\n",
       "      console.error(\"failed to load \" + url);\n",
       "    }\n",
       "\n",
       "    for (var i = 0; i < css_urls.length; i++) {\n",
       "      var url = css_urls[i];\n",
       "      const element = document.createElement(\"link\");\n",
       "      element.onload = on_load;\n",
       "      element.onerror = on_error;\n",
       "      element.rel = \"stylesheet\";\n",
       "      element.type = \"text/css\";\n",
       "      element.href = url;\n",
       "      console.debug(\"Bokeh: injecting link tag for BokehJS stylesheet: \", url);\n",
       "      document.body.appendChild(element);\n",
       "    }\n",
       "\n",
       "    for (var i = 0; i < js_urls.length; i++) {\n",
       "      var url = js_urls[i];\n",
       "      var element = document.createElement('script');\n",
       "      element.onload = on_load;\n",
       "      element.onerror = on_error;\n",
       "      element.async = false;\n",
       "      element.src = url;\n",
       "      console.debug(\"Bokeh: injecting script tag for BokehJS library: \", url);\n",
       "      document.head.appendChild(element);\n",
       "    }\n",
       "  };var element = document.getElementById(\"1001\");\n",
       "  if (element == null) {\n",
       "    console.error(\"Bokeh: ERROR: autoload.js configured with elementid '1001' but no matching script tag was found. \")\n",
       "    return false;\n",
       "  }\n",
       "\n",
       "  function inject_raw_css(css) {\n",
       "    const element = document.createElement(\"style\");\n",
       "    element.appendChild(document.createTextNode(css));\n",
       "    document.body.appendChild(element);\n",
       "  }\n",
       "\n",
       "  var js_urls = [\"https://cdn.pydata.org/bokeh/release/bokeh-1.1.0.min.js\", \"https://cdn.pydata.org/bokeh/release/bokeh-widgets-1.1.0.min.js\", \"https://cdn.pydata.org/bokeh/release/bokeh-tables-1.1.0.min.js\", \"https://cdn.pydata.org/bokeh/release/bokeh-gl-1.1.0.min.js\"];\n",
       "  var css_urls = [\"https://cdn.pydata.org/bokeh/release/bokeh-1.1.0.min.css\", \"https://cdn.pydata.org/bokeh/release/bokeh-widgets-1.1.0.min.css\", \"https://cdn.pydata.org/bokeh/release/bokeh-tables-1.1.0.min.css\"];\n",
       "\n",
       "  var inline_js = [\n",
       "    function(Bokeh) {\n",
       "      Bokeh.set_log_level(\"info\");\n",
       "    },\n",
       "    \n",
       "    function(Bokeh) {\n",
       "      \n",
       "    },\n",
       "    function(Bokeh) {} // ensure no trailing comma for IE\n",
       "  ];\n",
       "\n",
       "  function run_inline_js() {\n",
       "    \n",
       "    if ((root.Bokeh !== undefined) || (force === true)) {\n",
       "      for (var i = 0; i < inline_js.length; i++) {\n",
       "        inline_js[i].call(root, root.Bokeh);\n",
       "      }if (force === true) {\n",
       "        display_loaded();\n",
       "      }} else if (Date.now() < root._bokeh_timeout) {\n",
       "      setTimeout(run_inline_js, 100);\n",
       "    } else if (!root._bokeh_failed_load) {\n",
       "      console.log(\"Bokeh: BokehJS failed to load within specified timeout.\");\n",
       "      root._bokeh_failed_load = true;\n",
       "    } else if (force !== true) {\n",
       "      var cell = $(document.getElementById(\"1001\")).parents('.cell').data().cell;\n",
       "      cell.output_area.append_execute_result(NB_LOAD_WARNING)\n",
       "    }\n",
       "\n",
       "  }\n",
       "\n",
       "  if (root._bokeh_is_loading === 0) {\n",
       "    console.debug(\"Bokeh: BokehJS loaded, going straight to plotting\");\n",
       "    run_inline_js();\n",
       "  } else {\n",
       "    load_libs(css_urls, js_urls, function() {\n",
       "      console.debug(\"Bokeh: BokehJS plotting callback run at\", now());\n",
       "      run_inline_js();\n",
       "    });\n",
       "  }\n",
       "}(window));"
      ],
      "application/vnd.bokehjs_load.v0+json": "\n(function(root) {\n  function now() {\n    return new Date();\n  }\n\n  var force = true;\n\n  if (typeof root._bokeh_onload_callbacks === \"undefined\" || force === true) {\n    root._bokeh_onload_callbacks = [];\n    root._bokeh_is_loading = undefined;\n  }\n\n  \n\n  \n  if (typeof (root._bokeh_timeout) === \"undefined\" || force === true) {\n    root._bokeh_timeout = Date.now() + 5000;\n    root._bokeh_failed_load = false;\n  }\n\n  var NB_LOAD_WARNING = {'data': {'text/html':\n     \"<div style='background-color: #fdd'>\\n\"+\n     \"<p>\\n\"+\n     \"BokehJS does not appear to have successfully loaded. If loading BokehJS from CDN, this \\n\"+\n     \"may be due to a slow or bad network connection. Possible fixes:\\n\"+\n     \"</p>\\n\"+\n     \"<ul>\\n\"+\n     \"<li>re-rerun `output_notebook()` to attempt to load from CDN again, or</li>\\n\"+\n     \"<li>use INLINE resources instead, as so:</li>\\n\"+\n     \"</ul>\\n\"+\n     \"<code>\\n\"+\n     \"from bokeh.resources import INLINE\\n\"+\n     \"output_notebook(resources=INLINE)\\n\"+\n     \"</code>\\n\"+\n     \"</div>\"}};\n\n  function display_loaded() {\n    var el = document.getElementById(\"1001\");\n    if (el != null) {\n      el.textContent = \"BokehJS is loading...\";\n    }\n    if (root.Bokeh !== undefined) {\n      if (el != null) {\n        el.textContent = \"BokehJS \" + root.Bokeh.version + \" successfully loaded.\";\n      }\n    } else if (Date.now() < root._bokeh_timeout) {\n      setTimeout(display_loaded, 100)\n    }\n  }\n\n\n  function run_callbacks() {\n    try {\n      root._bokeh_onload_callbacks.forEach(function(callback) {\n        if (callback != null)\n          callback();\n      });\n    } finally {\n      delete root._bokeh_onload_callbacks\n    }\n    console.debug(\"Bokeh: all callbacks have finished\");\n  }\n\n  function load_libs(css_urls, js_urls, callback) {\n    if (css_urls == null) css_urls = [];\n    if (js_urls == null) js_urls = [];\n\n    root._bokeh_onload_callbacks.push(callback);\n    if (root._bokeh_is_loading > 0) {\n      console.debug(\"Bokeh: BokehJS is being loaded, scheduling callback at\", now());\n      return null;\n    }\n    if (js_urls == null || js_urls.length === 0) {\n      run_callbacks();\n      return null;\n    }\n    console.debug(\"Bokeh: BokehJS not loaded, scheduling load and callback at\", now());\n    root._bokeh_is_loading = css_urls.length + js_urls.length;\n\n    function on_load() {\n      root._bokeh_is_loading--;\n      if (root._bokeh_is_loading === 0) {\n        console.debug(\"Bokeh: all BokehJS libraries/stylesheets loaded\");\n        run_callbacks()\n      }\n    }\n\n    function on_error() {\n      console.error(\"failed to load \" + url);\n    }\n\n    for (var i = 0; i < css_urls.length; i++) {\n      var url = css_urls[i];\n      const element = document.createElement(\"link\");\n      element.onload = on_load;\n      element.onerror = on_error;\n      element.rel = \"stylesheet\";\n      element.type = \"text/css\";\n      element.href = url;\n      console.debug(\"Bokeh: injecting link tag for BokehJS stylesheet: \", url);\n      document.body.appendChild(element);\n    }\n\n    for (var i = 0; i < js_urls.length; i++) {\n      var url = js_urls[i];\n      var element = document.createElement('script');\n      element.onload = on_load;\n      element.onerror = on_error;\n      element.async = false;\n      element.src = url;\n      console.debug(\"Bokeh: injecting script tag for BokehJS library: \", url);\n      document.head.appendChild(element);\n    }\n  };var element = document.getElementById(\"1001\");\n  if (element == null) {\n    console.error(\"Bokeh: ERROR: autoload.js configured with elementid '1001' but no matching script tag was found. \")\n    return false;\n  }\n\n  function inject_raw_css(css) {\n    const element = document.createElement(\"style\");\n    element.appendChild(document.createTextNode(css));\n    document.body.appendChild(element);\n  }\n\n  var js_urls = [\"https://cdn.pydata.org/bokeh/release/bokeh-1.1.0.min.js\", \"https://cdn.pydata.org/bokeh/release/bokeh-widgets-1.1.0.min.js\", \"https://cdn.pydata.org/bokeh/release/bokeh-tables-1.1.0.min.js\", \"https://cdn.pydata.org/bokeh/release/bokeh-gl-1.1.0.min.js\"];\n  var css_urls = [\"https://cdn.pydata.org/bokeh/release/bokeh-1.1.0.min.css\", \"https://cdn.pydata.org/bokeh/release/bokeh-widgets-1.1.0.min.css\", \"https://cdn.pydata.org/bokeh/release/bokeh-tables-1.1.0.min.css\"];\n\n  var inline_js = [\n    function(Bokeh) {\n      Bokeh.set_log_level(\"info\");\n    },\n    \n    function(Bokeh) {\n      \n    },\n    function(Bokeh) {} // ensure no trailing comma for IE\n  ];\n\n  function run_inline_js() {\n    \n    if ((root.Bokeh !== undefined) || (force === true)) {\n      for (var i = 0; i < inline_js.length; i++) {\n        inline_js[i].call(root, root.Bokeh);\n      }if (force === true) {\n        display_loaded();\n      }} else if (Date.now() < root._bokeh_timeout) {\n      setTimeout(run_inline_js, 100);\n    } else if (!root._bokeh_failed_load) {\n      console.log(\"Bokeh: BokehJS failed to load within specified timeout.\");\n      root._bokeh_failed_load = true;\n    } else if (force !== true) {\n      var cell = $(document.getElementById(\"1001\")).parents('.cell').data().cell;\n      cell.output_area.append_execute_result(NB_LOAD_WARNING)\n    }\n\n  }\n\n  if (root._bokeh_is_loading === 0) {\n    console.debug(\"Bokeh: BokehJS loaded, going straight to plotting\");\n    run_inline_js();\n  } else {\n    load_libs(css_urls, js_urls, function() {\n      console.debug(\"Bokeh: BokehJS plotting callback run at\", now());\n      run_inline_js();\n    });\n  }\n}(window));"
     },
     "metadata": {},
     "output_type": "display_data"
    }
   ],
   "source": [
    "output_notebook()"
   ]
  },
  {
   "cell_type": "markdown",
   "metadata": {},
   "source": [
    "## Load the data"
   ]
  },
  {
   "cell_type": "code",
   "execution_count": 3,
   "metadata": {},
   "outputs": [
    {
     "name": "stderr",
     "output_type": "stream",
     "text": [
      "/Users/richford/miniconda3/envs/afq-insight/lib/python3.6/site-packages/pandas/core/indexing.py:635: SettingWithCopyWarning: \n",
      "A value is trying to be set on a copy of a slice from a DataFrame.\n",
      "Try using .loc[row_indexer,col_indexer] = value instead\n",
      "\n",
      "See the caveats in the documentation: http://pandas.pydata.org/pandas-docs/stable/indexing.html#indexing-view-versus-copy\n",
      "  self.obj[item_labels[indexer[info_axis]]] = value\n",
      "/Users/richford/projects/neuro/afq/insight/afqinsight/transform.py:145: FutureWarning: .labels was deprecated in version 0.24.0. Use .codes instead.\n",
      "  features.columns.labels[metric_level].astype(np.int64) * n_tracts\n",
      "/Users/richford/projects/neuro/afq/insight/afqinsight/transform.py:146: FutureWarning: .labels was deprecated in version 0.24.0. Use .codes instead.\n",
      "  + features.columns.labels[tract_level].astype(np.int64),\n"
     ]
    }
   ],
   "source": [
    "afq_data = afqi.load_afq_data(\n",
    "    '../data/raw/als_data',\n",
    "    target_cols=['class'],\n",
    "    binary_positives={'class': 'ALS'},\n",
    "    scale_x=False\n",
    ")\n",
    "\n",
    "x, y, groups, columns, bias_index = (\n",
    "    afq_data.x,\n",
    "    afq_data.y['class'],\n",
    "    afq_data.groups,\n",
    "    afq_data.columns,\n",
    "    afq_data.bias_index\n",
    ")"
   ]
  },
  {
   "cell_type": "code",
   "execution_count": 4,
   "metadata": {},
   "outputs": [
    {
     "data": {
      "text/plain": [
       "subjectID\n",
       "subject_000    1\n",
       "subject_001    1\n",
       "subject_002    1\n",
       "subject_003    1\n",
       "subject_004    1\n",
       "subject_005    1\n",
       "subject_006    1\n",
       "subject_007    1\n",
       "subject_008    1\n",
       "subject_009    1\n",
       "subject_010    1\n",
       "subject_011    1\n",
       "subject_012    1\n",
       "subject_013    1\n",
       "subject_014    1\n",
       "subject_015    1\n",
       "subject_016    1\n",
       "subject_017    1\n",
       "subject_018    1\n",
       "subject_019    1\n",
       "subject_020    1\n",
       "subject_021    1\n",
       "subject_022    1\n",
       "subject_023    1\n",
       "subject_024    0\n",
       "subject_025    0\n",
       "subject_026    0\n",
       "subject_027    0\n",
       "subject_028    0\n",
       "subject_029    0\n",
       "subject_030    0\n",
       "subject_031    0\n",
       "subject_032    0\n",
       "subject_033    0\n",
       "subject_034    0\n",
       "subject_035    0\n",
       "subject_036    0\n",
       "subject_037    0\n",
       "subject_038    0\n",
       "subject_039    0\n",
       "subject_040    0\n",
       "subject_041    0\n",
       "subject_042    0\n",
       "subject_043    0\n",
       "subject_044    0\n",
       "subject_045    0\n",
       "subject_046    0\n",
       "subject_047    0\n",
       "Name: class, dtype: int64"
      ]
     },
     "execution_count": 4,
     "metadata": {},
     "output_type": "execute_result"
    }
   ],
   "source": [
    "y"
   ]
  },
  {
   "cell_type": "code",
   "execution_count": 5,
   "metadata": {},
   "outputs": [],
   "source": [
    "label_sets = afqi.multicol2sets(columns, tract_symmetry=True)\n",
    "select_labels = [[\"fa\"], [\"md\"]]\n",
    "x_md_fa = afqi.select_groups(np.delete(x, bias_index, axis=1), select_labels, label_sets)"
   ]
  },
  {
   "cell_type": "code",
   "execution_count": 6,
   "metadata": {},
   "outputs": [],
   "source": [
    "x_md_fa = np.hstack([x_md_fa, x[:, bias_index][:, np.newaxis]])"
   ]
  },
  {
   "cell_type": "markdown",
   "metadata": {},
   "source": [
    "## Find the optimal feature coefficients $\\widehat{\\beta}$"
   ]
  },
  {
   "cell_type": "markdown",
   "metadata": {},
   "source": [
    "We search for the optimal coefficients using two different classification scores: accuracy and ROC AUC."
   ]
  },
  {
   "cell_type": "code",
   "execution_count": 7,
   "metadata": {},
   "outputs": [],
   "source": [
    "# for max_cv in range(1400, 2501, 100):\n",
    "#     hp_cv_res_acc = afqi.fit_hyperparams_cv(\n",
    "#         x, y, groups, bias_index=bias_index,\n",
    "#         max_evals_per_cv=max_cv,\n",
    "#         score='accuracy',\n",
    "#         trials_pickle_dir='./trials_classification/cv10_rs42_accuracy',\n",
    "#         verbose=1, random_state=42, clf_threshold=0.5\n",
    "#     )"
   ]
  },
  {
   "cell_type": "code",
   "execution_count": 8,
   "metadata": {},
   "outputs": [
    {
     "data": {
      "application/vnd.jupyter.widget-view+json": {
       "model_id": "d11728e7a8b246fab4cc5f6a2b787f3f",
       "version_major": 2,
       "version_minor": 0
      },
      "text/plain": [
       "HBox(children=(IntProgress(value=0, max=30), HTML(value='')))"
      ]
     },
     "metadata": {},
     "output_type": "display_data"
    },
    {
     "name": "stdout",
     "output_type": "stream",
     "text": [
      "0it [00:00, ?it/s, best loss: ?]\n",
      "0it [00:00, ?it/s, best loss: ?]\n",
      "0it [00:00, ?it/s, best loss: ?]\n",
      "0it [00:00, ?it/s, best loss: ?]\n",
      "0it [00:00, ?it/s, best loss: ?]\n",
      "0it [00:00, ?it/s, best loss: ?]\n",
      "0it [00:00, ?it/s, best loss: ?]\n",
      "0it [00:00, ?it/s, best loss: ?]\n",
      "0it [00:00, ?it/s, best loss: ?]\n",
      "0it [00:00, ?it/s, best loss: ?]\n",
      "0it [00:00, ?it/s, best loss: ?]\n",
      "0it [00:00, ?it/s, best loss: ?]\n",
      "0it [00:00, ?it/s, best loss: ?]\n",
      "0it [00:00, ?it/s, best loss: ?]\n",
      "0it [00:00, ?it/s, best loss: ?]\n",
      "0it [00:00, ?it/s, best loss: ?]\n",
      "0it [00:00, ?it/s, best loss: ?]\n",
      "0it [00:00, ?it/s, best loss: ?]\n",
      "0it [00:00, ?it/s, best loss: ?]\n",
      "0it [00:00, ?it/s, best loss: ?]\n",
      "0it [00:00, ?it/s, best loss: ?]\n",
      "0it [00:00, ?it/s, best loss: ?]\n",
      "0it [00:00, ?it/s, best loss: ?]\n",
      "0it [00:00, ?it/s, best loss: ?]\n",
      "0it [00:00, ?it/s, best loss: ?]\n",
      "0it [00:00, ?it/s, best loss: ?]\n",
      "0it [00:00, ?it/s, best loss: ?]\n",
      "0it [00:00, ?it/s, best loss: ?]\n",
      "0it [00:00, ?it/s, best loss: ?]\n",
      "0it [00:00, ?it/s, best loss: ?]\n",
      "\n"
     ]
    }
   ],
   "source": [
    "hp_cv_res_acc = afqi.fit_hyperparams_cv(\n",
    "    x, y, groups, bias_index=bias_index,\n",
    "    n_splits=10, n_repeats=3,\n",
    "    max_evals_per_cv=100,\n",
    "    score='accuracy',\n",
    "    trials_pickle_dir='./trials_classification/cv3x10_v2_rs42_scaled_accuracy',\n",
    "    verbose=1, random_state=42, clf_threshold=0.5\n",
    ")"
   ]
  },
  {
   "cell_type": "code",
   "execution_count": 9,
   "metadata": {},
   "outputs": [
    {
     "data": {
      "application/vnd.jupyter.widget-view+json": {
       "model_id": "26394201053d4936ad27ae8326a7c374",
       "version_major": 2,
       "version_minor": 0
      },
      "text/plain": [
       "HBox(children=(IntProgress(value=0, max=30), HTML(value='')))"
      ]
     },
     "metadata": {},
     "output_type": "display_data"
    },
    {
     "name": "stdout",
     "output_type": "stream",
     "text": [
      "0it [00:00, ?it/s, best loss: ?]\n",
      "0it [00:00, ?it/s, best loss: ?]\n",
      "0it [00:00, ?it/s, best loss: ?]\n",
      "0it [00:00, ?it/s, best loss: ?]\n",
      "0it [00:00, ?it/s, best loss: ?]\n",
      "0it [00:00, ?it/s, best loss: ?]\n",
      "0it [00:00, ?it/s, best loss: ?]\n",
      "0it [00:00, ?it/s, best loss: ?]\n",
      "0it [00:00, ?it/s, best loss: ?]\n",
      "0it [00:00, ?it/s, best loss: ?]\n",
      "0it [00:00, ?it/s, best loss: ?]\n",
      "0it [00:00, ?it/s, best loss: ?]\n",
      "0it [00:00, ?it/s, best loss: ?]\n",
      "0it [00:00, ?it/s, best loss: ?]\n",
      "0it [00:00, ?it/s, best loss: ?]\n",
      "0it [00:00, ?it/s, best loss: ?]\n",
      "0it [00:00, ?it/s, best loss: ?]\n",
      "0it [00:00, ?it/s, best loss: ?]\n",
      "0it [00:00, ?it/s, best loss: ?]\n",
      "0it [00:00, ?it/s, best loss: ?]\n",
      "0it [00:00, ?it/s, best loss: ?]\n",
      "0it [00:00, ?it/s, best loss: ?]\n",
      "0it [00:00, ?it/s, best loss: ?]\n",
      "0it [00:00, ?it/s, best loss: ?]\n",
      "0it [00:00, ?it/s, best loss: ?]\n",
      "0it [00:00, ?it/s, best loss: ?]\n",
      "0it [00:00, ?it/s, best loss: ?]\n",
      "0it [00:00, ?it/s, best loss: ?]\n",
      "0it [00:00, ?it/s, best loss: ?]\n",
      "0it [00:00, ?it/s, best loss: ?]\n",
      "\n"
     ]
    }
   ],
   "source": [
    "hp_cv_res_acc_md_fa = afqi.fit_hyperparams_cv(\n",
    "    x_md_fa, y, groups[:40], bias_index=4000,\n",
    "    n_splits=10, n_repeats=3,\n",
    "    max_evals_per_cv=100,\n",
    "    score='accuracy',\n",
    "    trials_pickle_dir='./trials_classification/cv3x10_v2_rs42_scaled_accuracy_md_fa_only',\n",
    "    verbose=1, random_state=42, clf_threshold=0.5\n",
    ")"
   ]
  },
  {
   "cell_type": "code",
   "execution_count": 10,
   "metadata": {},
   "outputs": [],
   "source": [
    "# hp_cv_res_auc = afqi.fit_hyperparams_cv(\n",
    "#     x, y, groups, bias_index=bias_index,\n",
    "#     n_splits=10, n_repeats=3,\n",
    "#     max_evals_per_cv=250,\n",
    "#     score='roc_auc',\n",
    "#     trials_pickle_dir='./trials_classification/cv3x10_v2_rs42_scaled_rocauc',\n",
    "#     verbose=1, random_state=42, clf_threshold=0.5\n",
    "# )"
   ]
  },
  {
   "cell_type": "code",
   "execution_count": 11,
   "metadata": {},
   "outputs": [],
   "source": [
    "cv = hp_cv_res_acc_md_fa[0]"
   ]
  },
  {
   "cell_type": "code",
   "execution_count": 12,
   "metadata": {},
   "outputs": [],
   "source": [
    "def print_results_summary(hp_cv_results):\n",
    "    template = '{stat:15s} {mean:7.5g} ({var:7.5g})'\n",
    "    test = [r.test for r in hp_cv_results]\n",
    "    train = [r.train for r in hp_cv_results]\n",
    "    test_acc = [t.accuracy for t in test]\n",
    "    test_auc = [t.auc for t in test]\n",
    "    test_aps = [t.avg_precision for t in test]\n",
    "    train_acc = [t.accuracy for t in train]\n",
    "    train_auc = [t.auc for t in train]\n",
    "    train_aps = [t.avg_precision for t in train]\n",
    "\n",
    "    print('Statistic         mean   (variance)')\n",
    "    print('--------------  ------- ------------')\n",
    "    print(template.format(stat='test accuracy', mean=np.mean(test_acc), var=np.var(test_acc)))\n",
    "    print(template.format(stat='test AUC', mean=np.mean(test_auc), var=np.var(test_auc)))\n",
    "    print(template.format(stat='test avg prec', mean=np.mean(test_aps), var=np.var(test_aps)))\n",
    "    print(template.format(stat='train accuracy', mean=np.mean(train_acc), var=np.var(train_acc)))\n",
    "    print(template.format(stat='train AUC', mean=np.mean(train_auc), var=np.var(train_auc)))\n",
    "    print(template.format(stat='train avg prec', mean=np.mean(train_aps), var=np.var(train_aps)))"
   ]
  },
  {
   "cell_type": "code",
   "execution_count": 13,
   "metadata": {},
   "outputs": [
    {
     "name": "stdout",
     "output_type": "stream",
     "text": [
      "Statistic         mean   (variance)\n",
      "--------------  ------- ------------\n",
      "test accuracy   0.69167 (0.050532)\n",
      "test AUC        0.78796 (0.057278)\n",
      "test avg prec    0.8637 (0.021222)\n",
      "train accuracy        1 (      0)\n",
      "train AUC             1 (      0)\n",
      "train avg prec        1 (4.9304e-32)\n"
     ]
    }
   ],
   "source": [
    "print_results_summary(hp_cv_res_acc)"
   ]
  },
  {
   "cell_type": "code",
   "execution_count": 14,
   "metadata": {},
   "outputs": [
    {
     "name": "stdout",
     "output_type": "stream",
     "text": [
      "Statistic         mean   (variance)\n",
      "--------------  ------- ------------\n",
      "test accuracy   0.80833 (0.017662)\n",
      "test AUC        0.91204 (0.015951)\n",
      "test avg prec    0.9363 (0.0091373)\n",
      "train accuracy        1 (      0)\n",
      "train AUC             1 (      0)\n",
      "train avg prec        1 (4.9304e-32)\n"
     ]
    }
   ],
   "source": [
    "print_results_summary(hp_cv_res_acc_md_fa)"
   ]
  },
  {
   "cell_type": "raw",
   "metadata": {},
   "source": [
    "**Old Stats (cheating)**\n",
    "Statistic         mean   (variance)\n",
    "--------------  ------- ------------\n",
    "test accuracy      0.85 (0.017778)\n",
    "test AUC        0.91944 (0.0084028)\n",
    "test avg prec   0.93889 (0.0049074)\n",
    "train accuracy  0.99286 (0.00045918)\n",
    "train AUC       0.99796 (3.7484e-05)\n",
    "train avg prec  0.99834 (2.4661e-05)"
   ]
  },
  {
   "cell_type": "code",
   "execution_count": 15,
   "metadata": {},
   "outputs": [],
   "source": [
    "# print_results_summary(hp_cv_res_auc)"
   ]
  },
  {
   "cell_type": "code",
   "execution_count": 16,
   "metadata": {},
   "outputs": [],
   "source": [
    "import pandas as pd"
   ]
  },
  {
   "cell_type": "code",
   "execution_count": 17,
   "metadata": {},
   "outputs": [],
   "source": [
    "test_set_y_hat = pd.concat([\n",
    "    pd.Series(data=afqi.insight._sigmoid(cv.test.x.dot(cv.beta_hat)),\n",
    "              index=cv.test.y.index,\n",
    "              name='yhat')\n",
    "    for cv in hp_cv_res_acc_md_fa\n",
    "]).groupby('subjectID').mean()"
   ]
  },
  {
   "cell_type": "code",
   "execution_count": 18,
   "metadata": {},
   "outputs": [],
   "source": [
    "y_y_hat = pd.concat([y, test_set_y_hat], axis='columns', sort=True)\n",
    "y_y_hat['index'] = np.arange(len(y), dtype=np.int32)\n",
    "y_y_hat.sort_values(['class', 'yhat'], inplace=True)\n",
    "y_y_hat['sorted_index'] = np.arange(len(y_y_hat))"
   ]
  },
  {
   "cell_type": "code",
   "execution_count": 19,
   "metadata": {},
   "outputs": [],
   "source": [
    "import beeswarm as bs"
   ]
  },
  {
   "cell_type": "code",
   "execution_count": 20,
   "metadata": {},
   "outputs": [],
   "source": [
    "list_of_preds = [y_y_hat.loc[y_y_hat['class'] == 0, 'yhat'].values, y_y_hat.loc[y_y_hat['class'] == 1, 'yhat'].values]"
   ]
  },
  {
   "cell_type": "code",
   "execution_count": 21,
   "metadata": {},
   "outputs": [
    {
     "data": {
      "image/png": "[encoded data removed]",
      "text/plain": [
       "<Figure size 432x288 with 1 Axes>"
      ]
     },
     "metadata": {
      "needs_background": "light"
     },
     "output_type": "display_data"
    }
   ],
   "source": [
    "df_bs, ax = bs.beeswarm(list_of_preds, s=23, method='swarm', positions=[0, 0.05], labels=['Control', 'ALS'], col=['blue', 'red'])"
   ]
  },
  {
   "cell_type": "code",
   "execution_count": 22,
   "metadata": {},
   "outputs": [],
   "source": [
    "df_bs.rename(columns=lambda x: 'yhat' if x == 'yorig' else x, inplace=True)\n",
    "df_bs.columns\n",
    "df_bs.sort_values(['xorig', 'yhat'], inplace=True)\n",
    "df_bs['sorted_index'] = np.arange(len(df_bs))"
   ]
  },
  {
   "cell_type": "code",
   "execution_count": 23,
   "metadata": {},
   "outputs": [
    {
     "data": {
      "text/html": [
       "<div>\n",
       "<style scoped>\n",
       "    .dataframe tbody tr th:only-of-type {\n",
       "        vertical-align: middle;\n",
       "    }\n",
       "\n",
       "    .dataframe tbody tr th {\n",
       "        vertical-align: top;\n",
       "    }\n",
       "\n",
       "    .dataframe thead th {\n",
       "        text-align: right;\n",
       "    }\n",
       "</style>\n",
       "<table border=\"1\" class=\"dataframe\">\n",
       "  <thead>\n",
       "    <tr style=\"text-align: right;\">\n",
       "      <th></th>\n",
       "      <th>class</th>\n",
       "      <th>yhat</th>\n",
       "      <th>index</th>\n",
       "      <th>xnew</th>\n",
       "      <th>ynew</th>\n",
       "      <th>color</th>\n",
       "      <th>predicted_class_text</th>\n",
       "    </tr>\n",
       "    <tr>\n",
       "      <th>subjectID</th>\n",
       "      <th></th>\n",
       "      <th></th>\n",
       "      <th></th>\n",
       "      <th></th>\n",
       "      <th></th>\n",
       "      <th></th>\n",
       "      <th></th>\n",
       "    </tr>\n",
       "  </thead>\n",
       "  <tbody>\n",
       "    <tr>\n",
       "      <th>subject_034</th>\n",
       "      <td>0</td>\n",
       "      <td>0.000008</td>\n",
       "      <td>34</td>\n",
       "      <td>0.000000</td>\n",
       "      <td>0.000008</td>\n",
       "      <td>blue</td>\n",
       "      <td>Predicted Control</td>\n",
       "    </tr>\n",
       "    <tr>\n",
       "      <th>subject_040</th>\n",
       "      <td>0</td>\n",
       "      <td>0.000910</td>\n",
       "      <td>40</td>\n",
       "      <td>0.004653</td>\n",
       "      <td>0.000910</td>\n",
       "      <td>blue</td>\n",
       "      <td>Predicted Control</td>\n",
       "    </tr>\n",
       "    <tr>\n",
       "      <th>subject_028</th>\n",
       "      <td>0</td>\n",
       "      <td>0.001113</td>\n",
       "      <td>28</td>\n",
       "      <td>-0.004652</td>\n",
       "      <td>0.001113</td>\n",
       "      <td>blue</td>\n",
       "      <td>Predicted Control</td>\n",
       "    </tr>\n",
       "    <tr>\n",
       "      <th>subject_046</th>\n",
       "      <td>0</td>\n",
       "      <td>0.003852</td>\n",
       "      <td>46</td>\n",
       "      <td>0.009287</td>\n",
       "      <td>0.003852</td>\n",
       "      <td>blue</td>\n",
       "      <td>Predicted Control</td>\n",
       "    </tr>\n",
       "    <tr>\n",
       "      <th>subject_024</th>\n",
       "      <td>0</td>\n",
       "      <td>0.012169</td>\n",
       "      <td>24</td>\n",
       "      <td>-0.008987</td>\n",
       "      <td>0.012169</td>\n",
       "      <td>blue</td>\n",
       "      <td>Predicted Control</td>\n",
       "    </tr>\n",
       "  </tbody>\n",
       "</table>\n",
       "</div>"
      ],
      "text/plain": [
       "             class      yhat  index      xnew      ynew color  \\\n",
       "subjectID                                                       \n",
       "subject_034      0  0.000008     34  0.000000  0.000008  blue   \n",
       "subject_040      0  0.000910     40  0.004653  0.000910  blue   \n",
       "subject_028      0  0.001113     28 -0.004652  0.001113  blue   \n",
       "subject_046      0  0.003852     46  0.009287  0.003852  blue   \n",
       "subject_024      0  0.012169     24 -0.008987  0.012169  blue   \n",
       "\n",
       "            predicted_class_text  \n",
       "subjectID                         \n",
       "subject_034    Predicted Control  \n",
       "subject_040    Predicted Control  \n",
       "subject_028    Predicted Control  \n",
       "subject_046    Predicted Control  \n",
       "subject_024    Predicted Control  "
      ]
     },
     "execution_count": 23,
     "metadata": {},
     "output_type": "execute_result"
    }
   ],
   "source": [
    "df_yhat = y_y_hat.join(df_bs, on='sorted_index', rsuffix='_bs')\n",
    "df_yhat.drop(['sorted_index', 'sorted_index_bs', 'xorig', 'yhat_bs'], axis='columns', inplace=True)\n",
    "df_yhat['predicted_class_text'] = df_yhat['yhat'].map(lambda x: 'Predicted ALS' if x > 0.5 else 'Predicted Control')\n",
    "df_yhat.loc[df_yhat['yhat'] <= 0.5, 'color'] = 'blue'\n",
    "df_yhat.loc[df_yhat['yhat'] > 0.5, 'color'] = 'red'\n",
    "df_yhat.head()"
   ]
  },
  {
   "cell_type": "code",
   "execution_count": 24,
   "metadata": {},
   "outputs": [
    {
     "data": {
      "text/html": [
       "\n",
       "\n",
       "\n",
       "\n",
       "\n",
       "\n",
       "  <div class=\"bk-root\" id=\"2d5a817b-f481-4d41-8f5d-3ec1f3bfe69b\" data-root-id=\"1002\"></div>\n"
      ]
     },
     "metadata": {},
     "output_type": "display_data"
    },
    {
     "data": {
      "application/javascript": [
       "(function(root) {\n",
       "  function embed_document(root) {\n",
       "    \n",
       "  var docs_json = {\"2bde4e60-cda8-4f3a-a38d-32b9f9bcb1d3\":{\"roots\":{\"references\":[{\"attributes\":{\"below\":[{\"id\":\"1011\",\"type\":\"LinearAxis\"}],\"center\":[{\"id\":\"1015\",\"type\":\"Grid\"},{\"id\":\"1020\",\"type\":\"Grid\"},{\"id\":\"1038\",\"type\":\"Legend\"}],\"left\":[{\"id\":\"1016\",\"type\":\"LinearAxis\"}],\"renderers\":[{\"id\":\"1030\",\"type\":\"GlyphRenderer\"},{\"id\":\"1043\",\"type\":\"GlyphRenderer\"}],\"title\":{\"id\":\"1024\",\"type\":\"Title\"},\"toolbar\":{\"id\":\"1022\",\"type\":\"Toolbar\"},\"toolbar_location\":\"above\",\"x_range\":{\"id\":\"1003\",\"type\":\"Range1d\"},\"x_scale\":{\"id\":\"1007\",\"type\":\"LinearScale\"},\"y_range\":{\"id\":\"1025\",\"type\":\"Range1d\"},\"y_scale\":{\"id\":\"1009\",\"type\":\"LinearScale\"}},\"id\":\"1002\",\"subtype\":\"Figure\",\"type\":\"Plot\"},{\"attributes\":{\"data_source\":{\"id\":\"1040\",\"type\":\"ColumnDataSource\"},\"glyph\":{\"id\":\"1041\",\"type\":\"Line\"},\"hover_glyph\":null,\"muted_glyph\":null,\"nonselection_glyph\":{\"id\":\"1042\",\"type\":\"Line\"},\"selection_glyph\":null,\"view\":{\"id\":\"1044\",\"type\":\"CDSView\"}},\"id\":\"1043\",\"type\":\"GlyphRenderer\"},{\"attributes\":{\"dimension\":1,\"ticker\":{\"id\":\"1017\",\"type\":\"BasicTicker\"}},\"id\":\"1020\",\"type\":\"Grid\"},{\"attributes\":{\"source\":{\"id\":\"1040\",\"type\":\"ColumnDataSource\"}},\"id\":\"1044\",\"type\":\"CDSView\"},{\"attributes\":{},\"id\":\"1021\",\"type\":\"SaveTool\"},{\"attributes\":{\"callback\":null,\"data\":{\"x\":[-0.015,0.06],\"y\":[0.5,0.5]},\"selected\":{\"id\":\"1057\",\"type\":\"Selection\"},\"selection_policy\":{\"id\":\"1058\",\"type\":\"UnionRenderers\"}},\"id\":\"1040\",\"type\":\"ColumnDataSource\"},{\"attributes\":{\"callback\":null,\"renderers\":[{\"id\":\"1030\",\"type\":\"GlyphRenderer\"}],\"tooltips\":[[\"Subject\",\"@index\"],[\"P(ALS)\",\"@yhat\"]]},\"id\":\"1045\",\"type\":\"HoverTool\"},{\"attributes\":{\"active_drag\":\"auto\",\"active_inspect\":\"auto\",\"active_multi\":null,\"active_scroll\":\"auto\",\"active_tap\":\"auto\",\"tools\":[{\"id\":\"1021\",\"type\":\"SaveTool\"},{\"id\":\"1045\",\"type\":\"HoverTool\"}]},\"id\":\"1022\",\"type\":\"Toolbar\"},{\"attributes\":{\"ticks\":[0,0.05]},\"id\":\"1047\",\"type\":\"FixedTicker\"},{\"attributes\":{},\"id\":\"1055\",\"type\":\"Selection\"},{\"attributes\":{},\"id\":\"1056\",\"type\":\"UnionRenderers\"},{\"attributes\":{\"source\":{\"id\":\"1026\",\"type\":\"ColumnDataSource\"}},\"id\":\"1031\",\"type\":\"CDSView\"},{\"attributes\":{\"items\":[{\"id\":\"1039\",\"type\":\"LegendItem\"}],\"location\":\"bottom_right\"},\"id\":\"1038\",\"type\":\"Legend\"},{\"attributes\":{},\"id\":\"1057\",\"type\":\"Selection\"},{\"attributes\":{\"fill_color\":{\"field\":\"color\"},\"line_color\":{\"field\":\"color\"},\"size\":{\"units\":\"screen\",\"value\":15},\"x\":{\"field\":\"xnew\"},\"y\":{\"field\":\"ynew\"}},\"id\":\"1028\",\"type\":\"Circle\"},{\"attributes\":{},\"id\":\"1034\",\"type\":\"BasicTickFormatter\"},{\"attributes\":{\"text\":\"A\",\"text_font_size\":{\"value\":\"16pt\"}},\"id\":\"1024\",\"type\":\"Title\"},{\"attributes\":{\"callback\":null,\"data\":{\"class\":[0,0,0,0,0,0,0,0,0,0,0,0,0,0,0,0,0,0,0,0,0,0,0,0,1,1,1,1,1,1,1,1,1,1,1,1,1,1,1,1,1,1,1,1,1,1,1,1],\"color\":[\"blue\",\"blue\",\"blue\",\"blue\",\"blue\",\"blue\",\"blue\",\"blue\",\"blue\",\"blue\",\"blue\",\"blue\",\"blue\",\"blue\",\"blue\",\"blue\",\"blue\",\"blue\",\"blue\",\"blue\",\"blue\",\"red\",\"red\",\"red\",\"blue\",\"blue\",\"blue\",\"blue\",\"red\",\"red\",\"red\",\"red\",\"red\",\"red\",\"red\",\"red\",\"red\",\"red\",\"red\",\"red\",\"red\",\"red\",\"red\",\"red\",\"red\",\"red\",\"red\",\"red\"],\"index\":{\"__ndarray__\":\"IgAAACgAAAAcAAAALgAAABgAAAAdAAAALQAAACkAAAArAAAAJwAAAB8AAAAZAAAALAAAACEAAAAlAAAALwAAACoAAAAmAAAAHgAAABsAAAAaAAAAIwAAACAAAAAkAAAAEAAAAAUAAAAHAAAACwAAABYAAAATAAAADwAAAAMAAAAIAAAAAgAAAAQAAAANAAAADAAAAAkAAAAXAAAAEgAAAA4AAAAAAAAAEQAAABQAAAAGAAAACgAAAAEAAAAVAAAA\",\"dtype\":\"int32\",\"shape\":[48]},\"predicted_class_text\":[\"Predicted Control\",\"Predicted Control\",\"Predicted Control\",\"Predicted Control\",\"Predicted Control\",\"Predicted Control\",\"Predicted Control\",\"Predicted Control\",\"Predicted Control\",\"Predicted Control\",\"Predicted Control\",\"Predicted Control\",\"Predicted Control\",\"Predicted Control\",\"Predicted Control\",\"Predicted Control\",\"Predicted Control\",\"Predicted Control\",\"Predicted Control\",\"Predicted Control\",\"Predicted Control\",\"Predicted ALS\",\"Predicted ALS\",\"Predicted ALS\",\"Predicted Control\",\"Predicted Control\",\"Predicted Control\",\"Predicted Control\",\"Predicted ALS\",\"Predicted ALS\",\"Predicted ALS\",\"Predicted ALS\",\"Predicted ALS\",\"Predicted ALS\",\"Predicted ALS\",\"Predicted ALS\",\"Predicted ALS\",\"Predicted ALS\",\"Predicted ALS\",\"Predicted ALS\",\"Predicted ALS\",\"Predicted ALS\",\"Predicted ALS\",\"Predicted ALS\",\"Predicted ALS\",\"Predicted ALS\",\"Predicted ALS\",\"Predicted ALS\"],\"subjectID\":[\"subject_034\",\"subject_040\",\"subject_028\",\"subject_046\",\"subject_024\",\"subject_029\",\"subject_045\",\"subject_041\",\"subject_043\",\"subject_039\",\"subject_031\",\"subject_025\",\"subject_044\",\"subject_033\",\"subject_037\",\"subject_047\",\"subject_042\",\"subject_038\",\"subject_030\",\"subject_027\",\"subject_026\",\"subject_035\",\"subject_032\",\"subject_036\",\"subject_016\",\"subject_005\",\"subject_007\",\"subject_011\",\"subject_022\",\"subject_019\",\"subject_015\",\"subject_003\",\"subject_008\",\"subject_002\",\"subject_004\",\"subject_013\",\"subject_012\",\"subject_009\",\"subject_023\",\"subject_018\",\"subject_014\",\"subject_000\",\"subject_017\",\"subject_020\",\"subject_006\",\"subject_010\",\"subject_001\",\"subject_021\"],\"xnew\":{\"__ndarray__\":\"AAAAAAAAAADbBXgObw9zP1FQ3d5ZDnO/QFrXgAAFgz9wgKJ38GeCv41zFJTu74u/e98oW9e6iz9/dqO3LJqSP+BUCrN7bpK/Vx5sx5MJYD+bTOnedW5kvwAAAAAAAAAAy0PMAwcNYD8AAAAAAAAAAAAAAAAAAAAAVnu63OCCcT8AAAAAAAAAAAAAAAAAAAAAvMXxuvWCaT8AAAAAAAAAALX36ikP8nI/AAAAAAAAAAAAAAAAAAAAAAAAAAAAAAAAmpmZmZmZqT9RKVjIyd+rP5qZmZmZmak/mpmZmZmZqT+amZmZmZmpP5qZmZmZmak/mpmZmZmZqT+amZmZmZmpP0QwqyUUDao/mpmZmZmZqT+Hi8cJPIqrP5qZmZmZmak/mpmZmZmZqT+ugjdnffGrP8JdpbJJrKg/t2Xyy9b0qj+amZmZmZmpP+9ho3Zyzqs/j2MWR899pz82KH7crxulPz9oqPUnLa4/v2uJun25oj/vgwlcnkewP8IJMSqrV6A/\",\"dtype\":\"float64\",\"shape\":[48]},\"yhat\":{\"__ndarray__\":\"bxGtS+KP4D7toCvj+dFNPx4bPzixPFI/e8GwyTqNbz9BxfcH+euIP3820YwwhIo/uTQIuiuSkD/KDvTwcgqUP93SRHAXLJg/fH5HG6UtnD8TlvYdg6GiP0tjDNv04b0/ue/5IkN2wj+tvHQ5bCLQP4gOqHZPltM/cw9HEPRa1D9ZiSbiDanWP2tErD31Hdo/v0Cu0zmP2z+nCoo/odXdPxx/+qwBDt4/sMqN2YIS6D+oHGjGgUXqP/BuA9AEsO0/+Tm+BVWEjz+kvV5zxw6ZP8HkJNpDKtU/lPdep3ex3D85T8oEkTLgP9MLqcevMeM/dLamPWeU5T85kq6OgfDoP5Tl3KVo5Ok/+GGCWR3w6j9cOgtgb4DrP+R9ZedaIew/fceYq+hR7T8JJR4eYH/tP5sUn+2+Nu4/6Y7h5AB+7j/XLeu0Mn3vP8EfQicr2+8/QMiNggfx7z+NNlVf9/TvP/OXQr2y9e8/2bAk/8/17z/AoI+ylvrvP7F1z3mK/u8/\",\"dtype\":\"float64\",\"shape\":[48]},\"ynew\":{\"__ndarray__\":\"bxGtS+KP4D7toCvj+dFNPx4bPzixPFI/e8GwyTqNbz9BxfcH+euIP3820YwwhIo/uTQIuiuSkD/KDvTwcgqUP93SRHAXLJg/fH5HG6UtnD8TlvYdg6GiP0tjDNv04b0/ue/5IkN2wj+tvHQ5bCLQP4gOqHZPltM/cw9HEPRa1D9ZiSbiDanWP2tErD31Hdo/v0Cu0zmP2z+nCoo/odXdPxx/+qwBDt4/sMqN2YIS6D+oHGjGgUXqP/BuA9AEsO0/+Tm+BVWEjz+kvV5zxw6ZP8HkJNpDKtU/lPdep3ex3D85T8oEkTLgP9MLqcevMeM/dLamPWeU5T85kq6OgfDoP5Tl3KVo5Ok/+GGCWR3w6j9cOgtgb4DrP+R9ZedaIew/fceYq+hR7T8JJR4eYH/tP5sUn+2+Nu4/6Y7h5AB+7j/XLeu0Mn3vP8EfQicr2+8/QMiNggfx7z+NNlVf9/TvP/OXQr2y9e8/2bAk/8/17z/AoI+ylvrvP7F1z3mK/u8/\",\"dtype\":\"float64\",\"shape\":[48]}},\"selected\":{\"id\":\"1055\",\"type\":\"Selection\"},\"selection_policy\":{\"id\":\"1056\",\"type\":\"UnionRenderers\"}},\"id\":\"1026\",\"type\":\"ColumnDataSource\"},{\"attributes\":{},\"id\":\"1058\",\"type\":\"UnionRenderers\"},{\"attributes\":{\"callback\":null},\"id\":\"1025\",\"type\":\"Range1d\"},{\"attributes\":{\"callback\":null,\"end\":0.06,\"start\":-0.015},\"id\":\"1003\",\"type\":\"Range1d\"},{\"attributes\":{},\"id\":\"1036\",\"type\":\"BasicTickFormatter\"},{\"attributes\":{\"data_source\":{\"id\":\"1026\",\"type\":\"ColumnDataSource\"},\"glyph\":{\"id\":\"1028\",\"type\":\"Circle\"},\"hover_glyph\":null,\"muted_glyph\":null,\"nonselection_glyph\":{\"id\":\"1029\",\"type\":\"Circle\"},\"selection_glyph\":null,\"view\":{\"id\":\"1031\",\"type\":\"CDSView\"}},\"id\":\"1030\",\"type\":\"GlyphRenderer\"},{\"attributes\":{},\"id\":\"1007\",\"type\":\"LinearScale\"},{\"attributes\":{\"fill_alpha\":{\"value\":0.1},\"fill_color\":{\"value\":\"#1f77b4\"},\"line_alpha\":{\"value\":0.1},\"line_color\":{\"value\":\"#1f77b4\"},\"size\":{\"units\":\"screen\",\"value\":15},\"x\":{\"field\":\"xnew\"},\"y\":{\"field\":\"ynew\"}},\"id\":\"1029\",\"type\":\"Circle\"},{\"attributes\":{},\"id\":\"1009\",\"type\":\"LinearScale\"},{\"attributes\":{\"axis_label\":\"Class\",\"axis_label_text_font_size\":{\"value\":\"16pt\"},\"formatter\":{\"id\":\"1036\",\"type\":\"BasicTickFormatter\"},\"major_label_overrides\":{\"0\":\"Control\",\"0.05\":\"ALS\"},\"major_label_text_font_size\":{\"value\":\"14pt\"},\"minor_tick_line_color\":{\"value\":null},\"ticker\":{\"id\":\"1047\",\"type\":\"FixedTicker\"}},\"id\":\"1011\",\"type\":\"LinearAxis\"},{\"attributes\":{\"label\":{\"field\":\"predicted_class_text\"},\"renderers\":[{\"id\":\"1030\",\"type\":\"GlyphRenderer\"}]},\"id\":\"1039\",\"type\":\"LegendItem\"},{\"attributes\":{},\"id\":\"1012\",\"type\":\"BasicTicker\"},{\"attributes\":{\"ticker\":{\"id\":\"1012\",\"type\":\"BasicTicker\"}},\"id\":\"1015\",\"type\":\"Grid\"},{\"attributes\":{\"line_dash\":[6],\"line_width\":2,\"x\":{\"field\":\"x\"},\"y\":{\"field\":\"y\"}},\"id\":\"1041\",\"type\":\"Line\"},{\"attributes\":{\"axis_label\":\"Classification Probability\",\"axis_label_text_font_size\":{\"value\":\"16pt\"},\"formatter\":{\"id\":\"1034\",\"type\":\"BasicTickFormatter\"},\"major_label_text_font_size\":{\"value\":\"14pt\"},\"ticker\":{\"id\":\"1017\",\"type\":\"BasicTicker\"}},\"id\":\"1016\",\"type\":\"LinearAxis\"},{\"attributes\":{\"line_alpha\":0.1,\"line_color\":\"#1f77b4\",\"line_dash\":[6],\"line_width\":2,\"x\":{\"field\":\"x\"},\"y\":{\"field\":\"y\"}},\"id\":\"1042\",\"type\":\"Line\"},{\"attributes\":{},\"id\":\"1017\",\"type\":\"BasicTicker\"}],\"root_ids\":[\"1002\"]},\"title\":\"Bokeh Application\",\"version\":\"1.1.0\"}};\n",
       "  var render_items = [{\"docid\":\"2bde4e60-cda8-4f3a-a38d-32b9f9bcb1d3\",\"roots\":{\"1002\":\"2d5a817b-f481-4d41-8f5d-3ec1f3bfe69b\"}}];\n",
       "  root.Bokeh.embed.embed_items_notebook(docs_json, render_items);\n",
       "\n",
       "  }\n",
       "  if (root.Bokeh !== undefined) {\n",
       "    embed_document(root);\n",
       "  } else {\n",
       "    var attempts = 0;\n",
       "    var timer = setInterval(function(root) {\n",
       "      if (root.Bokeh !== undefined) {\n",
       "        embed_document(root);\n",
       "        clearInterval(timer);\n",
       "      }\n",
       "      attempts++;\n",
       "      if (attempts > 100) {\n",
       "        console.log(\"Bokeh: ERROR: Unable to run BokehJS code because BokehJS library is missing\");\n",
       "        clearInterval(timer);\n",
       "      }\n",
       "    }, 10, root)\n",
       "  }\n",
       "})(window);"
      ],
      "application/vnd.bokehjs_exec.v0+json": ""
     },
     "metadata": {
      "application/vnd.bokehjs_exec.v0+json": {
       "id": "1002"
      }
     },
     "output_type": "display_data"
    }
   ],
   "source": [
    "width=600\n",
    "height=600\n",
    "p = figure(plot_width=width, plot_height=height, toolbar_location='above',\n",
    "           tools=\"save\", x_range=(-0.015, 0.06))\n",
    "p.title.text = 'A'\n",
    "\n",
    "p.y_range = Range1d(0, 1)\n",
    "\n",
    "source = ColumnDataSource(data=df_yhat)\n",
    "\n",
    "c0 = p.circle(source=source, x='xnew', y='ynew',\n",
    "              size=15, legend='predicted_class_text', color='color')\n",
    "\n",
    "l = p.line(x=[-0.015, 0.06], y=[0.5, 0.5], line_width=2, color='black', line_dash='dashed')\n",
    "hover = HoverTool(\n",
    "    tooltips=[(\"Subject\", \"@index\"),\n",
    "              (\"P(ALS)\", \"@yhat\")],\n",
    "    renderers=[c0]\n",
    ")\n",
    "hover.point_policy = 'snap_to_data'\n",
    "hover.line_policy = 'nearest'\n",
    "\n",
    "p.add_tools(hover)\n",
    "p.legend.location = 'bottom_right'\n",
    "\n",
    "p.xaxis.axis_label = \"Class\"\n",
    "p.xaxis.ticker = FixedTicker(ticks=[0, 0.05])\n",
    "p.xaxis.major_label_overrides = {0: 'Control', 0.05: 'ALS'}\n",
    "p.xaxis.major_label_text_font_size = \"14pt\"\n",
    "p.xaxis.minor_tick_line_color = None  # turn off x-axis minor ticks\n",
    "#p.xaxis.major_label_text_font_size = '0pt'  # turn off x-axis tick labels\n",
    "p.yaxis.axis_label = \"Classification Probability\"\n",
    "p.title.text_font_size = \"16pt\"\n",
    "p.xaxis.axis_label_text_font_size = \"16pt\"\n",
    "p.yaxis.axis_label_text_font_size = \"16pt\"\n",
    "p.yaxis.major_label_text_font_size = \"14pt\"\n",
    "\n",
    "# output_html = \"../docs/img/bokeh_plots/classification_probs_acc_small.html\"\n",
    "# if output_html is not None:\n",
    "#     html = file_html(p, CDN, \"my plot\")\n",
    "#     with open(op.abspath(output_html), 'w') as fp:\n",
    "#         fp.write(html)\n",
    "show(p)"
   ]
  },
  {
   "cell_type": "code",
   "execution_count": null,
   "metadata": {},
   "outputs": [],
   "source": []
  },
  {
   "cell_type": "code",
   "execution_count": 25,
   "metadata": {},
   "outputs": [],
   "source": [
    "width=175\n",
    "height=200\n",
    "p = figure(plot_width=width, plot_height=height, toolbar_location='above',\n",
    "           tools=\"\")\n",
    "p.title.text = 'Test split classification probabilities'\n",
    "\n",
    "p.y_range = Range1d(0, 1)\n",
    "\n",
    "source = ColumnDataSource(data=df_yhat)\n",
    "\n",
    "c0 = p.circle(source=source, x='xnew', y='ynew',\n",
    "              size=7, color='color')\n",
    "\n",
    "hover = HoverTool(\n",
    "    tooltips=[(\"Subject\", \"@index\"),\n",
    "              (\"P(ALS)\", \"@yhat\")],\n",
    "    renderers=[c0]\n",
    ")\n",
    "hover.point_policy = 'snap_to_data'\n",
    "hover.line_policy = 'nearest'\n",
    "\n",
    "p.add_tools(hover)\n",
    "#p.legend.location = 'bottom_right'\n",
    "\n",
    "p.xaxis.axis_label = \"Class\"\n",
    "p.xaxis.ticker = FixedTicker(ticks=[0, 0.05])\n",
    "p.xaxis.major_label_overrides = {0: 'Control', 0.05: 'ALS'}\n",
    "p.xaxis.minor_tick_line_color = None  # turn off x-axis minor ticks\n",
    "#p.xaxis.major_label_text_font_size = '0pt'  # turn off x-axis tick labels\n",
    "p.yaxis.axis_label = \"Classification Probability\"\n",
    "p.title.text_font_size = \"4pt\"\n",
    "p.xaxis.axis_label_text_font_size = \"8pt\"\n",
    "p.yaxis.axis_label_text_font_size = \"8pt\"\n",
    "\n",
    "output_html = \"../docs/img/bokeh_plots/classification_probs_acc_tiny.html\"\n",
    "if output_html is not None:\n",
    "    html = file_html(p, CDN, \"my plot\")\n",
    "    with open(op.abspath(output_html), 'w') as fp:\n",
    "        fp.write(html)\n",
    "# show(p)"
   ]
  },
  {
   "cell_type": "markdown",
   "metadata": {},
   "source": [
    "Using the hover tool on the chart above, we can see that subjects 05, 16, 19, 32, 35, 36 are all hard to classify (i.e. they are closer to the classification threshold of 0.5). We should fire up the AFQ browser and look at how these subjects compare to the rest of the subjects in their group.\n",
    "\n",
    "Here are links to a running instance of AFQ-Browser with the hard to classify subjects:\n",
    "- [False negatives](https://yeatmanlab.github.io/Sarica_2017/?table[prevSort][count]=2&table[prevSort][order]=ascending&table[prevSort][key]=&table[sort][count]=2&table[sort][order]=ascending&table[sort][key]=class&table[selectedRows][subject_005]=true&table[selectedRows][subject_016]=true&table[selectedRows][subject_019]=true&table[selectedRows][subject_030]=false&table[selectedRows][subject_032]=false&table[selectedRows][subject_035]=false&table[selectedRows][subject_036]=false&plots[checkboxes][right-corticospinal]=true&plots[zoom][rd][scale]=1&plots[zoom][rd][translate][0]=-3&plots[zoom][rd][translate][1]=-21&plots[zoom][fa][scale]=2.1140360811227614&plots[zoom][fa][translate][0]=-27.244995845837778&plots[zoom][fa][translate][1]=-106.10468474511174&plots[plotKey]=fa&plots[errorType]=stderr&plots[lineOpacity]=0.0)\n",
    "- [False positives](https://yeatmanlab.github.io/Sarica_2017/?table[prevSort][count]=2&table[prevSort][order]=ascending&table[prevSort][key]=&table[sort][count]=2&table[sort][order]=ascending&table[sort][key]=class&table[selectedRows][subject_005]=false&table[selectedRows][subject_007]=false&table[selectedRows][subject_016]=false&table[selectedRows][subject_019]=false&table[selectedRows][subject_032]=true&table[selectedRows][subject_035]=true&table[selectedRows][subject_036]=true&plots[checkboxes][right-corticospinal]=true&plots[zoom][rd][scale]=1&plots[zoom][rd][translate][0]=-3&plots[zoom][rd][translate][1]=-21&plots[zoom][fa][scale]=2.1140360811227614&plots[zoom][fa][translate][0]=-27.244995845837778&plots[zoom][fa][translate][1]=-106.10468474511174&plots[plotKey]=fa&plots[errorType]=stderr&plots[lineOpacity]=0.0)"
   ]
  },
  {
   "cell_type": "markdown",
   "metadata": {},
   "source": [
    "# Feature Importance"
   ]
  },
  {
   "cell_type": "markdown",
   "metadata": {},
   "source": [
    "Let's sort the features by their importance"
   ]
  },
  {
   "cell_type": "code",
   "execution_count": 26,
   "metadata": {},
   "outputs": [],
   "source": [
    "columns_md_fa = columns.drop(['ad', 'cl', 'curvature', 'rd', 'torsion', 'volume'], level=0)\n",
    "columns_md_fa = columns_md_fa.remove_unused_levels()"
   ]
  },
  {
   "cell_type": "code",
   "execution_count": 69,
   "metadata": {},
   "outputs": [],
   "source": [
    "feature_dicts = afqi.multicol2dicts(columns_md_fa, tract_symmetry=False)\n",
    "mean_beta = np.mean(np.array([np.delete(res.beta_hat, 4000) for res in hp_cv_res_acc_md_fa]),\n",
    "                    axis=0)\n",
    "\n",
    "var_beta = np.std(np.array([np.delete(res.beta_hat, 4000) for res in hp_cv_res_acc_md_fa]),\n",
    "                    axis=0)\n",
    "\n",
    "sorted_features = afqi.sort_features(feature_dicts, mean_beta)"
   ]
  },
  {
   "cell_type": "markdown",
   "metadata": {},
   "source": [
    "It's nice to see the top few features in a sorted list, but let's plot the features to get a feel for their distributions"
   ]
  },
  {
   "cell_type": "code",
   "execution_count": 70,
   "metadata": {},
   "outputs": [],
   "source": [
    "betas_by_group = afqi.beta_hat_by_groups(mean_beta, columns=columns_md_fa, drop_zeros=True)\n",
    "betas_by_group_var = afqi.beta_hat_by_groups(var_beta, columns=columns_md_fa, drop_zeros=True)"
   ]
  },
  {
   "cell_type": "markdown",
   "metadata": {},
   "source": [
    "First let's plot the coefficients themselves"
   ]
  },
  {
   "cell_type": "code",
   "execution_count": 79,
   "metadata": {},
   "outputs": [],
   "source": [
    "unfolded_beta = afqi.transform.unfold_beta_hat_by_metrics(\n",
    "    beta_hat=mean_beta,\n",
    "    columns=columns_md_fa\n",
    ")\n",
    "\n",
    "unfolded_beta_std = afqi.transform.unfold_beta_hat_by_metrics(\n",
    "    beta_hat=var_beta,\n",
    "    columns=columns_md_fa\n",
    ")"
   ]
  },
  {
   "cell_type": "code",
   "execution_count": 82,
   "metadata": {},
   "outputs": [],
   "source": [
    "unfolded_beta_with_err = {\n",
    "    'fa': unfolded_beta['fa'],\n",
    "    'fa_hi': unfolded_beta['fa'] + unfolded_beta_std['fa'],\n",
    "    'fa_lo': unfolded_beta['fa'] - unfolded_beta_std['fa'],\n",
    "    'md': unfolded_beta['md'],\n",
    "    'md_hi': unfolded_beta['md'] + unfolded_beta_std['md'],\n",
    "    'md_lo': unfolded_beta['md'] - unfolded_beta_std['md'],\n",
    "}"
   ]
  },
  {
   "cell_type": "code",
   "execution_count": 86,
   "metadata": {},
   "outputs": [
    {
     "data": {
      "text/html": [
       "\n",
       "\n",
       "\n",
       "\n",
       "\n",
       "\n",
       "  <div class=\"bk-root\" id=\"878dfb43-cda3-458b-b08a-4e8d084cc889\" data-root-id=\"1856\"></div>\n"
      ]
     },
     "metadata": {},
     "output_type": "display_data"
    },
    {
     "data": {
      "application/javascript": [
       "(function(root) {\n",
       "  function embed_document(root) {\n",
       "    \n",
       "  var docs_json = {\"57a5a459-733b-4f50-858d-e7b7d57a2994\":{\"roots\":{\"references\":[{\"attributes\":{\"below\":[{\"id\":\"1865\",\"type\":\"LinearAxis\"}],\"center\":[{\"id\":\"1869\",\"type\":\"Grid\"},{\"id\":\"1874\",\"type\":\"Grid\"},{\"id\":\"1882\",\"type\":\"BoxAnnotation\"},{\"id\":\"1883\",\"type\":\"Label\"},{\"id\":\"1884\",\"type\":\"BoxAnnotation\"},{\"id\":\"1885\",\"type\":\"Label\"},{\"id\":\"1886\",\"type\":\"BoxAnnotation\"},{\"id\":\"1887\",\"type\":\"Label\"},{\"id\":\"1888\",\"type\":\"BoxAnnotation\"},{\"id\":\"1889\",\"type\":\"Label\"},{\"id\":\"1890\",\"type\":\"BoxAnnotation\"},{\"id\":\"1891\",\"type\":\"Label\"},{\"id\":\"1892\",\"type\":\"BoxAnnotation\"},{\"id\":\"1893\",\"type\":\"Label\"},{\"id\":\"1894\",\"type\":\"BoxAnnotation\"},{\"id\":\"1895\",\"type\":\"Label\"},{\"id\":\"1896\",\"type\":\"BoxAnnotation\"},{\"id\":\"1897\",\"type\":\"Label\"},{\"id\":\"1898\",\"type\":\"BoxAnnotation\"},{\"id\":\"1899\",\"type\":\"Label\"},{\"id\":\"1900\",\"type\":\"BoxAnnotation\"},{\"id\":\"1901\",\"type\":\"Label\"},{\"id\":\"1902\",\"type\":\"BoxAnnotation\"},{\"id\":\"1903\",\"type\":\"Label\"},{\"id\":\"1904\",\"type\":\"BoxAnnotation\"},{\"id\":\"1905\",\"type\":\"Label\"},{\"id\":\"1906\",\"type\":\"BoxAnnotation\"},{\"id\":\"1907\",\"type\":\"Label\"},{\"id\":\"1908\",\"type\":\"BoxAnnotation\"},{\"id\":\"1909\",\"type\":\"Label\"},{\"id\":\"1910\",\"type\":\"BoxAnnotation\"},{\"id\":\"1911\",\"type\":\"Label\"},{\"id\":\"1912\",\"type\":\"BoxAnnotation\"},{\"id\":\"1913\",\"type\":\"Label\"},{\"id\":\"1914\",\"type\":\"BoxAnnotation\"},{\"id\":\"1915\",\"type\":\"Label\"},{\"id\":\"1916\",\"type\":\"BoxAnnotation\"},{\"id\":\"1917\",\"type\":\"Label\"},{\"id\":\"1918\",\"type\":\"BoxAnnotation\"},{\"id\":\"1919\",\"type\":\"Label\"},{\"id\":\"1920\",\"type\":\"BoxAnnotation\"},{\"id\":\"1921\",\"type\":\"Label\"},{\"id\":\"1922\",\"type\":\"BoxAnnotation\"},{\"id\":\"1923\",\"type\":\"BoxAnnotation\"},{\"id\":\"1924\",\"type\":\"BoxAnnotation\"}],\"left\":[{\"id\":\"1870\",\"type\":\"LinearAxis\"}],\"plot_height\":700,\"plot_width\":1150,\"renderers\":[{\"id\":\"1929\",\"type\":\"GlyphRenderer\"},{\"id\":\"1934\",\"type\":\"GlyphRenderer\"},{\"id\":\"1939\",\"type\":\"GlyphRenderer\"},{\"id\":\"1944\",\"type\":\"GlyphRenderer\"},{\"id\":\"1949\",\"type\":\"GlyphRenderer\"},{\"id\":\"1954\",\"type\":\"GlyphRenderer\"}],\"right\":[{\"id\":\"1965\",\"type\":\"Title\"},{\"id\":\"1958\",\"type\":\"Legend\"}],\"title\":{\"id\":\"1878\",\"type\":\"Title\"},\"toolbar\":{\"id\":\"1876\",\"type\":\"Toolbar\"},\"toolbar_location\":\"above\",\"x_range\":{\"id\":\"1881\",\"type\":\"Range1d\"},\"x_scale\":{\"id\":\"1861\",\"type\":\"LinearScale\"},\"y_range\":{\"id\":\"1859\",\"type\":\"DataRange1d\"},\"y_scale\":{\"id\":\"1863\",\"type\":\"LinearScale\"}},\"id\":\"1856\",\"subtype\":\"Figure\",\"type\":\"Plot\"},{\"attributes\":{\"grid_line_color\":{\"value\":null},\"ticker\":{\"id\":\"1866\",\"type\":\"BasicTicker\"}},\"id\":\"1869\",\"type\":\"Grid\"},{\"attributes\":{\"angle\":1.5707963267948966,\"background_fill_alpha\":{\"value\":0.0},\"border_line_alpha\":{\"value\":0.0},\"text\":\"Callosum Forceps Major\",\"text_baseline\":\"middle\",\"x\":1050.0,\"y\":10,\"y_units\":\"screen\"},\"id\":\"1903\",\"type\":\"Label\"},{\"attributes\":{\"axis_label\":\"\\u03b2\",\"axis_label_text_font_size\":{\"value\":\"18pt\"},\"formatter\":{\"id\":\"2006\",\"type\":\"BasicTickFormatter\"},\"ticker\":{\"id\":\"1871\",\"type\":\"BasicTicker\"}},\"id\":\"1870\",\"type\":\"LinearAxis\"},{\"attributes\":{\"line_color\":\"#1f77b4\",\"x\":{\"field\":\"x\"},\"y\":{\"field\":\"fa_lo\"}},\"id\":\"1937\",\"type\":\"Line\"},{\"attributes\":{\"fill_alpha\":{\"value\":0.15},\"fill_color\":{\"value\":\"#DBDB8D\"},\"left\":1100.0,\"right\":1200.0},\"id\":\"1904\",\"type\":\"BoxAnnotation\"},{\"attributes\":{},\"id\":\"1871\",\"type\":\"BasicTicker\"},{\"attributes\":{\"line_alpha\":0.1,\"line_color\":\"#1f77b4\",\"x\":{\"field\":\"x\"},\"y\":{\"field\":\"fa_lo\"}},\"id\":\"1938\",\"type\":\"Line\"},{\"attributes\":{\"angle\":1.5707963267948966,\"background_fill_alpha\":{\"value\":0.0},\"border_line_alpha\":{\"value\":0.0},\"text\":\"Cingulum Cingulate\",\"text_baseline\":\"middle\",\"x\":1150.0,\"y\":10,\"y_units\":\"screen\"},\"id\":\"1905\",\"type\":\"Label\"},{\"attributes\":{\"dimension\":1,\"ticker\":{\"id\":\"1871\",\"type\":\"BasicTicker\"}},\"id\":\"1874\",\"type\":\"Grid\"},{\"attributes\":{\"data_source\":{\"id\":\"1925\",\"type\":\"ColumnDataSource\"},\"glyph\":{\"id\":\"1937\",\"type\":\"Line\"},\"hover_glyph\":null,\"muted_glyph\":null,\"name\":\"fa\",\"nonselection_glyph\":{\"id\":\"1938\",\"type\":\"Line\"},\"selection_glyph\":null,\"view\":{\"id\":\"1940\",\"type\":\"CDSView\"}},\"id\":\"1939\",\"type\":\"GlyphRenderer\"},{\"attributes\":{\"angle\":1.5707963267948966,\"background_fill_alpha\":{\"value\":0.0},\"border_line_alpha\":{\"value\":0.0},\"text\":\"Corticospinal\",\"text_baseline\":\"middle\",\"x\":1250.0,\"y\":10,\"y_units\":\"screen\"},\"id\":\"1907\",\"type\":\"Label\"},{\"attributes\":{\"active_drag\":\"auto\",\"active_inspect\":\"auto\",\"active_multi\":null,\"active_scroll\":\"auto\",\"active_tap\":\"auto\",\"tools\":[{\"id\":\"1875\",\"type\":\"SaveTool\"},{\"id\":\"1956\",\"type\":\"HoverTool\"}]},\"id\":\"1876\",\"type\":\"Toolbar\"},{\"attributes\":{\"source\":{\"id\":\"1925\",\"type\":\"ColumnDataSource\"}},\"id\":\"1940\",\"type\":\"CDSView\"},{\"attributes\":{},\"id\":\"1875\",\"type\":\"SaveTool\"},{\"attributes\":{\"fill_alpha\":{\"value\":0.15},\"fill_color\":{\"value\":\"#F7B6D2\"},\"left\":1300.0,\"right\":1400.0},\"id\":\"1908\",\"type\":\"BoxAnnotation\"},{\"attributes\":{\"callback\":null,\"end\":2000},\"id\":\"1881\",\"type\":\"Range1d\"},{\"attributes\":{\"angle\":1.5707963267948966,\"background_fill_alpha\":{\"value\":0.0},\"border_line_alpha\":{\"value\":0.0},\"text\":\"Thalamic Radiation\",\"text_baseline\":\"middle\",\"x\":1350.0,\"y\":10,\"y_units\":\"screen\"},\"id\":\"1909\",\"type\":\"Label\"},{\"attributes\":{\"line_color\":\"#ff7f0e\",\"line_width\":3,\"x\":{\"field\":\"x\"},\"y\":{\"field\":\"md\"}},\"id\":\"1942\",\"type\":\"Line\"},{\"attributes\":{\"fill_alpha\":{\"value\":0.15},\"fill_color\":{\"value\":\"#C49C94\"},\"left\":1400.0,\"right\":1500.0},\"id\":\"1910\",\"type\":\"BoxAnnotation\"},{\"attributes\":{\"fill_alpha\":{\"value\":0.15},\"fill_color\":{\"value\":\"#C7C7C7\"},\"left\":1200.0,\"right\":1300.0},\"id\":\"1906\",\"type\":\"BoxAnnotation\"},{\"attributes\":{\"line_alpha\":0.1,\"line_color\":\"#1f77b4\",\"line_width\":3,\"x\":{\"field\":\"x\"},\"y\":{\"field\":\"md\"}},\"id\":\"1943\",\"type\":\"Line\"},{\"attributes\":{\"angle\":1.5707963267948966,\"background_fill_alpha\":{\"value\":0.0},\"border_line_alpha\":{\"value\":0.0},\"text\":\"Cingulum Hippocampus\",\"text_baseline\":\"middle\",\"x\":1450.0,\"y\":10,\"y_units\":\"screen\"},\"id\":\"1911\",\"type\":\"Label\"},{\"attributes\":{\"data_source\":{\"id\":\"1925\",\"type\":\"ColumnDataSource\"},\"glyph\":{\"id\":\"1942\",\"type\":\"Line\"},\"hover_glyph\":null,\"muted_glyph\":null,\"name\":\"md\",\"nonselection_glyph\":{\"id\":\"1943\",\"type\":\"Line\"},\"selection_glyph\":null,\"view\":{\"id\":\"1945\",\"type\":\"CDSView\"}},\"id\":\"1944\",\"type\":\"GlyphRenderer\"},{\"attributes\":{},\"id\":\"2006\",\"type\":\"BasicTickFormatter\"},{\"attributes\":{\"fill_alpha\":{\"value\":0.15},\"fill_color\":{\"value\":\"#C5B0D5\"},\"left\":1500.0,\"right\":1600.0},\"id\":\"1912\",\"type\":\"BoxAnnotation\"},{\"attributes\":{\"source\":{\"id\":\"1925\",\"type\":\"ColumnDataSource\"}},\"id\":\"1945\",\"type\":\"CDSView\"},{\"attributes\":{\"angle\":1.5707963267948966,\"background_fill_alpha\":{\"value\":0.0},\"border_line_alpha\":{\"value\":0.0},\"text\":\"Arcuate\",\"text_baseline\":\"middle\",\"x\":50.0,\"y\":10,\"y_units\":\"screen\"},\"id\":\"1883\",\"type\":\"Label\"},{\"attributes\":{\"angle\":1.5707963267948966,\"background_fill_alpha\":{\"value\":0.0},\"border_line_alpha\":{\"value\":0.0},\"text\":\"IFOF\",\"text_baseline\":\"middle\",\"x\":1550.0,\"y\":10,\"y_units\":\"screen\"},\"id\":\"1913\",\"type\":\"Label\"},{\"attributes\":{\"fill_alpha\":{\"value\":0.15},\"fill_color\":{\"value\":\"#FF9896\"},\"left\":1600.0,\"right\":1700.0},\"id\":\"1914\",\"type\":\"BoxAnnotation\"},{\"attributes\":{\"line_color\":\"#ff7f0e\",\"x\":{\"field\":\"x\"},\"y\":{\"field\":\"md_hi\"}},\"id\":\"1947\",\"type\":\"Line\"},{\"attributes\":{\"fill_alpha\":{\"value\":0.15},\"fill_color\":{\"value\":\"#FFBB78\"},\"left\":100.0,\"right\":200.0},\"id\":\"1884\",\"type\":\"BoxAnnotation\"},{\"attributes\":{\"angle\":1.5707963267948966,\"background_fill_alpha\":{\"value\":0.0},\"border_line_alpha\":{\"value\":0.0},\"text\":\"ILF\",\"text_baseline\":\"middle\",\"x\":1650.0,\"y\":10,\"y_units\":\"screen\"},\"id\":\"1915\",\"type\":\"Label\"},{\"attributes\":{\"line_alpha\":0.1,\"line_color\":\"#1f77b4\",\"x\":{\"field\":\"x\"},\"y\":{\"field\":\"md_hi\"}},\"id\":\"1948\",\"type\":\"Line\"},{\"attributes\":{\"data_source\":{\"id\":\"1925\",\"type\":\"ColumnDataSource\"},\"glyph\":{\"id\":\"1947\",\"type\":\"Line\"},\"hover_glyph\":null,\"muted_glyph\":null,\"name\":\"md\",\"nonselection_glyph\":{\"id\":\"1948\",\"type\":\"Line\"},\"selection_glyph\":null,\"view\":{\"id\":\"1950\",\"type\":\"CDSView\"}},\"id\":\"1949\",\"type\":\"GlyphRenderer\"},{\"attributes\":{\"fill_alpha\":{\"value\":0.15},\"fill_color\":{\"value\":\"#98DF8A\"},\"left\":1700.0,\"right\":1800.0},\"id\":\"1916\",\"type\":\"BoxAnnotation\"},{\"attributes\":{\"angle\":1.5707963267948966,\"background_fill_alpha\":{\"value\":0.0},\"border_line_alpha\":{\"value\":0.0},\"text\":\"SLF\",\"text_baseline\":\"middle\",\"x\":150.0,\"y\":10,\"y_units\":\"screen\"},\"id\":\"1885\",\"type\":\"Label\"},{\"attributes\":{\"angle\":1.5707963267948966,\"background_fill_alpha\":{\"value\":0.0},\"border_line_alpha\":{\"value\":0.0},\"text\":\"Uncinate\",\"text_baseline\":\"middle\",\"x\":1750.0,\"y\":10,\"y_units\":\"screen\"},\"id\":\"1917\",\"type\":\"Label\"},{\"attributes\":{\"source\":{\"id\":\"1925\",\"type\":\"ColumnDataSource\"}},\"id\":\"1950\",\"type\":\"CDSView\"},{\"attributes\":{\"fill_alpha\":{\"value\":0.15},\"fill_color\":{\"value\":\"#FFBB78\"},\"left\":1800.0,\"right\":1900.0},\"id\":\"1918\",\"type\":\"BoxAnnotation\"},{\"attributes\":{\"angle\":1.5707963267948966,\"background_fill_alpha\":{\"value\":0.0},\"border_line_alpha\":{\"value\":0.0},\"text\":\"SLF\",\"text_baseline\":\"middle\",\"x\":1850.0,\"y\":10,\"y_units\":\"screen\"},\"id\":\"1919\",\"type\":\"Label\"},{\"attributes\":{\"fill_alpha\":{\"value\":0.15},\"fill_color\":{\"value\":\"#AEC7E8\"},\"left\":0.0,\"right\":100.0},\"id\":\"1882\",\"type\":\"BoxAnnotation\"},{\"attributes\":{\"line_color\":\"#ff7f0e\",\"x\":{\"field\":\"x\"},\"y\":{\"field\":\"md_lo\"}},\"id\":\"1952\",\"type\":\"Line\"},{\"attributes\":{\"fill_alpha\":{\"value\":0.15},\"fill_color\":{\"value\":\"#98DF8A\"},\"left\":200.0,\"right\":300.0},\"id\":\"1886\",\"type\":\"BoxAnnotation\"},{\"attributes\":{\"fill_alpha\":{\"value\":0.15},\"fill_color\":{\"value\":\"#AEC7E8\"},\"left\":1900.0,\"right\":2000.0},\"id\":\"1920\",\"type\":\"BoxAnnotation\"},{\"attributes\":{\"line_alpha\":0.1,\"line_color\":\"#1f77b4\",\"x\":{\"field\":\"x\"},\"y\":{\"field\":\"md_lo\"}},\"id\":\"1953\",\"type\":\"Line\"},{\"attributes\":{\"angle\":1.5707963267948966,\"background_fill_alpha\":{\"value\":0.0},\"border_line_alpha\":{\"value\":0.0},\"text\":\"Uncinate\",\"text_baseline\":\"middle\",\"x\":250.0,\"y\":10,\"y_units\":\"screen\"},\"id\":\"1887\",\"type\":\"Label\"},{\"attributes\":{\"data_source\":{\"id\":\"1925\",\"type\":\"ColumnDataSource\"},\"glyph\":{\"id\":\"1952\",\"type\":\"Line\"},\"hover_glyph\":null,\"muted_glyph\":null,\"name\":\"md\",\"nonselection_glyph\":{\"id\":\"1953\",\"type\":\"Line\"},\"selection_glyph\":null,\"view\":{\"id\":\"1955\",\"type\":\"CDSView\"}},\"id\":\"1954\",\"type\":\"GlyphRenderer\"},{\"attributes\":{\"angle\":1.5707963267948966,\"background_fill_alpha\":{\"value\":0.0},\"border_line_alpha\":{\"value\":0.0},\"text\":\"Arcuate\",\"text_baseline\":\"middle\",\"x\":1950.0,\"y\":10,\"y_units\":\"screen\"},\"id\":\"1921\",\"type\":\"Label\"},{\"attributes\":{\"fill_alpha\":{\"value\":0.15},\"fill_color\":{\"value\":\"#FF9896\"},\"left\":300.0,\"right\":400.0},\"id\":\"1888\",\"type\":\"BoxAnnotation\"},{\"attributes\":{\"source\":{\"id\":\"1925\",\"type\":\"ColumnDataSource\"}},\"id\":\"1955\",\"type\":\"CDSView\"},{\"attributes\":{\"fill_alpha\":{\"value\":0.0},\"fill_color\":{\"value\":null},\"left\":1100.0,\"line_color\":{\"value\":\"black\"},\"line_width\":{\"value\":4},\"right\":2000.0},\"id\":\"1924\",\"type\":\"BoxAnnotation\"},{\"attributes\":{\"angle\":1.5707963267948966,\"background_fill_alpha\":{\"value\":0.0},\"border_line_alpha\":{\"value\":0.0},\"text\":\"ILF\",\"text_baseline\":\"middle\",\"x\":350.0,\"y\":10,\"y_units\":\"screen\"},\"id\":\"1889\",\"type\":\"Label\"},{\"attributes\":{\"callback\":null,\"line_policy\":\"interp\",\"renderers\":[{\"id\":\"1929\",\"type\":\"GlyphRenderer\"},{\"id\":\"1934\",\"type\":\"GlyphRenderer\"},{\"id\":\"1939\",\"type\":\"GlyphRenderer\"},{\"id\":\"1944\",\"type\":\"GlyphRenderer\"},{\"id\":\"1949\",\"type\":\"GlyphRenderer\"},{\"id\":\"1954\",\"type\":\"GlyphRenderer\"}],\"show_arrow\":false,\"tooltips\":[[\"metric\",\"$name\"],[\"beta\",\"$y\"]]},\"id\":\"1956\",\"type\":\"HoverTool\"},{\"attributes\":{\"fill_alpha\":{\"value\":0.15},\"fill_color\":{\"value\":\"#C5B0D5\"},\"left\":400.0,\"right\":500.0},\"id\":\"1890\",\"type\":\"BoxAnnotation\"},{\"attributes\":{\"text\":\"Click on legend entries to hide/show lines\"},\"id\":\"1965\",\"type\":\"Title\"},{\"attributes\":{\"callback\":null,\"data\":{\"fa\":{\"__ndarray__\":\"S6RCFJRRaz86L01dCdQavwAAAAAAAAAAisTHZSR4Hz8AAAAAAAAAAAAAAAAAAAAAo4H36bs3DL9/RkH933Mbv87VaXm3PiK/pjXcwip9QL/3wy+7P9VRv6ememX3sGC/XAMJEt7OZL/fsijTtmhbv7HK3lrCble/wbQSwuyGXb8JjAsSxkN0v5pSFHGYMYe/j42t3tEsir89OBIaGA6Iv/urbKdXoHG/pmoTyrtORb+hLnLo1aAaP6AsAYh8RUs/a6X0+WGfUz+i0gFbwHVXP01Ln/HZ4l4/RC/NYvtgaD9UUKjZjFhuP98FAsv+9XE/5wcm/aQNdT/F27z0C9d0P/7nw2+ZunA/K1EaK4DsYD+vFtvxOL9KPw04mPO5Ljg/MQX5Fzh6Nz+HMNOTGl9EPy6UWvmwYVA/VnGkdXvcVD/+jQ4cd81TPwxPeuDsmU4/NoO72lxYRT+pjglV5EY8P8l/kAt5bTI/nIQMQ23JIz/Cb5FsxYj/PgAAAAAAAAAAAAAAAAAAAACrs9eUUV8Hv1n83AUbOhu/fjgWnwxFIr9+Fxj4QcYmvyTI6/oXrii/LLBw8QTsOr/CWAwtIO5Lv50KhRhSk0a/F2Qpg78sNr/GoOKZTgw1v0AP4MqDnkC/I78QWFzcQr9abv8x2TU5vwAAAAAAAAAAqaoIs1hCuT4Motv01D0xP6CJTj/oB0Y/3hYGSlGmSz8D4HZFMCNQPz33xd992lA/o5gwIFIwTD/KFBsbO1VFP3EHPkpKD0c/PN1fZJjJTz87lmbngb5NP9Y1Vl1A2kA/BtmLrf/eIz+jLDt9zs4kv2BCoKqoDzG/bgve0PWFMb8fdv1fbZo9v8rN+JenBDq/cEbmIv2vP7+qvAvg83xGv+QPwM7ihEW/f/vYRmbwR79k0k6apJxIv+qE7gNTHDu/frruhjs8Nb8qEV4+WEItvx+5LcD83+6+tyXXcf4D/D6zFsxOqYNEP1e61E1bszg/ykZ2pMzgMD9ulucuX80kP9sq8lyk7hc/uj2Tn2RxJb8u4mrtDrlWvzdfp+DuBBi/qVgsgHFYIj/32tzwJ8GCP17W/tdmN3k/ktRXyqePdD+AIb/cQP9vPwUZVy1fwnk/YCopMbYmhz+KR5fdibeRP+1Uzrskfok/dYFF/qzoaz/V8++WBc5Bv3Lxq6n9smC/z9tw7kVoa798wB2zEHFwv+Z9gIXynHy/zfTv0WTbhr/bwdw730iQv5nF/BL+ApW/jxaexF8nnb/6CMniu+WhvwWFIvcnRqK/P/85sbsBnb9mb5fqbwOQv1vc+WGHvIG/nIk9AOOzbr8SFap4aLRHv41RokrMFmk/NRKBYmIVgz+jASQq7LuXP+uyDXbal5g/qTGVFL4gjD+rB4mbrjRxP2RTX1+cFzY/6mnGvhgmSb9BHvYv6Otyv9G7iVNkaIO/sxkQtxcKlb9VSxBdqR2fv1waRE70aqO//OihECD6oL9OglMzijWbv3QoxbLmXZK/U5cqTeHogr9bc5ICsWF0v/yXBlSKFVy/bRrQ/Ig5JT/J4vtboBphP1eQAIfwK3A/H9KSwlPTbD9mszUav4xaPywPrybEc0Q/YJgciJO+Uz+EGvrxIOFqP1Wl8bPu/oA/xnnF8TN1jT9AGh9tZPWPPwAuAF6rrog/VChNor8jez8hIXGZXkpqP2JIEAfnpVg///Y15mswUD+aMVn8WXlMP7G+Jq0vqVM/pi+EceNKST9Tesi0o44yP3/QGit5JkQ/f7iD3hZ4Xz+UUyhKgLVsP16SbqUoeHk/eWjeccRTiD9Z5tZQpvqUP/KND55EM5I/sGDM08vMfT/eCjJxeixiPxdByQ42fV2/eWMcyhH2ib+Dxuo5FhiXvxcoD0JksaK/1sMfcVL3rr/7lFMSyF23v0+0Ppk6yb+/ZdTRsaXYwb+ClIDZcE/Cv22Ht7Vs6b2/XuDk5rqDs7+9XKWARCqsvzObeXckQKq/7hvrUqLzrb+B2eD2NZyzv2CZIaXcY7i/P0oVQDhlur/k+uQVVmKyvwP7rfpeD6W/vUtB7K/RpL82Ev53Qqunv44CdiZDKqq/aTTfxxJaob/EiwQ2rt2TvxZVzSHSxo6/1wuz4qh/ZL87bWxguz1yvwLj/Sj6wWM/25+y2RZuc790AWvQ3t1xv9GvHM5wtHG/hry70MzVZr/sYHRC+WViv/UT5gE922O/zkaDOif3Zb/qTf1bYd5lv/M+D/FzNGG/bz/agQ3iS7/+nO/jVsYqv1c4kkXARDQ/6+hu/8daVT8Huik9hfZrP+vgqM0Lz3I/fs6n+qz+bj+iFb1/4kFhP5/dcCHx8Vc/s93tU5fDUD9DcJoyia1FPzJdQ3V7DDM/Kl7QK0nZ8L45OEJ4rNlHv3klrdejOVa/KwB6tn61Vb9t/tZiGMdOv/rQnkhXV0i/LAJaLrU3Qb+/+MOObEExv4Z2cn3K3Se//uHKTPNGI7+6XSMzZicfv2FR7vBDCxu/dXKbeTKRHL/fhfXgoJMgv14EBctzpCa/imiLMuLrMb+gl4HbDOk5vwsBuMnq7kG/MVxMr0akRr9EIFwtkEdIv+aPQbKYe0S/LYhk8AHRQL+Bz7XPJ786v5oeSUaiEjm/+vIyKAj5Qr+FgZIZR0FNvwxfGZFZKFC/eaIbpe4iT792LdvXY9FLv0GQWkDKL0+/yYBopXFsWL9vKfKRW2Vev0ZVvaOW/16/U1vHhWOuX78h+itjsVpgvwIUiS2Y21i/Fe9J4ybMR78Rcs8FwmYev562D9z4+CE/U+yZcxPHMj/tKVfj2ZY8Px16tcKbm0Q/SZtT7ce6Rj9/HECvtDNCPyS/eJ40uj8/7vuDOTsAQD/aSRUsneJAP6ttaxFJ5UE/esy4ZmVjQD9AGISXS1ExPyv3E+81T0S/ryD3vWBpXL+NhIawgwVtv3tVRFFSNHe/EqiYIGSFer+8rrO2RAR5v68uot2aQXW/gCeHQZUKcr++3hR4nrpxvxc1K6jpeXK/ublU4AhBdL+hTMvX3ah1v1qDnevu5Ha/c+agfLgKd789lV3Ai0B2v5qlckTgj3W/QOawGIKHdb9RHq4eyR90v+Ht4kUNDnG/xjECdO1far++UKO1JzVjv22KbHPrxVy/dlOdqcBhWL+DM8/ZfYBMv0/OdjAkdDa/S9uGbcB6Qb/CeW37r20iP2/6HEi7SlE/WTUPxK/ypD8lu2HCZN6zPzZX0bd8hLU/vrQpcengsD+Sf3eK8OSRPyAAyflrp30/Sz/4VzxATj+ukdNFTOdhv3sc+lOiEne/+0cG0n4Qeb9PPG5lyFpmv59x7ltEUD6/+30nnly1Yj/axmPYpe58P/Q7aFtsvYk/cvPPcblllj8DH0ZDXtqhP7KIY/Z4HqA/tEm+yfhfnj9sxWrSsYyUP6qOKVwf8Ig/MOjgeojBgD/+mvTJVfV7Py1ktwpQfHs/R4KQIYVidj9XUnR+BKtqP7HXOYqRz2s/LutHHo7jdj/+khbWFyd2P5dZOo66u3Y/pmwIV0fOgD/wqgKSQlODP49djlJWEIM/eQCsJEE+hz9cyS8J1gWKP80i63U++JQ/jIXz0TySoT/ZykmCpSmbP3ywcvI9v5A/rYlcGtxWjj+67nz2MUuNPyRyeGubEZc/9D1QACvAoj9vu46WTDGmP15pC8XbY6o/YXmItT0bsj96wlAIlwS2P8N7ZaZVc7o/f8jQcjtJuj/CTWs5ZQq1P8oHDZlWTbM/excN9mNEsj/NrGeIcTmvP04j6JMn0qo/eqcb8wmapz+eyAZghw2kP7Jl2sjNjZ8/wC4u6aDNlD83vC0mbtGGPx1Qq8rYV4A/VEjjunpmfD+aKVtodoB0Pw+4dat7anU/cKGdDWHafz/Cw9GwWnKKP/2BbQjKUJI/Yq6DN40pmD8WxekB30mcPwpT1YY1dp8/8ruoRdbZoD9kyZYWCG6hP00E7k3WVJ8/lQ4uIWIfmz/QRAJwnViVP73Fg/fZYI8/rDpLsjwkjD/ZY9st832UP+7iTQEsop8/Z8IHv72boD/u36Nj/bKfP+119BUXf50/kC+cuAUulD8SYA/dlIaKP1t60KPViWk/XstlWgbpMD+3q+CoGu9cv00O1DTgf4O/vGsAHNawlb+Gv+eO3bmkv0QNhZnlT7e/dpEBT/rrtr/+F+jwVZGlv1r/L3rdVYy/Ipoz72Tq1j63SXsjr7p2P0Mqwd/X+4o/Q4X0NWqdjD8C0+JF9GyLP3GkgZHTEoo/kX0w4yvvij/17aw5kVkbPwAAAAAAAAAAAAAAAAAAAAAAAAAAAAAAAAAAAAAAAAAAAAAAAAAAAAAAAAAAAAAAAGQ9wGWPKu8+60lQPXPWHD9JY0VAlVYxPwAAAAAAAAAAAAAAAAAAAAAAAAAAAAAAAAAAAAAAAAAAAAAAAAAAAAAAAAAAAAAAAAAAAAAAAAAAAAAAAAAAAAAAAAAAAAAAAAAAAAAAAAAAAAAAAAAAAAAAAAAAAAAAAAAAAAAAAAAAAAAAAAAAAAAAAAAAAAAAAAAAAAAAAAAAAAAAAAAAAAAAAAAAAAAAAAAAAAAAAAAAAAAAAAAAAACFd/z0pYsxPyrOi21Zmzs/QWvXsrZXPT+TKMYfS2lFP0mucybf010/leoiMWpEXT8g1bZPNdZUP1XRgxEmPVQ/qnpweLoVUD8AAAAAAAAAAAAAAAAAAAAAAAAAAAAAAAAAAAAAAAAAAAAAAAAAAAAAAAAAAAAAAAAAAAAAAAAAAAAAAAAAAAAActXML9ZoMT8AAAAAAAAAAAAAAAAAAAAAAAAAAAAAAAAAAAAAAAAAAAAAAAAAAAAAAAAAAAAAAAAAAAAAAAAAAAAAAAAAAAAAAAAAAAAAAAAAAAAAAAAAAAAAAAAAAAAAAAAAAAAAAAAAAAAAAAAAAAAAAAAAAAAAAAAAAAAAAAAAAAAAAAAAAAAAAAAAAAAAAAAAAAAAAAAAAAAAAAAAAAAAAAAAAAAAAAAAAAAAAABhdqibfAkjv/1LE147FCK/AAAAAAAAAAAAAAAAAAAAAAAAAAAAAAAAAAAAAAAAAAAAAAAAAAAAAAAAAAAAAAAAAAAAAAAAAAAAAAAAAAAAAD5EdYjj1TE/AAAAAAAAAAAAAAAAAAAAAFLmVdCo+EU/o2pw6u3BYD/nmvjUwCphP80KiFZbjwc/AAAAAAAAAAAAAAAAAAAAAAAAAAAAAAAAAAAAAAAAAAAAAAAAAAAAAAAAAAAAAAAAo9/2/IJcGL8HSjN3+k4dv5zFzixA8jK/crVM2PkKNr8AAAAAAAAAAAAAAAAAAAAAAAAAAAAAAAAAAAAAAAAAAAAAAAAAAAAAAAAAAAAAAAAAAAAAAAAAAAAAAAAAAAAAucbqA2C5ND9pzD9p4P9CP3eauBA9p04/J9bMTQJtUD8QTX2IxHFIPwq7GMLIizE/AAAAAAAAAAAAAAAAAAAAAAAAAAAAAAAAAAAAAAAAAAAAAAAAAAAAAAAAAAAAAAAAAAAAAAAAAAAAAAAAAAAAAAAAAAAAAAAAAAAAAAAAAAAAAAAAAAAAAAAAAAAAAAAAAAAAAAAAAAAAAAAAAAAAAAAAAAAAAAAAAAAAAAAAAAAxRR5yc3dYv752odq74Fm/AAAAAAAAAAAAAAAAAAAAAAAAAAAAAAAAAAAAAAAAAAAAAAAAAAAAAAAAAAAAAAAAAAAAAAAAAAAAAAAAAAAAAAAAAAAAAAAAAAAAAAAAAAAAAAAAAAAAAAAAAAAAAAAAAAAAAAAAAAAAAAAAAAAAAAAAAAAAAAAAAAAAAAAAAAAAAAAAAAAAAAAAAAAAAAAAAAAAAAAAAAAAAAAAAAAAAAAAAAAAAAAAAAAAAAAAAAAAAAAAAAAAAAAAAAAAAAAAAAAAAAAAAAAAAAAAAAAAAAAAAAAAAAAAAAAAAAAAAAAAAAAAAAAAAAAAAAAAAAAAAAAAAAAAAAAAAAAAAAAAAAAAAAAAAAAAAAAAAAAAAAAAAAAAAAAAAAAAAAAAAAAAAAAAAAAAAAAAAAAAAAAAAAAAAAAAAAAAAAAAAAAAAAAAAAAAAAAAAAAAAAAAAAAAAAAAAAAAAAB5dj1WCGdxP1p318EXD3M/LBdzIFTDbT9OvlX+EddeP9+FivrIVug+AAAAAAAAAAAAAAAAAAAAAAAAAAAAAAAAAAAAAAAAAAAAAAAAAAAAAAAAAAAAAAAAAAAAAAAAAAAAAAAAAAAAAAAAAAAAAAAAAAAAAAAAAAAAAAAAAAAAAAAAAAAAAAAAAAAAAAAAAAAAAAAAAAAAAAAAAAAAAAAAAAAAAAAAAAAAAAAAAAAAAAAAAAAAAAAAAAAAAAAAAAAAAAAAAAAAAAAAAAAAAAAA09OVBpV6Pr9OcLpmU8pRvwC5i+Erl0+/AGYbuz55Kr+xIZBLIWFPv9de7SE9J2i/u+itUk3uXb++D3uOfnhfvzoC6gRxjFW/IH7aXDNnU7+vMvOlUxw/vwAAAAAAAAAAGlQoGnzn4T7NRGH7kz72Pu+brVcGKPY+RKTWwoMd7j53XneyiisGv//TTyei0xS/nxMJZh8XF7+l7UhnSQMgv/ZxKMdI0iS/Q19L55q3JL+3xPGaQ4wjv6eM3S8fKSC/BjMwLKUoFr8J5F+4/zwQv6vklkbdKRG/hqZCUwUHCL/Gvh0XmS/yvqv7EIuUveS+YwDWXXox7r7B7jCwmjr5vq9lF9gtUgS/Zt7oAthrEb/LbOHIrahAvwFpiCfPH0i/ghRObSFbLb/prxyDZZgAv6WYgk08Pue+AAAAAAAAAAAAAAAAAAAAAG9ceA7MLAw/pyPGTVWVGj9f8qDnXwUpPxqc999pTjo/KtNz38ipQT/ct6CgU2BBP8oasP+knzs/d1x2z2l6Qj/tROCSgYxRP2UXo5YU7WY/1aAuuajnbT/mBn/ChcxkP8tw5AOUrUg/U4WNRSUqIT9k+HKiUG4ZP4+Ik+h/xiI/TGmNX4kMJD9zy76gXuUkP81a1UaWQyQ/0uWqCNk4Ij/NAEQ7mdAhP35rT8qVOCc/6/vuh14LLT+xv2NPwAAxPykaL1CdIjA/We4hGKHkKD+KzTfvFPskPyDgeEr5GSQ/cKEktknyIz+QP6BGJpAiP8cuuRduGyE/Qdh1Jx9SIz/ijFvgfNQxP3P/CSQCuz8/1zgAfeUPUD/SVaP1UVVrP6+VO2DAa3Q/ANfhb2mnYz/lgKfwxgBTP8YA7OswTEk/tfE4FcmPPj9WA6AUnEQ4P26KhrZDHyk/XHHETHxJBb9AqdqtBrcEvzfPsgvP3v0+fUCQYL5zQz9P/rSCU65NP856YJiMRmA/gNFe7vXYaT9jR3+8qqxvPymEn9yc92U/VUL6+vMGWD+plYARjhhPP8AVsoPsS0E/XBhA6EViOj+E7TQ+ly4+P7MdHjQozUQ/saLkPvtSUj+0lVYfB01jPz9Uuo4z9Xk/Bh1RxfWjhj8Nm6KWFJ9JP6f+rWYcMkg/IgSY/fU3Vz9EPAyvoDBgP+TmhnurWGA/D2WHh2BhWj+HjBPmDHBNP3Ft524KmzU/96fRS4TfMj9wPr0l3ONHP/y1crAAo0k/+u14qx1QRT8Ep9+RAzY7P5EWkl+MPB8/oL+bDqqGAj9jv95nyDEUv3BWmfemDji/1hthhS3/VL/eodGk5T1qv0RwFiznKHW/pIrhaNtWe78mJxLZR7B7v6Z4OX1qxn6/Yzmn0fSOgr/lK8yf0XCEv1Yk0kJWd4G/pF5nrlRCer+h3zdfVVF4v3p5E0A2znq/GwRUmIdlfr/LAkwmfmx8v3zcwoDEWne/ihsyrKBpdL8KLzgkWclwv6k95Hbsz2u/rXm4STv3a79tetb+Ji1wvyoilNIEqHK/DHTMWRkmc79ptDWWzoVxv5nLP5JuHHG/pwcr7fiDcr+aLh1d6gh0vwvM6C7OH3S/6iBPWAdacb/idpU64U5mv9f3RIQ4XVC/kGeR7Wo/Nr/q21m068Qvv3SbbfLfEC+/oJUfrP4RK7/DBZgniA4fv+/wuIxrR8C+gH2UsiJ81r7dM7n1FQgev1qO4zh/CDC/XbeZWny4Nr/aAXL0IS09v9P7dNnliEW/B4/JT5WSTb8SfRTEy5pSv6x+TilKXFa/PEcelvLwXb/M2/n2hzxhv2lvUiYTAF+/Qum63ez1Wb+uTPfBOn5Wv/svXarQz1G/swwVdEXLSL9POGA20dBEv/EBvGUwiUG/ihTQs5QKQb9NyiIV0vtFv804QQuep0u/gXCymauUTL+mvKk8zPRJv5d/0miE/EK/XLuoDDfPOb/6mCmi2+k2v9WX5gEvuT+/fw+UAh1tTr/Tg6uxoi5Pv0yaLesw9UG/q+aeZVxIJL8AAAAAAAAAAFqCRSeUp/4+S2kiQgfIED8iBhYW68njPlKa0xigo8S+YLa//yVNPb/torCoAq5bv3lAFa0+LWm/OaingnKgar9vwEOctMZbv84FR9yDrCK/75O1XZbg6j5EYzMWnsjtPgAAAAAAAAAA/fhYt4XdPr9/cBPt8/sYP7A3LgWSX2+/QkAJCdSFAz/GS0OfFRYkP7v5J7YyAWw+zfexlXbMEz/q/IAbZxwxP6Vcjl6Yfza/RsX+4NKfTr8Nq9oYdHBQv9xBkEzOb1G/wxsVRYXNTr9cVoLhgQo7vxvD2CMaIjU/ag5l8FtSYD8Qg+gwDKR6PxupEAty4no/ES33bMjaZT9w7eoruEtfP6zqUfYHYGE/9ZVEy+giYz9O99KB43F1P4Q29tS+/5E/n0jRfokvkj+c/3AFipqAPxQruV64x4E/tQZY4npxiT+GckKiiDWJP+KJ9lB3hHw/c6IkJsQecj+xqXNeccxwP4OTvW3QEXE/sZ9L2+dTcT80ferCD9ttP+EpHCiydHA/nk5g/zEadT9OtEXcfEFyP1fGzfyAv2Y/+Vf2IksTXz+VzKmNDF1VP59WhzilxFI/L3NjST6hWz9ge4OZJZpgP7OfGC0JjV8/k9qWHqkzVj+59Dkae/xQP52ta6+3j0Y/v4tn82wVRz/qQ1Se6TNQP6bLGKrqoVI/Jzo5BMgtTz9AUnWWWKs+P6lhQXRvshY/fgtpzQu3AT/uCq3Cw2YWP28VxvkAHTc/KX7ZlJw/RD9C+jXKLqpNPxJOdhfQr1I/C+WDCfgFVD8nNkNsFdhXP9lk2Z7zZFk/kBEf42xZVj/93PeuQmhQP7Pv0e5QjUY/OdPDq+quPj+m00GTHA06P1wG2qguvjI/evUzQQb0ET/zfB1nxl8Gv56mERc2lgw/Sr8tamscOD/TzyCA4Y1TP8AnJl1271k/Ggb86HE3Vj8wz9X19qpQP17xYD220Ec/MNfM7mZbRT9tz5Qkl4tQPybu3h2ScVQ/kd4deUqIWD8FraRcN7NdPwBYrs1bEmQ/bSKwpffEbz8abnPNIDiAP0uE7Ljx3ZI//tA/rgHJkj9aN4QjHt2HP0mumiWf1oY/shfl3+3okD/J/ieDFUGJPyleYicvUG4/rSISSu4XYT++D8bK13o/P94p413TsfO+TxkjGTWPMb93xbetbSUyvxl/j2tuFTG/m5gGIwakH79dciY1Bx1PP7xO/IzqkmY/xeiJ2wKGbT+J9LR4dixmP1A4upRxGUk/JujxwdzDND+O3VlGU8MwP2/neGnoWi4/jaC9slYjMD8X/vvkKbJFP2LG4RckXFY/HJA1eujgZT9evQIpVexlP70DV0kCY1s/q8HDKIx/Sj+gp0tlXzcDP6RtpGvlEd8+AAAAAAAAAAAAAAAAAAAAAAAAAAAAAAAASfakTLf5qD6N0f9SrGpJPxJEWcT6jW0/0fpcqaG9dz/vFeX10RZ5Px7EUvLyDnY/h4K30fM+dD8A069eHwRvP16bst/vzGQ/YyP/b17VYD+3AuYDcFtXPxTq+Or290s/lwSInCt9QD/DbO/UnCc0P5uP+sdZvhw/Wm2rp3i2Gj/5lrsqmGAiP1rbRuoiti8/vqQL3BpLPT87PuhBUa5DP03bi6WLtFI/1YIdWaF9Xz9e6Wye5JJcPz7hWQSoC0U/CbOpCTjtND+GNne6dkUeP65vkMAQgR0/4/eDt+bjLj/Sn/kqcAQ0P+P67r54/TY/YXqPyP5nPD/8p5JuWvdAP5lciKvblkA/jFvzJWbFOT9U9MMMGgIlPwAAAAAAAAAAAAAAAAAAAAAAAAAAAAAAAAAAAAAAAAAAAAAAAAAAAAAAAAAAAAAAAKIl9/uosOM+m+26wM5qEj823nM7YVAfP46KoC3VaCI/97hYKAFJJj/HcWhHlcIpP+IBDNfOUSI/j81+CokkFz99t+UCHIYVPxqEmLW06xc/0RaG5UJiIT8EZZfgC+ZFP+3P68kgTFk/pvwMQ8Ajaj9grx8RkiF+P/5H34Gmvow/w9YGHlyelD/kUA1g5/eWP+TdZxgIBZM/ihDL2RmyhT/AA30l8t10P2D/szFvjmY/q7c3bdjoVj8rXdlF8+QpP2Ju1Ukb/AE/AAAAAAAAAAAAAAAAAAAAAHPiNaBwjAG/hNbVkm9iCb91SgqYqkgBvwAAAAAAAAAAAAAAAAAAAAAAAAAAAAAAAAAAAAAAAAAAjlLROEjN/z7ez3nb/2UOP8slhW//DTI/O50tafKFTj8x4LdkOfdmP8GHzcUmsXU/UDK5Z//4dz8XzTA/FnhdP9dMWuNuVUk/IgQ1k6aeeT+8rKMGn6tiP3VepPo6lUw/OxEaleYYXz+v3MPL0c1kP6OhyqZ1U2M/ZY3eZHUMRT/QQExLOLdBPyZkzqXI91M/E3FDVOhYdj9C4ShpAaiCP7MqM4Ec/oU/FStYl9tbjD/ndo9pO5OGP3ZNRNLP8H0/zEGcGjaCcj/bWz7cpzFsP5tIhjjn7Wo/DbL/7oLpZz8E6M96NfBlPwKSbV8b+2Y/MBR0rf+6aT+GR4sWZbFpPzHYdCu4Zmo/Sa1JjwykaD/62Ek3v/phP9IiARehu1g/R3vn8gKsXz/A7ic9b3dlP4lEQOjS7mA/TtNRM92XXj/fj3ke8dRhP9GSwENLomo/yT5pcd5AaT9ZFVtP+6poP8BulMTidmc/nQ/3ck4dZj/QYWuH0VxhP6UZK4wjv1s/ExziYTtmYj/aBl4Pf+tpP6N/Q8wseHE/6TQ9L64idz9L56hwpDN3P23vDgMXAHg/Tlx1+Xjqcz9MuI+AY1ByPxKQ0XtrrXk/pKOcNKAWhj+iRxWyUr2JP/y/5qDUiX0/3+SbOJUSdT/cd+y07bx3PxuUXoXXXXc/qnlct4Uxcj8kCxxHsAZjPx5RI9ToE08/d5wRPrKrAz/tk6OgsmNQv9M8GQBAOW+/UMl/ANpPbr8wNP+InftlvxdTx1Y3jFi/dpjlWcMASr9vpib4wT9Av5kE5nitkkK/O4ucENYFOb+/+G/xljoxv0Ozwz7x3ga/+oavTv4lCz8ep522jOkrP/fooXhjKjI/6VSc+4W5KD/HNKBwHEcYP7LdhPneOBm/ogDH52KBL78+/zFMfOkuv7PfGPDSzCC/BPui2O+0Fj+GYp5Vbt9FPwukdo8LClU/hvkNL06BVT9KFOuDzrRRPzlt7KxcA1A/j/0VC0icVD/zLqDdi7FWP5vIInS1SEs/O2ts/eOyQj/JOgsyLKo7P72hq8LDCDM/BnQg+qW7Ij9B98Z/ZKMwP+puwxFLC2A/nmGXnGQ2hD9fCOKhvumsP7IINb16BK8//g3EUDi6kD9RGTMWMUYOvxHVlqdpC4m/AuKlegi+WT8PFuuonSpgP5ce9gSYdWA/OTPmA8PoTj+ydibieBNDP8CXBvHMNte+WhdNnIKzGL+ahZ2H+wm3PsIiY8BW/wk/zrWLiXhkKT/WMkvAaMYoP73Ov30Bsyc/LzsTdKI3Jj+9Y846+AApPxqyE3f5njI/Ki2y1FwgRz/LzNKr1oZKPw9haCP0G0g/VZXGqrjLTz+0oYxBr35UP+vmbtpaq14/rOpmZwGTZD9LO689rwZsP3kvW/lX+Gs/UGjvS04zbT+xhE/kljdxP1xE58fdwHU/0vHko4Ojez/as9bpR81/P3NxNiX1p4I/NiCvm2Hwgj+HegIh8mN/Pzbrf8WBlnQ/gdrq+ZT1Zz9Vzl9Ma0FiP7KQNure8Wc/QOb9I+/qdD8iJfO2iMJ5P88BWe9CW3g/fi7bv5iUcz/acEQpiWBvPwYsAjkupGY/vTCzs+BGYj8rRWJSZdtgP+kQnIIbiVw/hkDsxq3+XT+gVY4z3rxkP34uNwMco2c/lPzzHdP7aj+JgsaIa1dxP5M6Gx4RGXI/A2s9qEBOcT988S/m3o1yP7s/x1FfTXQ/uiLkjt2RdD+iZfT41BF2P0QCr0l0j3Q/SpmkpSfucT+zNN/76BRxP95BkNE8enM/UCZ8jEFwcz8WhWe4FRhxPxBCS4YsXmo/y3lT9YQ7bT+JGkjPGRluP+MVReYIImc/k5J1viCVUz8ScE9YEXExP29i2gtvR9++8fb62gPpIb8cNsGYJzAjvzYRTcVk1gq/EfRDHMLHNz9mEDyiRsBAP/ovzov2fwc/JsIBX0pRLL/VhaGW+tU8v10UXnfQ3Ue/NznCwdbPSr8N+iJOrDZKv9HaSTwe8E6/RfmipbizUr8J4wg2reNBv9SpVf9DEjQ/AndIBuXWTT88dKvZIiJvPxbnTWKAn3w/9kAGvlyjcj/phEoPThJePxE3stJEHDw/7679Iye7m76cSe9Q9GMxvxp0vBt760m/a4WE2Eb3SL+gOV42fwYrv6sJKui9uiy/ucsi1iEOIT8X8ADEgKRAv89Mc2Mg5Fi/n8G1t7TTcL/qilKvTyd9v9wq1Bvrvoi/EXnxNcGCfL+uGQ7avxVqv0+eubMiRHq/320t4Loylr/ddgRH7xyiv53K7ZTCjqS/4pJQyXLfmb9zJkoFsmGJv/CL7O2bN3S/jQak2KcJXr9jbd3X/QtFv+BjJMuVqUc/snu+n42SVj86Sw6GXwNkP5Is9m6FhGQ/3hFtzKVLUj+FS+hRhwEwP3wsdv5FGWW/tnSnKalvdr9i061x36F7v+ao36IUQYG/Kr+efD+Pjr/vtnbl2iKYv/A/IQrM76K/4QacUqYrqb9jsvJM2t6yv2sswvYsKr6/IuY4n7FTwr8peqIL22PDvw2Lu5DHS8i/QU4N0c1ryr+DUXmLiBrKv+AbG7HBxMi/8lIEePCTxb+aWjA3k4HGv9TYL/wZxsm/S7B7X3/kyL+m0ybF4JXHvzOwdMDgI8a/KpdW4Zqsw78B+Xzz1RPCv+ksQEw+bL2/K0+Btj8gtb9MauudWvKyv/C9nmEJS7K/H9VumZO8rL9sIYuf65ysv5q0H3AVgK2/KUiAHSIdpL9eP2Te13Sav6RhuvdTIpK/jHqkLqb/kb8bXKvcMDWWv0QUXAGJLJm/UgbslQRUnb9rh1eFRdKiv5F18qQVYKW/apJmpSXrob9wK2A2X4OXv4WqQNFfUZa/iWBTfH7vnb+tvk4LG7Ojv7Zh/Yy41Ky/rxcUqe9Qsr/iYrLy6vO4v7mJQ7e8sb6/QmJls1OFur8KOkWEKnKzv4GWZNqyuK6/I5UxTgDgpb9tLPVC7gucv8YydXBa6Ze/Jbu4MV4Olb+M5uHCUpCPv/4RtnwRqYO/NWmwY4yTZL9mGvLoDhdVPx7vuNeeNmQ/XZQMEhiDVz+cz98JwXxlvwk2bhyNzou/S6OEDYjzpL8Btn5BN6+zv8stzgnASLy/b1fpfV6Bwb/pk2KBfDDEvzNBKeByD8O/CbqWQbvnu79VxVgo+Re0v+2Emxlcq7K/A/3tMSresr8H99ezHLasvy69RJuuVJG/skzwWW33X7+JYXZjyK9ovyCsi0uvRYa/jiEeTsw1Uz8v77cjyhVtP6OULWa0TWA/XCn6yeBcQT8m3X4R56gxP89UqQv73+8+VYDeEY1PKL9q2eO4SwY8vxeEfvmg/ky/emu8S++OV7+Tcw2tyzxTvxm35kNyJ0S/pzM9iw3WO7+tuypsEBc2v5/RqkJOCDG/P2n+SMnMKr/qiqHR/yEovy+nOwRfFSe/P6AGy61+JL/31EsW2ysiv0vUGOSSIR6/9hk3keVDF7/pNF1GoQ0Vv3RqjfFPtBK/lCOgBUX6Bb8AAAAAAAAAACtlOwFLzAg/M5z7oMC/Ez+LRh9fzE4TP/eJhqcJIxA/G+mkBpoxBj85iy2JAVYGP20bMCVFNQ8/KbidZVf+Fj8xF8IDolMgP0sv25xU0CM/qlCYnd1EKT/JUzt1gUQyPxOsr5sthDk/z1NqV40+Qj80oLIdlJU/PxUuTk8p+z8/7jahZb/wQD8bfebgizdBPzy9aS9qCj0/qYozr42LNT8R6QFWBl4wP4o5DCG7/yQ/R2KOg+FDFD//oC5mP94Cv4ioF5xiyyC/DTnQuYXxO7+5sGcKfsBGv3UTwMHgwzW/6QUfr9olKr+cu8z0QVUov1zX99R17SG/1y2klKLpHb+zr0b2GJAZv8NQt5d7lA2/Y2mzxM6CBL8ugPGGcxUTv3ZlUofEYR2/i8hUY5ROI78KbxtKXS8iv5FXExwpOuU+Qtt/uJvSJz81fZ8q2ewqP+9QhVdk2gg/aXfgYo+5DT/nyCPMViMSPz4+1747egE/Bb3xUPMF7j5pZ80yXr8EP6utxUMs/RI/VJKqC+XMID/8/t3OVJUzP6LlKmsvHUc/INay8+1IXD/5Y+7CoAFjP7KwYt7/PmI/JkeqstMLTT8GVaEZlcBBPz3n02HwGUA/3ySmsmeFPz+r1ap3eQBAPzVdH59wej4//Hw7643FPD8T9SP17s83PwaGfmJo7zQ/V5SYchSGMz8ARVghM5IwP70U83VJrCo/Bcmu2keeJj8ai5XypBgiP6SXDRtl0xU/Qnli89BvBD91uhdH6C0QP3Y2Qi6soRw/ygqE4PsWGz+TUP+ATVYfP3uoMR03gGc/SglaKEZCYj9eknj4dY9jP9vrSKZObWo/C7WiGPEcZj+DBItQJ0xhP0a5BpNotG4/u8//5LBbdz/CvgJFcQ15P62S3C0aEH0/9+EgswPUfT+XOAlOc/1zP+6NwvFCPGo/faGtjTByYD8JIouZIM5RP1/7a6uyzUQ/jTVGPJoXGb8zJKyJoIYpv8ImFPrVKUI/wsPeTPXCVT+crJh7fFZgPwTFCxXiD2c/HR5nUkUtbD86pV3QjqNuP0Lpfy5N33A/7C5u5YReaD/kA3KHeAZZP0vPJdV7qUM/KSmNsV9BHT/W2jyh91cHP20ORVh48xc/5G+/lnlGGT/5sFV2Qyv1PjFsdYoCJyi/JmP2RY9fRb9UYKpCISJfv68qZacCY3O/aUq7MQ1Gdr9TEJfryHduv4sMW9D5qGK/YI2vycDsXb+8yARAoIhjvymwJvAHh2i/qYd2TfV4a7/qVpzsVNxpv/W0gGi4/lu/ERF63AFQTb9AgZR7+8JXv9ojoC1PXm6/a39Vrs3xdr+Lk5He9gh0vxp67QqI0XG/zhCdLacUeb9Hs/sLdcOGv63GLT7DKIa/QDKYt7Zsf78WDbYU9Xdzv2oV5rW9pGm/eygfPJc7Y79F1HasQU9fv1fslKJ3Ply/fehnMYGIV7+GVY/+DzlCvynqAcXExEs/TmCsv9O1WT+z8SpsVbpXP4HxRta2gVE/gwHQNmY+UT/kFcCRRlhUPz4Wb2vlNkc/STgchRHYPb9fi5D1/vJRv8PIKSWfcE+/1eTAvFjoTL/BD3ZMNOhbvzXOb3Sb+mq/RCwfa3cqcr8+0CBjvG12v150L6R5NXu/CuIhHxFafL/m1jITXX57vz5BXl/oKXm/xIBIfQFYd78PtFpjiY94vxsYw7h7LYC/bDUEzBHoib8LvS256lCTv/5HSf559JO/OQBiDv/Ekb83sDUYYG6Ivxb6C4WR9IO/FXd75M3Eg7/CEmLuu+6FvzEDf9hWKIq//om9jteXi78GjHjuN7F+v6vvdoSgoH6/XnQ8aEjEhL8MiTMvxAh8v/9n8LdYCFW/4hZiDpMx9b41KZFSOKAIv5O5IpGNrxq/FTepm2+BIL8AW1TV7qMUvyTkjVXIAOm+AAAAAAAAAAAAAAAAAAAAAAAAAAAAAAAAAAAAAAAAAAA3n6l8O6zWvrovg8r/7QS/psqHNK2fFr9HgsIIxj8jvxcox3KUNDa/l+Y8H0jKY7/RI/4yoilrv03rTGrZP2u/HV/MSPodZ7/AqFtAB7NKv9abVU/RjzG/GodhZnpQJr/t3pNPGcgiv8+vNRMAaxm/iwukQlm3D7+8bq8ITQ4Gv7wjTnQ+FOi+AAAAAAAAAABx6S+YOXemvnprPa1KEAe/AO121KcuDr/zypWUncsTv+tuUodKthe/vLBxjahgHL+ZQbohQikhv4xP3MnUYSO/0HN0oNl3I79irttlA0UivyTEjIp+hyG/V7qeleFNI7+LGsFex4gkv1OpW4mSPCO/rJ5d2oPrIb86D5wBsYUdvx04xDwlxBW/h091B+AxEL/wu+9IAkgEvwAAAAAAAAAAAAAAAAAAAACm0mMudq4ZP3GqPBRR6TE/LNAPYAchPj9Amqqw/Ms9P4wbMupHDDc/G1Xvlm1QNj/yUJc/VZ84P1IkYJvTdTg/WoujWP4iKj/e/VCWN+gEP857T9pkngk/83DIkJ/xAT8AAAAAAAAAAAAAAAAAAAAAAAAAAAAAAAAAAAAAAAAAAAAAAAAAAAAAAAAAAAAAAADBRWHukI1EP7SezqfGGlU/yadV5qiVUz+K2r4kA6RAPyLJFirAf9E+C91Un+ccob7i4rthGE7cvpNvakaxN/++tnfRF8qTEb+CCNKsT6ULv3o1t8PlZQa/d2v5yiILKL/m/5T/jAMFvxJ0O4ra3eG+AAAAAAAAAAC6HH+cEMPTvlyXaxeRY/i+lvuRNIvkAb9PDDjqHq8IvwvCHnyWdfa+AAAAAAAAAAB3yjjWe2DZvt0C9YrBNRC/2s9Rkps6bb9+qRT9ZuFrv0J50FZONRS/a95wVk7/A7/v5XI/oyfIvneaS/AVj64+PMJ8nUf10j4R3n3G8/6+PgAAAAAAAAAA3Ffl+ue0FD8AAAAAAAAAAAAAAAAAAAAATVXMLXIXGj8AAAAAAAAAAAAAAAAAAAAAAAAAAAAAAAAAAAAAAAAAAAAAAAAAAAAAAAAAAAAAAAAAAAAAAAAAAAAAAAAAAAAAAAAAAAAAAAAAAAAAAAAAAAAAAAAAAAAAAAAAAAAAAAAAAAAAAAAAAAAAAAAAAAAAAAAAAAAAAAAAAAAAAAAAAEYtd3cmezO/J3PhhRLtVb+OiJFCsGZWv9fxn91Yn0a/N1XjvlX9Or+ttwnNJ1ZJvz5Rlhw1sEW/73kDxm5kR79ds9ZG+zFGvxc1bQEvGzS/AAAAAAAAAAAAAAAAAAAAAAAAAAAAAAAAAAAAAAAAAAAAAAAAAAAAAAAAAAAAAAAAAAAAAAAAAAAAAAAAAAAAAAAAAAAAAAAAAAAAAAAAAAAAAAAAAAAAAAAAAAAAAAAAAAAAAAAAAAAAAAAAAAAAAAAAAAAAAAAAAAAAAAAAAAAAAAAAAAAAAAAAAAAAAAAAAAAAAAAAAAAAAAAAAAAAAAAAAAAAAAAAAAAAAAAAAAAAAAAAAAAAAAAAAAAAAAAAAAAAAAAAAAAAAAAAAAAAAAAAAAAAAAAAAAAAAAAAAAAAAAAAAAAAAAAAAAAAAAAAAAAAAAAAAAAAAAAAAAAAAAAAAAAAAAAAAAAAAAAAAAAAAAAAAAAAAAAAAAAAAAAAAAAAAAAAAAAAAAAAAAAAALFQWEddaPA+PXNdkJiImz4AAAAAAAAAAAAAAAAAAAAAAAAAAAAAAAAAAAAAAAAAAAAAAAAAAAAAAAAAAAAAAAAAAAAAAAAAAAAAAAAAAAAAAAAAAAAAAAAAAAAAAAAAAAAAAAAAAAAAAAAAAAAAAAAAAAAAAAAAAAAAAAAAAAAAAAAAAAAAAAAAAAAAAAAAAAAAAAAAAAAAAAAAAAAAAAAAAAAAAAAAAAAAAAAAAAAAAAAAAAAAAAAAAAAAAAAAAAAAAAAAAAAAAAAAAAAAAAAAAAAAAAAAAAAAAAAAAAAAiy1LTbRHJb9e28ROm2Ipv4nGM2RXzjq/AAAAAAAAAAAAAAAAAAAAAMxp02S281E/7S6gMdShTL8yT19raYZIv9wRRhIjNUi/E1xXcq9cMr+rOZ/7v+kcv5V63kNFRSm/z5z3gDOyNL+paFUii4ZLvyntxdQb32G/9TCngmW7Q7+G4puS2iM0v0fzk2TrJBW/AAAAAAAAAAAAAAAAAAAAAAAAAAAAAAAAAAAAAAAAAAAAAAAAAAAAAAAAAAAAAAAAAAAAAAAAAAAAAAAAAAAAAAAAAAAAAAAAAAAAAAAAAAAAAAAAAAAAAAAAAAAAAAAA+o8Ia20u8749mi151dk8vzk8IcVIblC/82lvykSaU7+yHA8at9ZRv6I7Q1hC5ky/GjcQq1IzPL/2zlLReWITv5u5VeZIk9m+AAAAAAAAAAAAAAAAAAAAAAAAAAAAAAAAAAAAAAAAAAAAAAAAAAAAAAAAAAAAAAAAAAAAAAAAAADdnVJ5PAzhPjytlqg5jg0/CnAtejulID+D8zMuYFkmP5yAxz2nkCM/lnPjkxNrFj+p+Uc6GU0LP6LvXY3gHQs/uc5OUEi8ED/lZp/3HK8VP8WbRIJOzRw/0QV8cSbfIT/E6BBpa9okP39VW+48QSc/oOsVcZAdKj+6U3gHq2gpPyX+aZiihCU/+52ZY5WFID/wu7B1JMISPwAAAAAAAAAAAAAAAAAAAAAAAAAAAAAAAAAAAAAAAAAAAAAAAAAAAAAAAAAAAAAAAAAAAAAAAAAAAAAAAAAAAAAAAAAAAAAAAAAAAAAAAAAAQPSAoVPAJ79EW4D78UM9v+RviTmsWCa/AAAAAAAAAAAAAAAAAAAAAAAAAAAAAAAAAAAAAAAAAAAAAAAAAAAAAAAAAAAAAAAAAAAAAAAAAAAAAAAAAAAAAAAAAAAAAAAAAAAAAAAAAAAAAAAAAAAAAAAAAAAAAAAAte5Q9bqb/T7addvWmVcpPwAAAAAAAAAAAAAAAAAAAAAAAAAAAAAAAAAAAAAAAAAAAAAAAAAAAAAAAAAAAAAAAAAAAAAAAAAAAAAAAAAAAAAAAAAAAAAAAAAAAAAAAAAAAAAAAAAAAADRVz27lnMwPw9UX76tqTg/mDyV021AUL+EbfLQyaZVP83ZxP3O0l4/EvJVgtDYUD+au1L120VNP7dMt47rR1Q/WtqitHKpXj8UldQXGrxgP2nLX/UGlWA/vX4htpPEWT/O7dQO0vJQP9XZGTLV/z0/XocmBn+T6j60z0sDS4hFv0Y4UH5eaF+/93Q2Te9aZ7/+ps4TRF1ov/Bhr1T2QmO/paUenRJBW78zscq9t3hSv/Wcxu6Vc0e/xfMDss9+O7/rLuD1m8srv0QlNQJXzRG/PFZAOPXTFT8QyX3Hj24qP4KAPWENgDo/J/Xw0NkrSD/U5evA6cdMP79YkYkBukQ/zkrLvfIUID93MS4Ibcorv86ZgpTeBj+/iRmjz4G9Qr9E7VynljdHv+tXECdshUa/ViIJCFWCQb/278rCax08vwbU4hvOTja/vFzH9b1dLL+m/Z0nK0r/vpqkwGS+tTA/OiaZ+jeeQj8vkoy8O2VPP4N8oOmGXVw/veuBRwz5az+kLR6Zs/V0P4fOSVvXhXs/KXW0OkX0fz+mlN/GNZd8P3+GDkLFHHM/imT8SZFKZj/c3ClnR6RaPzRIpcD/hlA/VxwEjSBXSD/G30mqL7lIP2mAWlaXHVA/MCd53b/+VD+Vrmo72bFWPwb+UgQVx10/jZHLJSdwZT/6Lg9drrtvP1xKl0UXQnM/dDIX4IMgcz8hWATXqLRvPyD/rgTlBGs/aUrotjvEYj/i3Vzuv+JUP/d8DD//yDI/snC6V8OjM79Jv3uHx3lfv+Fvj3czoGm/SZxeJWxYb7/WtLP59vZwv0eIioTJ/nK/5qeUUAegdb8NUwrh2hZ6vxxIIkqVD4G/B8tQVfnghb/gDtVQ5N2IvwEbaqVf3Ie/CtedRcX9hL+qLfPVbW6Avwsb/JOKine/V8i4rCjvc78lAxUWZP1wv0oefWQcJmi/q50t2X+mWr9pjMrLg3JLv8LYKeMMH0C/bfWmXPeLNr9gkYLxW48mvwUiOeVpkzU/pPpTAGZdYD+tTaFRjopvPz5DkWJGTGk/StltuRQNYD9NTH6fKT84P//5bFWLfFK/IKsCKAxfH7/BDTERG4V6v/xBjTQqUEc/k1X+U4aroD/mo2gwEHmaP//0N1zEVpw/rjLrCw52oT/8oJL+K3+UPy5P9yhlWYM/LSJaMpkbfD+VMoAuqHN1P2DdzAOuX10/eaV/cH1fTL8SUYUd3I9wv/E+2tqJdYO/sH8ARpEQlL/7iihY2pKkvxyC/0qZpKq/ZSQs+337sL86lekkVremv0olLBnyuqm/fDaWns4ip7/01HHUNb+hv3JT8UspVKC/Iz3/i08job+yPQm1S/iVv9S+o/AFkX2/EStITR4GW78QVYzis1FaP6Pwo7Iu6XQ/Gby68QXqgD8KzvM0djaDP4kUZnA4uX0/fQqYO2o9bj+BJXde4xlSP8LAvADCQEa/XNTqbWHVUb+ShLopV4pdv8OXTEgJZFW/N+WN7tFlSL9TeLTzDJo1v9FU08F6XDK/7GXQDcrRTT8xnChxzIB0P8/I5Iahv4Q/IguxGNi0kj9VzVmV+RSfP/2vIPVFVao/eik8sHwhsD8CdnMw90y4P7DkgPklNLY/ayUw1QeErD/L0Z0Vm5+lPxSTEdKprpw/0cU9TnJujz/EH7hJAEeCPwM++Re6emw/XJMpIHyiYz9N6FxUgR5EP7CyFa1/iFC/XT2Td1bma78zK1E6NNtuvx8Er7eWMmG/C1R9a5ZaXb/zJTrckPNkv0nmvkJcBm+/XrgtW+Z5Zb/ZcBpCv2I6v5eyeEDyGlg/YtVbe0KVXj/XtvCXFNMQv6s57YL1jR8/U4UAAfqVSj8TXqWPaBB0PzIg8FCERoA/wN38zbMLij9gq/aNmJKVP9wCRAWSk5g/nBFg8EQtlz8vwLoODkWXP0CV/Qlai5M/9dd3hM4Lhz9U4qW+1TVxP/AR1WlVeGA/Lp9LbicKZD+dUEUvKFRfP4sJ4gzFyCM/zcfH7uUVKj8S6XMqCF5eP/M/onXDvGU/cBjRMiD+Q79Gr6wigkduv48jqsyzIGm/uvhxmE/Qbr8W711q7X9tv87Om+FwaHG/9hajlkKic7+Fwjq38IVivxfNiB6EQmg/b0O56XdZ9L5+ImrFEHRpPw==\",\"dtype\":\"float64\",\"shape\":[2000]},\"fa_hi\":{\"__ndarray__\":\"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\",\"dtype\":\"float64\",\"shape\":[2000]},\"fa_lo\":{\"__ndarray__\":\"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\",\"dtype\":\"float64\",\"shape\":[2000]},\"md\":{\"__ndarray__\":\"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\",\"dtype\":\"float64\",\"shape\":[2000]},\"md_hi\":{\"__ndarray__\":\"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\",\"dtype\":\"float64\",\"shape\":[2000]},\"md_lo\":{\"__ndarray__\":\"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\",\"dtype\":\"float64\",\"shape\":[2000]},\"x\":[0,1,2,3,4,5,6,7,8,9,10,11,12,13,14,15,16,17,18,19,20,21,22,23,24,25,26,27,28,29,30,31,32,33,34,35,36,37,38,39,40,41,42,43,44,45,46,47,48,49,50,51,52,53,54,55,56,57,58,59,60,61,62,63,64,65,66,67,68,69,70,71,72,73,74,75,76,77,78,79,80,81,82,83,84,85,86,87,88,89,90,91,92,93,94,95,96,97,98,99,100,101,102,103,104,105,106,107,108,109,110,111,112,113,114,115,116,117,118,119,120,121,122,123,124,125,126,127,128,129,130,131,132,133,134,135,136,137,138,139,140,141,142,143,144,145,146,147,148,149,150,151,152,153,154,155,156,157,158,159,160,161,162,163,164,165,166,167,168,169,170,171,172,173,174,175,176,177,178,179,180,181,182,183,184,185,186,187,188,189,190,191,192,193,194,195,196,197,198,199,200,201,202,203,204,205,206,207,208,209,210,211,212,213,214,215,216,217,218,219,220,221,222,223,224,225,226,227,228,229,230,231,232,233,234,235,236,237,238,239,240,241,242,243,244,245,246,247,248,249,250,251,252,253,254,255,256,257,258,259,260,261,262,263,264,265,266,267,268,269,270,271,272,273,274,275,276,277,278,279,280,281,282,283,284,285,286,287,288,289,290,291,292,293,294,295,296,297,298,299,300,301,302,303,304,305,306,307,308,309,310,311,312,313,314,315,316,317,318,319,320,321,322,323,324,325,326,327,328,329,330,331,332,333,334,335,336,337,338,339,340,341,342,343,344,345,346,347,348,349,350,351,352,353,354,355,356,357,358,359,360,361,362,363,364,365,366,367,368,369,370,371,372,373,374,375,376,377,378,379,380,381,382,383,384,385,386,387,388,389,390,391,392,393,394,395,396,397,398,399,400,401,402,403,404,405,406,407,408,409,410,411,412,413,414,415,416,417,418,419,420,421,422,423,424,425,426,427,428,429,430,431,432,433,434,435,436,437,438,439,440,441,442,443,444,445,446,447,448,449,450,451,452,453,454,455,456,457,458,459,460,461,462,463,464,465,466,467,468,469,470,471,472,473,474,475,476,477,478,479,480,481,482,483,484,485,486,487,488,489,490,491,492,493,494,495,496,497,498,499,500,501,502,503,504,505,506,507,508,509,510,511,512,513,514,515,516,517,518,519,520,521,522,523,524,525,526,527,528,529,530,531,532,533,534,535,536,537,538,539,540,541,542,543,544,545,546,547,548,549,550,551,552,553,554,555,556,557,558,559,560,561,562,563,564,565,566,567,568,569,570,571,572,573,574,575,576,577,578,579,580,581,582,583,584,585,586,587,588,589,590,591,592,593,594,595,596,597,598,599,600,601,602,603,604,605,606,607,608,609,610,611,612,613,614,615,616,617,618,619,620,621,622,623,624,625,626,627,628,629,630,631,632,633,634,635,636,637,638,639,640,641,642,643,644,645,646,647,648,649,650,651,652,653,654,655,656,657,658,659,660,661,662,663,664,665,666,667,668,669,670,671,672,673,674,675,676,677,678,679,680,681,682,683,684,685,686,687,688,689,690,691,692,693,694,695,696,697,698,699,700,701,702,703,704,705,706,707,708,709,710,711,712,713,714,715,716,717,718,719,720,721,722,723,724,725,726,727,728,729,730,731,732,733,734,735,736,737,738,739,740,741,742,743,744,745,746,747,748,749,750,751,752,753,754,755,756,757,758,759,760,761,762,763,764,765,766,767,768,769,770,771,772,773,774,775,776,777,778,779,780,781,782,783,784,785,786,787,788,789,790,791,792,793,794,795,796,797,798,799,800,801,802,803,804,805,806,807,808,809,810,811,812,813,814,815,816,817,818,819,820,821,822,823,824,825,826,827,828,829,830,831,832,833,834,835,836,837,838,839,840,841,842,843,844,845,846,847,848,849,850,851,852,853,854,855,856,857,858,859,860,861,862,863,864,865,866,867,868,869,870,871,872,873,874,875,876,877,878,879,880,881,882,883,884,885,886,887,888,889,890,891,892,893,894,895,896,897,898,899,900,901,902,903,904,905,906,907,908,909,910,911,912,913,914,915,916,917,918,919,920,921,922,923,924,925,926,927,928,929,930,931,932,933,934,935,936,937,938,939,940,941,942,943,944,945,946,947,948,949,950,951,952,953,954,955,956,957,958,959,960,961,962,963,964,965,966,967,968,969,970,971,972,973,974,975,976,977,978,979,980,981,982,983,984,985,986,987,988,989,990,991,992,993,994,995,996,997,998,999,1000,1001,1002,1003,1004,1005,1006,1007,1008,1009,1010,1011,1012,1013,1014,1015,1016,1017,1018,1019,1020,1021,1022,1023,1024,1025,1026,1027,1028,1029,1030,1031,1032,1033,1034,1035,1036,1037,1038,1039,1040,1041,1042,1043,1044,1045,1046,1047,1048,1049,1050,1051,1052,1053,1054,1055,1056,1057,1058,1059,1060,1061,1062,1063,1064,1065,1066,1067,1068,1069,1070,1071,1072,1073,1074,1075,1076,1077,1078,1079,1080,1081,1082,1083,1084,1085,1086,1087,1088,1089,1090,1091,1092,1093,1094,1095,1096,1097,1098,1099,1100,1101,1102,1103,1104,1105,1106,1107,1108,1109,1110,1111,1112,1113,1114,1115,1116,1117,1118,1119,1120,1121,1122,1123,1124,1125,1126,1127,1128,1129,1130,1131,1132,1133,1134,1135,1136,1137,1138,1139,1140,1141,1142,1143,1144,1145,1146,1147,1148,1149,1150,1151,1152,1153,1154,1155,1156,1157,1158,1159,1160,1161,1162,1163,1164,1165,1166,1167,1168,1169,1170,1171,1172,1173,1174,1175,1176,1177,1178,1179,1180,1181,1182,1183,1184,1185,1186,1187,1188,1189,1190,1191,1192,1193,1194,1195,1196,1197,1198,1199,1200,1201,1202,1203,1204,1205,1206,1207,1208,1209,1210,1211,1212,1213,1214,1215,1216,1217,1218,1219,1220,1221,1222,1223,1224,1225,1226,1227,1228,1229,1230,1231,1232,1233,1234,1235,1236,1237,1238,1239,1240,1241,1242,1243,1244,1245,1246,1247,1248,1249,1250,1251,1252,1253,1254,1255,1256,1257,1258,1259,1260,1261,1262,1263,1264,1265,1266,1267,1268,1269,1270,1271,1272,1273,1274,1275,1276,1277,1278,1279,1280,1281,1282,1283,1284,1285,1286,1287,1288,1289,1290,1291,1292,1293,1294,1295,1296,1297,1298,1299,1300,1301,1302,1303,1304,1305,1306,1307,1308,1309,1310,1311,1312,1313,1314,1315,1316,1317,1318,1319,1320,1321,1322,1323,1324,1325,1326,1327,1328,1329,1330,1331,1332,1333,1334,1335,1336,1337,1338,1339,1340,1341,1342,1343,1344,1345,1346,1347,1348,1349,1350,1351,1352,1353,1354,1355,1356,1357,1358,1359,1360,1361,1362,1363,1364,1365,1366,1367,1368,1369,1370,1371,1372,1373,1374,1375,1376,1377,1378,1379,1380,1381,1382,1383,1384,1385,1386,1387,1388,1389,1390,1391,1392,1393,1394,1395,1396,1397,1398,1399,1400,1401,1402,1403,1404,1405,1406,1407,1408,1409,1410,1411,1412,1413,1414,1415,1416,1417,1418,1419,1420,1421,1422,1423,1424,1425,1426,1427,1428,1429,1430,1431,1432,1433,1434,1435,1436,1437,1438,1439,1440,1441,1442,1443,1444,1445,1446,1447,1448,1449,1450,1451,1452,1453,1454,1455,1456,1457,1458,1459,1460,1461,1462,1463,1464,1465,1466,1467,1468,1469,1470,1471,1472,1473,1474,1475,1476,1477,1478,1479,1480,1481,1482,1483,1484,1485,1486,1487,1488,1489,1490,1491,1492,1493,1494,1495,1496,1497,1498,1499,1500,1501,1502,1503,1504,1505,1506,1507,1508,1509,1510,1511,1512,1513,1514,1515,1516,1517,1518,1519,1520,1521,1522,1523,1524,1525,1526,1527,1528,1529,1530,1531,1532,1533,1534,1535,1536,1537,1538,1539,1540,1541,1542,1543,1544,1545,1546,1547,1548,1549,1550,1551,1552,1553,1554,1555,1556,1557,1558,1559,1560,1561,1562,1563,1564,1565,1566,1567,1568,1569,1570,1571,1572,1573,1574,1575,1576,1577,1578,1579,1580,1581,1582,1583,1584,1585,1586,1587,1588,1589,1590,1591,1592,1593,1594,1595,1596,1597,1598,1599,1600,1601,1602,1603,1604,1605,1606,1607,1608,1609,1610,1611,1612,1613,1614,1615,1616,1617,1618,1619,1620,1621,1622,1623,1624,1625,1626,1627,1628,1629,1630,1631,1632,1633,1634,1635,1636,1637,1638,1639,1640,1641,1642,1643,1644,1645,1646,1647,1648,1649,1650,1651,1652,1653,1654,1655,1656,1657,1658,1659,1660,1661,1662,1663,1664,1665,1666,1667,1668,1669,1670,1671,1672,1673,1674,1675,1676,1677,1678,1679,1680,1681,1682,1683,1684,1685,1686,1687,1688,1689,1690,1691,1692,1693,1694,1695,1696,1697,1698,1699,1700,1701,1702,1703,1704,1705,1706,1707,1708,1709,1710,1711,1712,1713,1714,1715,1716,1717,1718,1719,1720,1721,1722,1723,1724,1725,1726,1727,1728,1729,1730,1731,1732,1733,1734,1735,1736,1737,1738,1739,1740,1741,1742,1743,1744,1745,1746,1747,1748,1749,1750,1751,1752,1753,1754,1755,1756,1757,1758,1759,1760,1761,1762,1763,1764,1765,1766,1767,1768,1769,1770,1771,1772,1773,1774,1775,1776,1777,1778,1779,1780,1781,1782,1783,1784,1785,1786,1787,1788,1789,1790,1791,1792,1793,1794,1795,1796,1797,1798,1799,1800,1801,1802,1803,1804,1805,1806,1807,1808,1809,1810,1811,1812,1813,1814,1815,1816,1817,1818,1819,1820,1821,1822,1823,1824,1825,1826,1827,1828,1829,1830,1831,1832,1833,1834,1835,1836,1837,1838,1839,1840,1841,1842,1843,1844,1845,1846,1847,1848,1849,1850,1851,1852,1853,1854,1855,1856,1857,1858,1859,1860,1861,1862,1863,1864,1865,1866,1867,1868,1869,1870,1871,1872,1873,1874,1875,1876,1877,1878,1879,1880,1881,1882,1883,1884,1885,1886,1887,1888,1889,1890,1891,1892,1893,1894,1895,1896,1897,1898,1899,1900,1901,1902,1903,1904,1905,1906,1907,1908,1909,1910,1911,1912,1913,1914,1915,1916,1917,1918,1919,1920,1921,1922,1923,1924,1925,1926,1927,1928,1929,1930,1931,1932,1933,1934,1935,1936,1937,1938,1939,1940,1941,1942,1943,1944,1945,1946,1947,1948,1949,1950,1951,1952,1953,1954,1955,1956,1957,1958,1959,1960,1961,1962,1963,1964,1965,1966,1967,1968,1969,1970,1971,1972,1973,1974,1975,1976,1977,1978,1979,1980,1981,1982,1983,1984,1985,1986,1987,1988,1989,1990,1991,1992,1993,1994,1995,1996,1997,1998,1999]},\"selected\":{\"id\":\"2009\",\"type\":\"Selection\"},\"selection_policy\":{\"id\":\"2010\",\"type\":\"UnionRenderers\"}},\"id\":\"1925\",\"type\":\"ColumnDataSource\"},{\"attributes\":{\"click_policy\":\"hide\",\"items\":[{\"id\":\"1959\",\"type\":\"LegendItem\"},{\"id\":\"1960\",\"type\":\"LegendItem\"},{\"id\":\"1961\",\"type\":\"LegendItem\"},{\"id\":\"1962\",\"type\":\"LegendItem\"},{\"id\":\"1963\",\"type\":\"LegendItem\"},{\"id\":\"1964\",\"type\":\"LegendItem\"}],\"location\":[0,70]},\"id\":\"1958\",\"type\":\"Legend\"},{\"attributes\":{\"angle\":1.5707963267948966,\"background_fill_alpha\":{\"value\":0.0},\"border_line_alpha\":{\"value\":0.0},\"text\":\"IFOF\",\"text_baseline\":\"middle\",\"x\":450.0,\"y\":10,\"y_units\":\"screen\"},\"id\":\"1891\",\"type\":\"Label\"},{\"attributes\":{},\"id\":\"2010\",\"type\":\"UnionRenderers\"},{\"attributes\":{},\"id\":\"2008\",\"type\":\"BasicTickFormatter\"},{\"attributes\":{\"fill_alpha\":{\"value\":0.15},\"fill_color\":{\"value\":\"#C49C94\"},\"left\":500.0,\"right\":600.0},\"id\":\"1892\",\"type\":\"BoxAnnotation\"},{\"attributes\":{\"label\":{\"value\":\"fa\"},\"renderers\":[{\"id\":\"1929\",\"type\":\"GlyphRenderer\"}]},\"id\":\"1959\",\"type\":\"LegendItem\"},{\"attributes\":{\"line_color\":\"#1f77b4\",\"line_width\":3,\"x\":{\"field\":\"x\"},\"y\":{\"field\":\"fa\"}},\"id\":\"1927\",\"type\":\"Line\"},{\"attributes\":{\"angle\":1.5707963267948966,\"background_fill_alpha\":{\"value\":0.0},\"border_line_alpha\":{\"value\":0.0},\"text\":\"Cingulum Hippocampus\",\"text_baseline\":\"middle\",\"x\":550.0,\"y\":10,\"y_units\":\"screen\"},\"id\":\"1893\",\"type\":\"Label\"},{\"attributes\":{\"label\":{\"value\":\"fa_hi\"},\"renderers\":[{\"id\":\"1934\",\"type\":\"GlyphRenderer\"}]},\"id\":\"1960\",\"type\":\"LegendItem\"},{\"attributes\":{\"line_alpha\":0.1,\"line_color\":\"#1f77b4\",\"line_width\":3,\"x\":{\"field\":\"x\"},\"y\":{\"field\":\"fa\"}},\"id\":\"1928\",\"type\":\"Line\"},{\"attributes\":{\"data_source\":{\"id\":\"1925\",\"type\":\"ColumnDataSource\"},\"glyph\":{\"id\":\"1927\",\"type\":\"Line\"},\"hover_glyph\":null,\"muted_glyph\":null,\"name\":\"fa\",\"nonselection_glyph\":{\"id\":\"1928\",\"type\":\"Line\"},\"selection_glyph\":null,\"view\":{\"id\":\"1930\",\"type\":\"CDSView\"}},\"id\":\"1929\",\"type\":\"GlyphRenderer\"},{\"attributes\":{\"fill_alpha\":{\"value\":0.15},\"fill_color\":{\"value\":\"#F7B6D2\"},\"left\":600.0,\"right\":700.0},\"id\":\"1894\",\"type\":\"BoxAnnotation\"},{\"attributes\":{\"label\":{\"value\":\"fa_lo\"},\"renderers\":[{\"id\":\"1939\",\"type\":\"GlyphRenderer\"}]},\"id\":\"1961\",\"type\":\"LegendItem\"},{\"attributes\":{\"angle\":1.5707963267948966,\"background_fill_alpha\":{\"value\":0.0},\"border_line_alpha\":{\"value\":0.0},\"text\":\"Thalamic Radiation\",\"text_baseline\":\"middle\",\"x\":650.0,\"y\":10,\"y_units\":\"screen\"},\"id\":\"1895\",\"type\":\"Label\"},{\"attributes\":{\"label\":{\"value\":\"md\"},\"renderers\":[{\"id\":\"1944\",\"type\":\"GlyphRenderer\"}]},\"id\":\"1962\",\"type\":\"LegendItem\"},{\"attributes\":{\"source\":{\"id\":\"1925\",\"type\":\"ColumnDataSource\"}},\"id\":\"1930\",\"type\":\"CDSView\"},{\"attributes\":{\"text\":\"Feature weights in the \\\"unfolded\\\" brain\",\"text_font_size\":{\"value\":\"18pt\"}},\"id\":\"1878\",\"type\":\"Title\"},{\"attributes\":{\"fill_alpha\":{\"value\":0.15},\"fill_color\":{\"value\":\"#C7C7C7\"},\"left\":700.0,\"right\":800.0},\"id\":\"1896\",\"type\":\"BoxAnnotation\"},{\"attributes\":{\"label\":{\"value\":\"md_hi\"},\"renderers\":[{\"id\":\"1949\",\"type\":\"GlyphRenderer\"}]},\"id\":\"1963\",\"type\":\"LegendItem\"},{\"attributes\":{\"minor_ticks\":[0.0,900.0,1100.0,2000.0],\"ticks\":[450.0,1550.0]},\"id\":\"1879\",\"type\":\"FixedTicker\"},{\"attributes\":{\"fill_alpha\":{\"value\":0.0},\"fill_color\":{\"value\":null},\"left\":0.0,\"line_color\":{\"value\":\"black\"},\"line_width\":{\"value\":4},\"right\":900.0},\"id\":\"1922\",\"type\":\"BoxAnnotation\"},{\"attributes\":{},\"id\":\"2009\",\"type\":\"Selection\"},{\"attributes\":{\"angle\":1.5707963267948966,\"background_fill_alpha\":{\"value\":0.0},\"border_line_alpha\":{\"value\":0.0},\"text\":\"Corticospinal\",\"text_baseline\":\"middle\",\"x\":750.0,\"y\":10,\"y_units\":\"screen\"},\"id\":\"1897\",\"type\":\"Label\"},{\"attributes\":{\"fill_alpha\":{\"value\":0.0},\"fill_color\":{\"value\":null},\"left\":900.0,\"line_color\":{\"value\":\"black\"},\"line_width\":{\"value\":4},\"right\":1100.0},\"id\":\"1923\",\"type\":\"BoxAnnotation\"},{\"attributes\":{\"label\":{\"value\":\"md_lo\"},\"renderers\":[{\"id\":\"1954\",\"type\":\"GlyphRenderer\"}]},\"id\":\"1964\",\"type\":\"LegendItem\"},{\"attributes\":{\"callback\":null},\"id\":\"1859\",\"type\":\"DataRange1d\"},{\"attributes\":{\"line_color\":\"#1f77b4\",\"x\":{\"field\":\"x\"},\"y\":{\"field\":\"fa_hi\"}},\"id\":\"1932\",\"type\":\"Line\"},{\"attributes\":{\"fill_alpha\":{\"value\":0.15},\"fill_color\":{\"value\":\"#DBDB8D\"},\"left\":800.0,\"right\":900.0},\"id\":\"1898\",\"type\":\"BoxAnnotation\"},{\"attributes\":{},\"id\":\"1861\",\"type\":\"LinearScale\"},{\"attributes\":{\"line_alpha\":0.1,\"line_color\":\"#1f77b4\",\"x\":{\"field\":\"x\"},\"y\":{\"field\":\"fa_hi\"}},\"id\":\"1933\",\"type\":\"Line\"},{\"attributes\":{\"angle\":1.5707963267948966,\"background_fill_alpha\":{\"value\":0.0},\"border_line_alpha\":{\"value\":0.0},\"text\":\"Cingulum Cingulate\",\"text_baseline\":\"middle\",\"x\":850.0,\"y\":10,\"y_units\":\"screen\"},\"id\":\"1899\",\"type\":\"Label\"},{\"attributes\":{\"data_source\":{\"id\":\"1925\",\"type\":\"ColumnDataSource\"},\"glyph\":{\"id\":\"1932\",\"type\":\"Line\"},\"hover_glyph\":null,\"muted_glyph\":null,\"name\":\"fa\",\"nonselection_glyph\":{\"id\":\"1933\",\"type\":\"Line\"},\"selection_glyph\":null,\"view\":{\"id\":\"1935\",\"type\":\"CDSView\"}},\"id\":\"1934\",\"type\":\"GlyphRenderer\"},{\"attributes\":{},\"id\":\"1863\",\"type\":\"LinearScale\"},{\"attributes\":{\"fill_alpha\":{\"value\":0.15},\"fill_color\":{\"value\":\"#17BECF\"},\"left\":900.0,\"right\":1000.0},\"id\":\"1900\",\"type\":\"BoxAnnotation\"},{\"attributes\":{\"formatter\":{\"id\":\"2008\",\"type\":\"BasicTickFormatter\"},\"major_label_overrides\":{\"1550\":\"Right Hemisphere\",\"450\":\"Left Hemisphere\"},\"major_label_text_font_size\":{\"value\":\"14pt\"},\"major_tick_line_color\":{\"value\":null},\"minor_tick_line_color\":{\"value\":null},\"ticker\":{\"id\":\"1879\",\"type\":\"FixedTicker\"}},\"id\":\"1865\",\"type\":\"LinearAxis\"},{\"attributes\":{\"source\":{\"id\":\"1925\",\"type\":\"ColumnDataSource\"}},\"id\":\"1935\",\"type\":\"CDSView\"},{\"attributes\":{\"angle\":1.5707963267948966,\"background_fill_alpha\":{\"value\":0.0},\"border_line_alpha\":{\"value\":0.0},\"text\":\"Callosum Forceps Minor\",\"text_baseline\":\"middle\",\"x\":950.0,\"y\":10,\"y_units\":\"screen\"},\"id\":\"1901\",\"type\":\"Label\"},{\"attributes\":{},\"id\":\"1866\",\"type\":\"BasicTicker\"},{\"attributes\":{\"fill_alpha\":{\"value\":0.15},\"fill_color\":{\"value\":\"#9EDAE5\"},\"left\":1000.0,\"right\":1100.0},\"id\":\"1902\",\"type\":\"BoxAnnotation\"}],\"root_ids\":[\"1856\"]},\"title\":\"Bokeh Application\",\"version\":\"1.1.0\"}};\n",
       "  var render_items = [{\"docid\":\"57a5a459-733b-4f50-858d-e7b7d57a2994\",\"roots\":{\"1856\":\"878dfb43-cda3-458b-b08a-4e8d084cc889\"}}];\n",
       "  root.Bokeh.embed.embed_items_notebook(docs_json, render_items);\n",
       "\n",
       "  }\n",
       "  if (root.Bokeh !== undefined) {\n",
       "    embed_document(root);\n",
       "  } else {\n",
       "    var attempts = 0;\n",
       "    var timer = setInterval(function(root) {\n",
       "      if (root.Bokeh !== undefined) {\n",
       "        embed_document(root);\n",
       "        clearInterval(timer);\n",
       "      }\n",
       "      attempts++;\n",
       "      if (attempts > 100) {\n",
       "        console.log(\"Bokeh: ERROR: Unable to run BokehJS code because BokehJS library is missing\");\n",
       "        clearInterval(timer);\n",
       "      }\n",
       "    }, 10, root)\n",
       "  }\n",
       "})(window);"
      ],
      "application/vnd.bokehjs_exec.v0+json": ""
     },
     "metadata": {
      "application/vnd.bokehjs_exec.v0+json": {
       "id": "1856"
      }
     },
     "output_type": "display_data"
    }
   ],
   "source": [
    "width = 1150\n",
    "height = 700\n",
    "output_html = None\n",
    "\n",
    "p = figure(plot_width=width, plot_height=height, toolbar_location='above',\n",
    "              tools=\"save\")\n",
    "p.title.text = 'Feature weights in the \"unfolded\" brain'\n",
    "\n",
    "len_alltracts = len(unfolded_beta[list(unfolded_beta.keys())[0]])\n",
    "n_tracts = len(afqi.utils.canonical_tract_names)\n",
    "n_nodes = len_alltracts / n_tracts\n",
    "ticks = np.arange(0, len_alltracts, n_nodes)\n",
    "\n",
    "p.xaxis.ticker = FixedTicker(ticks=[ticks[4] + n_nodes/2, ticks[-4] - n_nodes/2],\n",
    "                             minor_ticks=[ticks[0], ticks[9], ticks[11], ticks[-1] + n_nodes])\n",
    "p.xaxis.major_label_overrides = {int(ticks[4] + n_nodes/2): 'Left Hemisphere',\n",
    "                                 int(ticks[-4] - n_nodes/2): 'Right Hemisphere'}\n",
    "\n",
    "p.xaxis.minor_tick_line_color = None  # turn off x-axis minor ticks\n",
    "p.xaxis.major_tick_line_color = None  # turn off x-axis major ticks\n",
    "\n",
    "p.xaxis.major_label_text_font_size = '14pt'  # turn off x-axis tick labels\n",
    "\n",
    "p.x_range = Range1d(0, len_alltracts)\n",
    "p.xgrid.grid_line_color = None\n",
    "\n",
    "tract_colors = np.copy(palettable.tableau.Tableau_20.hex_colors).tolist()\n",
    "tract_colors = (tract_colors[1:-2:2]\n",
    "                + tract_colors[-2:]\n",
    "                + tract_colors[-3::-2])\n",
    "\n",
    "for i, color in enumerate(tract_colors):\n",
    "    p.add_layout(BoxAnnotation(\n",
    "        left=ticks[i], right=ticks[i] + n_nodes,\n",
    "        fill_color=color, fill_alpha=0.15\n",
    "    ))\n",
    "\n",
    "    p.add_layout(Label(\n",
    "        x=ticks[i] + n_nodes / 2,\n",
    "        y=10,\n",
    "        x_units='data',\n",
    "        y_units='screen',\n",
    "        text=afqi.utils.canonical_tract_names[i].replace('Left ', '').replace('Right ',''),\n",
    "        render_mode='canvas',\n",
    "        border_line_alpha=0.0,\n",
    "        background_fill_alpha=0.0,\n",
    "        angle=np.pi / 2,\n",
    "        text_align='left',\n",
    "        text_baseline='middle'\n",
    "    ))\n",
    "\n",
    "p.add_layout(BoxAnnotation(\n",
    "    left=ticks[0], right=ticks[9],\n",
    "    fill_color=None, fill_alpha=0.0,\n",
    "    line_color=\"black\", line_width=4\n",
    "))\n",
    "p.add_layout(BoxAnnotation(\n",
    "    left=ticks[9], right=ticks[11],\n",
    "    fill_color=None, fill_alpha=0.0,\n",
    "    line_color=\"black\", line_width=4\n",
    "))\n",
    "p.add_layout(BoxAnnotation(\n",
    "    left=ticks[11], right=ticks[-1] + n_nodes,\n",
    "    fill_color=None, fill_alpha=0.0,\n",
    "    line_color=\"black\", line_width=4\n",
    "))\n",
    "    \n",
    "unfolded_beta_with_err['x'] = np.arange(len_alltracts)\n",
    "source = ColumnDataSource(data=unfolded_beta_with_err)\n",
    "del unfolded_beta_with_err['x']\n",
    "\n",
    "lines = {}\n",
    "for name, color in zip(\n",
    "        unfolded_beta.keys(),\n",
    "        Category10[max(len(list(unfolded_beta.keys())),\n",
    "                       min(list(Category10.keys())))]\n",
    "):\n",
    "    lines[name] = p.line(\n",
    "        x='x', y=name, source=source, name=name,\n",
    "        line_width=3, color=color\n",
    "    )\n",
    "    lines[name + '_hi'] = p.line(\n",
    "        x='x', y=name + '_hi', source=source, name=name,\n",
    "        line_width=1, color=color\n",
    "    )\n",
    "    lines[name + '_lo'] = p.line(\n",
    "        x='x', y=name + '_lo', source=source, name=name,\n",
    "        line_width=1, color=color\n",
    "    )\n",
    "\n",
    "p.add_tools(HoverTool(\n",
    "    show_arrow=False,\n",
    "    line_policy='interp',\n",
    "    tooltips=[\n",
    "        ('metric', '$name'),\n",
    "        ('beta', '$y'),\n",
    "    ],\n",
    "    point_policy='snap_to_data',\n",
    "    renderers=list(lines.values())\n",
    "))\n",
    "\n",
    "legend = Legend(items=[\n",
    "    (name, [renderer]) for name, renderer in lines.items()\n",
    "], location=(0, 70))\n",
    "\n",
    "p.add_layout(\n",
    "    Title(text='Click on legend entries to hide/show lines',\n",
    "          align=\"left\"), 'right'\n",
    ")\n",
    "p.add_layout(legend, 'right')\n",
    "p.legend.click_policy = 'hide'\n",
    "\n",
    "p.title.text_font_size = \"18pt\"\n",
    "p.yaxis.axis_label = \"β\"\n",
    "p.yaxis.axis_label_text_font_size = \"18pt\"\n",
    "\n",
    "# output_html = \"../docs/img/bokeh_plots/classification_unfolded_beta.html\"\n",
    "# if output_html is not None:\n",
    "#     html = file_html(p, CDN, \"my plot\")\n",
    "#     with open(op.abspath(output_html), 'w') as fp:\n",
    "#         fp.write(html)\n",
    "\n",
    "show(p)"
   ]
  },
  {
   "cell_type": "code",
   "execution_count": 73,
   "metadata": {},
   "outputs": [
    {
     "data": {
      "text/plain": [
       "OrderedDict([('fa',\n",
       "              array([ 3.33479807e-03, -1.02341720e-04,  0.00000000e+00,  1.20045873e-04,\n",
       "                      0.00000000e+00,  0.00000000e+00, -5.38210127e-05, -1.04723498e-04,\n",
       "                     -1.39198205e-04, -5.03202323e-04, -1.08844017e-03, -2.03750915e-03,\n",
       "                     -2.54004834e-03, -1.67291502e-03, -1.43021564e-03, -1.80218812e-03,\n",
       "                     -4.94744655e-03, -1.13250646e-02, -1.27807995e-02, -1.17456325e-02,\n",
       "                     -4.30330505e-03, -6.50254911e-04,  1.01578766e-04,  8.32258040e-04,\n",
       "                      1.19766777e-03,  1.43188271e-03,  1.88514026e-03,  2.97593211e-03,\n",
       "                      3.70433340e-03,  4.38499001e-03,  5.13996552e-03,  5.08789702e-03,\n",
       "                      4.08420502e-03,  2.06589730e-03,  8.16252523e-04,  3.68996046e-04,\n",
       "                      3.58236975e-04,  6.21688821e-04,  9.99853922e-04,  1.27327019e-03,\n",
       "                      1.20865471e-03,  9.33876669e-04,  6.51402797e-04,  4.31471582e-04,\n",
       "                      2.81183292e-04,  1.50961483e-04,  3.00734162e-05,  0.00000000e+00,\n",
       "                      0.00000000e+00, -4.45791980e-05, -1.03862666e-04, -1.39386931e-04,\n",
       "                     -1.73755219e-04, -1.88293865e-04, -4.10796363e-04, -8.52361403e-04,\n",
       "                     -6.88948713e-04, -3.38360554e-04, -3.21168127e-04, -5.07177688e-04,\n",
       "                     -5.75585451e-04, -3.84679342e-04,  0.00000000e+00,  1.50556361e-06,\n",
       "                      2.63084880e-04,  6.72329332e-04,  8.43801205e-04,  9.84952106e-04,\n",
       "                      1.02865498e-03,  8.60252476e-04,  6.51029454e-04,  7.03727030e-04,\n",
       "                      9.70076952e-04,  9.07720022e-04,  5.14298847e-04,  1.51604376e-04,\n",
       "                     -1.58751208e-04, -2.60332754e-04, -2.67384065e-04, -4.51709464e-04,\n",
       "                     -3.97005955e-04, -4.83512212e-04, -6.86282234e-04, -6.56710382e-04,\n",
       "                     -7.30562153e-04, -7.51095173e-04, -4.13675563e-04, -3.24024709e-04,\n",
       "                     -2.23229668e-04, -1.47223236e-05,  2.67177594e-05,  6.26046820e-04,\n",
       "                      3.76901427e-04,  2.57539712e-04,  1.58708447e-04,  9.12940807e-05,\n",
       "                     -1.63596662e-04, -1.38689478e-03, -9.16262435e-05,  1.39964919e-04])),\n",
       "             ('md',\n",
       "              array([ 1.61583566e-03,  1.00623131e-02,  6.32307741e-03,  3.84969287e-03,\n",
       "                      4.94841543e-03,  1.51416499e-02,  3.55770529e-02,  3.09318258e-02,\n",
       "                      1.50588879e-02,  8.66506877e-03,  9.16458679e-03,  1.29530702e-02,\n",
       "                      1.10803810e-02,  6.43947378e-03,  3.82945700e-03,  5.51141222e-03,\n",
       "                      1.49585564e-02,  2.06614892e-02,  1.29535158e-02,  8.04146389e-03,\n",
       "                      3.55715446e-03,  7.13581941e-05, -6.31327985e-04, -1.24033793e-03,\n",
       "                     -5.95584598e-04, -2.01853003e-04, -1.04020934e-03, -2.28495030e-03,\n",
       "                     -2.83929895e-03, -2.78021172e-03, -2.25774666e-03, -2.34399901e-03,\n",
       "                     -2.53313024e-03, -1.55208261e-03, -8.48052461e-04, -1.07457912e-03,\n",
       "                     -1.84176945e-03, -2.96328317e-03, -4.42692691e-03, -8.73347693e-03,\n",
       "                     -1.25506042e-02, -6.53475147e-03, -2.62779845e-03, -1.34144340e-03,\n",
       "                     -1.29847762e-03, -1.35639207e-03, -8.13644548e-04, -5.39170326e-04,\n",
       "                     -2.31589929e-05,  3.31711420e-04,  4.42802851e-04,  4.44436980e-04,\n",
       "                      4.72675634e-04,  1.07346523e-03,  2.92317815e-03,  6.59917245e-03,\n",
       "                      1.36217180e-02,  1.60435692e-02,  1.42031540e-02,  8.71836663e-03,\n",
       "                      3.49209301e-03,  6.66625796e-04, -2.79913998e-04, -2.43396206e-03,\n",
       "                     -4.57447121e-03, -4.38125113e-03, -3.13191623e-03, -7.22429090e-03,\n",
       "                     -2.64211287e-02, -3.46082033e-02, -2.67931344e-02, -9.84712235e-03,\n",
       "                     -3.15305910e-03, -1.90196803e-03, -3.10424400e-03, -5.44870600e-03,\n",
       "                     -7.86576899e-03, -6.32690696e-03, -4.11350067e-03, -4.91537716e-03,\n",
       "                     -4.01194087e-03, -2.35551576e-03, -1.14696642e-03, -3.26753666e-04,\n",
       "                      1.06518417e-04,  4.03304543e-04,  4.35915196e-04,  3.93106329e-04,\n",
       "                      3.42440619e-04,  1.91096051e-04, -7.27085445e-04, -4.09053962e-03,\n",
       "                     -4.93937945e-03, -4.65657516e-03, -3.93800125e-03, -1.86803957e-03,\n",
       "                     -4.55440558e-04,  1.13555140e-05, -3.40636163e-04, -9.54200998e-04]))])"
      ]
     },
     "execution_count": 73,
     "metadata": {},
     "output_type": "execute_result"
    }
   ],
   "source": [
    "betas_by_group['Left Arcuate']"
   ]
  },
  {
   "cell_type": "code",
   "execution_count": 87,
   "metadata": {},
   "outputs": [],
   "source": [
    "from dipy.viz import window, actor\n",
    "from dipy.data import fetch_bundles_2_subjects, read_bundles_2_subjects\n",
    "from dipy.tracking.streamline import transform_streamlines\n",
    "\n",
    "import json"
   ]
  },
  {
   "cell_type": "code",
   "execution_count": 88,
   "metadata": {},
   "outputs": [],
   "source": [
    "with open(\"../data/raw/core_streamlines.json\") as fp:\n",
    "    cores = json.load(fp)"
   ]
  },
  {
   "cell_type": "code",
   "execution_count": 99,
   "metadata": {},
   "outputs": [],
   "source": [
    "metric = \"fa\"\n",
    "\n",
    "renderer = window.Renderer()\n",
    "renderer.background((1, 1, 1))\n",
    "colors = np.concatenate([betas_by_group[bn][metric]\n",
    "                         for bn in betas_by_group.keys()])\n",
    "bundle_names = betas_by_group.keys()\n",
    "bundles = [np.array(cores[bn][\"coreFiber\"]) for bn in bundle_names]\n",
    "stream_actor = actor.line(\n",
    "    lines=bundles,\n",
    "    colors=actor.create_colormap(colors, name='PuOr', auto=True),\n",
    "    linewidth=20,\n",
    "    spline_subdiv=300,\n",
    "    fake_tube=True,\n",
    ")\n",
    "\n",
    "renderer.add(stream_actor)\n",
    "window.show(renderer, size=(900, 900), reset_camera=True)"
   ]
  },
  {
   "cell_type": "code",
   "execution_count": 67,
   "metadata": {},
   "outputs": [
    {
     "data": {
      "text/plain": [
       "array([0.9682034 , 0.7208441 , 0.61229299])"
      ]
     },
     "execution_count": 67,
     "metadata": {},
     "output_type": "execute_result"
    }
   ],
   "source": [
    "actor.create_colormap(colors, name='coolwarm', auto=True)[115]"
   ]
  },
  {
   "cell_type": "code",
   "execution_count": 66,
   "metadata": {},
   "outputs": [
    {
     "data": {
      "text/plain": [
       "0.0"
      ]
     },
     "execution_count": 66,
     "metadata": {},
     "output_type": "execute_result"
    }
   ],
   "source": [
    "colors[115]"
   ]
  },
  {
   "cell_type": "code",
   "execution_count": 93,
   "metadata": {},
   "outputs": [
    {
     "ename": "TypeError",
     "evalue": "SetBackground argument 1: expected a sequence of 3 values, got 5 values",
     "output_type": "error",
     "traceback": [
      "\u001b[0;31m---------------------------------------------------------------------------\u001b[0m",
      "\u001b[0;31mTypeError\u001b[0m                                 Traceback (most recent call last)",
      "\u001b[0;32m<ipython-input-93-e9ea5b885513>\u001b[0m in \u001b[0;36m<module>\u001b[0;34m\u001b[0m\n\u001b[0;32m----> 1\u001b[0;31m \u001b[0mrenderer\u001b[0m\u001b[0;34m.\u001b[0m\u001b[0mbackground\u001b[0m\u001b[0;34m(\u001b[0m\u001b[0;34m'white'\u001b[0m\u001b[0;34m)\u001b[0m\u001b[0;34m\u001b[0m\u001b[0;34m\u001b[0m\u001b[0m\n\u001b[0m",
      "\u001b[0;32m~/miniconda3/envs/afq-insight/lib/python3.6/site-packages/fury/window.py\u001b[0m in \u001b[0;36mbackground\u001b[0;34m(self, color)\u001b[0m\n\u001b[1;32m     34\u001b[0m     \u001b[0;32mdef\u001b[0m \u001b[0mbackground\u001b[0m\u001b[0;34m(\u001b[0m\u001b[0mself\u001b[0m\u001b[0;34m,\u001b[0m \u001b[0mcolor\u001b[0m\u001b[0;34m)\u001b[0m\u001b[0;34m:\u001b[0m\u001b[0;34m\u001b[0m\u001b[0;34m\u001b[0m\u001b[0m\n\u001b[1;32m     35\u001b[0m         \u001b[0;34m\"\"\"Set a background color.\"\"\"\u001b[0m\u001b[0;34m\u001b[0m\u001b[0;34m\u001b[0m\u001b[0m\n\u001b[0;32m---> 36\u001b[0;31m         \u001b[0mself\u001b[0m\u001b[0;34m.\u001b[0m\u001b[0mSetBackground\u001b[0m\u001b[0;34m(\u001b[0m\u001b[0mcolor\u001b[0m\u001b[0;34m)\u001b[0m\u001b[0;34m\u001b[0m\u001b[0;34m\u001b[0m\u001b[0m\n\u001b[0m\u001b[1;32m     37\u001b[0m \u001b[0;34m\u001b[0m\u001b[0m\n\u001b[1;32m     38\u001b[0m     \u001b[0;32mdef\u001b[0m \u001b[0madd\u001b[0m\u001b[0;34m(\u001b[0m\u001b[0mself\u001b[0m\u001b[0;34m,\u001b[0m \u001b[0;34m*\u001b[0m\u001b[0mactors\u001b[0m\u001b[0;34m)\u001b[0m\u001b[0;34m:\u001b[0m\u001b[0;34m\u001b[0m\u001b[0;34m\u001b[0m\u001b[0m\n",
      "\u001b[0;31mTypeError\u001b[0m: SetBackground argument 1: expected a sequence of 3 values, got 5 values"
     ]
    }
   ],
   "source": []
  },
  {
   "cell_type": "code",
   "execution_count": null,
   "metadata": {},
   "outputs": [],
   "source": []
  }
 ],
 "metadata": {
  "kernelspec": {
   "display_name": "Python [conda env:afq-insight]",
   "language": "python",
   "name": "conda-env-afq-insight-py"
  },
  "language_info": {
   "codemirror_mode": {
    "name": "ipython",
    "version": 3
   },
   "file_extension": ".py",
   "mimetype": "text/x-python",
   "name": "python",
   "nbconvert_exporter": "python",
   "pygments_lexer": "ipython3",
   "version": "3.6.7"
  }
 },
 "nbformat": 4,
 "nbformat_minor": 2
}
